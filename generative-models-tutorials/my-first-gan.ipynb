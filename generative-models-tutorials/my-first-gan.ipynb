{
 "cells": [
  {
   "cell_type": "code",
   "execution_count": null,
   "metadata": {},
   "outputs": [],
   "source": [
    "import tensorflow_addons as tfa\n",
    "import imageio\n",
    "\n",
    "im = imageio.imread('imageio:chelsea.png')\n",
    "print(im.shape)\n",
    "print(type(im))\n",
    "np.array(im)"
   ]
  },
  {
   "cell_type": "code",
   "execution_count": null,
   "metadata": {},
   "outputs": [],
   "source": [
    "import tensorflow as tf\n",
    "from tensorflow.keras.layers import Input, Conv2D, Dense, Flatten, UpSampling2D, BatchNormalization, Activation, Dropout, Reshape\n",
    "from tensorflow.keras import Model\n",
    "from tensorflow.keras.initializers import RandomNormal\n",
    "from tensorflow.keras.optimizers import RMSprop, Adam\n",
    "import numpy as np\n",
    "import matplotlib.pyplot as plt\n",
    "\n",
    "# Check GPUs:\n",
    "gpus = tf.config.experimental.list_physical_devices('GPU')\n",
    "if gpus:\n",
    "    try:\n",
    "        for gpu in gpus:\n",
    "            # Prevent TensorFlow from allocating all memory of all GPUs:\n",
    "            tf.config.experimental.set_memory_growth(gpu, True)\n",
    "        logical_gpus = tf.config.experimental.list_logical_devices('GPU')\n",
    "        print(len(gpus), \"Physical GPUs,\", len(logical_gpus), \"Logical GPUs\")\n",
    "    except RuntimeError as e:\n",
    "        print(e)"
   ]
  },
  {
   "cell_type": "code",
   "execution_count": null,
   "metadata": {},
   "outputs": [],
   "source": [
    "INPUT_PATH = 'D:/oystein/quick-draw/full_numpy_bitmap_camel.npy'\n",
    "x_train = np.load(INPUT_PATH)\n",
    "x_train = x_train.reshape(x_train.shape[0], 28, 28, 1)\n",
    "x_train.shape"
   ]
  },
  {
   "cell_type": "code",
   "execution_count": null,
   "metadata": {},
   "outputs": [],
   "source": [
    "plt.imshow(x_train[300,:,:,0], cmap='gray')"
   ]
  },
  {
   "cell_type": "markdown",
   "metadata": {},
   "source": [
    "# Discriminator"
   ]
  },
  {
   "cell_type": "code",
   "execution_count": null,
   "metadata": {},
   "outputs": [],
   "source": [
    "DISCR_BLOCKS = 4\n",
    "DISCR_CONV_FILTERS = [64,64,128,128]\n",
    "DISCR_CONV_KERNEL_SIZE = [5,5,5,5]\n",
    "DISCR_CONV_STRIDES = [2,2,2,1]\n",
    "DISCR_BATCH_NORM_MOMENTUM = None\n",
    "DISCR_ACTIVATION = 'relu'\n",
    "DISCR_DROPOUT_RATE = 0.4\n",
    "DISCR_LEARNING_RATE = 0.0008"
   ]
  },
  {
   "cell_type": "code",
   "execution_count": null,
   "metadata": {},
   "outputs": [],
   "source": [
    "discriminator_input = Input((28,28,1), name = 'discriminator_input')\n",
    "x = discriminator_input\n",
    "\n",
    "for i in range(DISCR_BLOCKS):\n",
    "    x = Conv2D(filters = DISCR_CONV_FILTERS[i], \n",
    "               kernel_size = DISCR_CONV_KERNEL_SIZE[i], \n",
    "               strides = DISCR_CONV_STRIDES[i], \n",
    "               padding = 'same', \n",
    "               name = 'discriminator_conv_' + str(i))(x)\n",
    "    if DISCR_BATCH_NORM_MOMENTUM and i > 0:\n",
    "        x = BatchNormalization(momentum = DISCR_BATCH_NORM_MOMENTUM)(x)\n",
    "        \n",
    "    x = Activation(DISCR_ACTIVATION)(x)\n",
    "    \n",
    "    if DISCR_DROPOUT_RATE:\n",
    "        x = Dropout(rate = DISCR_DROPOUT_RATE)(x)\n",
    "\n",
    "x = Flatten()(x)\n",
    "discriminator_output = Dense(1, \n",
    "                             activation = 'sigmoid', \n",
    "                             kernel_initializer = RandomNormal(mean=0., stddev=0.02))(x)\n",
    "discriminator = Model(discriminator_input, discriminator_output)\n",
    "\n",
    "discriminator.summary()"
   ]
  },
  {
   "cell_type": "markdown",
   "metadata": {},
   "source": [
    "# Generator"
   ]
  },
  {
   "cell_type": "code",
   "execution_count": null,
   "metadata": {},
   "outputs": [],
   "source": [
    "GEN_BLOCKS = 4\n",
    "GEN_INPUT_SIZE = 100\n",
    "GEN_INITIAL_DENSE_LAYER_SIZE = [7,7,64]\n",
    "GEN_UPSAMPLE = [2,2,1,1]\n",
    "GEN_CONV_FILTERS = [128,64, 64,1]\n",
    "GEN_CONV_KERNEL_SIZE = [5,5,5,5]\n",
    "GEN_CONV_STRIDES = [1,1,1,1]\n",
    "GEN_BATCH_NORM_MOMENTUM = 0.9\n",
    "GEN_ACTIVATION = 'relu'\n",
    "GEN_DROPOUT_RATE = None\n",
    "GEN_LEARNING_RATE = 0.0010"
   ]
  },
  {
   "cell_type": "code",
   "execution_count": null,
   "metadata": {},
   "outputs": [],
   "source": [
    "generator_input = Input(shape = (GEN_INPUT_SIZE,), name = 'generator_input')\n",
    "x = generator_input\n",
    "\n",
    "x = Dense(np.prod(GEN_INITIAL_DENSE_LAYER_SIZE), \n",
    "          kernel_initializer = RandomNormal(mean=0., stddev=0.02))(x)\n",
    "\n",
    "if GEN_BATCH_NORM_MOMENTUM:\n",
    "    x = BatchNormalization(momentum = GEN_BATCH_NORM_MOMENTUM)(x)\n",
    "    \n",
    "x = Activation(GEN_ACTIVATION)(x)\n",
    "x = Reshape(GEN_INITIAL_DENSE_LAYER_SIZE)(x)\n",
    "\n",
    "if GEN_DROPOUT_RATE:\n",
    "    x = Dropout(rate = GEN_DROPOUT_RATE)(x)\n",
    "\n",
    "for i in range(GEN_BLOCKS):\n",
    "    \n",
    "    if i < GEN_BLOCKS - 2:\n",
    "        x = UpSampling2D()(x)\n",
    "        \n",
    "    x = Conv2D(filters = GEN_CONV_FILTERS[i], \n",
    "               kernel_size = GEN_CONV_KERNEL_SIZE[i],\n",
    "               padding = 'same',\n",
    "               name = 'generator_conv_' + str(i))(x)\n",
    "    \n",
    "    if i < GEN_BLOCKS - 1:\n",
    "        if GEN_BATCH_NORM_MOMENTUM:\n",
    "            x = BatchNormalization(momentum = GEN_BATCH_NORM_MOMENTUM)(x)\n",
    "        x = Activation(GEN_ACTIVATION)(x)\n",
    "    else:\n",
    "        x = Activation('tanh')(x)\n",
    "\n",
    "generator_output = x\n",
    "generator = Model(generator_input, generator_output)\n",
    "generator.summary()"
   ]
  },
  {
   "cell_type": "code",
   "execution_count": null,
   "metadata": {},
   "outputs": [],
   "source": [
    "# Compile the discriminator\n",
    "discriminator.compile(optimizer = RMSprop(lr = DISCR_LEARNING_RATE), \n",
    "                      loss = 'binary_crossentropy', \n",
    "                      metrics = ['accuracy'])\n",
    "\n",
    "# Compile the generator with a fixed discriminator\n",
    "discriminator.trainable = False\n",
    "model_input = Input(shape=(GEN_INPUT_SIZE,), name = 'model_input')\n",
    "model_output = discriminator(generator(model_input))\n",
    "model = Model(model_input, model_output)\n",
    "\n",
    "model.compile(optimizer = RMSprop(lr = GEN_LEARNING_RATE), \n",
    "              loss = 'binary_crossentropy', \n",
    "              metrics = ['accuracy'])\n",
    "discriminator.trainable = True"
   ]
  },
  {
   "cell_type": "code",
   "execution_count": null,
   "metadata": {},
   "outputs": [],
   "source": [
    "def train_discriminator(x_train, batch_size):\n",
    "    \n",
    "    valid = np.ones((batch_size, 1))\n",
    "    fake = np.zeros((batch_size, 1))\n",
    "    \n",
    "    # Real images\n",
    "    idx = np.random.randint(0, x_train.shape[0], batch_size)\n",
    "    true_imgs = x_train[idx]\n",
    "    d_loss_real, d_acc_real = discriminator.train_on_batch(true_imgs, valid)\n",
    "    \n",
    "    # Generated images\n",
    "    noise = np.random.normal(0, 1, (batch_size, GEN_INPUT_SIZE))\n",
    "    gen_imgs = generator.predict(noise)\n",
    "    d_loss_fake, d_acc_fake = discriminator.train_on_batch(gen_imgs, fake)\n",
    "    \n",
    "    d_loss =  0.5 * (d_loss_real + d_loss_fake)\n",
    "    d_acc = 0.5 * (d_acc_real + d_acc_fake)\n",
    "    d = [d_loss, d_loss_real, d_loss_fake, d_acc, d_acc_real, d_acc_fake]\n",
    "    return d"
   ]
  },
  {
   "cell_type": "code",
   "execution_count": null,
   "metadata": {},
   "outputs": [],
   "source": [
    "def train_generator(batch_size):\n",
    "    \n",
    "    valid = np.ones((batch_size, 1))\n",
    "    noise = np.random.normal(0, 1, (batch_size, GEN_INPUT_SIZE))\n",
    "    g = model.train_on_batch(noise, valid)\n",
    "    return g"
   ]
  },
  {
   "cell_type": "code",
   "execution_count": null,
   "metadata": {},
   "outputs": [],
   "source": [
    "EPOCHS = 100\n",
    "BATCH_SIZE = 128\n",
    "\n",
    "for epoch in range(EPOCHS):\n",
    "    d = train_discriminator(x_train, BATCH_SIZE)\n",
    "    g = train_generator(BATCH_SIZE)    \n",
    "    print (\"%d [D loss: (%.3f)(R %.3f, F %.3f)] [D acc: (%.3f)(%.3f, %.3f)] [G loss: %.3f] [G acc: %.3f]\" % (epoch, d[0], d[1], d[2], d[3], d[4], d[5], g[0], g[1]))"
   ]
  },
  {
   "cell_type": "code",
   "execution_count": null,
   "metadata": {},
   "outputs": [],
   "source": [
    "noise = np.random.normal(0, 1, (1, GEN_INPUT_SIZE))\n",
    "noise.shape\n",
    "test = generator.predict(noise)\n",
    "test.shape"
   ]
  },
  {
   "cell_type": "code",
   "execution_count": null,
   "metadata": {},
   "outputs": [],
   "source": [
    "plt.imshow(test[0,:,:,0], cmap='gray')"
   ]
  },
  {
   "cell_type": "code",
   "execution_count": null,
   "metadata": {},
   "outputs": [],
   "source": []
  }
 ],
 "metadata": {
  "kernelspec": {
   "display_name": "Python 3",
   "language": "python",
   "name": "python3"
  },
  "language_info": {
   "codemirror_mode": {
    "name": "ipython",
    "version": 3
   },
   "file_extension": ".py",
   "mimetype": "text/x-python",
   "name": "python",
   "nbconvert_exporter": "python",
   "pygments_lexer": "ipython3",
   "version": "3.7.4"
  }
 },
 "nbformat": 4,
 "nbformat_minor": 4
}
