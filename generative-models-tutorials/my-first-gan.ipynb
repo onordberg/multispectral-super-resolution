{
 "cells": [
  {
   "cell_type": "code",
   "execution_count": null,
   "metadata": {},
   "outputs": [],
   "source": [
    "import tensorflow as tf\n",
    "from tensorflow.keras.layers import Input, Conv2D, Dense, Flatten, UpSampling2D, BatchNormalization, Activation, Dropout, Reshape\n",
    "from tensorflow.keras import Model\n",
    "from tensorflow.keras.initializers import RandomNormal\n",
    "import numpy as np\n",
    "import matplotlib.pyplot as plt\n",
    "\n",
    "# Check GPUs:\n",
    "gpus = tf.config.experimental.list_physical_devices('GPU')\n",
    "if gpus:\n",
    "    try:\n",
    "        for gpu in gpus:\n",
    "            # Prevent TensorFlow from allocating all memory of all GPUs:\n",
    "            tf.config.experimental.set_memory_growth(gpu, True)\n",
    "        logical_gpus = tf.config.experimental.list_logical_devices('GPU')\n",
    "        print(len(gpus), \"Physical GPUs,\", len(logical_gpus), \"Logical GPUs\")\n",
    "    except RuntimeError as e:\n",
    "        print(e)"
   ]
  },
  {
   "cell_type": "code",
   "execution_count": null,
   "metadata": {},
   "outputs": [],
   "source": [
    "input_data = np.load(INPUT_PATH)\n",
    "input_data = input_data.reshape(input_data.shape[0], 28, 28, 1)\n",
    "input_data.shape"
   ]
  },
  {
   "cell_type": "code",
   "execution_count": null,
   "metadata": {},
   "outputs": [],
   "source": [
    "plt.imshow(input_data[300,:,:,0], cmap='gray')"
   ]
  },
  {
   "cell_type": "markdown",
   "metadata": {},
   "source": [
    "# Discriminator"
   ]
  },
  {
   "cell_type": "code",
   "execution_count": null,
   "metadata": {},
   "outputs": [],
   "source": [
    "INPUT_PATH = 'D:/oystein/quick-draw/full_numpy_bitmap_camel.npy'\n",
    "DISCR_BLOCKS = 4\n",
    "DISCR_CONV_FILTERS = [64,64,128,128]\n",
    "DISCR_CONV_KERNEL_SIZE = [5,5,5,5]\n",
    "DISCR_CONV_STRIDES = [2,2,2,1]\n",
    "DISCR_BATCH_NORM_MOMENTUM = None\n",
    "DISCR_ACTIVATION = 'relu'\n",
    "DISCR_DROPOUT_RATE = 0.4\n",
    "DISCR_LEARNING_RATE = 0.0008"
   ]
  },
  {
   "cell_type": "code",
   "execution_count": null,
   "metadata": {},
   "outputs": [],
   "source": [
    "discriminator_input = Input((28,28,1), name = 'discriminator_input')\n",
    "x = discriminator_input\n",
    "\n",
    "for i in range(DISCR_BLOCKS):\n",
    "    x = Conv2D(filters = DISCR_CONV_FILTERS[i], \n",
    "               kernel_size = DISCR_CONV_KERNEL_SIZE[i], \n",
    "               strides = DISCR_CONV_STRIDES[i], \n",
    "               padding = 'same', \n",
    "               name = 'discriminator_conv_' + str(i))(x)\n",
    "    if DISCR_BATCH_NORM_MOMENTUM and i > 0:\n",
    "        x = BatchNormalization(momentum = DISCR_BATCH_NORM_MOMENTUM)(x)\n",
    "        \n",
    "    x = Activation(DISCR_ACTIVATION)(x)\n",
    "    \n",
    "    if DISCR_DROPOUT_RATE:\n",
    "        x = Dropout(rate = DISCR_DROPOUT_RATE)(x)\n",
    "\n",
    "x = Flatten()(x)\n",
    "discriminator_output = Dense(1, \n",
    "                             activation = 'sigmoid', \n",
    "                             kernel_initializer = RandomNormal(mean=0., stddev=0.02))(x)\n",
    "discriminator = Model(discriminator_input, discriminator_output)\n",
    "\n",
    "discriminator.summary()"
   ]
  },
  {
   "cell_type": "markdown",
   "metadata": {},
   "source": [
    "# Generator"
   ]
  },
  {
   "cell_type": "code",
   "execution_count": null,
   "metadata": {},
   "outputs": [],
   "source": [
    "GEN_BLOCKS = 4\n",
    "GEN_INPUT_SIZE = 100\n",
    "GEN_INITIAL_DENSE_LAYER_SIZE = [7,7,64]\n",
    "GEN_UPSAMPLE = [2,2,1,1]\n",
    "GEN_CONV_FILTERS = [128,64, 64,1]\n",
    "GEN_CONV_KERNEL_SIZE = [5,5,5,5]\n",
    "GEN_CONV_STRIDES = [1,1,1,1]\n",
    "GEN_BATCH_NORM_MOMENTUM = 0.9\n",
    "GEN_ACTIVATION = 'relu'\n",
    "GEN_DROPOUT_RATE = None\n",
    "GEN_LEARNING_RATE = 0.0004"
   ]
  },
  {
   "cell_type": "code",
   "execution_count": null,
   "metadata": {},
   "outputs": [],
   "source": [
    "generator_input = Input(shape = (GEN_INPUT_SIZE,), name = 'generator_input')\n",
    "x = generator_input\n",
    "\n",
    "x = Dense(np.prod(GEN_INITIAL_DENSE_LAYER_SIZE), \n",
    "          kernel_initializer = RandomNormal(mean=0., stddev=0.02))(x)\n",
    "\n",
    "if GEN_BATCH_NORM_MOMENTUM:\n",
    "    x = BatchNormalization(momentum = GEN_BATCH_NORM_MOMENTUM)(x)\n",
    "    \n",
    "x = Activation(GEN_ACTIVATION)(x)\n",
    "x = Reshape(GEN_INITIAL_DENSE_LAYER_SIZE)(x)\n",
    "\n",
    "if GEN_DROPOUT_RATE:\n",
    "    x = Dropout(rate = GEN_DROPOUT_RATE)(x)\n",
    "\n",
    "for i in range(GEN_BLOCKS):\n",
    "    \n",
    "    if i < GEN_BLOCKS - 2:\n",
    "        x = UpSampling2D()(x)\n",
    "        \n",
    "    x = Conv2D(filters = GEN_CONV_FILTERS[i], \n",
    "               kernel_size = GEN_CONV_KERNEL_SIZE[i],\n",
    "               padding = 'same',\n",
    "               name = 'generator_conv_' + str(i))(x)\n",
    "    \n",
    "    if i < GEN_BLOCKS - 1:\n",
    "        if GEN_BATCH_NORM_MOMENTUM:\n",
    "            x = BatchNormalization(momentum = GEN_BATCH_NORM_MOMENTUM)(x)\n",
    "        x = Activation(GEN_ACTIVATION)(x)\n",
    "    else:\n",
    "        x = Activation('tanh')(x)\n",
    "\n",
    "generator_output = x\n",
    "generator = Model(generator_input, generator_output)\n",
    "generator.summary()"
   ]
  },
  {
   "cell_type": "code",
   "execution_count": null,
   "metadata": {},
   "outputs": [],
   "source": []
  }
 ],
 "metadata": {
  "kernelspec": {
   "display_name": "Python 3",
   "language": "python",
   "name": "python3"
  },
  "language_info": {
   "codemirror_mode": {
    "name": "ipython",
    "version": 3
   },
   "file_extension": ".py",
   "mimetype": "text/x-python",
   "name": "python",
   "nbconvert_exporter": "python",
   "pygments_lexer": "ipython3",
   "version": "3.7.4"
  }
 },
 "nbformat": 4,
 "nbformat_minor": 4
}
