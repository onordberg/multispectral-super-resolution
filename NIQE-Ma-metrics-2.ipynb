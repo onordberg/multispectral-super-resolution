{
 "cells": [
  {
   "cell_type": "markdown",
   "metadata": {},
   "source": [
    "# NIQE and Ma et al. metrics study on satellite imagery\n",
    "\n",
    "In this notebook we will investigate how the tile size of satellite imagery affects [NIQE](https://ieeexplore.ieee.org/document/6353522) and [Ma et al.](https://www.sciencedirect.com/science/article/pii/S107731421630203X) (short form *Ma*) scores.\n",
    "\n",
    "We will generate random tile samples of varying size from two satellite sensors, WorldView-2 and GeoEye-1, and use an integration with MATLAB through the [MATLAB Engine API for Python](https://se.mathworks.com/help/matlab/matlab-engine-for-python.html) to evaluate *NIQE* and *Ma et al.* scores"
   ]
  },
  {
   "cell_type": "code",
   "execution_count": 1,
   "metadata": {},
   "outputs": [],
   "source": [
    "import numpy as np\n",
    "import matplotlib.pyplot as plt\n",
    "import time\n",
    "\n",
    "from modules.matlab_metrics import *\n",
    "from modules.image_utils import *\n",
    "from modules.helpers import *\n",
    "from modules.tile_generator import *\n",
    "from modules.losses_metrics import perceptual_index\n",
    "\n",
    "import plotly.express as px\n",
    "import plotly.graph_objects as go\n",
    "import plotly.subplots\n",
    "#init_notebook_mode(connected=True)"
   ]
  },
  {
   "cell_type": "code",
   "execution_count": 29,
   "metadata": {},
   "outputs": [],
   "source": [
    "TILES_DIR = 'data/niqe-ma-study/512'\n",
    "\n",
    "BATCH_SIZE = 1\n",
    "SHAVE_WIDTH = 4"
   ]
  },
  {
   "cell_type": "code",
   "execution_count": 30,
   "metadata": {},
   "outputs": [
    {
     "name": "stdout",
     "output_type": "stream",
     "text": [
      "1000\n"
     ]
    }
   ],
   "source": [
    "tile_paths = list(pathlib.Path(TILES_DIR).glob('**/pan/*.tif'))\n",
    "n = len(tile_paths)\n",
    "print(n)"
   ]
  },
  {
   "cell_type": "code",
   "execution_count": 12,
   "metadata": {},
   "outputs": [
    {
     "name": "stdout",
     "output_type": "stream",
     "text": [
      "Starting matlab.engine ...\n",
      "matlab.engine started\n"
     ]
    }
   ],
   "source": [
    "matlab_engine = MatLabEngine('modules/matlab', ma=False, niqe=True, \n",
    "                             output_dtype='uint16', shave_width=SHAVE_WIDTH)\n"
   ]
  },
  {
   "cell_type": "code",
   "execution_count": 31,
   "metadata": {},
   "outputs": [
    {
     "name": "stdout",
     "output_type": "stream",
     "text": [
      "(512, 512, 1)\n",
      "(1, 512, 512, 1)\n",
      "4.996291822900584\n",
      "(512, 512, 1)\n",
      "(1, 512, 512, 1)\n",
      "11.118760515117486\n",
      "(512, 512, 1)\n",
      "(1, 512, 512, 1)\n",
      "3.971781176728327\n",
      "(512, 512, 1)\n",
      "(1, 512, 512, 1)\n",
      "5.282714987213867\n",
      "(512, 512, 1)\n",
      "(1, 512, 512, 1)\n",
      "4.484912651615964\n",
      "(512, 512, 1)\n",
      "(1, 512, 512, 1)\n",
      "4.8346654027429885\n",
      "(512, 512, 1)\n",
      "(1, 512, 512, 1)\n",
      "4.454226808797914\n",
      "(512, 512, 1)\n",
      "(1, 512, 512, 1)\n",
      "10.783362243150046\n",
      "(512, 512, 1)\n",
      "(1, 512, 512, 1)\n",
      "4.530453587510806\n",
      "(512, 512, 1)\n",
      "(1, 512, 512, 1)\n",
      "10.94642994914038\n",
      "(512, 512, 1)\n",
      "(1, 512, 512, 1)\n",
      "10.923325765923432\n"
     ]
    }
   ],
   "source": [
    "for i, tile_path in enumerate(tile_paths):\n",
    "    pan_tile = geotiff_to_ndarray(tile_path)\n",
    "    print(pan_tile.shape)\n",
    "    pan_tile = np.expand_dims(pan_tile, 0)\n",
    "    print(pan_tile.shape)\n",
    "    niqe = matlab_engine.matlab_niqe_metric(pan_tile)\n",
    "    print(niqe)\n",
    "    if i >= 10:\n",
    "        break"
   ]
  },
  {
   "cell_type": "code",
   "execution_count": 32,
   "metadata": {},
   "outputs": [
    {
     "name": "stdout",
     "output_type": "stream",
     "text": [
      "(512, 512, 1)\n",
      "(1, 512, 512, 1)\n",
      "4.996291822900584\n",
      "(512, 512, 1)\n",
      "(1, 512, 512, 1)\n",
      "11.118760515117486\n",
      "(512, 512, 1)\n",
      "(1, 512, 512, 1)\n",
      "3.971781176728327\n",
      "(512, 512, 1)\n",
      "(1, 512, 512, 1)\n",
      "5.282714987213867\n",
      "(512, 512, 1)\n",
      "(1, 512, 512, 1)\n",
      "4.484912651615964\n",
      "(512, 512, 1)\n",
      "(1, 512, 512, 1)\n",
      "4.8346654027429885\n",
      "(512, 512, 1)\n",
      "(1, 512, 512, 1)\n",
      "4.454226808797914\n",
      "(512, 512, 1)\n",
      "(1, 512, 512, 1)\n",
      "10.783362243150046\n",
      "(512, 512, 1)\n",
      "(1, 512, 512, 1)\n",
      "4.530453587510806\n",
      "(512, 512, 1)\n",
      "(1, 512, 512, 1)\n",
      "10.94642994914038\n",
      "(512, 512, 1)\n",
      "(1, 512, 512, 1)\n",
      "10.923325765923432\n"
     ]
    }
   ],
   "source": [
    "for i, tile_path in enumerate(tile_paths):\n",
    "    pan_tile = geotiff_to_ndarray(tile_path)\n",
    "    print(pan_tile.shape)\n",
    "    pan_tile = np.expand_dims(pan_tile, 0)\n",
    "    print(pan_tile.shape)\n",
    "    niqe = matlab_engine.matlab_niqe_metric(pan_tile)\n",
    "    print(niqe)\n",
    "    if i >= 10:\n",
    "        break"
   ]
  },
  {
   "cell_type": "markdown",
   "metadata": {},
   "source": [
    "# Generate tiles with different tile sizes"
   ]
  },
  {
   "cell_type": "code",
   "execution_count": 3,
   "metadata": {},
   "outputs": [],
   "source": [
    "if GENERATE_TILES:\n",
    "    pan_size_dir_paths = []\n",
    "    for i in range(len(MS_SIZES)):\n",
    "        meta = allocate_tiles(meta, by_partition=False, n_tiles_total=PAN_N_TILES[i])\n",
    "        ms_size = MS_SIZES[i]\n",
    "        pan_size = PAN_SIZES[i]\n",
    "        pan_size_dir_path = str(DATA_PATH_TILES+'/'+str(pan_size))\n",
    "        pan_size_dir_paths.append(pan_size_dir_path)\n",
    "        generate_all_tiles(meta, pan_size_dir_path, ms_height_width=[ms_size, ms_size], \n",
    "                           sr_factor=SR_FACTOR, save_by_partition=False,\n",
    "                           cloud_sea_removal=False,\n",
    "                           print_tile_info=False, save_meta_to_disk=True)"
   ]
  },
  {
   "cell_type": "markdown",
   "metadata": {},
   "source": [
    "# Loading the MATLAB Engine for Python"
   ]
  },
  {
   "cell_type": "code",
   "execution_count": 4,
   "metadata": {},
   "outputs": [
    {
     "name": "stdout",
     "output_type": "stream",
     "text": [
      "Starting matlab.engine ...\n",
      "matlab.engine started\n"
     ]
    }
   ],
   "source": [
    "if CALCULATE_NIQE_MA:\n",
    "    matlab_engine = MatLabEngine('modules/matlab', ma=True, niqe=True, \n",
    "                                 output_dtype='uint16', shave_width=SHAVE_WIDTH)"
   ]
  },
  {
   "cell_type": "markdown",
   "metadata": {},
   "source": [
    "# Pandas Dataframe to store results\n",
    "`tile_path` is set as index."
   ]
  },
  {
   "cell_type": "code",
   "execution_count": 5,
   "metadata": {},
   "outputs": [
    {
     "name": "stdout",
     "output_type": "stream",
     "text": [
      "Found 18028 tiles of type pan in the directory provided\n"
     ]
    },
    {
     "data": {
      "text/html": [
       "<div>\n",
       "<style scoped>\n",
       "    .dataframe tbody tr th:only-of-type {\n",
       "        vertical-align: middle;\n",
       "    }\n",
       "\n",
       "    .dataframe tbody tr th {\n",
       "        vertical-align: top;\n",
       "    }\n",
       "\n",
       "    .dataframe thead th {\n",
       "        text-align: right;\n",
       "    }\n",
       "</style>\n",
       "<table border=\"1\" class=\"dataframe\">\n",
       "  <thead>\n",
       "    <tr style=\"text-align: right;\">\n",
       "      <th></th>\n",
       "    </tr>\n",
       "    <tr>\n",
       "      <th>tile_path</th>\n",
       "    </tr>\n",
       "  </thead>\n",
       "  <tbody>\n",
       "    <tr>\n",
       "      <th>data/niqe-ma-study/1024/GE01_La_Spezia_2009_09_25_011651186010_0/pan/00000.tif</th>\n",
       "    </tr>\n",
       "    <tr>\n",
       "      <th>data/niqe-ma-study/1024/GE01_La_Spezia_2009_09_25_011651186010_0/pan/00001.tif</th>\n",
       "    </tr>\n",
       "    <tr>\n",
       "      <th>data/niqe-ma-study/1024/GE01_La_Spezia_2009_09_25_011651186010_0/pan/00002.tif</th>\n",
       "    </tr>\n",
       "    <tr>\n",
       "      <th>data/niqe-ma-study/1024/GE01_La_Spezia_2009_09_25_011651186010_0/pan/00003.tif</th>\n",
       "    </tr>\n",
       "    <tr>\n",
       "      <th>data/niqe-ma-study/1024/GE01_La_Spezia_2009_09_25_011651186010_0/pan/00004.tif</th>\n",
       "    </tr>\n",
       "    <tr>\n",
       "      <th>...</th>\n",
       "    </tr>\n",
       "    <tr>\n",
       "      <th>data/niqe-ma-study/896/WV02_Toulon_2019_12_15_011650875010_0/pan/00009.tif</th>\n",
       "    </tr>\n",
       "    <tr>\n",
       "      <th>data/niqe-ma-study/896/WV02_Toulon_2019_12_15_011650875010_0/pan/00010.tif</th>\n",
       "    </tr>\n",
       "    <tr>\n",
       "      <th>data/niqe-ma-study/896/WV02_Toulon_2019_12_15_011650875010_0/pan/00011.tif</th>\n",
       "    </tr>\n",
       "    <tr>\n",
       "      <th>data/niqe-ma-study/896/WV02_Toulon_2019_12_15_011650875010_0/pan/00012.tif</th>\n",
       "    </tr>\n",
       "    <tr>\n",
       "      <th>data/niqe-ma-study/896/WV02_Toulon_2019_12_15_011650875010_0/pan/00013.tif</th>\n",
       "    </tr>\n",
       "  </tbody>\n",
       "</table>\n",
       "<p>18028 rows × 0 columns</p>\n",
       "</div>"
      ],
      "text/plain": [
       "Empty DataFrame\n",
       "Columns: []\n",
       "Index: [data/niqe-ma-study/1024/GE01_La_Spezia_2009_09_25_011651186010_0/pan/00000.tif, data/niqe-ma-study/1024/GE01_La_Spezia_2009_09_25_011651186010_0/pan/00001.tif, data/niqe-ma-study/1024/GE01_La_Spezia_2009_09_25_011651186010_0/pan/00002.tif, data/niqe-ma-study/1024/GE01_La_Spezia_2009_09_25_011651186010_0/pan/00003.tif, data/niqe-ma-study/1024/GE01_La_Spezia_2009_09_25_011651186010_0/pan/00004.tif, data/niqe-ma-study/1024/GE01_La_Spezia_2011_01_24_011651197010_0/pan/00000.tif, data/niqe-ma-study/1024/GE01_La_Spezia_2011_01_24_011651197010_0/pan/00001.tif, data/niqe-ma-study/1024/GE01_La_Spezia_2011_01_24_011651197010_0/pan/00002.tif, data/niqe-ma-study/1024/GE01_La_Spezia_2011_01_24_011651197010_0/pan/00003.tif, data/niqe-ma-study/1024/GE01_La_Spezia_2011_01_24_011651197010_0/pan/00004.tif, data/niqe-ma-study/1024/GE01_La_Spezia_2011_01_24_011651197010_0/pan/00005.tif, data/niqe-ma-study/1024/GE01_La_Spezia_2011_01_24_011651197010_0/pan/00006.tif, data/niqe-ma-study/1024/GE01_La_Spezia_2011_01_24_011651197010_0/pan/00007.tif, data/niqe-ma-study/1024/GE01_La_Spezia_2012_02_23_011651192010_0/pan/00000.tif, data/niqe-ma-study/1024/GE01_La_Spezia_2012_02_23_011651192010_0/pan/00001.tif, data/niqe-ma-study/1024/GE01_La_Spezia_2012_02_23_011651192010_0/pan/00002.tif, data/niqe-ma-study/1024/GE01_La_Spezia_2012_02_23_011651192010_0/pan/00003.tif, data/niqe-ma-study/1024/GE01_La_Spezia_2012_02_23_011651192010_0/pan/00004.tif, data/niqe-ma-study/1024/GE01_La_Spezia_2012_02_23_011651192010_0/pan/00005.tif, data/niqe-ma-study/1024/GE01_La_Spezia_2012_02_23_011651192010_0/pan/00006.tif, data/niqe-ma-study/1024/GE01_La_Spezia_2012_02_23_011651192010_0/pan/00007.tif, data/niqe-ma-study/1024/GE01_La_Spezia_2012_02_23_011651192010_0/pan/00008.tif, data/niqe-ma-study/1024/GE01_La_Spezia_2012_02_23_011651192010_0/pan/00009.tif, data/niqe-ma-study/1024/GE01_La_Spezia_2012_02_23_011651192010_0/pan/00010.tif, data/niqe-ma-study/1024/GE01_La_Spezia_2012_05_07_011651189010_0/pan/00000.tif, data/niqe-ma-study/1024/GE01_La_Spezia_2012_05_16_011651187010_0/pan/00000.tif, data/niqe-ma-study/1024/GE01_La_Spezia_2012_05_16_011651187010_0/pan/00001.tif, data/niqe-ma-study/1024/GE01_La_Spezia_2012_05_16_011651187010_0/pan/00002.tif, data/niqe-ma-study/1024/GE01_La_Spezia_2013_07_07_011651184010_0/pan/00000.tif, data/niqe-ma-study/1024/GE01_La_Spezia_2013_07_07_011651184010_0/pan/00001.tif, data/niqe-ma-study/1024/GE01_La_Spezia_2013_07_07_011651184010_0/pan/00002.tif, data/niqe-ma-study/1024/GE01_La_Spezia_2013_07_07_011651184010_0/pan/00003.tif, data/niqe-ma-study/1024/GE01_La_Spezia_2013_07_07_011651184010_0/pan/00004.tif, data/niqe-ma-study/1024/GE01_La_Spezia_2013_07_07_011651184010_0/pan/00005.tif, data/niqe-ma-study/1024/GE01_La_Spezia_2013_07_07_011651184010_0/pan/00006.tif, data/niqe-ma-study/1024/GE01_La_Spezia_2013_07_07_011651184010_0/pan/00007.tif, data/niqe-ma-study/1024/GE01_La_Spezia_2013_07_15_011651183010_0/pan/00000.tif, data/niqe-ma-study/1024/GE01_La_Spezia_2013_07_15_011651183010_0/pan/00001.tif, data/niqe-ma-study/1024/GE01_La_Spezia_2013_07_15_011651183010_0/pan/00002.tif, data/niqe-ma-study/1024/GE01_La_Spezia_2013_07_18_011651195010_0/pan/00000.tif, data/niqe-ma-study/1024/GE01_La_Spezia_2013_07_18_011651195010_0/pan/00001.tif, data/niqe-ma-study/1024/GE01_La_Spezia_2013_07_18_011651195010_0/pan/00002.tif, data/niqe-ma-study/1024/GE01_La_Spezia_2013_07_18_011651195010_0/pan/00003.tif, data/niqe-ma-study/1024/GE01_La_Spezia_2013_07_18_011651195010_0/pan/00004.tif, data/niqe-ma-study/1024/GE01_La_Spezia_2013_07_23_011651202010_0/pan/00000.tif, data/niqe-ma-study/1024/GE01_La_Spezia_2013_07_23_011651202010_0/pan/00001.tif, data/niqe-ma-study/1024/GE01_La_Spezia_2013_07_23_011651202010_0/pan/00002.tif, data/niqe-ma-study/1024/GE01_La_Spezia_2013_07_23_011651202010_0/pan/00003.tif, data/niqe-ma-study/1024/GE01_La_Spezia_2013_07_23_011651202010_0/pan/00004.tif, data/niqe-ma-study/1024/GE01_La_Spezia_2017_04_16_011651188010_0/pan/00000.tif, data/niqe-ma-study/1024/GE01_La_Spezia_2017_04_16_011651188010_0/pan/00001.tif, data/niqe-ma-study/1024/GE01_La_Spezia_2017_04_16_011651188010_0/pan/00002.tif, data/niqe-ma-study/1024/GE01_La_Spezia_2017_04_16_011651188010_0/pan/00003.tif, data/niqe-ma-study/1024/GE01_La_Spezia_2017_04_16_011651188010_0/pan/00004.tif, data/niqe-ma-study/1024/GE01_La_Spezia_2017_04_16_011651188010_0/pan/00005.tif, data/niqe-ma-study/1024/GE01_La_Spezia_2017_04_16_011651188010_0/pan/00006.tif, data/niqe-ma-study/1024/GE01_La_Spezia_2017_04_16_011651188010_0/pan/00007.tif, data/niqe-ma-study/1024/GE01_La_Spezia_2017_04_16_011651188010_0/pan/00008.tif, data/niqe-ma-study/1024/GE01_La_Spezia_2017_04_16_011651188010_0/pan/00009.tif, data/niqe-ma-study/1024/GE01_La_Spezia_2017_04_16_011651188010_0/pan/00010.tif, data/niqe-ma-study/1024/GE01_La_Spezia_2017_04_16_011651188010_0/pan/00011.tif, data/niqe-ma-study/1024/GE01_La_Spezia_2019_01_03_011651196010_0/pan/00000.tif, data/niqe-ma-study/1024/GE01_La_Spezia_2019_01_03_011651196010_0/pan/00001.tif, data/niqe-ma-study/1024/GE01_La_Spezia_2019_01_03_011651196010_0/pan/00002.tif, data/niqe-ma-study/1024/GE01_La_Spezia_2019_01_03_011651196010_0/pan/00003.tif, data/niqe-ma-study/1024/GE01_La_Spezia_2019_01_03_011651196010_0/pan/00004.tif, data/niqe-ma-study/1024/GE01_La_Spezia_2019_01_03_011651196010_0/pan/00005.tif, data/niqe-ma-study/1024/GE01_La_Spezia_2019_01_03_011651196010_0/pan/00006.tif, data/niqe-ma-study/1024/GE01_La_Spezia_2019_01_03_011651196010_0/pan/00007.tif, data/niqe-ma-study/1024/GE01_La_Spezia_2019_01_03_011651196010_0/pan/00008.tif, data/niqe-ma-study/1024/GE01_La_Spezia_2019_01_03_011651196010_0/pan/00009.tif, data/niqe-ma-study/1024/GE01_La_Spezia_2019_01_03_011651196010_0/pan/00010.tif, data/niqe-ma-study/1024/GE01_Toulon 2009_03_23_011651190010_0/pan/00000.tif, data/niqe-ma-study/1024/GE01_Toulon 2009_03_23_011651190010_0/pan/00001.tif, data/niqe-ma-study/1024/GE01_Toulon 2009_03_23_011651190010_0/pan/00002.tif, data/niqe-ma-study/1024/GE01_Toulon 2009_03_23_011651190010_0/pan/00003.tif, data/niqe-ma-study/1024/GE01_Toulon 2009_03_23_011651190010_0/pan/00004.tif, data/niqe-ma-study/1024/GE01_Toulon 2009_03_23_011651190010_0/pan/00005.tif, data/niqe-ma-study/1024/GE01_Toulon 2010_06_08_011651191010_0/pan/00000.tif, data/niqe-ma-study/1024/GE01_Toulon 2010_06_08_011651191010_0/pan/00001.tif, data/niqe-ma-study/1024/GE01_Toulon 2010_06_08_011651191010_0/pan/00002.tif, data/niqe-ma-study/1024/GE01_Toulon 2010_06_08_011651191010_0/pan/00003.tif, data/niqe-ma-study/1024/GE01_Toulon 2010_06_08_011651191010_0/pan/00004.tif, data/niqe-ma-study/1024/GE01_Toulon 2010_06_08_011651191010_0/pan/00005.tif, data/niqe-ma-study/1024/GE01_Toulon 2010_06_08_011651191010_0/pan/00006.tif, data/niqe-ma-study/1024/GE01_Toulon 2010_06_08_011651191010_0/pan/00007.tif, data/niqe-ma-study/1024/GE01_Toulon 2010_06_08_011651191010_0/pan/00008.tif, data/niqe-ma-study/1024/GE01_Toulon 2010_06_08_011651191010_0/pan/00009.tif, data/niqe-ma-study/1024/GE01_Toulon 2010_06_08_011651191010_0/pan/00010.tif, data/niqe-ma-study/1024/GE01_Toulon 2010_06_08_011651191010_0/pan/00011.tif, data/niqe-ma-study/1024/GE01_Toulon 2010_06_08_011651191010_0/pan/00012.tif, data/niqe-ma-study/1024/GE01_Toulon 2010_06_08_011651191010_0/pan/00013.tif, data/niqe-ma-study/1024/GE01_Toulon 2010_06_08_011651191010_0/pan/00014.tif, data/niqe-ma-study/1024/GE01_Toulon 2013_08_20_011651198010_0/pan/00000.tif, data/niqe-ma-study/1024/GE01_Toulon 2013_08_20_011651198010_0/pan/00001.tif, data/niqe-ma-study/1024/GE01_Toulon 2013_08_20_011651198010_0/pan/00002.tif, data/niqe-ma-study/1024/GE01_Toulon 2013_08_20_011651198010_0/pan/00003.tif, data/niqe-ma-study/1024/GE01_Toulon 2013_08_20_011651198010_0/pan/00004.tif, data/niqe-ma-study/1024/GE01_Toulon 2013_08_20_011651198010_0/pan/00005.tif, data/niqe-ma-study/1024/GE01_Toulon 2013_08_20_011651198010_0/pan/00006.tif, ...]\n",
       "\n",
       "[18028 rows x 0 columns]"
      ]
     },
     "execution_count": 5,
     "metadata": {},
     "output_type": "execute_result"
    }
   ],
   "source": [
    "results = pd.DataFrame()\n",
    "paths_all_tiles = [path.as_posix() for path in list_tiles_in_dir(DATA_PATH_TILES, ms_or_pan='pan')]\n",
    "results['tile_path'] = paths_all_tiles\n",
    "results.set_index('tile_path', inplace=True)\n",
    "results"
   ]
  },
  {
   "cell_type": "markdown",
   "metadata": {},
   "source": [
    "# Actual NIQE and Ma calculation\n",
    "\n",
    "Only preprocessing step is shaving 4 pixels from the borders of every tile, since this also is done in the main experiments as well as in the 2018 PIRM SISR Challenge."
   ]
  },
  {
   "cell_type": "code",
   "execution_count": 6,
   "metadata": {},
   "outputs": [
    {
     "ename": "NameError",
     "evalue": "name 'pan_size_dir_paths' is not defined",
     "output_type": "error",
     "traceback": [
      "\u001b[1;31m---------------------------------------------------------------------------\u001b[0m",
      "\u001b[1;31mNameError\u001b[0m                                 Traceback (most recent call last)",
      "\u001b[1;32m<ipython-input-6-25b6c066c420>\u001b[0m in \u001b[0;36m<module>\u001b[1;34m\u001b[0m\n\u001b[0;32m      1\u001b[0m \u001b[1;32mif\u001b[0m \u001b[0mCALCULATE_NIQE_MA\u001b[0m\u001b[1;33m:\u001b[0m\u001b[1;33m\u001b[0m\u001b[1;33m\u001b[0m\u001b[0m\n\u001b[1;32m----> 2\u001b[1;33m     \u001b[1;32mfor\u001b[0m \u001b[0mi\u001b[0m\u001b[1;33m,\u001b[0m \u001b[0mpan_size_dir_path\u001b[0m \u001b[1;32min\u001b[0m \u001b[0menumerate\u001b[0m\u001b[1;33m(\u001b[0m\u001b[0mpan_size_dir_paths\u001b[0m\u001b[1;33m)\u001b[0m\u001b[1;33m:\u001b[0m\u001b[1;33m\u001b[0m\u001b[1;33m\u001b[0m\u001b[0m\n\u001b[0m\u001b[0;32m      3\u001b[0m         \u001b[0mtile_size\u001b[0m \u001b[1;33m=\u001b[0m \u001b[0mPAN_SIZES\u001b[0m\u001b[1;33m[\u001b[0m\u001b[0mi\u001b[0m\u001b[1;33m]\u001b[0m\u001b[1;33m\u001b[0m\u001b[1;33m\u001b[0m\u001b[0m\n\u001b[0;32m      4\u001b[0m         \u001b[0mpan_geotiff_tile_paths\u001b[0m \u001b[1;33m=\u001b[0m \u001b[0mlist_tiles_in_dir\u001b[0m\u001b[1;33m(\u001b[0m\u001b[0mpan_size_dir_path\u001b[0m\u001b[1;33m,\u001b[0m \u001b[0mms_or_pan\u001b[0m\u001b[1;33m=\u001b[0m\u001b[1;34m'pan'\u001b[0m\u001b[1;33m)\u001b[0m\u001b[1;33m\u001b[0m\u001b[1;33m\u001b[0m\u001b[0m\n\u001b[0;32m      5\u001b[0m \u001b[1;33m\u001b[0m\u001b[0m\n",
      "\u001b[1;31mNameError\u001b[0m: name 'pan_size_dir_paths' is not defined"
     ]
    }
   ],
   "source": [
    "if CALCULATE_NIQE_MA:\n",
    "    for i, pan_size_dir_path in enumerate(pan_size_dir_paths):\n",
    "        tile_size = PAN_SIZES[i]\n",
    "        pan_geotiff_tile_paths = list_tiles_in_dir(pan_size_dir_path, ms_or_pan='pan')\n",
    "\n",
    "        pan_tiles = []\n",
    "        for pan_geotiff_tile_path in pan_geotiff_tile_paths:\n",
    "            pan_tile = geotiff_to_ndarray(pan_geotiff_tile_path)\n",
    "            pan_tiles.append(pan_tile)\n",
    "\n",
    "        for j in range(len(pan_tiles)):\n",
    "            niqes_ml, niqes_sk, mas = None, None, None\n",
    "            batch_range = slice(BATCH_SIZE*j, BATCH_SIZE*(j+1))\n",
    "            pan_tiles_batch = np.array(pan_tiles[batch_range])\n",
    "            if pan_tiles_batch.shape[0] == 0:\n",
    "                break\n",
    "\n",
    "            tile_paths_batch = pan_geotiff_tile_paths[batch_range]\n",
    "\n",
    "            n_tiles = pan_tiles_batch.shape[0]\n",
    "            print('Tile size', tile_size, ', shape:', pan_tiles_batch.shape, ', batch:', j, \n",
    "                  ', batch size:', n_tiles, ', shave width:', matlab_engine.shave_width)\n",
    "\n",
    "            tic = time.perf_counter()\n",
    "            niqes_ml = matlab_engine.matlab_niqe_metric(pan_tiles_batch)\n",
    "            toc = time.perf_counter()\n",
    "            niqe_ml_sec_per_tile = (toc-tic)/n_tiles\n",
    "            print('NIQE (matlab) mean:', np.mean(niqes_ml), ', sd:',  np.std(niqes_ml), \n",
    "                  ', seconds per tile:', niqe_ml_sec_per_tile)\n",
    "\n",
    "            if tile_size > 192:\n",
    "                tic = time.perf_counter()\n",
    "                niqes_sk = matlab_engine.skvideo_niqe_metric(pan_tiles_batch)\n",
    "                toc = time.perf_counter()\n",
    "                niqe_sk_sec_per_tile = (toc-tic)/n_tiles\n",
    "                print('NIQE (skvideo) mean:', np.mean(niqes_sk), ', sd:',  np.std(niqes_sk), \n",
    "                      ', seconds per tile:', niqe_sk_sec_per_tile)\n",
    "\n",
    "            tic = time.perf_counter()\n",
    "            mas = matlab_engine.matlab_ma_metric(pan_tiles_batch)\n",
    "            toc = time.perf_counter()\n",
    "            ma_sec_per_tile = (toc-tic)/n_tiles\n",
    "            print('Ma (matlab) mean:', np.mean(mas), ', sd:',  np.std(mas), \n",
    "                  ', seconds per tile:', ma_sec_per_tile)\n",
    "            tile_paths_batch = [path.as_posix() for path in tile_paths_batch]\n",
    "            for i, tile_path in enumerate(tile_paths_batch):\n",
    "                try:\n",
    "                    results.loc[tile_path, 'niqe_ml'] = niqes_ml[i]\n",
    "                    results.loc[tile_path, 'niqe_ml_s_per_tile'] = niqe_ml_sec_per_tile\n",
    "                except TypeError:\n",
    "                    pass\n",
    "                try:\n",
    "                    results.loc[tile_path, 'niqe_sk'] = niqes_sk[i]\n",
    "                    results.loc[tile_path, 'niqe_sk_s_per_tile'] = niqe_sk_sec_per_tile\n",
    "                except TypeError:\n",
    "                    pass\n",
    "                try:\n",
    "                    results.loc[tile_path, 'ma'] = mas[i]\n",
    "                    results.loc[tile_path, 'ma_s_per_tile'] = ma_sec_per_tile\n",
    "                except TypeError:\n",
    "                    pass\n",
    "\n",
    "        csv_path = pathlib.Path(DATA_PATH_TILES).joinpath('results-'+str(tile_size)+'.csv')\n",
    "        results.to_csv(csv_path)\n",
    "        print('Saved results dataframe as csv at', csv_path.as_posix())        "
   ]
  },
  {
   "cell_type": "markdown",
   "metadata": {},
   "source": [
    "# Inspect results\n",
    "\n",
    "We read the last of the `.csv`s from the previous experiment and derive some more statistics from the existing dataframe columns."
   ]
  },
  {
   "cell_type": "code",
   "execution_count": null,
   "metadata": {},
   "outputs": [],
   "source": [
    "results = pd.read_csv(DATA_PATH_TILES+'/results-1024.csv')\n",
    "\n",
    "# Derive tile size from the path string\n",
    "def tile_size_from_path(row):\n",
    "    p = row.iloc[0]\n",
    "    p = pathlib.Path(row.iloc[0])\n",
    "    tile_size = int(p.parents[2].stem)\n",
    "    row['tile_size'] = tile_size\n",
    "    row['shave_width'] = SHAVE_WIDTH\n",
    "    row['tile_size_shaved'] = tile_size - 2*SHAVE_WIDTH\n",
    "    return row\n",
    "\n",
    "results = results.apply(tile_size_from_path, axis=1)\n",
    "\n",
    "# Calculate Perceptual Index (PI)\n",
    "results['pi'] = perceptual_index(ma=results['ma'], niqe=results['niqe_ml']).numpy()\n",
    "\n",
    "# Calculate compute time per fixed area size\n",
    "def compute_time_per_area(results, metrics=('niqe_ml', 'ma'), area_size=100*100):\n",
    "    for metric in metrics:\n",
    "        tile_size_area = results['tile_size'] ** 2\n",
    "        results[metric+'_s_per_'+str(area_size)+'_pixels'] = area_size * (results[metric+'_s_per_tile'] / tile_size_area)\n",
    "    return results\n",
    "results = compute_time_per_area(results, area_size=100*100)\n",
    "results"
   ]
  },
  {
   "cell_type": "markdown",
   "metadata": {},
   "source": [
    "# Plot 1: How our metrics vary by tile size\n",
    "\n",
    "Note: Perceptual Index (PI) is simply a function of Ma and NIQE:\n",
    "\n",
    "$\\textrm{PI} = \\frac{1}{2}\\left(\\left(10-\\textrm{Ma}\\right) + \\textrm{NIQE}\\right)$\n",
    "\n",
    "- NIQE: Lower is better. 0 is best.\n",
    "- Ma et al.: Higher is better. 10 is best\n",
    "- PI: Lower is better. 0 is best"
   ]
  },
  {
   "cell_type": "code",
   "execution_count": null,
   "metadata": {},
   "outputs": [],
   "source": [
    "# Aggregated statistics. Grouped by tile_size:\n",
    "results_medians = results.groupby('tile_size').median()\n",
    "results_means = results.groupby('tile_size').mean()\n",
    "results_stds = results.groupby('tile_size').std()\n",
    "results_counts = results.groupby('tile_size').count().iloc[:,0]\n",
    "\n",
    "fig = plotly.subplots.make_subplots(rows=3,\n",
    "                                    subplot_titles=('NIQE (MATLAB)', \n",
    "                                                    'Ma et al. (MATLAB)', \n",
    "                                                    'Perceptual Index (PI)'),\n",
    "                                    shared_xaxes=True,\n",
    "                                    vertical_spacing=0.05)\n",
    "for i, score in enumerate(['niqe_ml', 'ma', 'pi']):\n",
    "    if i == 0:\n",
    "        showlegend = True\n",
    "    else:\n",
    "        showlegend = False\n",
    "    fig.add_box(x=results['tile_size'], y=results[score], \n",
    "                name='scores',\n",
    "                marker=dict(color=px.colors.qualitative.Plotly[0]),\n",
    "                legendgroup='scores',\n",
    "                showlegend=showlegend,\n",
    "                text=results_counts.values,\n",
    "                row=i+1, col=1)\n",
    "    fig.add_scatter(x=results_medians.index.values, y=results_medians[score].values,\n",
    "                    name='median',\n",
    "                    line=dict(color=px.colors.qualitative.Plotly[1]),\n",
    "                    legendgroup='median',\n",
    "                    showlegend=showlegend, \n",
    "                    row=i+1, col=1)\n",
    "    fig.add_scatter(x=results_medians.index.values, y=results_means[score].values,\n",
    "                    name='mean',\n",
    "                    line=dict(color=px.colors.qualitative.Plotly[2]),\n",
    "                    legendgroup='mean',\n",
    "                    showlegend=showlegend,\n",
    "                    row=i+1, col=1)\n",
    "    \n",
    "fig.update_layout(autosize=True,\n",
    "                  title= 'NIQE and Ma et al. Satellite Tile Size Study - Scores',\n",
    "                  height=1000)\n",
    "fig.update_yaxes(range=[2,10], row=1, col=1)\n",
    "fig.update_yaxes(range=[2,6], row=2, col=1)\n",
    "fig.update_yaxes(range=[2,10], row=3, col=1)\n",
    "fig.update_xaxes(showgrid=True, tickvals=results_counts.index.values)\n",
    "\n",
    "fig.show()"
   ]
  },
  {
   "cell_type": "markdown",
   "metadata": {},
   "source": [
    "NIQE is unstable at small tile sizes, basically non-functional at tile sizes 128 and 192. This directly translates to the PI plot since PI is a function of NIQE. Ma et al. on the other hand is more stable, slowly converging to a mean slightly around 4.1."
   ]
  },
  {
   "cell_type": "markdown",
   "metadata": {},
   "source": [
    "# Plot 2: How compute time of metrics vary by tile size\n",
    "\n",
    "We do two comparisons here. In the first row we compare compute time per tile for NIQE and Ma. In the second row we have *normalized* compute time so that the unit is seconds per `100x100` tile. By doing this we can see if the dimensions of the tile itself affects compute time."
   ]
  },
  {
   "cell_type": "code",
   "execution_count": null,
   "metadata": {},
   "outputs": [],
   "source": [
    "fig = plotly.subplots.make_subplots(rows=2, cols=2,\n",
    "                                    subplot_titles=('NIQE - seconds per tile', \n",
    "                                                    'Ma et al. - seconds per tile', \n",
    "                                                    'NIQE - seconds per 100x100 tile', \n",
    "                                                    'Ma et al. - seconds per 100x100 tile'),\n",
    "                                    shared_xaxes=True,\n",
    "                                    vertical_spacing=0.075, horizontal_spacing=0.075)\n",
    "showlegend = True\n",
    "for j, metric in enumerate(['niqe_ml', 'ma']):\n",
    "    for i, per_what in enumerate(['_s_per_tile', '_s_per_10000_pixels']):\n",
    "        if i == 1:\n",
    "            showlegend = False\n",
    "        seconds_per = metric + per_what\n",
    "        fig.add_box(x=results['tile_size'], y=results[seconds_per], \n",
    "                    name='compute time',\n",
    "                    marker=dict(color=px.colors.qualitative.Plotly[0]),\n",
    "                    legendgroup='compute',\n",
    "                    showlegend=showlegend,\n",
    "                    text=results_counts.values,\n",
    "                    row=i+1, col=j+1)\n",
    "        fig.add_scatter(x=results_medians.index.values, y=results_means[seconds_per].values,\n",
    "                        name='mean compute time',\n",
    "                        line=dict(color=px.colors.qualitative.Plotly[2]),\n",
    "                        legendgroup='mean_compute',\n",
    "                        showlegend=showlegend,\n",
    "                        row=i+1, col=j+1)\n",
    "    \n",
    "fig.update_layout(autosize=True,\n",
    "                  title= 'NIQE and Ma et al. Satellite Tile Size Study - Compute time per tile ',\n",
    "\n",
    "                  height=1000)\n",
    "#fig.update_yaxes(range=[2,10], row=1, col=1)\n",
    "fig.update_yaxes(range=[0,0.01], row=2, col=1)\n",
    "fig.update_yaxes(range=[0.4,0.7], row=2, col=2)\n",
    "fig.update_xaxes(showgrid=True, tickvals=results_counts.index.values)\n",
    "\n",
    "fig.show()"
   ]
  },
  {
   "cell_type": "markdown",
   "metadata": {},
   "source": [
    "The top two plots unsurprisingly shows an increase of compute time as the size of the tiles increase. An initial assessment before having done a proper time complexity study is that both runs in polynomial time. Calculating the Ma score is definitely more time consuming, around two orders of magnitude.\n",
    "\n",
    "When comparing the two bottom plots, those where compute time is normalized to a 100x100 square tile, we first see that computing scores for very small tile sizes are inefficient. This can be because of overhead costs. From approximately 256 and upwards we see what may look like a linear slight trend upward.\n",
    "\n",
    "\n",
    "TODO for the thesis:\n",
    "- Time complexity analysis to estimate Big-O as a function of tile size"
   ]
  },
  {
   "cell_type": "markdown",
   "metadata": {},
   "source": [
    "# Visual inspection\n",
    "\n",
    "Setting tile size to 512 we inspect the image tiles scoring worst and best for all three metrics. This gives us an impression of how the metrics work on our dataset."
   ]
  },
  {
   "cell_type": "code",
   "execution_count": null,
   "metadata": {},
   "outputs": [],
   "source": [
    "K_BEST_WORST = 25\n",
    "def k_best_worst_per_tile_size(results, best_worst='best', tile_size=512, metric='ma', k=8):\n",
    "    top_results = results.loc[results['tile_size'] == tile_size, :]\n",
    "    if metric == 'ma' and best_worst == 'best':\n",
    "        ascending = False\n",
    "    elif metric == 'ma' and best_worst == 'worst':\n",
    "        ascending = True\n",
    "    elif metric in ['niqe_ml', 'pi'] and best_worst == 'best':\n",
    "        ascending = True\n",
    "    elif metric in ['niqe_ml', 'pi'] and best_worst == 'worst':\n",
    "        ascending = False\n",
    "    else:\n",
    "        raise NotImplementedError\n",
    "        \n",
    "    top_results = top_results.sort_values(metric, ascending=ascending)\n",
    "    top_results = top_results.iloc[:k, :]\n",
    "    return top_results\n",
    "\n",
    "best_ma_results = k_best_worst_per_tile_size(results, best_worst='best', tile_size=512, metric='ma', k=K_BEST_WORST)\n",
    "#best_ma_results\n",
    "worst_ma_results = k_best_worst_per_tile_size(results, best_worst='worst', tile_size=512, metric='ma', k=K_BEST_WORST)\n",
    "#worst_ma_results\n",
    "best_niqe_results = k_best_worst_per_tile_size(results, best_worst='best', tile_size=512, metric='niqe_ml', k=K_BEST_WORST)\n",
    "#best_niqe_results\n",
    "worst_niqe_results = k_best_worst_per_tile_size(results, best_worst='worst', tile_size=512, metric='niqe_ml', k=K_BEST_WORST)\n",
    "#worst_niqe_results\n",
    "best_pi_results = k_best_worst_per_tile_size(results, best_worst='best', tile_size=512, metric='pi', k=K_BEST_WORST)\n",
    "#best_pi_results\n",
    "worst_pi_results = k_best_worst_per_tile_size(results, best_worst='worst', tile_size=512, metric='pi', k=K_BEST_WORST)\n",
    "#worst_pi_results"
   ]
  },
  {
   "cell_type": "code",
   "execution_count": null,
   "metadata": {},
   "outputs": [],
   "source": [
    "def plot_images(imgs, cols=None, fig_size=1000, spacing=0.0, zmin=0, zmax=255, stretch=True):\n",
    "    if tf.is_tensor(imgs):\n",
    "        imgs = imgs.numpy()\n",
    "    n = imgs.shape[0]\n",
    "    if cols is None:\n",
    "        cols = int(np.ceil(np.sqrt(n)))\n",
    "    rows = int(np.ceil(n / cols))\n",
    "    fig = plotly.subplots.make_subplots(rows=rows, cols=cols,\n",
    "                                        horizontal_spacing=spacing,\n",
    "                                        vertical_spacing=spacing, \n",
    "                                        shared_xaxes=False, shared_yaxes=False)\n",
    "    k = 0\n",
    "    for i in range(rows):\n",
    "        for j in range(cols):\n",
    "            if k == n:\n",
    "                break\n",
    "            #print(i,j,k)\n",
    "            img = imgs[k,:,:,0]\n",
    "            if stretch:\n",
    "                # stretch through +- 5 std from mean\n",
    "                mean = np.mean(img)\n",
    "                std = np.std(img)\n",
    "                zmin = max(0, mean - 5 * std)\n",
    "                zmax = mean + 5 * std\n",
    "            fig.add_trace(go.Heatmap(z=img, \n",
    "                                     colorscale='gray', \n",
    "                                     zmin=zmin, \n",
    "                                     zmax=zmax,\n",
    "                                     showscale=False),\n",
    "                          row=i+1, col=j+1)\n",
    "            k += 1\n",
    "\n",
    "    size_scale = fig_size / (cols * 250)\n",
    "    fig.update_layout(height=size_scale*rows*250, \n",
    "                      width=fig_size)\n",
    "    fig.update_yaxes(visible=False)\n",
    "    fig.update_xaxes(visible=False)\n",
    "    fig.show()"
   ]
  },
  {
   "cell_type": "markdown",
   "metadata": {},
   "source": [
    "## Best Ma \n",
    "\n",
    "We see that Ma rewards some sea tiles where it looks like the sea has a high fidelity surface (lots of structure)."
   ]
  },
  {
   "cell_type": "code",
   "execution_count": null,
   "metadata": {},
   "outputs": [],
   "source": [
    "imgs = geotiff_to_ndarray(best_ma_results['tile_path'].to_list())\n",
    "plot_images(imgs, fig_size=1000, spacing=0.00, zmin=0, zmax=get_max_uint_from_bit_depth(11), stretch=True)"
   ]
  },
  {
   "cell_type": "markdown",
   "metadata": {},
   "source": [
    "# Best NIQE\n",
    "\n",
    "It looks like NIQE prefers clear and varied land imagery tiles."
   ]
  },
  {
   "cell_type": "code",
   "execution_count": null,
   "metadata": {},
   "outputs": [],
   "source": [
    "imgs = geotiff_to_ndarray(best_niqe_results['tile_path'].to_list())\n",
    "plot_images(imgs, fig_size=1000, spacing=0.00, zmin=0, zmax=get_max_uint_from_bit_depth(11), stretch=True)"
   ]
  },
  {
   "cell_type": "markdown",
   "metadata": {},
   "source": [
    "## Best Perceptual Index (PI)\n",
    "\n",
    "On first glance it is a little hard to differentiate these results from NIQE."
   ]
  },
  {
   "cell_type": "code",
   "execution_count": null,
   "metadata": {},
   "outputs": [],
   "source": [
    "imgs = geotiff_to_ndarray(best_pi_results['tile_path'].to_list())\n",
    "plot_images(imgs, fig_size=1000, spacing=0.00, zmin=0, zmax=get_max_uint_from_bit_depth(11), stretch=True)"
   ]
  },
  {
   "cell_type": "markdown",
   "metadata": {},
   "source": [
    "## Worst Ma\n",
    "Clouds and sea without interesting structure."
   ]
  },
  {
   "cell_type": "code",
   "execution_count": null,
   "metadata": {},
   "outputs": [],
   "source": [
    "imgs = geotiff_to_ndarray(worst_ma_results['tile_path'].to_list())\n",
    "plot_images(imgs, fig_size=1000, spacing=0.00, zmin=0, zmax=get_max_uint_from_bit_depth(11), stretch=True)"
   ]
  },
  {
   "cell_type": "markdown",
   "metadata": {},
   "source": [
    "## Worst NIQE\n",
    "\n",
    "Similar results as for Ma"
   ]
  },
  {
   "cell_type": "code",
   "execution_count": null,
   "metadata": {},
   "outputs": [],
   "source": [
    "imgs = geotiff_to_ndarray(worst_niqe_results['tile_path'].to_list())\n",
    "plot_images(imgs, fig_size=1000, spacing=0.00, zmin=0, zmax=get_max_uint_from_bit_depth(11), stretch=True)"
   ]
  },
  {
   "cell_type": "markdown",
   "metadata": {},
   "source": [
    "## Worst Perceptual Index (PI)\n",
    "\n",
    "Similar to Ma and NIQE."
   ]
  },
  {
   "cell_type": "code",
   "execution_count": null,
   "metadata": {},
   "outputs": [],
   "source": [
    "imgs = geotiff_to_ndarray(worst_pi_results['tile_path'].to_list())\n",
    "plot_images(imgs, fig_size=1000, spacing=0.00, zmin=0, zmax=get_max_uint_from_bit_depth(11), stretch=True)"
   ]
  }
 ],
 "metadata": {
  "celltoolbar": "Raw Cell Format",
  "keep_output": false,
  "kernelspec": {
   "display_name": "Python 3",
   "language": "python",
   "name": "python3"
  },
  "language_info": {
   "codemirror_mode": {
    "name": "ipython",
    "version": 3
   },
   "file_extension": ".py",
   "mimetype": "text/x-python",
   "name": "python",
   "nbconvert_exporter": "python",
   "pygments_lexer": "ipython3",
   "version": "3.7.9"
  }
 },
 "nbformat": 4,
 "nbformat_minor": 4
}
