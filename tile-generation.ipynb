{
 "cells": [
  {
   "cell_type": "markdown",
   "metadata": {},
   "source": [
    "# Satellite imagery tile generation"
   ]
  },
  {
   "cell_type": "markdown",
   "metadata": {},
   "source": [
    "## Imports and setup"
   ]
  },
  {
   "cell_type": "code",
   "execution_count": null,
   "metadata": {},
   "outputs": [],
   "source": [
    "import numpy as np\n",
    "import random\n",
    "import pandas as pd\n",
    "import os\n",
    "import matplotlib.pyplot as plt\n",
    "import pathlib\n",
    "import rasterio\n",
    "import rasterio.plot\n",
    "import geopandas\n",
    "import pickle\n",
    "from collections import Counter\n",
    "\n",
    "import tensorflow as tf\n",
    "AUTOTUNE = tf.data.experimental.AUTOTUNE\n",
    "\n",
    "from modules.helpers import *\n",
    "from modules.tile_generator import *\n",
    "\n",
    "# Check GPUs:\",\n",
    "gpus = tf.config.experimental.list_physical_devices('GPU')\n",
    "if gpus:\n",
    "    try:\n",
    "        for gpu in gpus:\n",
    "            # Prevent TensorFlow from allocating all memory of all GPUs:\n",
    "            tf.config.experimental.set_memory_growth(gpu, True)\n",
    "        logical_gpus = tf.config.experimental.list_logical_devices('GPU')\n",
    "        print(len(gpus), \"Physical GPUs,\", len(logical_gpus), \"Logical GPUs\")\n",
    "    except RuntimeError as e:\n",
    "        print(e)"
   ]
  },
  {
   "cell_type": "code",
   "execution_count": null,
   "metadata": {},
   "outputs": [],
   "source": [
    "with open('metadata_df.pickle', 'rb') as file:\n",
    "    meta = pickle.load(file)\n",
    "    \n",
    "SENSORS = ['WV02']\n",
    "#SENSORS = ['WV03_VNIR']\n",
    "#SENSORS = ['GE01']\n",
    "    \n",
    "# Path to location where individual satellite images are located\n",
    "DATA_PATH = 'data/toulon-laspezia/' \n",
    "DATA_PATH_IS_RELATIVE = True\n",
    "DATA_PATH_RESIZED = 'data/toulon-laspezia-resized'\n",
    "DATA_PATH_TILES = 'data/toulon-laspezia-tiles-test/WV02'\n",
    "#DATA_PATH_TILES = 'data/toulon-laspezia-tiles-large/WV02'\n",
    "#DATA_PATH_TILES = 'data/toulon-laspezia-tiles/GE01'\n",
    "#DATA_PATH_TILES = 'data/toulon-laspezia-tiles-noseaclouds/WV02'\n",
    "DATA_PATH_TILES_TRAIN = str(DATA_PATH_TILES + '/train')\n",
    "DATA_PATH_TILES_VAL = str(DATA_PATH_TILES + '/val')\n",
    "DATA_PATH_TILES_TEST = str(DATA_PATH_TILES + '/test')\n",
    "\n",
    "AREAS = ['La_Spezia', 'Toulon']\n",
    "meta = meta.loc[meta['sensorVehicle'].isin(SENSORS)]\n",
    "meta = meta.loc[meta['area_name'].isin(AREAS)]\n",
    "\n",
    "N_IMAGES = len(meta.index)\n",
    "\n",
    "N_IMAGES_TRAIN = count_images_in_partition(meta, 'train')\n",
    "N_IMAGES_VAL = count_images_in_partition(meta, 'val')\n",
    "N_IMAGES_TEST = count_images_in_partition(meta, 'test')\n",
    "print(N_IMAGES_TRAIN, N_IMAGES_VAL, N_IMAGES_TEST)\n",
    "\n",
    "N_TILES_TRAIN = 50000\n",
    "#N_TILES_TRAIN = 0\n",
    "N_TILES_VAL = 10000\n",
    "N_TILES_TEST = 10000\n",
    "\n",
    "#PAN_WIDTH, PAN_HEIGHT = (1024, 1024)\n",
    "#PAN_WIDTH, PAN_HEIGHT = (384, 384)\n",
    "PAN_WIDTH, PAN_HEIGHT = (128, 128)\n",
    "PAN_PIXEL_WIDTH, PAN_PIXEL_HEIGHT = (0.5, 0.5)\n",
    "\n",
    "SR_FACTOR = 4\n",
    "MS_WIDTH, MS_HEIGHT = (int(PAN_WIDTH/SR_FACTOR), int(PAN_HEIGHT/SR_FACTOR))\n",
    "MS_PIXEL_WIDTH, MS_PIXEL_HEIGHT = (2.0, 2.0)\n",
    "\n",
    "RESIZE_TO_PIXEL_SIZE = False\n",
    "RESAMPLING_METHOD = 'nearest'\n",
    "\n",
    "# Should be derived automatically, but added here as a quick fix\n",
    "MS_BANDS = 8\n",
    "\n",
    "BATCH_SIZE = 16"
   ]
  },
  {
   "cell_type": "markdown",
   "metadata": {},
   "source": [
    "# Resizing images (if necessary)\n",
    "\n",
    "This is only relevant for images from sensors GE01 and WV03_VNIR as they have a varying pixel resolution. The following functions resizes the .tif files to a resolution that matches as exactly as possible (with float32 division) the pixel resolution of the WV02 sensor (ms resolution 2m, pan resolution 0.5m). By using `rasterio` the image georeferencing information is preserved through the process."
   ]
  },
  {
   "cell_type": "code",
   "execution_count": null,
   "metadata": {},
   "outputs": [],
   "source": [
    "if RESIZE_TO_PIXEL_SIZE:\n",
    "    resize_all_sat_imgs_to_new_pixel_size(meta, save_dir=DATA_PATH_RESIZED, \n",
    "                                          new_pixel_size_pan=(PAN_PIXEL_WIDTH, PAN_PIXEL_HEIGHT), \n",
    "                                          sr_factor=SR_FACTOR, resampling=RESAMPLING_METHOD)"
   ]
  },
  {
   "cell_type": "markdown",
   "metadata": {},
   "source": [
    "# Tile allocation\n",
    "\n",
    "The number of tiles from each satellite image is decided through a weighted sampling where the satellite image sizes are the weights. (More correctly the ratio between the size of the image of interest and the largest image are the weights). Some images only cover parts of the area of interest and this weighted sampling ensures that these smaller areas are not disproportionally represented during training, validation and/or testing."
   ]
  },
  {
   "cell_type": "code",
   "execution_count": null,
   "metadata": {},
   "outputs": [],
   "source": [
    "meta = allocating_tiles(meta, N_TILES_TRAIN, N_TILES_VAL, N_TILES_TEST)"
   ]
  },
  {
   "cell_type": "code",
   "execution_count": null,
   "metadata": {},
   "outputs": [],
   "source": [
    "meta.to_csv(str(DATA_PATH_TILES + '/metadata_tile_allocation.csv'))\n",
    "with open(str(DATA_PATH_TILES + '/metadata_tile_allocation.pickle'), 'wb') as file:\n",
    "    pickle.dump(meta, file)"
   ]
  },
  {
   "cell_type": "markdown",
   "metadata": {},
   "source": [
    "# Tile generation to disk\n",
    "\n",
    "Tiles are uniformly sampled from the satellite images and saved to disk as individual geotiffs, thus preserving the geospatial information. If the sampled tile includes border area pixels (pixels with value 0 in our case) the tile is discarded and a new tile is sampled."
   ]
  },
  {
   "cell_type": "code",
   "execution_count": null,
   "metadata": {},
   "outputs": [],
   "source": [
    "generate_all_tiles(meta, save_dir = DATA_PATH_TILES)"
   ]
  }
 ],
 "metadata": {
  "keep_output": false,
  "kernelspec": {
   "display_name": "Python 3",
   "language": "python",
   "name": "python3"
  },
  "language_info": {
   "codemirror_mode": {
    "name": "ipython",
    "version": 3
   },
   "file_extension": ".py",
   "mimetype": "text/x-python",
   "name": "python",
   "nbconvert_exporter": "python",
   "pygments_lexer": "ipython3",
   "version": "3.7.9"
  }
 },
 "nbformat": 4,
 "nbformat_minor": 4
}
