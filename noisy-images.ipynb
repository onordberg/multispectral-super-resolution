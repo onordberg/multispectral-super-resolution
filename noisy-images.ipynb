{
 "cells": [
  {
   "cell_type": "code",
   "execution_count": null,
   "metadata": {},
   "outputs": [],
   "source": [
    "import numpy as np\n",
    "import pathlib\n",
    "import rasterio\n",
    "import rasterio.plot\n",
    "import matplotlib.pyplot as plt\n",
    "#import PIL\n",
    "\n",
    "PATH_MS = 'data/noise-test/ms'\n",
    "PATH_PAN = 'data/noise-test/pan'"
   ]
  },
  {
   "cell_type": "code",
   "execution_count": null,
   "metadata": {},
   "outputs": [],
   "source": [
    "def decode_geotiff(image_path):\n",
    "    image_path = pathlib.Path(image_path)\n",
    "    with rasterio.open(image_path) as src:\n",
    "        img = src.read()\n",
    "    img = rasterio.plot.reshape_as_image(img) # from channels first to channels last\n",
    "    return img\n",
    "\n",
    "def stretch(image, individual_bands = True):\n",
    "    image_out = np.empty(image.shape)\n",
    "    if individual_bands:\n",
    "        for i in range(image.shape[2]):\n",
    "            image_out[:,:,i] = (image[:,:,i] - np.min(image[:,:,i])) / (np.max(image[:,:,i]) - np.min(image[:,:,i]))\n",
    "    else:\n",
    "        image_out = (image - np.min(image)) / (np.max(image) - np.min(image))\n",
    "    return image_out\n",
    "\n",
    "def ms_to_rgb(ms, sensor = 'WV02'):\n",
    "    if sensor == 'WV02':\n",
    "        rgb = [np.expand_dims(ms[:,:,4], -1), \n",
    "               np.expand_dims(ms[:,:,2], -1), \n",
    "               np.expand_dims(ms[:,:,1], -1)]\n",
    "    elif sensor == 'GE01':\n",
    "        rgb = [np.expand_dims(ms[:,:,2], -1), \n",
    "               np.expand_dims(ms[:,:,1], -1), \n",
    "               np.expand_dims(ms[:,:,0], -1)]\n",
    "    elif sensor == 'WV03_VNIR':\n",
    "        rgb = [np.expand_dims(ms[:,:,1], -1), \n",
    "               np.expand_dims(ms[:,:,2], -1), \n",
    "               np.expand_dims(ms[:,:,3], -1)]\n",
    "    else:\n",
    "        raise ValueError('Only WV02, GE01 and WV03_VNIR band configurations implemented') \n",
    "    \n",
    "    rgb = np.concatenate(rgb, axis = 2)\n",
    "    rgb = stretch(rgb)\n",
    "    return rgb"
   ]
  },
  {
   "cell_type": "code",
   "execution_count": null,
   "metadata": {},
   "outputs": [],
   "source": [
    "img_sea = decode_geotiff(str(PATH_MS + '/00009.tif'))\n",
    "img_sea_rgb = ms_to_rgb(img_sea)\n",
    "img_build = decode_geotiff(str(PATH_MS + '/00010.tif'))\n",
    "img_build_rgb = ms_to_rgb(img_build)\n",
    "\n",
    "img = decode_geotiff(str(PATH_PAN + '/00011.tif'))\n",
    "plt.imshow(img, cmap = 'gray')"
   ]
  },
  {
   "cell_type": "code",
   "execution_count": null,
   "metadata": {},
   "outputs": [],
   "source": [
    "plt.imshow(img_sea_rgb)"
   ]
  },
  {
   "cell_type": "code",
   "execution_count": null,
   "metadata": {},
   "outputs": [],
   "source": [
    "plt.imshow(img_build_rgb)"
   ]
  },
  {
   "cell_type": "code",
   "execution_count": null,
   "metadata": {},
   "outputs": [],
   "source": [
    "print(img_build.shape)\n",
    "img_build_fl = np.ndarray.flatten(img_build)\n",
    "print(img_build_fl.shape)\n",
    "print(img_sea.shape)\n",
    "img_sea_fl = np.ndarray.flatten(img_sea)\n",
    "print(img_sea_fl.shape)"
   ]
  },
  {
   "cell_type": "code",
   "execution_count": null,
   "metadata": {},
   "outputs": [],
   "source": [
    "plt.hist(img_build_fl)"
   ]
  },
  {
   "cell_type": "code",
   "execution_count": null,
   "metadata": {},
   "outputs": [],
   "source": [
    "plt.hist(img_sea_fl)"
   ]
  },
  {
   "cell_type": "code",
   "execution_count": null,
   "metadata": {},
   "outputs": [],
   "source": [
    "img_sea_fl"
   ]
  }
 ],
 "metadata": {
  "kernelspec": {
   "display_name": "env",
   "language": "python",
   "name": "env"
  },
  "language_info": {
   "codemirror_mode": {
    "name": "ipython",
    "version": 3
   },
   "file_extension": ".py",
   "mimetype": "text/x-python",
   "name": "python",
   "nbconvert_exporter": "python",
   "pygments_lexer": "ipython3",
   "version": "3.7.9"
  }
 },
 "nbformat": 4,
 "nbformat_minor": 4
}
