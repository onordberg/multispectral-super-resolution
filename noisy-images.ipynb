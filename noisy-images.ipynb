{
 "cells": [
  {
   "cell_type": "code",
   "execution_count": null,
   "metadata": {},
   "outputs": [],
   "source": [
    "import numpy as np\n",
    "import pathlib\n",
    "import rasterio\n",
    "import rasterio.plot\n",
    "import matplotlib.pyplot as plt\n",
    "import pathlib\n",
    "import random\n",
    "#import PIL\n",
    "\n",
    "PATH = 'data/toulon-laspezia-tiles/WV02'"
   ]
  },
  {
   "cell_type": "code",
   "execution_count": null,
   "metadata": {},
   "outputs": [],
   "source": [
    "def list_imgs(path):\n",
    "    p = pathlib.Path(PATH).glob('**/*.tif')\n",
    "    files = [x for x in p if x.is_file()]\n",
    "    ms_l, pan_l = [], []\n",
    "    for file in files:\n",
    "        if file.parent.stem == 'ms':\n",
    "            ms_l.append(file)\n",
    "        else:\n",
    "            pan_l.append(file)\n",
    "    return ms_l, pan_l"
   ]
  },
  {
   "cell_type": "code",
   "execution_count": null,
   "metadata": {},
   "outputs": [],
   "source": [
    "ms_l, pan_l = list_imgs(PATH)\n",
    "print(len(ms_l), len(pan_l))"
   ]
  },
  {
   "cell_type": "code",
   "execution_count": null,
   "metadata": {},
   "outputs": [],
   "source": [
    "def decode_geotiff(image_path):\n",
    "    if isinstance(image_path, str):\n",
    "        image_path = pathlib.Path(image_path)\n",
    "    with rasterio.open(image_path) as src:\n",
    "        img = src.read()\n",
    "    img = rasterio.plot.reshape_as_image(img) # from channels first to channels last\n",
    "    return img\n",
    "\n",
    "def stretch(image, individual_bands = True):\n",
    "    image_out = np.empty(image.shape)\n",
    "    if individual_bands:\n",
    "        for i in range(image.shape[2]):\n",
    "            image_out[:,:,i] = (image[:,:,i] - np.min(image[:,:,i])) / (np.max(image[:,:,i]) - np.min(image[:,:,i]))\n",
    "    else:\n",
    "        image_out = (image - np.min(image)) / (np.max(image) - np.min(image))\n",
    "    return image_out\n",
    "\n",
    "def ms_to_rgb(ms, sensor = 'WV02'):\n",
    "    if sensor == 'WV02':\n",
    "        rgb = [np.expand_dims(ms[:,:,4], -1), \n",
    "               np.expand_dims(ms[:,:,2], -1), \n",
    "               np.expand_dims(ms[:,:,1], -1)]\n",
    "    elif sensor == 'GE01':\n",
    "        rgb = [np.expand_dims(ms[:,:,2], -1), \n",
    "               np.expand_dims(ms[:,:,1], -1), \n",
    "               np.expand_dims(ms[:,:,0], -1)]\n",
    "    elif sensor == 'WV03_VNIR':\n",
    "        rgb = [np.expand_dims(ms[:,:,1], -1), \n",
    "               np.expand_dims(ms[:,:,2], -1), \n",
    "               np.expand_dims(ms[:,:,3], -1)]\n",
    "    else:\n",
    "        raise ValueError('Only WV02, GE01 and WV03_VNIR band configurations implemented') \n",
    "    \n",
    "    rgb = np.concatenate(rgb, axis = 2)\n",
    "    rgb = stretch(rgb)\n",
    "    return rgb\n",
    "\n",
    "def plot_image_pair(ms, pan):\n",
    "    fig, axs = plt.subplots(1, 2, constrained_layout = True, figsize = (12, 12))\n",
    "    axs[0].imshow(ms_to_rgb(ms))\n",
    "    axs[1].imshow(pan, cmap='gray')\n",
    "\n",
    "def plot_hist_img_pairs(ms, pan):\n",
    "    ms_flat = np.ndarray.flatten(ms)\n",
    "    pan_flat = np.ndarray.flatten(pan)\n",
    "    fig, axs = plt.subplots(2, 2, constrained_layout = True, figsize = (10, 10))\n",
    "    \n",
    "    axs[0,0].hist(ms_flat)\n",
    "    axs[0,0].set_title(str('ms - '+'mean:'+str(round(np.mean(ms_flat), 3)))+',  sd:'+str(round(np.std(ms_flat), 3)))\n",
    "    axs[0,1].hist(pan_flat)\n",
    "    axs[0,1].set_title(str('ms - '+'mean:'+str(round(np.mean(pan_flat), 3)))+',  sd:'+str(round(np.std(pan_flat), 3)))\n",
    "    axs[1,0].imshow(ms_to_rgb(ms))\n",
    "    axs[1,1].imshow(pan, cmap='gray')"
   ]
  },
  {
   "cell_type": "code",
   "execution_count": null,
   "metadata": {},
   "outputs": [],
   "source": [
    "def random_img_pair(ms_l, pan_l):\n",
    "    assert len(ms_l) == len(pan_l)\n",
    "    n = len(ms_l)\n",
    "    i = random.randint(0, n)\n",
    "    ms, pan = ms_l[i], pan_l[i]\n",
    "    ms = decode_geotiff(ms)\n",
    "    pan = decode_geotiff(pan)\n",
    "    return ms, pan\n",
    "\n",
    "ms, pan = random_img_pair(ms_l, pan_l)\n",
    "plot_hist_img_pairs(ms, pan)"
   ]
  },
  {
   "cell_type": "code",
   "execution_count": null,
   "metadata": {},
   "outputs": [],
   "source": []
  }
 ],
 "metadata": {
  "kernelspec": {
   "display_name": "env",
   "language": "python",
   "name": "env"
  },
  "language_info": {
   "codemirror_mode": {
    "name": "ipython",
    "version": 3
   },
   "file_extension": ".py",
   "mimetype": "text/x-python",
   "name": "python",
   "nbconvert_exporter": "python",
   "pygments_lexer": "ipython3",
   "version": "3.7.9"
  }
 },
 "nbformat": 4,
 "nbformat_minor": 4
}
