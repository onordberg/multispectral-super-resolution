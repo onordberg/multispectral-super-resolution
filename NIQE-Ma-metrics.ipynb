{
 "cells": [
  {
   "cell_type": "markdown",
   "metadata": {},
   "source": [
    "# NIQE and Ma et al. metrics study on satellite imagery\n",
    "\n",
    "In this notebook we will investigate how the tile size of satellite imagery affects [NIQE](https://ieeexplore.ieee.org/document/6353522) and [Ma et al.](https://www.sciencedirect.com/science/article/pii/S107731421630203X) (short form *Ma*) scores.\n",
    "\n",
    "We will generate random tile samples of varying size from two satellite sensors, WorldView-2 and GeoEye-1, and use an integration with MATLAB through the [MATLAB Engine API for Python](https://se.mathworks.com/help/matlab/matlab-engine-for-python.html) to evaluate *NIQE* and *Ma et al.* scores"
   ]
  },
  {
   "cell_type": "code",
   "execution_count": null,
   "metadata": {},
   "outputs": [],
   "source": [
    "import numpy as np\n",
    "import matplotlib.pyplot as plt\n",
    "import tensorflow as tf\n",
    "import time\n",
    "\n",
    "from modules.matlab_metrics import *\n",
    "from modules.image_utils import *\n",
    "from modules.helpers import *\n",
    "from modules.tile_generator import *"
   ]
  },
  {
   "cell_type": "code",
   "execution_count": null,
   "metadata": {},
   "outputs": [],
   "source": [
    "meta = load_meta_pickle_csv('.', 'metadata_df', from_pickle=True)\n",
    "\n",
    "SENSORS = ['WV02', 'GE01']\n",
    "AREAS = ['La_Spezia', 'Toulon']\n",
    "\n",
    "meta = subset_by_areas_sensor(meta, areas=AREAS, sensors=SENSORS)\n",
    "\n",
    "# Path to location where individual satellite images are located\n",
    "DATA_PATH = 'data/toulon-laspezia/' \n",
    "DATA_PATH_TILES = 'data/niqe-ma-study'\n",
    "\n",
    "N_IMAGES = count_images(meta)\n",
    "N_TILES = 100\n",
    "\n",
    "SR_FACTOR = 4\n",
    "MS_SIZES = [24, 32, 48, 64, 72, 96, 120, 128, 144, 160, 168, 192, 224, 256]\n",
    "PAN_SIZES = [size*SR_FACTOR for size in MS_SIZES]\n",
    "\n",
    "meta = allocate_tiles(meta, by_partition=False, n_tiles_total=N_TILES)}"
   ]
  },
  {
   "cell_type": "code",
   "execution_count": null,
   "metadata": {},
   "outputs": [],
   "source": [
    "tile_path = 'data/toulon-laspezia-tiles-large/WV02/train/WV02_La_Spezia_2012_01_10_011650582010_0/pan/00006.tif'\n",
    "tile_path = 'data/toulon-laspezia-tiles-noseaclouds/WV02/train/WV02_La_Spezia_2012_05_17_011650585010_0/pan/00006.tif'\n",
    "test_img = 'data/PIRM_dataset/Validation/Original/2.png'\n",
    "#test_img = 'data/test.png'\n",
    "n=2\n",
    "mu = 370.93775769104"
   ]
  },
  {
   "cell_type": "code",
   "execution_count": null,
   "metadata": {},
   "outputs": [],
   "source": [
    "img = geotiff_to_ndarray(tile_path)\n",
    "img[0,0,0] = 0\n",
    "img[1,1,0] = 2047\n",
    "mu = np.mean(img)\n",
    "print(img.dtype, np.min(img), np.max(img), np.mean(img))\n",
    "img_sc = input_scaler(img, radius=1.0, output_dtype='float32', uint_bit_depth=11,\n",
    "                      mean_correction=None, mean=0, print_ranges=True)\n",
    "print(img_sc.dtype, np.min(img_sc), np.max(img_sc), np.mean(img_sc), 'range:', np.max(img_sc)-np.min(img_sc))\n",
    "#img_unsc = output_scaler(img_sc, radius=1.0, output_dtype='uint16', uint_bit_depth=11,\n",
    "#                         mean_correction=True, mean=mu)\n",
    "#print(img_unsc.dtype, np.min(img_unsc), np.max(img_unsc), np.mean(img_unsc))\n",
    "plt.imshow(img_sc, cmap='gray')\n"
   ]
  },
  {
   "cell_type": "code",
   "execution_count": null,
   "metadata": {},
   "outputs": [],
   "source": [
    "plt.hist(np.ndarray.flatten(img))"
   ]
  },
  {
   "cell_type": "code",
   "execution_count": null,
   "metadata": {},
   "outputs": [],
   "source": [
    "plt.hist(np.ndarray.flatten(img_sc))"
   ]
  },
  {
   "cell_type": "raw",
   "metadata": {},
   "source": [
    "img = tf.io.read_file(test_img)\n",
    "img = tf.image.decode_png(img).numpy()\n",
    "print(img.shape)\n",
    "#img = img[:,:,:3]\n",
    "plt.imshow(img)\n",
    "img.shape\n",
    "#plt.hist(np.ndarray.flatten(img))\n"
   ]
  },
  {
   "cell_type": "code",
   "execution_count": null,
   "metadata": {},
   "outputs": [],
   "source": [
    "imgs = np.stack([img_sc]*n)\n",
    "imgs.shape\n",
    "#imgs = imgs.astype('uint8')\n",
    "#imgs.shape\n",
    "#imgs.dtype\n"
   ]
  },
  {
   "cell_type": "code",
   "execution_count": null,
   "metadata": {},
   "outputs": [],
   "source": [
    "matlab_engine = MatLabEngine('modules/matlab', ma=True, niqe=True, \n",
    "                             input_range=(-1,1), output_dtype='uint16', output_bit_depth=11,\n",
    "                             scale_mean=mu, stretch=False, shave_width=4)"
   ]
  },
  {
   "cell_type": "code",
   "execution_count": null,
   "metadata": {},
   "outputs": [],
   "source": [
    "tic = time.perf_counter()\n",
    "niqes = matlab_engine.matlab_niqe_metric(imgs)\n",
    "toc = time.perf_counter()\n",
    "print('niqe', niqes)\n",
    "print(toc-tic, 's')\n",
    "print((toc-tic)/n, 's per img')"
   ]
  },
  {
   "cell_type": "code",
   "execution_count": null,
   "metadata": {},
   "outputs": [],
   "source": [
    "tic = time.perf_counter()\n",
    "niqes = matlab_engine.skvideo_niqe_metric(imgs)\n",
    "toc = time.perf_counter()\n",
    "print('niqe', niqes)\n",
    "print(toc-tic, 's')\n",
    "print((toc-tic)/n, 's per img')"
   ]
  },
  {
   "cell_type": "code",
   "execution_count": null,
   "metadata": {},
   "outputs": [],
   "source": [
    "tic = time.perf_counter()\n",
    "ma = matlab_engine.matlab_ma_metric(imgs)\n",
    "toc = time.perf_counter()\n",
    "print('ma', ma)\n",
    "print(toc-tic, 's')\n",
    "print((toc-tic)/n, 's per img')"
   ]
  },
  {
   "cell_type": "code",
   "execution_count": null,
   "metadata": {},
   "outputs": [],
   "source": [
    "ma = tf.constant([0,1,2,3,4,5,6,7,8,9], dtype=tf.float32)\n",
    "tens = 10 * tf.ones_like(ma)\n",
    "tens"
   ]
  }
 ],
 "metadata": {
  "kernelspec": {
   "display_name": "env",
   "language": "python",
   "name": "env"
  },
  "language_info": {
   "codemirror_mode": {
    "name": "ipython",
    "version": 3
   },
   "file_extension": ".py",
   "mimetype": "text/x-python",
   "name": "python",
   "nbconvert_exporter": "python",
   "pygments_lexer": "ipython3",
   "version": "3.7.9"
  }
 },
 "nbformat": 4,
 "nbformat_minor": 4
}
