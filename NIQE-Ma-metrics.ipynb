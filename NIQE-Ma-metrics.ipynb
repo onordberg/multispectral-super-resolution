{
 "cells": [
  {
   "cell_type": "code",
   "execution_count": null,
   "metadata": {},
   "outputs": [],
   "source": [
    "from modules.matlab_metrics import *\n",
    "from modules.image_utils import *\n",
    "import numpy as np\n",
    "import matplotlib.pyplot as plt\n",
    "import tensorflow as tf\n",
    "import time\n",
    "\n",
    "tile_path = 'data/toulon-laspezia-tiles-noseaclouds/WV02/train/WV02_La_Spezia_2011_10_28_011650745010_0/pan/00011.tif'\n",
    "test_img = 'data/PIRM_dataset/Validation/Original/2.png'\n",
    "#test_img = 'data/test.png'\n",
    "n=10\n",
    "mu = 370.93775769104"
   ]
  },
  {
   "cell_type": "code",
   "execution_count": null,
   "metadata": {},
   "outputs": [],
   "source": [
    "img = geotiff_to_ndarray(tile_path)\n",
    "mu = np.mean(img)\n",
    "print(img.dtype, np.min(img), np.max(img), np.mean(img))\n",
    "img_sc = input_scaler(img, radius=1.0, output_dtype='float32', uint_bit_depth=11,\n",
    "                      mean_correction=True, mean=mu)\n",
    "print(img_sc.dtype, np.min(img_sc), np.max(img_sc), np.mean(img_sc))\n",
    "img_unsc = output_scaler(img_sc, radius=1.0, output_dtype='uint16', uint_bit_depth=11,\n",
    "                         mean_correction=True, mean=mu)\n",
    "print(img_unsc.dtype, np.min(img_unsc), np.max(img_unsc), np.mean(img_unsc))\n",
    "plt.imshow(img_sc, cmap='gray')"
   ]
  },
  {
   "cell_type": "raw",
   "metadata": {},
   "source": [
    "img = tf.io.read_file(test_img)\n",
    "img = tf.image.decode_png(img).numpy()\n",
    "print(img.shape)\n",
    "#img = img[:,:,:3]\n",
    "plt.imshow(img)\n",
    "img.shape\n",
    "#plt.hist(np.ndarray.flatten(img))\n"
   ]
  },
  {
   "cell_type": "code",
   "execution_count": null,
   "metadata": {},
   "outputs": [],
   "source": [
    "imgs = np.stack([img_sc]*n)\n",
    "imgs.shape\n",
    "#imgs = imgs.astype('uint8')\n",
    "#imgs.shape\n",
    "#imgs.dtype\n"
   ]
  },
  {
   "cell_type": "code",
   "execution_count": null,
   "metadata": {},
   "outputs": [],
   "source": [
    "matlab_engine = MatLabEngine('modules/matlab', ma=True, niqe=True, \n",
    "                             input_range=(-1,1), output_dtype='uint16', output_bit_depth=11,\n",
    "                             scale_mean=mu, stretch=False, shave_width=4)"
   ]
  },
  {
   "cell_type": "code",
   "execution_count": null,
   "metadata": {},
   "outputs": [],
   "source": [
    "tic = time.perf_counter()\n",
    "niqes = matlab_engine.matlab_niqe_metric(imgs)\n",
    "toc = time.perf_counter()\n",
    "print('niqe', niqes)\n",
    "print(toc-tic, 's')\n",
    "print((toc-tic)/n, 's per img')"
   ]
  },
  {
   "cell_type": "code",
   "execution_count": null,
   "metadata": {},
   "outputs": [],
   "source": [
    "tic = time.perf_counter()\n",
    "ma = matlab_engine.matlab_ma_metric(imgs)\n",
    "toc = time.perf_counter()\n",
    "print('ma', ma)\n",
    "print(toc-tic, 's')\n",
    "print((toc-tic)/n, 's per img')"
   ]
  },
  {
   "cell_type": "code",
   "execution_count": null,
   "metadata": {},
   "outputs": [],
   "source": [
    "a = tf.constant(0)\n",
    "type(a)\n",
    "a=2\n",
    "tf.is_tensor(a)"
   ]
  }
 ],
 "metadata": {
  "kernelspec": {
   "display_name": "env",
   "language": "python",
   "name": "env"
  },
  "language_info": {
   "codemirror_mode": {
    "name": "ipython",
    "version": 3
   },
   "file_extension": ".py",
   "mimetype": "text/x-python",
   "name": "python",
   "nbconvert_exporter": "python",
   "pygments_lexer": "ipython3",
   "version": "3.7.9"
  }
 },
 "nbformat": 4,
 "nbformat_minor": 4
}
