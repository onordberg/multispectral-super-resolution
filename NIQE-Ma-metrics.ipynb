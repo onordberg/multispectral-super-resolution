{
 "cells": [
  {
   "cell_type": "markdown",
   "metadata": {},
   "source": [
    "# NIQE and Ma et al. metrics study on satellite imagery\n",
    "\n",
    "In this notebook we will investigate how the tile size of satellite imagery affects [NIQE](https://ieeexplore.ieee.org/document/6353522) and [Ma et al.](https://www.sciencedirect.com/science/article/pii/S107731421630203X) (short form *Ma*) scores.\n",
    "\n",
    "We will generate random tile samples of varying size from two satellite sensors, WorldView-2 and GeoEye-1, and use an integration with MATLAB through the [MATLAB Engine API for Python](https://se.mathworks.com/help/matlab/matlab-engine-for-python.html) to evaluate *NIQE* and *Ma et al.* scores"
   ]
  },
  {
   "cell_type": "code",
   "execution_count": null,
   "metadata": {},
   "outputs": [],
   "source": [
    "import numpy as np\n",
    "import matplotlib.pyplot as plt\n",
    "import tensorflow as tf\n",
    "import time\n",
    "\n",
    "from modules.matlab_metrics import *\n",
    "from modules.image_utils import *\n",
    "from modules.helpers import *\n",
    "from modules.tile_generator import *"
   ]
  },
  {
   "cell_type": "code",
   "execution_count": null,
   "metadata": {},
   "outputs": [],
   "source": [
    "meta = load_meta_pickle_csv('.', 'metadata_df', from_pickle=True)\n",
    "\n",
    "SENSORS = ['WV02', 'GE01']\n",
    "AREAS = ['La_Spezia', 'Toulon']\n",
    "\n",
    "meta = subset_by_areas_sensor(meta, areas=AREAS, sensors=SENSORS)\n",
    "\n",
    "# Path to location where individual satellite images are located\n",
    "DATA_PATH = 'data/toulon-laspezia/' \n",
    "DATA_PATH_TILES = 'data/niqe-ma-study'\n",
    "\n",
    "N_IMAGES = count_images(meta)\n",
    "N_TILES = 5\n",
    "\n",
    "SR_FACTOR = 4\n",
    "MS_SIZES = [32, 48, 64, 72, 96, 120, 128, 144, 160, 168, 192, 224, 256]\n",
    "PAN_SIZES = [size*SR_FACTOR for size in MS_SIZES]\n",
    "PAN_AREAS = [size**2 for size in PAN_SIZES]\n",
    "PAN_N_TILES = [int(N_TILES*PAN_SIZES[-1]/pan_size) for pan_size in PAN_SIZES]\n",
    "[print(n_tiles) for n_tiles in PAN_N_TILES]\n",
    "\n",
    "CLOUD_SEA_REMOVAL = False\n",
    "\n",
    "BATCH_SIZE = 16"
   ]
  },
  {
   "cell_type": "code",
   "execution_count": null,
   "metadata": {},
   "outputs": [],
   "source": [
    "pan_size_dir_paths = []\n",
    "for i in range(len(MS_SIZES)):\n",
    "    meta = allocate_tiles(meta, by_partition=False, n_tiles_total=PAN_N_TILES[i])\n",
    "    ms_size = MS_SIZES[i]\n",
    "    pan_size = PAN_SIZES[i]\n",
    "    pan_size_dir_path = str(DATA_PATH_TILES+'/'+str(pan_size))\n",
    "    pan_size_dir_paths.append(pan_size_dir_path)\n",
    "    generate_all_tiles(meta, pan_size_dir_path, ms_height_width=[ms_size, ms_size], \n",
    "                       sr_factor=SR_FACTOR, save_by_partition=False,\n",
    "                       cloud_sea_removal=False,\n",
    "                       print_tile_info=False, save_meta_to_disk=True)"
   ]
  },
  {
   "cell_type": "code",
   "execution_count": null,
   "metadata": {},
   "outputs": [],
   "source": [
    "matlab_engine = MatLabEngine('modules/matlab', ma=True, niqe=True, \n",
    "                             output_dtype='uint16', shave_width=4)"
   ]
  },
  {
   "cell_type": "code",
   "execution_count": null,
   "metadata": {},
   "outputs": [],
   "source": [
    "results = pd.DataFrame()\n",
    "paths_all_tiles = [path.as_posix() for path in list_tiles_in_dir(DATA_PATH_TILES, ms_or_pan='pan')]\n",
    "results['tile_path'] = paths_all_tiles\n",
    "results.set_index('tile_path', inplace=True)\n",
    "results"
   ]
  },
  {
   "cell_type": "code",
   "execution_count": null,
   "metadata": {},
   "outputs": [],
   "source": [
    "for i, pan_size_dir_path in enumerate(pan_size_dir_paths):\n",
    "    tile_size = PAN_SIZES[i]\n",
    "    pan_geotiff_tile_paths = list_tiles_in_dir(pan_size_dir_path, ms_or_pan='pan')\n",
    "\n",
    "    pan_tiles = []\n",
    "    for pan_geotiff_tile_path in pan_geotiff_tile_paths:\n",
    "        pan_tile = geotiff_to_ndarray(pan_geotiff_tile_path)\n",
    "        pan_tiles.append(pan_tile)\n",
    "\n",
    "    for j in range(len(pan_tiles)):\n",
    "        niqes_ml, niqes_sk, mas = None, None, None\n",
    "        batch_range = slice(BATCH_SIZE*j, BATCH_SIZE*(j+1))\n",
    "        pan_tiles_batch = np.array(pan_tiles[batch_range])\n",
    "        if pan_tiles_batch.shape[0] == 0:\n",
    "            break\n",
    "\n",
    "        tile_paths_batch = pan_geotiff_tile_paths[batch_range]\n",
    "        \n",
    "        n_tiles = pan_tiles_batch.shape[0]\n",
    "        print('Tile size', tile_size, ', shape:', pan_tiles_batch.shape, ', batch:', j, \n",
    "              ', batch size:', n_tiles, ', shave width:', matlab_engine.shave_width)\n",
    "\n",
    "        tic = time.perf_counter()\n",
    "        niqes_ml = matlab_engine.matlab_niqe_metric(pan_tiles_batch)\n",
    "        toc = time.perf_counter()\n",
    "        niqe_ml_sec_per_tile = (toc-tic)/n_tiles\n",
    "        print('NIQE (matlab) mean:', np.mean(niqes_ml), ', sd:',  np.std(niqes_ml), \n",
    "              ', seconds per tile:', niqe_ml_sec_per_tile)\n",
    "        \n",
    "        if tile_size > 192:\n",
    "            tic = time.perf_counter()\n",
    "            niqes_sk = matlab_engine.skvideo_niqe_metric(pan_tiles_batch)\n",
    "            toc = time.perf_counter()\n",
    "            niqe_sk_sec_per_tile = (toc-tic)/n_tiles\n",
    "            print('NIQE (skvideo) mean:', np.mean(niqes_sk), ', sd:',  np.std(niqes_sk), \n",
    "                  ', seconds per tile:', niqe_sk_sec_per_tile)\n",
    "                            \n",
    "        tic = time.perf_counter()\n",
    "        mas = matlab_engine.matlab_ma_metric(pan_tiles_batch)\n",
    "        toc = time.perf_counter()\n",
    "        ma_sec_per_tile = (toc-tic)/n_tiles\n",
    "        print('Ma (matlab) mean:', np.mean(mas), ', sd:',  np.std(mas), \n",
    "              ', seconds per tile:', ma_sec_per_tile)\n",
    "        tile_paths_batch = [path.as_posix() for path in tile_paths_batch]\n",
    "        for i, tile_path in enumerate(tile_paths_batch):\n",
    "            try:\n",
    "                results.loc[tile_path, 'niqe_ml'] = niqes_ml[i]\n",
    "                results.loc[tile_path, 'niqe_ml_s_per_tile'] = niqe_ml_sec_per_tile\n",
    "            except TypeError:\n",
    "                pass\n",
    "            try:\n",
    "                results.loc[tile_path, 'niqe_sk'] = niqes_sk[i]\n",
    "                results.loc[tile_path, 'niqe_sk_s_per_tile'] = niqe_sk_sec_per_tile\n",
    "            except TypeError:\n",
    "                pass\n",
    "            try:\n",
    "                results.loc[tile_path, 'ma'] = mas[i]\n",
    "                results.loc[tile_path, 'ma_s_per_tile'] = ma_sec_per_tile\n",
    "            except TypeError:\n",
    "                pass\n",
    "\n",
    "    csv_path = pathlib.Path(DATA_PATH_TILES).joinpath('results-'+str(tile_size)+'.csv')\n",
    "    results.to_csv(csv_path)\n",
    "    print('Saved results dataframe as csv at', csv_path.as_posix())        "
   ]
  }
 ],
 "metadata": {
  "kernelspec": {
   "display_name": "env",
   "language": "python",
   "name": "env"
  },
  "language_info": {
   "codemirror_mode": {
    "name": "ipython",
    "version": 3
   },
   "file_extension": ".py",
   "mimetype": "text/x-python",
   "name": "python",
   "nbconvert_exporter": "python",
   "pygments_lexer": "ipython3",
   "version": "3.7.9"
  }
 },
 "nbformat": 4,
 "nbformat_minor": 4
}
