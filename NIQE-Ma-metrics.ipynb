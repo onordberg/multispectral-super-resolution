{
 "cells": [
  {
   "cell_type": "code",
   "execution_count": null,
   "metadata": {},
   "outputs": [],
   "source": [
    "from modules.matlab_metrics import *\n",
    "from modules.image_utils import *\n",
    "import matplotlib.pyplot as plt\n",
    "import tensorflow as tf\n",
    "import time\n",
    "\n",
    "tile_path = 'data/toulon-laspezia-tiles-noseaclouds/WV02/train/WV02_La_Spezia_2011_10_28_011650745010_0/pan/00011.tif'\n",
    "test_img = 'data/Image_created_with_a_mobile_phone.png'\n",
    "test_img = 'data/test.png'\n",
    "n=100"
   ]
  },
  {
   "cell_type": "code",
   "execution_count": null,
   "metadata": {},
   "outputs": [],
   "source": [
    "img = geotiff_to_ndarray(tile_path)\n",
    "plt.imshow(img, cmap='gray')\n",
    "np.max(img)\n",
    "#img = img/get_max_uint_from_bit_depth(11)\n",
    "img = img/np.max(img)\n",
    "img = img*255\n",
    "img = img.astype(int)\n",
    "#img = np.expand_dims(img, -1)\n",
    "np.max(img)\n",
    "#img[0,0,0]\n",
    "plt.imshow(img, cmap='gray')\n",
    "img.shape"
   ]
  },
  {
   "cell_type": "raw",
   "metadata": {},
   "source": [
    "img = tf.io.read_file(test_img)\n",
    "img = tf.image.decode_png(img).numpy()\n",
    "img = img[:,:,:3]\n",
    "plt.imshow(img)\n",
    "img.shape\n",
    "#plt.hist(np.ndarray.flatten(img))"
   ]
  },
  {
   "cell_type": "code",
   "execution_count": null,
   "metadata": {},
   "outputs": [],
   "source": [
    "imgs = np.stack([img]*n)\n",
    "imgs.shape"
   ]
  },
  {
   "cell_type": "code",
   "execution_count": null,
   "metadata": {},
   "outputs": [],
   "source": [
    "matlab_engine = MatLabEngine('modules/matlab', ma=False, niqe=True)"
   ]
  },
  {
   "cell_type": "code",
   "execution_count": null,
   "metadata": {},
   "outputs": [],
   "source": [
    "tic = time.perf_counter()\n",
    "niqes = matlab_engine.matlab_niqe_metric(imgs)\n",
    "toc = time.perf_counter()\n",
    "print('niqe', niqes)\n",
    "print(toc-tic, 's')\n",
    "print((toc-tic)/n, 's per img')"
   ]
  },
  {
   "cell_type": "code",
   "execution_count": null,
   "metadata": {},
   "outputs": [],
   "source": [
    "type(niqes)"
   ]
  },
  {
   "cell_type": "code",
   "execution_count": null,
   "metadata": {},
   "outputs": [],
   "source": [
    "niqes_l = list(niqes._data)\n",
    "niqes_l[0]"
   ]
  }
 ],
 "metadata": {
  "kernelspec": {
   "display_name": "env",
   "language": "python",
   "name": "env"
  },
  "language_info": {
   "codemirror_mode": {
    "name": "ipython",
    "version": 3
   },
   "file_extension": ".py",
   "mimetype": "text/x-python",
   "name": "python",
   "nbconvert_exporter": "python",
   "pygments_lexer": "ipython3",
   "version": "3.7.9"
  }
 },
 "nbformat": 4,
 "nbformat_minor": 4
}
