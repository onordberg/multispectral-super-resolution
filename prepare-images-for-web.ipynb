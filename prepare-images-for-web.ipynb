{
 "cells": [
  {
   "cell_type": "code",
   "execution_count": 1,
   "metadata": {},
   "outputs": [],
   "source": [
    "import rasterio\n",
    "import pandas as pd\n",
    "import plotly.express as px\n",
    "import matplotlib.pyplot as plt\n",
    "import pathlib\n",
    "import mbtiles\n",
    "import gdal\n",
    "\n",
    "from modules.helpers import *\n",
    "from modules.image_utils import ms_to_rgb, stretch_img"
   ]
  },
  {
   "cell_type": "code",
   "execution_count": 2,
   "metadata": {},
   "outputs": [],
   "source": [
    "meta = load_meta_pickle_csv('.', 'metadata_df', from_pickle=True)\n",
    "OUTPUT_DIR = 'data/toulon-laspezia-web'"
   ]
  },
  {
   "cell_type": "code",
   "execution_count": 3,
   "metadata": {},
   "outputs": [
    {
     "data": {
      "text/plain": [
       "<osgeo.gdal.Dataset; proxy of <Swig Object of type 'GDALDatasetShadow *' at 0x000002759BF99AE0> >"
      ]
     },
     "execution_count": 3,
     "metadata": {},
     "output_type": "execute_result"
    }
   ],
   "source": [
    "ds = gdal.Open(OUTPUT_DIR + '/GE01_La_Spezia_2011_01_24_011651197010_0_MS.tif')\n",
    "ds\n",
    "kwargs = {'-co TILE_FORMAT': 'PNG'}\n",
    "options = \"-co TILE_FORMAT=PNG -co ZOOM_LEVEL_STRATEGY=UPPER\"\n",
    "#options = \"-co TILE_FORMAT=PNG\"\n",
    "gdal.Translate(OUTPUT_DIR + '/test2.gpkg', ds, options=options)"
   ]
  },
  {
   "cell_type": "code",
   "execution_count": null,
   "metadata": {},
   "outputs": [],
   "source": [
    "pan_path = meta.loc['GE01_La_Spezia_2011_01_24_011651197010_0', 'pan_tif_path']\n",
    "ms_path = meta.loc['GE01_La_Spezia_2011_01_24_011651197010_0', 'ms_tif_path']"
   ]
  },
  {
   "cell_type": "code",
   "execution_count": null,
   "metadata": {},
   "outputs": [],
   "source": [
    "def trim_img(img, percentile):\n",
    "    cutoff_top = np.percentile(img, 100 - percentile)\n",
    "    cutoff_bottom = np.percentile(img, percentile)\n",
    "    print(cutoff_bottom, cutoff_top)\n",
    "    img[img > cutoff_top] = cutoff_top\n",
    "    img[img < cutoff_bottom] = cutoff_bottom\n",
    "    print(np.min(img), np.max(img))\n",
    "    img = stretch_img(img, individual_bands=False)\n",
    "    img *= 255\n",
    "    print(np.min(img), np.max(img))\n",
    "    return img\n",
    "\n",
    "def geotiff_11_to_8(path_in, path_out, ms_or_pan, sensor='GE01'):\n",
    "    if isinstance(path_in, str):\n",
    "        path_in = pathlib.Path(path_in)\n",
    "    if isinstance(path_in, str):\n",
    "        path_out = pathlib.Path(path_out)\n",
    "        \n",
    "    with rasterio.open(path_in, 'r') as src:\n",
    "        profile = src.profile\n",
    "        profile['dtype'] = 'uint8'\n",
    "        #print(profile)\n",
    "        img = src.read()\n",
    "        img = rasterio.plot.reshape_as_image(img)\n",
    "        if ms_or_pan == 'ms':\n",
    "            img = ms_to_rgb(img, sensor=sensor)\n",
    "            profile['count'] = 3\n",
    "        img = img / 2047\n",
    "        img *= 255\n",
    "        print(img.shape)\n",
    "        img = trim_img(img, 0.5)\n",
    "        print(img.shape)\n",
    "        img = img.astype(np.uint8)\n",
    "        img = rasterio.plot.reshape_as_raster(img)\n",
    "        with rasterio.open(path_out, 'w', **profile) as dst:\n",
    "            dst.write(img)\n",
    "    return img"
   ]
  },
  {
   "cell_type": "code",
   "execution_count": null,
   "metadata": {},
   "outputs": [],
   "source": [
    "pan_img = geotiff_11_to_8(\n",
    "    path_in=pan_path, \n",
    "    path_out=OUTPUT_DIR + '/GE01_La_Spezia_2011_01_24_011651197010_0_PAN.tif',\n",
    "    ms_or_pan='pan')\n",
    "ms_img = geotiff_11_to_8(\n",
    "    path_in=ms_path, \n",
    "    path_out=OUTPUT_DIR + '/GE01_La_Spezia_2011_01_24_011651197010_0_MS.tif', \n",
    "    ms_or_pan='ms', \n",
    "    sensor='GE01')"
   ]
  },
  {
   "cell_type": "code",
   "execution_count": null,
   "metadata": {},
   "outputs": [],
   "source": [
    "plt.hist(ms_img.flatten(), bins=50)"
   ]
  },
  {
   "cell_type": "code",
   "execution_count": null,
   "metadata": {},
   "outputs": [],
   "source": [
    "plt.hist(pan_img.flatten(), bins=50)"
   ]
  },
  {
   "cell_type": "code",
   "execution_count": null,
   "metadata": {},
   "outputs": [],
   "source": [
    "px.histogram(pan_img.flatten())"
   ]
  },
  {
   "cell_type": "code",
   "execution_count": null,
   "metadata": {},
   "outputs": [],
   "source": []
  }
 ],
 "metadata": {
  "kernelspec": {
   "display_name": "Python 3",
   "language": "python",
   "name": "python3"
  },
  "language_info": {
   "codemirror_mode": {
    "name": "ipython",
    "version": 3
   },
   "file_extension": ".py",
   "mimetype": "text/x-python",
   "name": "python",
   "nbconvert_exporter": "python",
   "pygments_lexer": "ipython3",
   "version": "3.7.9"
  }
 },
 "nbformat": 4,
 "nbformat_minor": 4
}
