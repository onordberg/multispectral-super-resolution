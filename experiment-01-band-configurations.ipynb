{
 "cells": [
  {
   "cell_type": "markdown",
   "metadata": {},
   "source": [
    "# Experiment 01: Band configurations\n",
    "\n",
    "In this experiment we will study how different band configurations affect the training process and end results.\n",
    "\n",
    "Configurations:\n",
    "\n",
    "- E01-8: All 8 MS WorldView-2 bands is used.\n",
    "- E01-6: The 6 MS WorldView-2 bands that overlap the PAN band (RGB+Y+RedEdge+NIR1)\n",
    "- E01-4: The 4 MS WorldView-2 bands that are also available in GeoEye-1 (MS1 array RGB+NIR1)\n",
    " - In this variation we will also validate performance on the GeoEye-1 validation set\n",
    "- E01-3: Only the 3 RGB bands from WorldView-2\n",
    " - Also validated on the GeoEye-1 validation set"
   ]
  },
  {
   "cell_type": "code",
   "execution_count": null,
   "metadata": {},
   "outputs": [],
   "source": [
    "import tensorflow as tf\n",
    "\n",
    "from modules.helpers import *\n",
    "from modules.tile_generator import *\n",
    "from modules.matlab_metrics import *\n",
    "from modules.image_utils import *\n",
    "\n",
    "# Check GPUs:\",\n",
    "gpus = tf.config.experimental.list_physical_devices('GPU')\n",
    "if gpus:\n",
    "    try:\n",
    "        for gpu in gpus:\n",
    "            # Prevent TensorFlow from allocating all memory of all GPUs:\n",
    "            tf.config.experimental.set_memory_growth(gpu, True)\n",
    "        logical_gpus = tf.config.experimental.list_logical_devices('GPU')\n",
    "        print(len(gpus), \"Physical GPUs,\", len(logical_gpus), \"Logical GPUs\")\n",
    "    except RuntimeError as e:\n",
    "        print(e)"
   ]
  },
  {
   "cell_type": "code",
   "execution_count": null,
   "metadata": {},
   "outputs": [],
   "source": [
    "# Load metadata dataframe from repository root\n",
    "meta = load_meta_pickle_csv('.', 'metadata_df', from_pickle=True)\n",
    "\n",
    "# Paths\n",
    "DATA_PATH = 'data/toulon-laspezia'\n",
    "DATA_PATH_TILES = 'data/toulon-laspezia-tiles/e01'\n",
    "\n",
    "# Subset by sensor and area\n",
    "SENSORS = ['WV02', 'GE01']\n",
    "AREAS = ['La_Spezia', 'Toulon']\n",
    "meta = subset_by_areas_sensor(meta, areas=AREAS, sensors=SENSORS)\n",
    "print('Sensors:', SENSORS)\n",
    "print('Areas:', AREAS)\n",
    "\n",
    "# Count images in partitions\n",
    "N_IMAGES_TOTAL = count_images(meta)\n",
    "N_IMAGES = {'train': count_images_in_partition(meta, 'train'), \n",
    "            'val': count_images_in_partition(meta, 'val'), \n",
    "            'test': count_images_in_partition(meta, 'test')}\n",
    "assert N_IMAGES_TOTAL == sum(N_IMAGES.values())  # Verify that different ways of counting adds up\n",
    "print('Number of images in partitions', N_IMAGES)\n",
    "print('Total number of images:', N_IMAGES_TOTAL)\n",
    "\n",
    "# Set tile dimensions\n",
    "SR_FACTOR = 4\n",
    "MS_SIZE_TRAIN = 32\n",
    "PAN_SIZE_TRAIN = MS_SIZE_TRAIN * SR_FACTOR\n",
    "print('MS (LR) tile size:', MS_SIZE_TRAIN, 'x', MS_SIZE_TRAIN,  '(training set)')\n",
    "print('PAN (HR) tile size:', PAN_SIZE_TRAIN, 'x', PAN_SIZE_TRAIN,  '(training set)')\n",
    "\n",
    "MS_SIZE_VAL = 128\n",
    "PAN_SIZE_VAL = MS_SIZE_VAL * SR_FACTOR\n",
    "print('MS (LR) tile size:', MS_SIZE_VAL, 'x', MS_SIZE_VAL,  '(validation set)')\n",
    "print('PAN (HR) tile size:', PAN_SIZE_VAL, 'x', PAN_SIZE_VAL,  '(validation set)')\n",
    "\n",
    "# Band (channel) configurations:\n",
    "PAN_BANDS = 1\n",
    "\n",
    "\n",
    "CLOUD_SEA_REMOVAL = True\n",
    "\n",
    "\n",
    "\n",
    "BATCH_SIZE_TRAIN = 16\n",
    "BATCH_SIZE_VAL = 8\n",
    "\n",
    "SHAVE_WIDTH = 4\n",
    "MATLAB_PATH = 'modules/matlab'"
   ]
  },
  {
   "cell_type": "code",
   "execution_count": null,
   "metadata": {},
   "outputs": [],
   "source": [
    "wv02 = get_sensor_band_config('WV02', meta)\n",
    "ge01 = get_sensor_band_config('GE01', meta)"
   ]
  },
  {
   "cell_type": "code",
   "execution_count": null,
   "metadata": {},
   "outputs": [],
   "source": [
    "wv02"
   ]
  }
 ],
 "metadata": {
  "kernelspec": {
   "display_name": "env",
   "language": "python",
   "name": "env"
  },
  "language_info": {
   "codemirror_mode": {
    "name": "ipython",
    "version": 3
   },
   "file_extension": ".py",
   "mimetype": "text/x-python",
   "name": "python",
   "nbconvert_exporter": "python",
   "pygments_lexer": "ipython3",
   "version": "3.7.9"
  }
 },
 "nbformat": 4,
 "nbformat_minor": 4
}
