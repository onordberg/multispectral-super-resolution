{
 "cells": [
  {
   "cell_type": "markdown",
   "metadata": {},
   "source": [
    "# Experiment 01: Band configurations\n",
    "\n",
    "In this experiment we will study how different band configurations affect the training process and end results.\n",
    "\n",
    "### Experiment variations:\n",
    "\n",
    "- E01-8: All 8 MS WorldView-2 bands is used.\n",
    "- E01-6: The 6 MS WorldView-2 bands that overlap the PAN band (RGB+Y+RedEdge+NIR1)\n",
    "- E01-4: The 4 MS WorldView-2 bands that are also available in GeoEye-1 (MS1 array RGB+NIR1)\n",
    " - In this variation we will also validate performance on the GeoEye-1 validation set\n",
    "- E01-3: Only the 3 RGB bands from WorldView-2\n",
    " - Also validated on the GeoEye-1 validation set\n",
    " \n",
    "### The notebook is divided into the following main sections:\n",
    "1. Imports and configuration parameters\n",
    "2. Tile generation (sampling of tiles from the satellite images)\n",
    "3. Building of models and tile input pipelines (`tf.dataset` objects reading tiles from disk)\n",
    "4. Pretraining with L1 loss\n",
    "5. GAN-training with L1 + Percep + GAN loss\n",
    "6. Inspection of results\n",
    "\n",
    "Training history is logged with TensorBoard."
   ]
  },
  {
   "cell_type": "markdown",
   "metadata": {},
   "source": [
    "## 1. Imports and config"
   ]
  },
  {
   "cell_type": "code",
   "execution_count": null,
   "metadata": {},
   "outputs": [],
   "source": [
    "import tensorflow as tf\n",
    "\n",
    "# Internal modules\n",
    "from modules.helpers import *\n",
    "from modules.tile_generator import *\n",
    "from modules.matlab_metrics import *\n",
    "from modules.image_utils import *\n",
    "\n",
    "# Check GPUs and enable dynamic GPU memory use:\",\n",
    "gpus = tf.config.experimental.list_physical_devices('GPU')\n",
    "if gpus:\n",
    "    try:\n",
    "        for gpu in gpus:\n",
    "            # Prevent TensorFlow from allocating all memory of all GPUs:\n",
    "            tf.config.experimental.set_memory_growth(gpu, True)\n",
    "        logical_gpus = tf.config.experimental.list_logical_devices('GPU')\n",
    "        print(len(gpus), \"Physical GPUs,\", len(logical_gpus), \"Logical GPUs\")\n",
    "    except RuntimeError as e:\n",
    "        print(e)\n",
    "\n",
    "pd.set_option('display.max_rows', None)\n",
    "pd.set_option('display.max_columns', None)"
   ]
  },
  {
   "cell_type": "code",
   "execution_count": null,
   "metadata": {},
   "outputs": [],
   "source": [
    "EXPERIMENT_NAMES = ['e01-8', 'e01-6', 'e01-4', 'e01-3']\n",
    "EXPERIMENT = EXPERIMENT_NAMES[0]\n",
    "\n",
    "# Load metadata dataframe from repository root\n",
    "meta = load_meta_pickle_csv('.', 'metadata_df', from_pickle=True)\n",
    "\n",
    "# Paths\n",
    "DATA_PATH = 'data/toulon-laspezia'\n",
    "DATA_PATH_TILES = 'data/toulon-laspezia-tiles/e01'\n",
    "\n",
    "# Subset by sensor and area\n",
    "SENSORS_GENERATE = ['WV02', 'GE01']\n",
    "AREAS_GENERATE = ['La_Spezia', 'Toulon']\n",
    "meta = subset_by_areas_sensor(meta, areas=AREAS_GENERATE, sensors=SENSORS_GENERATE)\n",
    "print('Sensors to generate tiles from:', SENSORS_GENERATE)\n",
    "print('Areas to generate tiles from:', AREAS_GENERATE)\n",
    "\n",
    "# Count images in partitions\n",
    "N_IMAGES_TOTAL = count_images(meta)\n",
    "N_IMAGES = {'train': count_images_in_partition(meta, 'train'), \n",
    "            'val': count_images_in_partition(meta, 'val'), \n",
    "            'test': count_images_in_partition(meta, 'test')}\n",
    "assert N_IMAGES_TOTAL == sum(N_IMAGES.values())  # Verify that different ways of counting adds up\n",
    "print('Number of images in partitions', N_IMAGES)\n",
    "print('Total number of images:', N_IMAGES_TOTAL)\n",
    "\n",
    "# Sensors used in which experiment variation\n",
    "SENSORS_EXP = {'e01-8': {'train': 'WV02', 'val': 'WV02', 'test': 'WV02'}, \n",
    "               'e01-6': {'train': 'WV02', 'val': 'WV02', 'test': 'WV02'}, \n",
    "               'e01-4': {'train': 'WV02', 'val': ['WV02', 'GE01'], 'test': ['WV02', 'GE01']}, \n",
    "               'e01-3': {'train': 'WV02', 'val': ['WV02', 'GE01'], 'test': ['WV02', 'GE01']}}\n",
    "SENSORS = SENSORS_EXP[EXPERIMENT]\n",
    "\n",
    "# Areas used in which experiment variation\n",
    "AREAS_EXP = {'e01-8': {'train': AREAS_GENERATE, 'val': AREAS_GENERATE, 'test': AREAS_GENERATE}, \n",
    "             'e01-6': {'train': AREAS_GENERATE, 'val': AREAS_GENERATE, 'test': AREAS_GENERATE}, \n",
    "             'e01-4': {'train': AREAS_GENERATE, 'val': AREAS_GENERATE, 'test': AREAS_GENERATE}, \n",
    "             'e01-3': {'train': AREAS_GENERATE, 'val': AREAS_GENERATE, 'test': AREAS_GENERATE}}\n",
    "AREAS = AREAS_EXP[EXPERIMENT]\n",
    "\n",
    "\n",
    "# Set tile dimensions\n",
    "SR_FACTOR = 4\n",
    "MS_SIZE_TRAIN = 32\n",
    "PAN_SIZE_TRAIN = MS_SIZE_TRAIN * SR_FACTOR\n",
    "print('MS (LR) tile size:', MS_SIZE_TRAIN, 'x', MS_SIZE_TRAIN,  '(training set)')\n",
    "print('PAN (HR) tile size:', PAN_SIZE_TRAIN, 'x', PAN_SIZE_TRAIN,  '(training set)')\n",
    "\n",
    "MS_SIZE_VAL = 128\n",
    "PAN_SIZE_VAL = MS_SIZE_VAL * SR_FACTOR\n",
    "print('MS (LR) tile size:', MS_SIZE_VAL, 'x', MS_SIZE_VAL,  '(validation set)')\n",
    "print('PAN (HR) tile size:', PAN_SIZE_VAL, 'x', PAN_SIZE_VAL,  '(validation set)')\n",
    "\n",
    "# Band (channel) configurations:\n",
    "N_PAN_BANDS = 1\n",
    "\n",
    "WV02_FULL_BAND_CONFIG = get_sensor_bands('WV02', meta)\n",
    "WV02_EXP_BAND_CONFIGS = {'e01-8': WV02_FULL_BAND_CONFIG, \n",
    "                        'e01-6': {k:v for (k,v) in WV02_FULL_BAND_CONFIG.items() if k not in ['Coastal', 'NIR2']}, \n",
    "                        'e01-4': {k:v for (k,v) in WV02_FULL_BAND_CONFIG.items() if k in ['Blue', 'Green', 'Red', 'NIR']},\n",
    "                        'e01-3': {k:v for (k,v) in WV02_FULL_BAND_CONFIG.items() if k in ['Blue', 'Green', 'Red']}}\n",
    "MS_BANDS_WV02_CONFIG = WV02_EXP_BAND_CONFIGS[EXPERIMENT]\n",
    "MS_BANDS_WV02_IDXS = list(MS_BANDS_WV02_CONFIG.values())\n",
    "\n",
    "GE01_FULL_BAND_CONFIG = get_sensor_bands('GE01', meta)\n",
    "GE01_EXP_BAND_CONFIGS = {'e01-8': {None: None}, \n",
    "                        'e01-6': {None: None}, \n",
    "                        'e01-4': GE01_FULL_BAND_CONFIG, \n",
    "                        'e01-3': {k:v for (k,v) in GE01_FULL_BAND_CONFIG.items() if k not in ['NIR']}}\n",
    "MS_BANDS_GE01_CONFIG = GE01_EXP_BAND_CONFIGS[EXPERIMENT]\n",
    "MS_BANDS_GE01_IDXS = list(MS_BANDS_GE01_CONFIG.values())\n",
    "print('MS (LR) Band Config WV02:', MS_BANDS_WV02_CONFIG)\n",
    "print('MS (LR) Band Config GE01:', MS_BANDS_GE01_CONFIG)\n",
    "\n",
    "TILES_PER_M2 = {'train': 1.0, \n",
    "                'val': 1.0, \n",
    "                'test': 1.0}\n",
    "\n",
    "\n",
    "RESIZE_TO_PIXEL_SIZE = False\n",
    "RESIZE_RESAMPLING_METHOD = 'nearest'  # 'nearest', 'bicubic', 'bilinear'\n",
    "\n",
    "CLOUD_SEA_REMOVAL = True\n",
    "\n",
    "BATCH_SIZE_TRAIN = 16\n",
    "BATCH_SIZE_VAL = 8\n",
    "\n",
    "SHAVE_WIDTH = 4\n",
    "MATLAB_PATH = 'modules/matlab'\n",
    "MS_BANDS_GE01_CONFIG"
   ]
  },
  {
   "cell_type": "markdown",
   "metadata": {},
   "source": [
    "## 2. Tile generation"
   ]
  },
  {
   "cell_type": "markdown",
   "metadata": {},
   "source": [
    "### 2.1 Tile allocation\n",
    "\n",
    "We allocate `n_tiles` to each satellite image in proportion to the area covered by the satellite image. We adjust `n_tiles` by the argument `tiles_per_m2`. If `tiles_per_m2=1.0` then `n_tiles` is set deterministically to a value so that a square meter of satellite image is expected to be covered by `1.0` tile."
   ]
  },
  {
   "cell_type": "code",
   "execution_count": null,
   "metadata": {},
   "outputs": [],
   "source": [
    "meta = allocate_tiles_by_expected(meta, pan_tile_size=128, tiles_per_m2=1.0, override_pan_pixel_size=False,\n",
    "                                  by_partition=True, train_val_test_tiles_per_m2=(1.0, 1.0, 1.0),\n",
    "                                  new_column_name='n_tiles')\n",
    "meta\n",
    "n_tiles = {'train': count_tiles_in_partition(meta, 'train'),\n",
    "           'val': count_tiles_in_partition(meta, 'val'), \n",
    "           'test':  count_tiles_in_partition(meta, 'test')}\n",
    "n_tiles_total = count_tiles(meta)\n",
    "assert n_tiles_total == sum(n_tiles.values())\n",
    "\n",
    "print(n_tiles)\n",
    "print('Total number of tiles:', n_tiles_total)"
   ]
  },
  {
   "cell_type": "code",
   "execution_count": null,
   "metadata": {},
   "outputs": [],
   "source": [
    "pd.testing.assert_series_equal(meta['pan_pixelHeight'], meta['pan_pixelWidth'], check_names=False)"
   ]
  },
  {
   "cell_type": "code",
   "execution_count": null,
   "metadata": {},
   "outputs": [],
   "source": [
    "counts_df = pd.DataFrame(index=meta.index)\n",
    "counts_df['train_val_test'] = meta.loc[:, 'train_val_test']\n",
    "counts_df"
   ]
  },
  {
   "cell_type": "code",
   "execution_count": null,
   "metadata": {},
   "outputs": [],
   "source": [
    "generate_all_tiles(meta, save_dir, ms_height_width=(32,32), sr_factor=4, save_by_partition=True,\n",
    "                       cloud_sea_removal=True, cloud_sea_weights_path=None, cloud_sea_pred_cutoff=0.90,\n",
    "                       print_tile_info=False, save_meta_to_disk=True)"
   ]
  },
  {
   "cell_type": "code",
   "execution_count": null,
   "metadata": {},
   "outputs": [],
   "source": []
  }
 ],
 "metadata": {
  "kernelspec": {
   "display_name": "env",
   "language": "python",
   "name": "env"
  },
  "language_info": {
   "codemirror_mode": {
    "name": "ipython",
    "version": 3
   },
   "file_extension": ".py",
   "mimetype": "text/x-python",
   "name": "python",
   "nbconvert_exporter": "python",
   "pygments_lexer": "ipython3",
   "version": "3.7.9"
  }
 },
 "nbformat": 4,
 "nbformat_minor": 4
}
