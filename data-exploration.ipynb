{
 "cells": [
  {
   "cell_type": "markdown",
   "metadata": {},
   "source": [
    "# Data exploration and descriptive statistics of satellite imagery\n",
    "\n",
    "This jupyter notebook will parse, collate and analyze satellite imagery files from Maxar (former DigitalGlobe) The parsing of the metadata files (`DeliveryMetadata.xml`) are mainly general and should work for any Maxar product delivery. After parsing of the metadata files are converted to pandas dataframes the code is mainly project specific."
   ]
  },
  {
   "cell_type": "markdown",
   "metadata": {},
   "source": [
    "## Imports and setup"
   ]
  },
  {
   "cell_type": "code",
   "execution_count": null,
   "metadata": {},
   "outputs": [],
   "source": [
    "import numpy as np\n",
    "import pandas as pd\n",
    "import os\n",
    "from modules.metadata_reader import img_metadata_to_dict, add_names_to_metadata_dict, dict_to_df\n",
    "\n",
    "# Path to location where individual satellite images are located\n",
    "DATA_PATH = '/media/landet/Data/master/data/' \n",
    "\n",
    "# Name of metadata .xml file\n",
    "METADATA_NAME = 'DeliveryMetadata.xml'\n",
    "\n",
    "# Names of areas covered by satellite imagery\n",
    "AREAS = ['La_Spezia', 'Toulon'] # Spelled like the directory names\n",
    "\n",
    "# Speficy what the xmlns url on top of metadata .xml file is\n",
    "# (should be second line)\n",
    "XMLNS = 'http://xsd.digitalglobe.com/xsd/dm'"
   ]
  },
  {
   "cell_type": "markdown",
   "metadata": {},
   "source": [
    "## Metadata parsing from xml to dictionary\n",
    "\n",
    "Every satellite image delivery from Maxar contains a `DeliveryMetadata.xml` file with important specifications for both the multispectral and panchromatic images. The following functions finds all the `DeliveryMetadata.xml` files contained in all subdirectories of a directory and parses them into the *Pandas DataFrame* format which will be used for further descriptive statistics of the dataset."
   ]
  },
  {
   "cell_type": "markdown",
   "metadata": {},
   "source": [
    "### Functions\n",
    "*TODO: Consider storing these in a .py file instead of in the notebook*"
   ]
  },
  {
   "cell_type": "code",
   "execution_count": null,
   "metadata": {},
   "outputs": [],
   "source": [
    "def remove_xmlns(string, xmlns):\n",
    "    \"\"\"Removes a specified xmlns url from a string.\"\"\"\n",
    "    output = string.replace('{' + xmlns + '}', '')\n",
    "    return output\n",
    "\n",
    "def find(name, path):\n",
    "    \"\"\"Returns path of file if found in a directory.\"\"\"\n",
    "    for root, dirs, files in os.walk(path):\n",
    "        if name in files:\n",
    "            return os.path.join(root, name)\n",
    "\n",
    "def is_panchromatic_product(xml_node):\n",
    "    \"\"\"Checks whether a satellite product is panchromatic.\"\"\"\n",
    "    for child in xml_node:\n",
    "        if child.text == 'Pan':\n",
    "            return True\n",
    "    return False\n",
    "\n",
    "def xml_root_children_to_dict(xml_root_element):\n",
    "    \"\"\"Iterates through children of xml root. Returns dictionary.\"\"\"\n",
    "    d = {}\n",
    "    for child in xml_root_element:\n",
    "        d[remove_xmlns(child.tag, XMLNS)] = child.text\n",
    "    return d\n",
    "\n",
    "def xml_product_to_dict(xml_product_element):\n",
    "    \"\"\"Parses the <product> element of metadata xml file into dictionary.\"\"\"\n",
    "    d = {}\n",
    "    count_strip, count_product, count_band = 0, 0, 0\n",
    "    for prod_child in xml_product_element:\n",
    "        prod_child_tag = remove_xmlns(prod_child.tag, XMLNS)\n",
    "        if prod_child_tag == 'strip':\n",
    "            d[prod_child_tag+str(count_strip)] = xml_root_children_to_dict(prod_child)\n",
    "            count_strip += 1\n",
    "        elif prod_child_tag == 'productFile':\n",
    "            d[prod_child_tag+str(count_product)] = xml_root_children_to_dict(prod_child)\n",
    "            count_product += 1\n",
    "        elif prod_child_tag == 'band':\n",
    "            d[prod_child_tag+str(count_band)] = prod_child.text\n",
    "            count_band += 1\n",
    "        else:\n",
    "            d[prod_child_tag] = prod_child.text\n",
    "    d['n_bands'] = count_band\n",
    "    d['n_products'] = count_product\n",
    "    d['n_strips'] = count_strip\n",
    "    return d\n",
    "\n",
    "def xml_metadata_to_dict(path):\n",
    "    \"\"\"Parses a metadata xml file into two dictionaries, a panchromatic and a multispectral.\"\"\"\n",
    "    d_pan, d_ms, d_mutual = {}, {}, {}\n",
    "    xml_parsed = ET.parse(path)\n",
    "    for child in xml_parsed.getroot():\n",
    "        child_tag = remove_xmlns(child.tag, XMLNS)\n",
    "        if child_tag == 'product':\n",
    "            if is_panchromatic_product(child):\n",
    "                d_pan = xml_product_to_dict(child)\n",
    "            else: \n",
    "                d_ms = xml_product_to_dict(child)\n",
    "        else:\n",
    "            d_mutual[child_tag] = child.text\n",
    "    d_pan.update(d_mutual), d_ms.update(d_mutual)\n",
    "    return d_pan, d_ms\n",
    "\n",
    "def img_metadata_to_dict(metadata_name, data_path):\n",
    "    \"\"\"Parses all metadata xml files into a dictionary of dictionaries. Returns pan and ms dict.\"\"\"\n",
    "    img_metadata_pan, img_metadata_ms = {}, {}\n",
    "    img_list = os.listdir(DATA_PATH)\n",
    "    for img in img_list:\n",
    "        path_to_metadata_files = find(METADATA_NAME, str(DATA_PATH + img))\n",
    "        img_metadata_pan[img], img_metadata_ms[img] = xml_metadata_to_dict(path_to_metadata_files)\n",
    "    return img_metadata_pan, img_metadata_ms\n",
    "\n",
    "def add_names_to_metadata_dict(metadata_dictionary, list_of_area_names):\n",
    "    \"\"\"Adds area names to metadata dictionary\"\"\"\n",
    "    for image_name in metadata_dictionary.keys():\n",
    "        for area_name in list_of_area_names:\n",
    "            if area_name in image_name:\n",
    "                metadata_dictionary[image_name]['area_name'] = area_name\n",
    "    return metadata_dictionary\n",
    "\n",
    "def dict_to_df(img_metadata_dict):\n",
    "    \"\"\"Converts dictionary to Pandas DataFrame with correct data types.\"\"\"\n",
    "    img_metadata_df = pd.DataFrame(img_metadata_dict).transpose()\n",
    "    img_metadata_df = img_metadata_df.astype(\n",
    "        {'bitsPerPixel': 'category', \n",
    "         'cloudCover': 'float', \n",
    "         'datum': 'category', \n",
    "         'imageFileFormat': 'category',\n",
    "         'imageTypeSize': 'category',\n",
    "         'imagingTilingType': 'category',\n",
    "         'isDynamicRangeAdjusted': 'bool', \n",
    "         'isMosaic': 'bool', \n",
    "         'mapProjection': 'category',\n",
    "         'mapProjectionUnit': 'category',\n",
    "         'mapProjectionZone': 'category', \n",
    "         'mergingAlgorithm': 'category',\n",
    "         'mergedBand': 'category',\n",
    "         'offNadirAngle': 'float',\n",
    "         'pixelHeight': 'float',\n",
    "         'pixelWidth': 'float',\n",
    "         'processingLevel': 'category',\n",
    "         'resamplingKernel': 'category',\n",
    "         'sensorVehicle': 'category', \n",
    "         'sunAzimuth': 'float',\n",
    "         'sunElevation': 'float', \n",
    "         'n_bands': 'int8', \n",
    "         'n_products': 'int8',\n",
    "         'n_strips': 'int8'\n",
    "    })\n",
    "    \n",
    "    # Converting the datatypes of the bands to category\n",
    "    for i in range(20): #20 is just a number much higher than number of bands to be safe\n",
    "        if str('band' + str(i)) in img_metadata_df.columns:\n",
    "            img_metadata_df = img_metadata_df.astype({str('band'+str(i)): 'category'})\n",
    "        \n",
    "    img_metadata_df['earliestAcquisitionTime'] = pd.to_datetime(img_metadata_df['earliestAcquisitionTime'])\n",
    "    img_metadata_df['latestAcquisitionTime'] = pd.to_datetime(img_metadata_df['latestAcquisitionTime'])\n",
    "    img_metadata_df['productionDate'] = pd.to_datetime(img_metadata_df['productionDate'])\n",
    "    img_metadata_df['updateDate'] = pd.to_datetime(img_metadata_df['updateDate'])\n",
    "\n",
    "    return img_metadata_df"
   ]
  },
  {
   "cell_type": "markdown",
   "metadata": {},
   "source": [
    "### The actual parsing to DataFrames"
   ]
  },
  {
   "cell_type": "code",
   "execution_count": null,
   "metadata": {},
   "outputs": [],
   "source": [
    "img_metadata_pan, img_metadata_ms = img_metadata_to_dict(METADATA_NAME, DATA_PATH)\n",
    "\n",
    "img_metadata_pan = add_names_to_metadata_dict(img_metadata_pan, AREAS)\n",
    "img_metadata_ms = add_names_to_metadata_dict(img_metadata_ms, AREAS)\n",
    "\n",
    "img_metadata_pan = dict_to_df(img_metadata_pan)\n",
    "img_metadata_ms = dict_to_df(img_metadata_ms)"
   ]
  },
  {
   "cell_type": "markdown",
   "metadata": {},
   "source": [
    "# Distribution of images"
   ]
  },
  {
   "cell_type": "markdown",
   "metadata": {},
   "source": [
    "## Some quick sanity checks"
   ]
  },
  {
   "cell_type": "code",
   "execution_count": null,
   "metadata": {},
   "outputs": [],
   "source": [
    "print('Number of panchromatic images:', len(img_metadata_pan))\n",
    "print('Number of multispectral images:', len(img_metadata_ms))\n",
    "print()\n",
    "if list(img_metadata_pan.index.values) == list(img_metadata_ms.index.values):\n",
    "    print('Pass: Identical keys. Keys in panchromatic and multispectral dictionaries are identical.')\n",
    "else: print('Fail: Identical keys. Keys in panchromatic and multispectral dictionaries are not identical.')\n",
    "print()"
   ]
  },
  {
   "cell_type": "markdown",
   "metadata": {},
   "source": [
    "## Histograms multispectral"
   ]
  },
  {
   "cell_type": "code",
   "execution_count": null,
   "metadata": {},
   "outputs": [],
   "source": [
    "hist_factors = ['pixelWidth', \n",
    "                'pixelHeight', \n",
    "                'n_bands',\n",
    "                'offNadirAngle', \n",
    "                'sunAzimuth', \n",
    "                'sunElevation']\n",
    "hist_ms = img_metadata_ms[hist_factors].hist(figsize=(15,8))"
   ]
  },
  {
   "cell_type": "code",
   "execution_count": null,
   "metadata": {},
   "outputs": [],
   "source": [
    "hist_pan = img_metadata_pan[hist_factors].hist(figsize=(15,8))"
   ]
  },
  {
   "cell_type": "markdown",
   "metadata": {},
   "source": [
    "## Contingency table Sensor x Area"
   ]
  },
  {
   "cell_type": "code",
   "execution_count": null,
   "metadata": {},
   "outputs": [],
   "source": [
    "table = pd.crosstab(img_metadata_pan['area_name'], \n",
    "                    img_metadata_pan['sensorVehicle'])\n",
    "table"
   ]
  },
  {
   "cell_type": "markdown",
   "metadata": {},
   "source": [
    "## Clouds?\n",
    "*TODO: Get a measure of clod coverage in every specific image. Either automatically based on available algorithms or manually since the number of images are limited.*"
   ]
  },
  {
   "cell_type": "markdown",
   "metadata": {},
   "source": [
    "## Calculate actual area covered by each image\n",
    "*TODO: Many images do not cover the whole area of interest. By using the parsed metadata dataframe and shape geometry supplied with every image it is possible to calculate the actual area. This number may nuance distribution of images across areas, sensors and clouds.*"
   ]
  },
  {
   "cell_type": "code",
   "execution_count": null,
   "metadata": {},
   "outputs": [],
   "source": []
  }
 ],
 "metadata": {
  "kernelspec": {
   "display_name": "Python 3",
   "language": "python",
   "name": "python3"
  },
  "language_info": {
   "codemirror_mode": {
    "name": "ipython",
    "version": 3
   },
   "file_extension": ".py",
   "mimetype": "text/x-python",
   "name": "python",
   "nbconvert_exporter": "python",
   "pygments_lexer": "ipython3",
   "version": "3.7.4"
  }
 },
 "nbformat": 4,
 "nbformat_minor": 2
}
