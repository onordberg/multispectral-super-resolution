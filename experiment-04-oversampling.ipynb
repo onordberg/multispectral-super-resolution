{
 "cells": [
  {
   "cell_type": "markdown",
   "metadata": {},
   "source": [
    "# Experiment 04: Oversampling patches\n",
    "\n",
    "In this experiment we will study how different band configurations affect the training process and end results.\n",
    "\n",
    "### Experiment variations:\n",
    "\n",
    "- E03-4: The 4 MS WorldView-2 bands that are also available in GeoEye-1 (MS1 array RGB+NIR1)\n",
    " - In this variation we will also validate performance on the GeoEye-1 validation set\n",
    "- E03-3: Only the 3 RGB bands from WorldView-2\n",
    " - Also validated on the GeoEye-1 validation set\n",
    " \n",
    "### The notebook is divided into the following main sections:\n",
    "1. Imports and configuration parameters\n",
    "2. Tile generation (sampling of tiles from the satellite images)\n",
    "3. Tile input pipelines (`tf.dataset` objects reading tiles from disk)\n",
    "4. Building of models\n",
    "5. Pretraining with L1 loss\n",
    "6. Build the full ESRGAN model\n",
    "7. GAN-training with L1 + Percep + GAN loss\n",
    "8. Inspection of results\n",
    "\n",
    "Training history is logged with TensorBoard."
   ]
  },
  {
   "cell_type": "markdown",
   "metadata": {},
   "source": [
    "## 1. Imports and configuration parameters"
   ]
  },
  {
   "cell_type": "code",
   "execution_count": 1,
   "metadata": {},
   "outputs": [
    {
     "name": "stdout",
     "output_type": "stream",
     "text": [
      "1 Physical GPUs, 1 Logical GPUs\n"
     ]
    }
   ],
   "source": [
    "from modules.helpers import *\n",
    "from modules.tile_generator import *\n",
    "from modules.matlab_metrics import *\n",
    "from modules.image_utils import *\n",
    "from modules.tile_input_pipeline import *\n",
    "from modules.models import *\n",
    "from modules.evaluation import *\n",
    "\n",
    "from modules.logging import *\n",
    "from modules.train import *\n",
    "\n",
    "import time\n",
    "\n",
    "# Check GPUs and enable dynamic GPU memory use:\",\n",
    "gpus = tf.config.experimental.list_physical_devices('GPU')\n",
    "if gpus:\n",
    "    try:\n",
    "        for gpu in gpus:\n",
    "            # Prevent TensorFlow from allocating all memory of all GPUs:\n",
    "            tf.config.experimental.set_memory_growth(gpu, True)\n",
    "        logical_gpus = tf.config.experimental.list_logical_devices('GPU')\n",
    "        print(len(gpus), \"Physical GPUs,\", len(logical_gpus), \"Logical GPUs\")\n",
    "    except RuntimeError as e:\n",
    "        print(e)"
   ]
  },
  {
   "cell_type": "code",
   "execution_count": 2,
   "metadata": {},
   "outputs": [
    {
     "name": "stdout",
     "output_type": "stream",
     "text": [
      "Sensors to generate tiles from: ['WV02', 'GE01']\n",
      "Areas to generate tiles from: ['La_Spezia', 'Toulon']\n",
      "Number of images in partitions {'train': 22, 'val': 19, 'test': 21}\n",
      "Total number of images: 62\n",
      "MS (LR) tile size: {'train': 32, 'val': 128, 'test': 128}\n",
      "PAN (HR) tile size: {'train': 128, 'val': 512, 'test': 512}\n",
      "SR factor: 4\n",
      "MS (LR) Band Config WV02: {'Blue': 1, 'Green': 2, 'Red': 4, 'NIR': 6}\n",
      "MS (LR) Band Config GE01: {'Blue': 0, 'Green': 1, 'Red': 2, 'NIR': 3}\n",
      "Batch sizes: {'train': 16, 'val': 8, 'test': 8}\n",
      "Pretraining - Total steps: 400000\n",
      "GAN training - Total steps: 400000\n",
      "MATLAB Metrics:\n",
      "Ma: True\n",
      "NIQE: True\n",
      "Perceptual Index (PI): True\n"
     ]
    }
   ],
   "source": [
    "### MAIN SETTINGS ###############################################################################################\n",
    "EXPERIMENT_NAMES = ['e04-8', 'e04-6', 'e04-4', 'e04-3']\n",
    "\n",
    "# Select experiment variation to be run in THIS notebook:\n",
    "EXPERIMENT = EXPERIMENT_NAMES[2]\n",
    "\n",
    "# Turn on and off certain time consuming processes in the notebook:\n",
    "GENERATE_TILES = False   # This should only be done once in experiment 01. All variations will read from the same\n",
    "TILE_DENSITY_MAPS = False  # Loops through all tiles and compute density maps of where tiles have been sampled\n",
    "CALCULATE_STATS = False  # Loops through all tiles and calculate mean and sd. Used for scaling\n",
    "PRE_BUILD = True          # Step 1 of the training process\n",
    "PRETRAIN = False          # Step 1 of the training process\n",
    "GAN_BUILD = True          # Step 1 of the training process\n",
    "GAN_TRAIN = False         # Step 2 of the training process\n",
    "PRE_EVALUATE_LAST = False\n",
    "GAN_EVALUATE_LAST = True\n",
    "PRE_EVALUATE_HISTORY = False\n",
    "GAN_EVALUATE_HISTORY = False\n",
    "\n",
    "# Load metadata dataframe \"meta\" from repository root. \n",
    "# This dataframe keeops track of images and is used and updated throughout the notebook\n",
    "meta = load_meta_pickle_csv('.', 'metadata_df', from_pickle=True)\n",
    "#################################################################################################################\n",
    "\n",
    "### PATHS #######################################################################################################\n",
    "DATA_PATH = 'data/toulon-laspezia'\n",
    "DATA_PATH_TILES = 'data/toulon-laspezia-tiles/e04'\n",
    "DATA_PATH_TILES_P = {'train': DATA_PATH_TILES + '/train', \n",
    "                     'val': DATA_PATH_TILES + '/val', \n",
    "                     'test': DATA_PATH_TILES + '/test'}\n",
    "LOGS_DIR = 'logs/' # Path to tensorboard logs and model checkpoint saves\n",
    "LOGS_EXP_DIR = LOGS_DIR + EXPERIMENT\n",
    "#################################################################################################################\n",
    "\n",
    "### TILE GENERATION #############################################################################################\n",
    "SENSORS_GENERATE = ['WV02', 'GE01']\n",
    "AREAS_GENERATE = ['La_Spezia', 'Toulon']\n",
    "meta = subset_by_areas_sensor(meta, areas=AREAS_GENERATE, sensors=SENSORS_GENERATE)\n",
    "print('Sensors to generate tiles from:', SENSORS_GENERATE)\n",
    "print('Areas to generate tiles from:', AREAS_GENERATE)\n",
    "\n",
    "# Count images in partitions (train/val/test):\n",
    "N_IMAGES_TOTAL = count_images(meta)\n",
    "N_IMAGES = {'train': count_images_in_partition(meta, 'train'), \n",
    "            'val': count_images_in_partition(meta, 'val'), \n",
    "            'test': count_images_in_partition(meta, 'test')}\n",
    "assert N_IMAGES_TOTAL == sum(N_IMAGES.values())  # Verify that different ways of counting adds up\n",
    "print('Number of images in partitions', N_IMAGES)\n",
    "print('Total number of images:', N_IMAGES_TOTAL)\n",
    "\n",
    "TILES_PER_M2 = {'train': 10.0,  ################################# <--- The oversampling of patches\n",
    "                'val': 2.0, \n",
    "                'test': 2.0}\n",
    "\n",
    "# Settings for whether to send every tile generated through a sea and cloud classifier\n",
    "# This is useful if images consist of a lot of sea and clouds and you want to reduce the number of tiles\n",
    "# with such monotone and less meaningful content. Classifier is trained on 2500 labeled tiles of various sizes\n",
    "# where only tiles COMPLETELY covered by sea and/or clouds have been labelled \"cloud/sea\". \n",
    "# Validation accuracy around 0.95\n",
    "CLOUD_SEA_REMOVAL = True\n",
    "CLOUD_SEA_WEIGHTS_PATH = 'models/cloud-sea-classifier/cloudsea-effb0-augm-bicubic-pan-0.0005--200-0.127841.h5'\n",
    "# Cutoff at inference time. Tiles with (quasi)-prob higher than cutoff will be classified as cloud and or sea:\n",
    "CLOUD_SEA_PRED_CUTOFF = 0.95\n",
    "# Setting to keep a certain proportion of cloud/sea tiles through the filter:\n",
    "CLOUD_SEA_KEEP_RATE = 0.10\n",
    "\n",
    "# GE01 images has some slight variations in resolution 0.5 +-0.05 m per pixel while WV02 is fixed at 0.5m\n",
    "# Setting this to True will resize to as close as possible to 0.5m\n",
    "# Not used in this notebook, but function is ready for use in module tile_generator.py\n",
    "RESIZE_TO_PIXEL_SIZE = False\n",
    "if RESIZE_TO_PIXEL_SIZE:\n",
    "    RESIZE_RESAMPLING_METHOD = 'nearest'  # 'nearest', 'bicubic', 'bilinear'\n",
    "    NEW_PIXEL_SIZE_PAN = 0.5\n",
    "    RESIZE_DIR = DATA_PATH + '-resized'\n",
    "#################################################################################################################\n",
    "\n",
    "### SENSORS AND AREA EXPERIMENT SELECTION #######################################################################\n",
    "# Sensors used in which experiment variation\n",
    "SENSORS_EXP = {'e04-8': {'train': 'WV02', 'val': ['WV02'], 'test': ['WV02']}, \n",
    "               'e04-6': {'train': 'WV02', 'val': ['WV02'], 'test': ['WV02']}, \n",
    "               'e04-4': {'train': 'WV02', 'val': ['WV02', 'GE01'], 'test': ['WV02', 'GE01']}, \n",
    "               'e04-3': {'train': 'WV02', 'val': ['WV02', 'GE01'], 'test': ['WV02', 'GE01']}}\n",
    "SENSORS = SENSORS_EXP[EXPERIMENT]\n",
    "\n",
    "# Areas used in which experiment variation\n",
    "AREAS_EXP = {'e04-8': {'train': AREAS_GENERATE, 'val': AREAS_GENERATE, 'test': AREAS_GENERATE}, \n",
    "             'e04-6': {'train': AREAS_GENERATE, 'val': AREAS_GENERATE, 'test': AREAS_GENERATE}, \n",
    "             'e04-4': {'train': AREAS_GENERATE, 'val': AREAS_GENERATE, 'test': AREAS_GENERATE}, \n",
    "             'e04-3': {'train': AREAS_GENERATE, 'val': AREAS_GENERATE, 'test': AREAS_GENERATE}}\n",
    "AREAS = AREAS_EXP[EXPERIMENT]\n",
    "#################################################################################################################\n",
    "\n",
    "### TILE DIMENSIONS #############################################################################################\n",
    "# Note larger size of val and test. This is needed for sensible calculation of Ma, NIQE and PI calculation\n",
    "SR_FACTOR = 4\n",
    "MS_SIZE = {'train': 32, 'val': 128, 'test': 128}\n",
    "PAN_SIZE = {'train': MS_SIZE['train'] * SR_FACTOR, \n",
    "            'val': MS_SIZE['val'] * SR_FACTOR, \n",
    "            'test': MS_SIZE['test'] * SR_FACTOR}\n",
    "print('MS (LR) tile size:', MS_SIZE)\n",
    "print('PAN (HR) tile size:', PAN_SIZE)\n",
    "print('SR factor:', SR_FACTOR)\n",
    "#################################################################################################################\n",
    "\n",
    "### BAND (CHANNEL) CONFIGURATIONS ###############################################################################\n",
    "# This is the essence of experiment 01\n",
    "# Selection of bands is done in the tile input pipeline\n",
    "\n",
    "# Selecting bands from the 8 bands of WV02:\n",
    "WV02_FULL_BAND_CONFIG = get_sensor_bands('WV02', meta)\n",
    "WV02_EXP_BAND_CONFIGS = {'e04-8': WV02_FULL_BAND_CONFIG,                          # 8 (all) bands\n",
    "                         'e04-6': {k:v for (k,v) in WV02_FULL_BAND_CONFIG.items()  # 6 bands (BGYR+RE+NIR)\n",
    "                                   if k not in ['Coastal', 'NIR2']}, \n",
    "                         'e04-4': {k:v for (k,v) in WV02_FULL_BAND_CONFIG.items()  # 4 bands (BGR+NIR)\n",
    "                                   if k in ['Blue', 'Green', 'Red', 'NIR']},\n",
    "                         'e04-3': {k:v for (k,v) in WV02_FULL_BAND_CONFIG.items()  # 3 bands (BGR)\n",
    "                                   if k in ['Blue', 'Green', 'Red']}}\n",
    "MS_BANDS_WV02_CONFIG = WV02_EXP_BAND_CONFIGS[EXPERIMENT]\n",
    "if EXPERIMENT == 'e04-8':\n",
    "    # We set this to 'all' in order to not pass e01-8 tiles through a band selection function (no reason to)\n",
    "    MS_BANDS_WV02_IDXS = 'all' \n",
    "else:\n",
    "    # For the other experiment variations we need lists of indices of the bands to be selected\n",
    "    MS_BANDS_WV02_IDXS = list(MS_BANDS_WV02_CONFIG.values())\n",
    "\n",
    "N_MS_BANDS = len(MS_BANDS_WV02_CONFIG.values()) # The number of MS bands in this experiment variation\n",
    "\n",
    "# Selecting bands from the 4 bands of GE01:\n",
    "GE01_FULL_BAND_CONFIG = get_sensor_bands('GE01', meta)                            \n",
    "GE01_EXP_BAND_CONFIGS = {'e04-8': {None: None},                                   # not enough bands in GE01\n",
    "                         'e04-6': {None: None},                                    # not enough bands in GE01\n",
    "                         'e04-4': GE01_FULL_BAND_CONFIG,                           # 4 (all) bands (BGR+NIR)\n",
    "                         'e04-3': {k:v for (k,v) in GE01_FULL_BAND_CONFIG.items()  # 3 bands (BGR)\n",
    "                                   if k not in ['NIR']}}\n",
    "MS_BANDS_GE01_CONFIG = GE01_EXP_BAND_CONFIGS[EXPERIMENT]\n",
    "if EXPERIMENT == 'e04-4':\n",
    "    MS_BANDS_GE01_IDXS = 'all'\n",
    "else:\n",
    "    MS_BANDS_GE01_IDXS = list(MS_BANDS_GE01_CONFIG.values())\n",
    "print('MS (LR) Band Config WV02:', MS_BANDS_WV02_CONFIG)\n",
    "print('MS (LR) Band Config GE01:', MS_BANDS_GE01_CONFIG)\n",
    "\n",
    "N_PAN_BANDS = 1 # Obviously only 1 panchromatic band\n",
    "#################################################################################################################\n",
    "\n",
    "### MODEL PARAMETERS ############################################################################################\n",
    "BATCH_SIZE = {'train': 16, 'val': 8, 'test': 8}\n",
    "print('Batch sizes:', BATCH_SIZE)\n",
    "\n",
    "# RRDB Generator Model parameters \n",
    "N_BLOCKS = 16 # Deeper means potential to capture more complex relationships, at the cost of training time\n",
    "N_FILTERS = 64 # Baseline setting that is not tinkered with in this repository\n",
    "#################################################################################################################\n",
    "\n",
    "### PRETRAINING SETTINGS ########################################################################################\n",
    "PRE_EPOCHS = 400\n",
    "PRE_TRAIN_STEPS = 1000  # per epoch\n",
    "PRE_VAL_STEPS = 0     # per epoch\n",
    "print('Pretraining - Total steps:', PRE_EPOCHS * PRE_TRAIN_STEPS)\n",
    "\n",
    "# Number of batches to save every epoch in TensorBoard\n",
    "TRAIN_N_BATCHES_SAVE = 1\n",
    "VAL_N_BATCHES_SAVE = 1\n",
    "\n",
    "# Optimizer settings:\n",
    "PRETRAIN_LOSS = 'l1'    # Official\n",
    "PRETRAIN_LR = 5e-5      # Tuned and found stable for this particular experiment\n",
    "#PRETRAIN_LR = 0.0002   # Official\n",
    "PRETRAIN_BETA_1 = 0.9   # Official\n",
    "PRETRAIN_BETA_2 = 0.999 # Official\n",
    "# Note: Official implementation also uses stepwise learning rate scheduler. \n",
    "# This is avoided here as it is deemed not central to the experiment to \"squeeze\" out last performance and it \n",
    "# complicates comparisons between experiment variations\n",
    "#################################################################################################################\n",
    "\n",
    "### GAN TRAINING SETTINGS #######################################################################################\n",
    "GAN_EPOCHS = 400\n",
    "GAN_TRAIN_STEPS = 1000\n",
    "GAN_VAL_STEPS = 0\n",
    "# Proportion of val batches that will go through ma and niqe metric calculation\n",
    "# MA_NIQE_PROPORTION = 0.04  # The calculation is very time consuming\n",
    "MA_NIQE_PROPORTION = 1  # The calculation is very time consuming\n",
    "print('GAN training - Total steps:', GAN_EPOCHS * GAN_TRAIN_STEPS)\n",
    "\n",
    "# Weights for each loss in the composite loss function\n",
    "G_LOSS_PIXEL_W = 0.01       # Official\n",
    "G_LOSS_PERCEP_W = 1.0       # Official\n",
    "G_LOSS_GENERATOR_W = 0.005  # Official\n",
    "\n",
    "# Optimizer settings:\n",
    "#GAN_G_LR = 1e-4 # Official\n",
    "#GAN_D_LR = 1e-4 # Official\n",
    "GAN_G_LR = 2e-5\n",
    "GAN_D_LR = 2e-5\n",
    "G_BETA_1, D_BETA_1 = 0.9, 0.9      # Official\n",
    "G_BETA_2, D_BETA_2 = 0.999, 0.999  # Official\n",
    "# Note: Official implementation also uses stepwise learning rate scheduler. \n",
    "# This is avoided here as it is deemed not central to the experiment to \"squeeze\" out last performance and it \n",
    "# complicates comparisons between experiment variations\n",
    "\n",
    "# Path to the pretraining weights that is the starting point of GAN training:\n",
    "PRETRAIN_WEIGHTS_DIRS = {'e04-4': LOGS_EXP_DIR + '/models/' + 'e04-4-pre_20210314-030336/'\n",
    "                        }\n",
    "PRETRAIN_WEIGHTS_DIR = PRETRAIN_WEIGHTS_DIRS[EXPERIMENT]\n",
    "PRETRAIN_WEIGHTS_PATH = PRETRAIN_WEIGHTS_DIR + EXPERIMENT + '-pre-400.h5'\n",
    "\n",
    "# Path to the gan-training weights that will be \n",
    "GAN_WEIGHTS_DIRS = {'e04-4': LOGS_EXP_DIR + '/models/' + 'e04-4-gan_20210315-230940/'\n",
    "                   }\n",
    "GAN_WEIGHTS_DIR = GAN_WEIGHTS_DIRS[EXPERIMENT]\n",
    "GAN_WEIGHTS_PATH = GAN_WEIGHTS_DIR + EXPERIMENT + '-gan-G-399.h5'\n",
    "#################################################################################################################\n",
    "\n",
    "### MATLAB METRICS ##############################################################################################\n",
    "# Calculate Ma, NIQE and Perceptual Index (PI) metrics on the validation set(s) during GAN training:\n",
    "# PI was metric used in PIRM2018 competition https://github.com/roimehrez/PIRM2018\n",
    "METRIC_MA = False\n",
    "METRIC_NIQE = False\n",
    "if METRIC_MA and METRIC_NIQE:\n",
    "    METRIC_PI = True\n",
    "else:\n",
    "    METRIC_PI = False\n",
    "\n",
    "# The number of pixels to be shaved off the border of the tile before calculating Ma/NIQE/PI (ignore border effects)\n",
    "SHAVE_WIDTH = 4 # Official (as used in PIRM2018 evaluation)\n",
    "# Ma/NIQE/PI calculation is done with official matlab repositories through MATLAB Engine API for Python\n",
    "MATLAB_PATH = 'modules/matlab' # path to repositories\n",
    "#################################################################################################################\n",
    "\n",
    "### EVALUTAION ##################################################################################################\n",
    "if PRE_EVALUATE_LAST or GAN_EVALUATE_LAST:\n",
    "    METRIC_MA = True\n",
    "    METRIC_NIQE = True\n",
    "    if METRIC_MA and METRIC_NIQE:\n",
    "        METRIC_PI = True\n",
    "    else:\n",
    "        METRIC_PI = False\n",
    "        \n",
    "\n",
    "EVAL_STEPS_PER_EPOCH = 'all'\n",
    "EVAL_N_EPOCHS = 400\n",
    "#EVAL_SENSOR = 'WV02'\n",
    "EVAL_PER_IMAGE = True\n",
    "    \n",
    "if PRE_EVALUATE_HISTORY or GAN_EVALUATE_HISTORY:\n",
    "    METRIC_MA = False\n",
    "    METRIC_NIQE = True\n",
    "    if METRIC_MA and METRIC_NIQE:\n",
    "        METRIC_PI = True\n",
    "    else:\n",
    "        METRIC_PI = False\n",
    "        \n",
    "#if PRE_EVALUATE_HISTORY:\n",
    "#    EVAL_WEIGHTS_DIR = PRETRAIN_WEIGHTS_DIR\n",
    "#    EVAL_FIRST_STEP = 1\n",
    "#    EVAL_PREFIX = EXPERIMENT + '-pre-'\n",
    "#elif GAN_EVALUATE_HISTORY:\n",
    "#    EVAL_WEIGHTS_DIR = GAN_WEIGHTS_DIR\n",
    "#    EVAL_FIRST_STEP = 0\n",
    "#    EVAL_PREFIX = EXPERIMENT + '-gan-'\n",
    "    \n",
    "print('MATLAB Metrics:')\n",
    "print('Ma:', METRIC_MA)\n",
    "print('NIQE:', METRIC_NIQE)\n",
    "print('Perceptual Index (PI):', METRIC_PI)"
   ]
  },
  {
   "cell_type": "markdown",
   "metadata": {},
   "source": [
    "## 2. Tile generation"
   ]
  },
  {
   "cell_type": "markdown",
   "metadata": {},
   "source": [
    "### 2.1 Image resizing\n",
    "\n",
    "Function `resize_sat_img_to_new_pixel_size` available in `modules.tile_generator`. Not used in this notebook"
   ]
  },
  {
   "cell_type": "markdown",
   "metadata": {},
   "source": [
    "### 2.2 Tile allocation\n",
    "\n",
    "We allocate `n_tiles` to each satellite image in proportion to the area covered by the satellite image. We adjust `n_tiles` by the argument `tiles_per_m2`. If `tiles_per_m2=1.0` then `n_tiles` is set deterministically to a value so that a square meter of satellite image is expected to be covered by `1.0` tile."
   ]
  },
  {
   "cell_type": "code",
   "execution_count": 3,
   "metadata": {},
   "outputs": [
    {
     "name": "stdout",
     "output_type": "stream",
     "text": [
      "Number of tiles per partition:\n",
      "{'train': 645320, 'val': 8050, 'test': 9315}\n",
      "Total number of tiles: 662685\n"
     ]
    }
   ],
   "source": [
    "if GENERATE_TILES:\n",
    "    meta = allocate_tiles_by_expected(meta, \n",
    "                                      override_pan_pixel_size=RESIZE_TO_PIXEL_SIZE,\n",
    "                                      by_partition=True, \n",
    "                                      tiles_per_m2_train_val_test=(TILES_PER_M2['train'], \n",
    "                                                                   TILES_PER_M2['val'], \n",
    "                                                                   TILES_PER_M2['test']),\n",
    "                                      pan_tile_size_train_val_test=(PAN_SIZE['train'], \n",
    "                                                                    PAN_SIZE['val'], \n",
    "                                                                    PAN_SIZE['test']),\n",
    "                                      new_column_name='n_tiles')\n",
    "else:\n",
    "    # Load meta dataframe that was updated at tile generation time\n",
    "    meta = load_meta_pickle_csv(DATA_PATH_TILES, 'metadata_tile_allocation', from_pickle=True)\n",
    "\n",
    "n_tiles = {'train': count_tiles_in_partition(meta, 'train'),\n",
    "           'val': count_tiles_in_partition(meta, 'val'), \n",
    "           'test':  count_tiles_in_partition(meta, 'test')}\n",
    "n_tiles_total = count_tiles(meta)\n",
    "assert n_tiles_total == sum(n_tiles.values())\n",
    "print('Number of tiles per partition:')\n",
    "print(n_tiles)\n",
    "print('Total number of tiles:', n_tiles_total)"
   ]
  },
  {
   "cell_type": "markdown",
   "metadata": {},
   "source": [
    "### 2.3 Tile generation to disk"
   ]
  },
  {
   "cell_type": "code",
   "execution_count": 4,
   "metadata": {},
   "outputs": [],
   "source": [
    "if GENERATE_TILES:\n",
    "    meta = generate_all_tiles(meta, \n",
    "                              save_dir=DATA_PATH_TILES, \n",
    "                              sr_factor=SR_FACTOR, \n",
    "                              by_partition=True,\n",
    "                              ms_tile_size_train_val_test=(MS_SIZE['train'], MS_SIZE['val'], MS_SIZE['test']), \n",
    "                              cloud_sea_removal=CLOUD_SEA_REMOVAL, \n",
    "                              cloud_sea_weights_path=CLOUD_SEA_WEIGHTS_PATH, \n",
    "                              cloud_sea_pred_cutoff=CLOUD_SEA_PRED_CUTOFF,\n",
    "                              cloud_sea_keep_rate=CLOUD_SEA_KEEP_RATE,\n",
    "                              save_meta_to_disk=True)"
   ]
  },
  {
   "cell_type": "code",
   "execution_count": 5,
   "metadata": {},
   "outputs": [],
   "source": [
    "if TILE_DENSITY_MAPS:\n",
    "    for row in meta.iterrows():\n",
    "        img_uid = row[0]\n",
    "        density = tile_density_map(DATA_PATH_TILES, \n",
    "                                   row[1], \n",
    "                                   pan_or_ms='pan',\n",
    "                                   density_dtype='uint8',\n",
    "                                   write_to_disk=True,\n",
    "                                   write_dir=DATA_PATH_TILES + '/density-maps', \n",
    "                                   write_filename=img_uid)\n",
    "    # Plot last density\n",
    "    plt.imshow(density)"
   ]
  },
  {
   "cell_type": "code",
   "execution_count": 6,
   "metadata": {},
   "outputs": [
    {
     "name": "stdout",
     "output_type": "stream",
     "text": [
      "Loaded mean 340.2 and sd 128.5 from json file @ data/toulon-laspezia-tiles/e04/train_mean_sd.json\n"
     ]
    }
   ],
   "source": [
    "if CALCULATE_STATS:\n",
    "    train_tiles_mean, train_tiles_sd = mean_sd_of_train_tiles(DATA_PATH_TILES, \n",
    "                                                              sample_proportion=1.0, \n",
    "                                                              write_json=True)\n",
    "else:\n",
    "    train_tiles_mean, train_tiles_sd = read_mean_sd_json(DATA_PATH_TILES)"
   ]
  },
  {
   "cell_type": "markdown",
   "metadata": {},
   "source": [
    "## 3. Data input pipeline from disk"
   ]
  },
  {
   "cell_type": "markdown",
   "metadata": {},
   "source": [
    "### 3.1 Training set"
   ]
  },
  {
   "cell_type": "code",
   "execution_count": 7,
   "metadata": {},
   "outputs": [
    {
     "name": "stdout",
     "output_type": "stream",
     "text": [
      "Scaler ranges:\n",
      "Input (uint) min, max: 0 2047\n",
      "Input (uint) range: 2048\n",
      "Output (float) range 1.199917335793007\n",
      "Output (float) min, max: -0.19933143865638941 1.0\n",
      "dict_keys(['WV02'])\n"
     ]
    }
   ],
   "source": [
    "SHUFFLE_BUFFER_SIZE = {'train': 130000,  # 100\n",
    "                       'val': 8000,  # 100\n",
    "                       'test': 8000}  # 100\n",
    "\n",
    "train_val_test = 'train'\n",
    "sensor = SENSORS[train_val_test]\n",
    "ds_train = {sensor: GeotiffDataset(tiles_path=DATA_PATH_TILES_P[train_val_test], \n",
    "                                   batch_size=BATCH_SIZE[train_val_test], \n",
    "                                   ms_tile_shape=(MS_SIZE[train_val_test], MS_SIZE[train_val_test], N_MS_BANDS), \n",
    "                                   pan_tile_shape=(PAN_SIZE[train_val_test], PAN_SIZE[train_val_test], N_PAN_BANDS),\n",
    "                                   sensor=sensor,\n",
    "                                   band_selection=MS_BANDS_WV02_IDXS, \n",
    "                                   mean_correction=train_tiles_mean,\n",
    "                                   cache_memory=True,\n",
    "                                   cache_file=str(DATA_PATH_TILES + '/ds_' + EXPERIMENT + '-'\n",
    "                                                    + train_val_test + '-' + sensor + '_cache'), \n",
    "                                   repeat=True, \n",
    "                                   shuffle=True, \n",
    "                                   shuffle_buffer_size=SHUFFLE_BUFFER_SIZE[train_val_test])\n",
    "           }\n",
    "# Getting the scaled output range from the scaler. Needed to calculate PSNR and SSIM:\n",
    "scaled_range = ds_train[sensor].get_scaler_output_range(print_ranges=True)\n",
    "\n",
    "# Returning the actual tf.data.dataset object:\n",
    "ds_train[sensor] = ds_train[sensor].get_dataset()\n",
    "print(ds_train.keys())"
   ]
  },
  {
   "cell_type": "markdown",
   "metadata": {},
   "source": [
    "### 3.2 Validation set"
   ]
  },
  {
   "cell_type": "code",
   "execution_count": 8,
   "metadata": {},
   "outputs": [
    {
     "name": "stdout",
     "output_type": "stream",
     "text": [
      "dict_keys(['WV02', 'GE01'])\n"
     ]
    }
   ],
   "source": [
    "# Validation set can have several sensors and is organized in a dictionary\n",
    "# structure: ds_val = {sensor: dataset} ... ex: ds_val = {'WV02': dataset_with_only_WV02_images}\n",
    "train_val_test = 'val'\n",
    "ds_val = {}\n",
    "for sensor in SENSORS[train_val_test]:\n",
    "    if sensor == 'WV02':\n",
    "        band_indices = MS_BANDS_WV02_IDXS\n",
    "    elif sensor == 'GE01':\n",
    "        band_indices = MS_BANDS_GE01_IDXS\n",
    "    ds_val[sensor] = GeotiffDataset(tiles_path=DATA_PATH_TILES_P[train_val_test], \n",
    "                                    batch_size=BATCH_SIZE[train_val_test], \n",
    "                                    ms_tile_shape=(MS_SIZE[train_val_test], MS_SIZE[train_val_test], N_MS_BANDS), \n",
    "                                    pan_tile_shape=(PAN_SIZE[train_val_test], PAN_SIZE[train_val_test], N_PAN_BANDS),\n",
    "                                    sensor=sensor,\n",
    "                                    band_selection=band_indices, \n",
    "                                    mean_correction=train_tiles_mean,\n",
    "                                    cache_memory=True,\n",
    "                                    cache_file=str(DATA_PATH_TILES + '/ds_' + EXPERIMENT + '-'\n",
    "                                                   + train_val_test + '-' + sensor + '_cache'), \n",
    "                                    repeat=True, \n",
    "                                    shuffle=True, \n",
    "                                    shuffle_buffer_size=SHUFFLE_BUFFER_SIZE[train_val_test])\n",
    "    ds_val[sensor] = ds_val[sensor].get_dataset()\n",
    "print(ds_val.keys())"
   ]
  },
  {
   "cell_type": "markdown",
   "metadata": {},
   "source": [
    "## 4. Build preliminary models"
   ]
  },
  {
   "cell_type": "markdown",
   "metadata": {},
   "source": [
    "### 4.1 Bicubic baseline model"
   ]
  },
  {
   "cell_type": "code",
   "execution_count": 9,
   "metadata": {},
   "outputs": [],
   "source": [
    "bicubic = build_deterministic_sr_model(upsample_factor=SR_FACTOR,\n",
    "                                       resize_method='bicubic',\n",
    "                                       loss='mean_absolute_error',\n",
    "                                       metrics=('PSNR', 'SSIM'),\n",
    "                                       scaled_range=scaled_range)"
   ]
  },
  {
   "cell_type": "markdown",
   "metadata": {},
   "source": [
    "### 4.2 ESRGAN Generator model (pretrain version)"
   ]
  },
  {
   "cell_type": "code",
   "execution_count": 10,
   "metadata": {},
   "outputs": [],
   "source": [
    "if PRE_BUILD:\n",
    "    pretrain_model =  build_generator(pretrain_or_gan='pretrain', \n",
    "                                      pretrain_learning_rate=PRETRAIN_LR, \n",
    "                                      pretrain_loss_l1_l2=PRETRAIN_LOSS,\n",
    "                                      pretrain_beta_1=PRETRAIN_BETA_1, \n",
    "                                      pretrain_beta_2=PRETRAIN_BETA_2, \n",
    "                                      pretrain_metrics=('PSNR', 'SSIM'),\n",
    "                                      scaled_range=scaled_range, \n",
    "                                      n_channels_in=N_MS_BANDS, \n",
    "                                      n_channels_out=N_PAN_BANDS, \n",
    "                                      height_width_in=None,  # None will make network image size agnostic\n",
    "                                      n_filters=N_FILTERS, \n",
    "                                      n_blocks=N_BLOCKS)\n",
    "    # pretrain_model.summary()"
   ]
  },
  {
   "cell_type": "markdown",
   "metadata": {},
   "source": [
    "## 5. Pretraining with L1 loss"
   ]
  },
  {
   "cell_type": "code",
   "execution_count": 11,
   "metadata": {},
   "outputs": [],
   "source": [
    "if PRETRAIN:\n",
    "    history = pretrain_esrgan(generator=pretrain_model,\n",
    "                              ds_train_dict=ds_train,\n",
    "                              epochs=PRE_EPOCHS,\n",
    "                              steps_per_epoch=PRE_TRAIN_STEPS,\n",
    "                              initial_epoch=0,\n",
    "                              validate=True,\n",
    "                              ds_val_dict=ds_val,\n",
    "                              val_steps=PRE_VAL_STEPS,\n",
    "                              model_name=EXPERIMENT + '-pre',\n",
    "                              tag=EXPERIMENT,\n",
    "                              log_tensorboard=True,\n",
    "                              tensorboard_logs_dir=LOGS_EXP_DIR + '/tb',\n",
    "                              save_models=True,\n",
    "                              models_save_dir=LOGS_EXP_DIR + '/models',\n",
    "                              save_weights_only=True,\n",
    "                              log_train_images=True,\n",
    "                              n_train_image_batches=TRAIN_N_BATCHES_SAVE,\n",
    "                              log_val_images=True,\n",
    "                              n_val_image_batches=VAL_N_BATCHES_SAVE)"
   ]
  },
  {
   "cell_type": "markdown",
   "metadata": {},
   "source": [
    "## 6. Build the full ESRGAN Model"
   ]
  },
  {
   "cell_type": "code",
   "execution_count": 12,
   "metadata": {},
   "outputs": [
    {
     "name": "stdout",
     "output_type": "stream",
     "text": [
      "Starting matlab.engine ...\n",
      "matlab.engine started\n"
     ]
    }
   ],
   "source": [
    "if GAN_BUILD:\n",
    "    gan_model = build_esrgan_model(PRETRAIN_WEIGHTS_PATH,\n",
    "                                   n_channels_in=N_MS_BANDS, \n",
    "                                   n_channels_out=N_PAN_BANDS, \n",
    "                                   n_filters=N_FILTERS, \n",
    "                                   n_blocks=N_BLOCKS, \n",
    "                                   pan_shape=(PAN_SIZE['train'], PAN_SIZE['train'], N_PAN_BANDS),\n",
    "                                   G_lr=GAN_G_LR, \n",
    "                                   D_lr=GAN_D_LR, \n",
    "                                   G_beta_1=G_BETA_1, \n",
    "                                   G_beta_2=G_BETA_2, \n",
    "                                   D_beta_1=D_BETA_1, \n",
    "                                   D_beta_2=D_BETA_2,\n",
    "                                   G_loss_pixel_w=G_LOSS_PIXEL_W, \n",
    "                                   G_loss_pixel_l1_l2='l1',\n",
    "                                   G_loss_percep_w=G_LOSS_PERCEP_W, \n",
    "                                   G_loss_percep_l1_l2='l1', \n",
    "                                   G_loss_percep_layer=54,\n",
    "                                   G_loss_percep_before_act=True,\n",
    "                                   G_loss_generator_w=G_LOSS_GENERATOR_W,\n",
    "                                   metric_reg=False, \n",
    "                                   metric_ma=METRIC_MA, \n",
    "                                   metric_niqe=METRIC_NIQE, \n",
    "                                   ma_niqe_proportion=MA_NIQE_PROPORTION,\n",
    "                                   matlab_wd_path='modules/matlab',\n",
    "                                   scale_mean=train_tiles_mean, \n",
    "                                   scaled_range=scaled_range, \n",
    "                                   shave_width=SHAVE_WIDTH)"
   ]
  },
  {
   "cell_type": "markdown",
   "metadata": {},
   "source": [
    "## 7. GAN training"
   ]
  },
  {
   "cell_type": "code",
   "execution_count": 13,
   "metadata": {
    "scrolled": true
   },
   "outputs": [],
   "source": [
    "if GAN_TRAIN:\n",
    "    history = gan_train_esrgan(esrgan_model=gan_model,\n",
    "                               ds_train_dict=ds_train,\n",
    "                               epochs=GAN_EPOCHS,\n",
    "                               steps_per_epoch=GAN_TRAIN_STEPS,\n",
    "                               initial_epoch=0,\n",
    "                               validate=True,\n",
    "                               ds_val_dict=ds_val,\n",
    "                               val_steps=GAN_VAL_STEPS,\n",
    "                               model_name=EXPERIMENT + '-gan',\n",
    "                               tag=EXPERIMENT,\n",
    "                               log_tensorboard=True,\n",
    "                               tensorboard_logs_dir=LOGS_EXP_DIR + '/tb',\n",
    "                               save_models=True,\n",
    "                               models_save_dir=LOGS_EXP_DIR + '/models',\n",
    "                               save_weights_only=True,\n",
    "                               log_train_images=True,\n",
    "                               n_train_image_batches=TRAIN_N_BATCHES_SAVE,\n",
    "                               log_val_images=True,\n",
    "                               n_val_image_batches=VAL_N_BATCHES_SAVE)"
   ]
  },
  {
   "cell_type": "markdown",
   "metadata": {},
   "source": [
    "## 8. Evaluation"
   ]
  },
  {
   "cell_type": "markdown",
   "metadata": {},
   "source": [
    "### 8.1 Data input pipelines for final evaluation\n",
    "\n",
    "The pipeline is modified to include the file paths of the tiles/patches so that it is possible to log performance metrics for individual files and by extension for individual satellite images.\n",
    "\n",
    "#### 8.1.1 Validation set"
   ]
  },
  {
   "cell_type": "code",
   "execution_count": 14,
   "metadata": {},
   "outputs": [
    {
     "name": "stdout",
     "output_type": "stream",
     "text": [
      "dict_keys(['WV02', 'GE01'])\n"
     ]
    }
   ],
   "source": [
    "# Validation set can have several sensors and is organized in a dictionary\n",
    "# structure: ds_val = {sensor: dataset} ... ex: ds_val = {'WV02': dataset_with_only_WV02_images}\n",
    "train_val_test = 'val'\n",
    "ds_val = {}\n",
    "for sensor in SENSORS[train_val_test]:\n",
    "    if sensor == 'WV02':\n",
    "        band_indices = MS_BANDS_WV02_IDXS\n",
    "    elif sensor == 'GE01':\n",
    "        band_indices = MS_BANDS_GE01_IDXS\n",
    "    ds_val[sensor] = GeotiffDataset(tiles_path=DATA_PATH_TILES_P[train_val_test], \n",
    "                                    batch_size=BATCH_SIZE[train_val_test], \n",
    "                                    ms_tile_shape=(MS_SIZE[train_val_test], MS_SIZE[train_val_test], N_MS_BANDS), \n",
    "                                    pan_tile_shape=(PAN_SIZE[train_val_test], PAN_SIZE[train_val_test], N_PAN_BANDS),\n",
    "                                    sensor=sensor,\n",
    "                                    band_selection=band_indices, \n",
    "                                    mean_correction=train_tiles_mean,\n",
    "                                    cache_memory=False,\n",
    "                                    cache_file=str(DATA_PATH_TILES + '/ds_' + EXPERIMENT + '-'\n",
    "                                                   + train_val_test + '-' + sensor + '_filepath_cache'), \n",
    "                                    repeat=False, \n",
    "                                    shuffle=False, \n",
    "                                    shuffle_buffer_size=0, #SHUFFLE_BUFFER_SIZE[train_val_test], \n",
    "                                    include_file_paths=True)\n",
    "    ds_val[sensor] = ds_val[sensor].get_dataset()\n",
    "print(ds_val.keys())"
   ]
  },
  {
   "cell_type": "markdown",
   "metadata": {},
   "source": [
    "#### 8.1.2 Test set"
   ]
  },
  {
   "cell_type": "code",
   "execution_count": 15,
   "metadata": {},
   "outputs": [
    {
     "name": "stdout",
     "output_type": "stream",
     "text": [
      "dict_keys(['WV02', 'GE01'])\n"
     ]
    }
   ],
   "source": [
    "train_val_test = 'test'\n",
    "ds_test = {}\n",
    "for sensor in SENSORS[train_val_test]:\n",
    "    if sensor == 'WV02':\n",
    "        band_indices = MS_BANDS_WV02_IDXS\n",
    "    elif sensor == 'GE01':\n",
    "        band_indices = MS_BANDS_GE01_IDXS\n",
    "    ds_test[sensor] = GeotiffDataset(tiles_path=DATA_PATH_TILES_P[train_val_test], \n",
    "                                     batch_size=BATCH_SIZE[train_val_test], \n",
    "                                     ms_tile_shape=(MS_SIZE[train_val_test], MS_SIZE[train_val_test], N_MS_BANDS), \n",
    "                                     pan_tile_shape=(PAN_SIZE[train_val_test], PAN_SIZE[train_val_test], N_PAN_BANDS),\n",
    "                                     sensor=sensor,\n",
    "                                     band_selection=band_indices, \n",
    "                                     mean_correction=train_tiles_mean,\n",
    "                                     cache_memory=False,\n",
    "                                     cache_file=str(DATA_PATH_TILES + '/ds_' + EXPERIMENT + '-'\n",
    "                                                    + train_val_test + '-' + sensor + '_filepath_cache'), \n",
    "                                     repeat=False, \n",
    "                                     shuffle=False, \n",
    "                                     shuffle_buffer_size=0)\n",
    "    ds_test[sensor] = ds_test[sensor].get_dataset()\n",
    "print(ds_test.keys())"
   ]
  },
  {
   "cell_type": "markdown",
   "metadata": {},
   "source": [
    "### 8.2 Evaluate last epoch"
   ]
  },
  {
   "cell_type": "code",
   "execution_count": null,
   "metadata": {
    "scrolled": true
   },
   "outputs": [
    {
     "name": "stdout",
     "output_type": "stream",
     "text": [
      "['gan'] ['WV02', 'GE01']\n",
      "gan WV02\n",
      "Computed 8 images in  144.44147896766663 seconds\n",
      "Last image: {'G_pixel_loss': 5.480030449689366e-05, 'G_perceptual_loss': 0.5663509964942932, 'G_generator_loss': nan, 'G_loss_total': nan, 'D_loss_total': 0.0, 'PSNR': 38.838218688964844, 'SSIM': 0.9746014475822449, 'Ma': 4.320228576660156, 'NIQE': 4.777528762817383, 'PI': 5.228650093078613}\n",
      "Computed 8 images in  133.90468525886536 seconds\n",
      "Last image: {'G_pixel_loss': 3.4763430448947474e-05, 'G_perceptual_loss': 0.2507363557815552, 'G_generator_loss': nan, 'G_loss_total': nan, 'D_loss_total': 0.0, 'PSNR': 47.847679138183594, 'SSIM': 0.9921292066574097, 'Ma': 3.5838141441345215, 'NIQE': 6.982512950897217, 'PI': 6.699349403381348}\n",
      "Computed 8 images in  133.67268705368042 seconds\n",
      "Last image: {'G_pixel_loss': 0.00020960565598215908, 'G_perceptual_loss': 2.964336633682251, 'G_generator_loss': nan, 'G_loss_total': nan, 'D_loss_total': 0.0, 'PSNR': 29.140336990356445, 'SSIM': 0.8174747824668884, 'Ma': 4.605953216552734, 'NIQE': 4.795926094055176, 'PI': 5.094986438751221}\n",
      "Computed 8 images in  133.6945629119873 seconds\n",
      "Last image: {'G_pixel_loss': 0.00014435421326197684, 'G_perceptual_loss': 1.812147617340088, 'G_generator_loss': nan, 'G_loss_total': nan, 'D_loss_total': 0.0, 'PSNR': 33.014739990234375, 'SSIM': 0.8495320677757263, 'Ma': 4.533420085906982, 'NIQE': 3.73271107673645, 'PI': 4.599645614624023}\n",
      "Computed 8 images in  133.8728301525116 seconds\n",
      "Last image: {'G_pixel_loss': 0.00016418135783169419, 'G_perceptual_loss': 2.1128652095794678, 'G_generator_loss': nan, 'G_loss_total': nan, 'D_loss_total': 0.0, 'PSNR': 32.714134216308594, 'SSIM': 0.7955816984176636, 'Ma': 4.596444129943848, 'NIQE': 3.9382433891296387, 'PI': 4.670899391174316}\n",
      "Computed 8 images in  130.87045574188232 seconds\n",
      "Last image: {'G_pixel_loss': 0.00010248996113659814, 'G_perceptual_loss': 1.0789499282836914, 'G_generator_loss': nan, 'G_loss_total': nan, 'D_loss_total': 0.0, 'PSNR': 37.899574279785156, 'SSIM': 0.8871355056762695, 'Ma': 4.5261993408203125, 'NIQE': 3.717653751373291, 'PI': 4.59572696685791}\n",
      "Computed 8 images in  130.32648134231567 seconds\n",
      "Last image: {'G_pixel_loss': 0.0001513450697530061, 'G_perceptual_loss': 1.255256175994873, 'G_generator_loss': nan, 'G_loss_total': nan, 'D_loss_total': 0.0, 'PSNR': 34.804725646972656, 'SSIM': 0.7807102203369141, 'Ma': 3.955561399459839, 'NIQE': 3.937775135040283, 'PI': 4.991106986999512}\n",
      "Computed 8 images in  132.79638195037842 seconds\n",
      "Last image: {'G_pixel_loss': 0.00021798073430545628, 'G_perceptual_loss': 3.200826406478882, 'G_generator_loss': nan, 'G_loss_total': nan, 'D_loss_total': 0.0, 'PSNR': 29.456697463989258, 'SSIM': 0.7994521260261536, 'Ma': 4.665469646453857, 'NIQE': 4.939506530761719, 'PI': 5.137018203735352}\n",
      "Computed 8 images in  132.85959458351135 seconds\n",
      "Last image: {'G_pixel_loss': 0.00019910633272957057, 'G_perceptual_loss': 2.924560308456421, 'G_generator_loss': nan, 'G_loss_total': nan, 'D_loss_total': 0.0, 'PSNR': 29.700878143310547, 'SSIM': 0.8411760926246643, 'Ma': 4.594132423400879, 'NIQE': 4.642122745513916, 'PI': 5.023995399475098}\n",
      "Computed 8 images in  133.2483069896698 seconds\n",
      "Last image: {'G_pixel_loss': 8.681206963956356e-05, 'G_perceptual_loss': 1.4686826467514038, 'G_generator_loss': nan, 'G_loss_total': nan, 'D_loss_total': 0.0, 'PSNR': 36.22819137573242, 'SSIM': 0.9266947507858276, 'Ma': 4.849948406219482, 'NIQE': 3.4275741577148438, 'PI': 4.288812637329102}\n",
      "Computed 8 images in  133.36694288253784 seconds\n",
      "Last image: {'G_pixel_loss': 0.00013331149239093065, 'G_perceptual_loss': 2.1545333862304688, 'G_generator_loss': nan, 'G_loss_total': nan, 'D_loss_total': 0.0, 'PSNR': 32.688133239746094, 'SSIM': 0.8781924247741699, 'Ma': 4.433953762054443, 'NIQE': 3.7293906211853027, 'PI': 4.64771842956543}\n",
      "Computed 8 images in  133.75309801101685 seconds\n",
      "Last image: {'G_pixel_loss': 2.5387067580595613e-05, 'G_perceptual_loss': 0.21136072278022766, 'G_generator_loss': nan, 'G_loss_total': nan, 'D_loss_total': 0.0, 'PSNR': 51.23545837402344, 'SSIM': 0.9969102740287781, 'Ma': 2.922675371170044, 'NIQE': 9.271920204162598, 'PI': 8.174622535705566}\n",
      "Computed 8 images in  133.20904755592346 seconds\n",
      "Last image: {'G_pixel_loss': 3.457163256825879e-05, 'G_perceptual_loss': 0.09370217472314835, 'G_generator_loss': nan, 'G_loss_total': nan, 'D_loss_total': 0.0, 'PSNR': 49.94822692871094, 'SSIM': 0.9976202845573425, 'Ma': 2.886726140975952, 'NIQE': 11.321736335754395, 'PI': 9.217504501342773}\n",
      "Computed 8 images in  133.82929277420044 seconds\n",
      "Last image: {'G_pixel_loss': 0.00018802698468789458, 'G_perceptual_loss': 2.544273853302002, 'G_generator_loss': nan, 'G_loss_total': nan, 'D_loss_total': 0.0, 'PSNR': 31.153547286987305, 'SSIM': 0.8205745220184326, 'Ma': 4.776543140411377, 'NIQE': 4.105433464050293, 'PI': 4.664444923400879}\n",
      "Computed 8 images in  133.1160957813263 seconds\n",
      "Last image: {'G_pixel_loss': 5.257002339931205e-05, 'G_perceptual_loss': 0.7064110040664673, 'G_generator_loss': nan, 'G_loss_total': nan, 'D_loss_total': 0.0, 'PSNR': 40.99488830566406, 'SSIM': 0.9642245769500732, 'Ma': 4.713025093078613, 'NIQE': 3.904865264892578, 'PI': 4.595920085906982}\n",
      "Computed 8 images in  129.27654838562012 seconds\n",
      "Last image: {'G_pixel_loss': 3.545961226336658e-05, 'G_perceptual_loss': 0.469775915145874, 'G_generator_loss': nan, 'G_loss_total': nan, 'D_loss_total': 0.0, 'PSNR': 45.947261810302734, 'SSIM': 0.9845694899559021, 'Ma': 4.160363674163818, 'NIQE': 4.449486255645752, 'PI': 5.144561290740967}\n",
      "Computed 8 images in  129.21476554870605 seconds\n",
      "Last image: {'G_pixel_loss': 7.895287126302719e-05, 'G_perceptual_loss': 1.2365671396255493, 'G_generator_loss': nan, 'G_loss_total': nan, 'D_loss_total': 0.0, 'PSNR': 36.61647415161133, 'SSIM': 0.9341923594474792, 'Ma': 4.714354038238525, 'NIQE': 3.75746750831604, 'PI': 4.521556854248047}\n",
      "Computed 8 images in  129.59345316886902 seconds\n",
      "Last image: {'G_pixel_loss': 0.00016694291844032705, 'G_perceptual_loss': 2.6811912059783936, 'G_generator_loss': nan, 'G_loss_total': nan, 'D_loss_total': 0.0, 'PSNR': 31.786636352539062, 'SSIM': 0.8311188817024231, 'Ma': 4.684595584869385, 'NIQE': 3.9135537147521973, 'PI': 4.614479064941406}\n",
      "Computed 8 images in  129.68444776535034 seconds\n",
      "Last image: {'G_pixel_loss': 3.2934185583144426e-05, 'G_perceptual_loss': 0.14899487793445587, 'G_generator_loss': nan, 'G_loss_total': nan, 'D_loss_total': 0.0, 'PSNR': 48.7047233581543, 'SSIM': 0.9964558482170105, 'Ma': 2.9184699058532715, 'NIQE': 9.551902770996094, 'PI': 8.316716194152832}\n",
      "Computed 8 images in  129.30433559417725 seconds\n",
      "Last image: {'G_pixel_loss': 0.00016755054821260273, 'G_perceptual_loss': 2.1620068550109863, 'G_generator_loss': nan, 'G_loss_total': nan, 'D_loss_total': 0.0, 'PSNR': 30.972393035888672, 'SSIM': 0.8334854245185852, 'Ma': 4.741743564605713, 'NIQE': 3.584235668182373, 'PI': 4.42124605178833}\n",
      "Computed 8 images in  129.2975571155548 seconds\n",
      "Last image: {'G_pixel_loss': 0.00011872733011841774, 'G_perceptual_loss': 1.2917335033416748, 'G_generator_loss': nan, 'G_loss_total': nan, 'D_loss_total': 0.0, 'PSNR': 36.21074295043945, 'SSIM': 0.8707422018051147, 'Ma': 4.601639747619629, 'NIQE': 4.108351230621338, 'PI': 4.753355979919434}\n",
      "Computed 8 images in  129.2477161884308 seconds\n",
      "Last image: {'G_pixel_loss': 0.00011227516370126978, 'G_perceptual_loss': 1.940672755241394, 'G_generator_loss': nan, 'G_loss_total': nan, 'D_loss_total': 0.0, 'PSNR': 34.41621017456055, 'SSIM': 0.893307089805603, 'Ma': 4.738804340362549, 'NIQE': 3.7035586833953857, 'PI': 4.482377052307129}\n",
      "Computed 8 images in  129.122642993927 seconds\n",
      "Last image: {'G_pixel_loss': 5.557826443691738e-05, 'G_perceptual_loss': 0.7587131261825562, 'G_generator_loss': nan, 'G_loss_total': nan, 'D_loss_total': 0.0, 'PSNR': 35.74728775024414, 'SSIM': 0.9788697957992554, 'Ma': 4.501801490783691, 'NIQE': 6.699628829956055, 'PI': 6.098913669586182}\n",
      "Computed 8 images in  130.03801798820496 seconds\n",
      "Last image: {'G_pixel_loss': 9.458159183850512e-05, 'G_perceptual_loss': 1.8245368003845215, 'G_generator_loss': nan, 'G_loss_total': nan, 'D_loss_total': 0.0, 'PSNR': 36.289066314697266, 'SSIM': 0.9100091457366943, 'Ma': 4.526571750640869, 'NIQE': 3.4163753986358643, 'PI': 4.444901943206787}\n"
     ]
    },
    {
     "name": "stdout",
     "output_type": "stream",
     "text": [
      "Computed 8 images in  129.7923948764801 seconds\n",
      "Last image: {'G_pixel_loss': 3.711465615197085e-05, 'G_perceptual_loss': 0.29805392026901245, 'G_generator_loss': nan, 'G_loss_total': nan, 'D_loss_total': 0.0, 'PSNR': 44.4393310546875, 'SSIM': 0.9902609586715698, 'Ma': 4.0249528884887695, 'NIQE': 8.70473575592041, 'PI': 7.33989143371582}\n",
      "Computed 8 images in  129.66935873031616 seconds\n",
      "Last image: {'G_pixel_loss': 0.00013352406676858664, 'G_perceptual_loss': 2.07159423828125, 'G_generator_loss': nan, 'G_loss_total': nan, 'D_loss_total': 0.0, 'PSNR': 32.717891693115234, 'SSIM': 0.8861650824546814, 'Ma': 4.464504718780518, 'NIQE': 3.8183670043945312, 'PI': 4.676931381225586}\n",
      "Computed 8 images in  129.2750015258789 seconds\n",
      "Last image: {'G_pixel_loss': 2.9414173695840873e-05, 'G_perceptual_loss': 0.20965565741062164, 'G_generator_loss': nan, 'G_loss_total': nan, 'D_loss_total': 0.0, 'PSNR': 50.7124137878418, 'SSIM': 0.9975640773773193, 'Ma': 2.942089080810547, 'NIQE': 10.313423156738281, 'PI': 8.685667037963867}\n",
      "Computed 8 images in  129.18119931221008 seconds\n",
      "Last image: {'G_pixel_loss': 0.00014774031296838075, 'G_perceptual_loss': 1.851485252380371, 'G_generator_loss': nan, 'G_loss_total': nan, 'D_loss_total': 0.0, 'PSNR': 33.13669204711914, 'SSIM': 0.84212327003479, 'Ma': 4.5774688720703125, 'NIQE': 3.6497535705566406, 'PI': 4.536142349243164}\n",
      "Computed 8 images in  129.54699516296387 seconds\n",
      "Last image: {'G_pixel_loss': 0.00017624959582462907, 'G_perceptual_loss': 2.8600974082946777, 'G_generator_loss': nan, 'G_loss_total': nan, 'D_loss_total': 0.0, 'PSNR': 30.76898765563965, 'SSIM': 0.8387296199798584, 'Ma': 4.866246700286865, 'NIQE': 3.1962153911590576, 'PI': 4.164984226226807}\n",
      "Computed 8 images in  129.45599722862244 seconds\n",
      "Last image: {'G_pixel_loss': 0.00018826841551344842, 'G_perceptual_loss': 3.002291440963745, 'G_generator_loss': nan, 'G_loss_total': nan, 'D_loss_total': 0.0, 'PSNR': 30.75246238708496, 'SSIM': 0.8047975897789001, 'Ma': 4.7821044921875, 'NIQE': 3.722968101501465, 'PI': 4.470431804656982}\n",
      "Computed 8 images in  129.19502186775208 seconds\n",
      "Last image: {'G_pixel_loss': 0.00014638539869338274, 'G_perceptual_loss': 2.30926513671875, 'G_generator_loss': nan, 'G_loss_total': nan, 'D_loss_total': 0.0, 'PSNR': 32.76118850708008, 'SSIM': 0.8498286008834839, 'Ma': 4.5983171463012695, 'NIQE': 4.15448522567749, 'PI': 4.778083801269531}\n",
      "Computed 8 images in  128.86830949783325 seconds\n",
      "Last image: {'G_pixel_loss': 9.4862341939006e-05, 'G_perceptual_loss': 0.9059462547302246, 'G_generator_loss': nan, 'G_loss_total': nan, 'D_loss_total': 0.0, 'PSNR': 38.42304229736328, 'SSIM': 0.9054572582244873, 'Ma': 4.589818000793457, 'NIQE': 4.042336940765381, 'PI': 4.726259231567383}\n",
      "Computed 8 images in  128.71715998649597 seconds\n",
      "Last image: {'G_pixel_loss': 2.8604485123651102e-05, 'G_perceptual_loss': 0.18054170906543732, 'G_generator_loss': nan, 'G_loss_total': nan, 'D_loss_total': 0.0, 'PSNR': 50.38127899169922, 'SSIM': 0.997521162033081, 'Ma': 2.929513454437256, 'NIQE': 11.119949340820312, 'PI': 9.09521770477295}\n",
      "Computed 8 images in  131.2967290878296 seconds\n",
      "Last image: {'G_pixel_loss': 0.00019102245278190821, 'G_perceptual_loss': 2.3823964595794678, 'G_generator_loss': nan, 'G_loss_total': nan, 'D_loss_total': 0.0, 'PSNR': 31.118202209472656, 'SSIM': 0.7982640862464905, 'Ma': 4.82082986831665, 'NIQE': 4.219894886016846, 'PI': 4.699532508850098}\n",
      "Computed 8 images in  140.118887424469 seconds\n",
      "Last image: {'G_pixel_loss': 0.00010922977526206523, 'G_perceptual_loss': 1.4240988492965698, 'G_generator_loss': nan, 'G_loss_total': nan, 'D_loss_total': 0.0, 'PSNR': 37.33176803588867, 'SSIM': 0.8750700354576111, 'Ma': 4.324448108673096, 'NIQE': 3.1306440830230713, 'PI': 4.403098106384277}\n",
      "Computed 8 images in  149.35910439491272 seconds\n",
      "Last image: {'G_pixel_loss': 6.838501576567069e-05, 'G_perceptual_loss': 1.0977553129196167, 'G_generator_loss': nan, 'G_loss_total': nan, 'D_loss_total': 0.0, 'PSNR': 39.181488037109375, 'SSIM': 0.9474977254867554, 'Ma': 4.797778129577637, 'NIQE': 3.4380593299865723, 'PI': 4.320140838623047}\n"
     ]
    }
   ],
   "source": [
    "if PRE_EVALUATE_LAST or GAN_EVALUATE_LAST:\n",
    "    val_or_test = 'val'\n",
    "    # SENSORS = {'val': ['GE01']}\n",
    "\n",
    "    # Computing Ma is 100x more time consuming than anything else. It is not interesting to measure this for pretraining\n",
    "    #if METRIC_MA:\n",
    "    #    PRE_GAN = ['gan']\n",
    "    #else:\n",
    "    #    PRE_GAN = ['pre', 'gan']\n",
    "    \n",
    "    if PRE_EVALUATE_LAST and not GAN_EVALUATE_LAST:\n",
    "        PRE_GAN = ['pre']\n",
    "    if not PRE_EVALUATE_LAST and GAN_EVALUATE_LAST:\n",
    "        PRE_GAN = ['gan']\n",
    "\n",
    "    print(PRE_GAN, SENSORS[val_or_test])\n",
    "    for pre_gan in PRE_GAN:\n",
    "        \n",
    "        for sensor in SENSORS[val_or_test]:\n",
    "            # if sensor == 'GE01':\n",
    "            #     continue\n",
    "                \n",
    "            if sensor == 'GE01':\n",
    "                band_indices = MS_BANDS_GE01_IDXS\n",
    "            elif sensor == 'WV02':\n",
    "                band_indices = MS_BANDS_WV02_IDXS\n",
    "            if pre_gan == 'pre':\n",
    "                gan_model.G.load_weights(PRETRAIN_WEIGHTS_PATH)\n",
    "            else:\n",
    "                gan_model.G.load_weights(GAN_WEIGHTS_PATH)\n",
    "\n",
    "            print(pre_gan, sensor)\n",
    "            start = time.time()\n",
    "            results_df = esrgan_evaluate(model=gan_model, \n",
    "                                         dataset=ds_val[sensor], \n",
    "                                         steps='all', \n",
    "                                         per_image=True, \n",
    "                                         write_csv=True,\n",
    "                                         csv_path=str(LOGS_EXP_DIR + '/csv/' + 'final_epoch-' \n",
    "                                                      + pre_gan + '-' + val_or_test + '-' + sensor + '.csv'), \n",
    "                                         verbose=1\n",
    "                                        )\n",
    "            end = time.time()\n",
    "            print(str((end - start) / 60), 'minutes')"
   ]
  },
  {
   "cell_type": "markdown",
   "metadata": {},
   "source": [
    "### 8.3 Evaluate every kth epoch"
   ]
  },
  {
   "cell_type": "code",
   "execution_count": null,
   "metadata": {},
   "outputs": [],
   "source": [
    "if PRE_EVALUATE_HISTORY or GAN_EVALUATE_HISTORY:\n",
    "    val_or_test = 'val'\n",
    "    \n",
    "    # Computing Ma is 100x more time consuming than anything else. It is not interesting to measure this for pretraining\n",
    "    if METRIC_MA:\n",
    "        PRE_GAN = ['gan']\n",
    "    else:\n",
    "        PRE_GAN = ['pre', 'gan']\n",
    "\n",
    "    for pre_gan in PRE_GAN:\n",
    "        for sensor in SENSORS[val_or_test]:\n",
    "            if sensor == 'GE01':\n",
    "                band_indices = MS_BANDS_GE01_IDXS\n",
    "            elif sensor == 'WV02':\n",
    "                band_indices = MS_BANDS_WV02_IDXS\n",
    "            if pre_gan == 'pre':\n",
    "                model_weights_dir = PRETRAIN_WEIGHTS_DIR\n",
    "                eval_first_step = 1\n",
    "                eval_prefix = EXPERIMENT + '-pre-'\n",
    "            else:\n",
    "                model_weights_dir = GAN_WEIGHTS_DIR\n",
    "                eval_first_step = 0\n",
    "                eval_prefix = EXPERIMENT + '-gan-'\n",
    "\n",
    "            esrgan_epoch_evaluator(gan_model,\n",
    "                                   model_weights_dir=model_weights_dir,\n",
    "                                   model_weight_prefix=eval_prefix,\n",
    "                                   dataset=ds_val[sensor],\n",
    "                                   n_epochs=EVAL_N_EPOCHS,\n",
    "                                   first_epoch=eval_first_step,\n",
    "                                   steps_per_epoch=EVAL_STEPS_PER_EPOCH,\n",
    "                                   k_epoch=25,\n",
    "                                   csv_dir=LOGS_EXP_DIR + '/csv/' + val_or_test + '-' + sensor, \n",
    "                                   per_image=EVAL_PER_IMAGE, \n",
    "                                   verbose=0)"
   ]
  },
  {
   "cell_type": "markdown",
   "metadata": {},
   "source": [
    "### 8.4 Comparison plots"
   ]
  },
  {
   "cell_type": "raw",
   "metadata": {},
   "source": [
    "MS_IMG_PATH = 'data/toulon-laspezia-tiles/e01/val/GE01_La_Spezia_2017_04_16_011651188010_0/ms/00031.tif'\n",
    "\n",
    "RESULTS_DIR = 'results/test'\n",
    "SENSOR = 'GE01'\n",
    "\n",
    "for pre_gan in ['pre', 'gan']:\n",
    "    if SENSOR == 'GE01':\n",
    "        band_indices = MS_BANDS_GE01_IDXS\n",
    "    elif SENSOR == 'WV02':\n",
    "        band_indices = MS_BANDS_WV02_IDXS\n",
    "    if pre_gan == 'pre':\n",
    "        pretrain_model.load_weights(PRETRAIN_WEIGHTS_PATH)\n",
    "    else:\n",
    "        pretrain_model.load_weights(GAN_WEIGHTS_PATH)\n",
    "    sr_img = esrgan_predict(model=pretrain_model, \n",
    "                            ms_img_path=MS_IMG_PATH, \n",
    "                            result_dir=RESULTS_DIR, \n",
    "                            sensor=SENSOR, \n",
    "                            band_indices=band_indices, \n",
    "                            mean_correction=train_tiles_mean, \n",
    "                            pre_or_gan=pre_gan,\n",
    "                            sr_factor=SR_FACTOR, \n",
    "                            copy_pan_img=True,\n",
    "                            pan_img_path=None, \n",
    "                            output_dtype='uint16', \n",
    "                            geotiff_or_png='png')"
   ]
  },
  {
   "cell_type": "code",
   "execution_count": null,
   "metadata": {},
   "outputs": [],
   "source": []
  },
  {
   "cell_type": "code",
   "execution_count": null,
   "metadata": {},
   "outputs": [],
   "source": []
  },
  {
   "cell_type": "code",
   "execution_count": null,
   "metadata": {},
   "outputs": [],
   "source": []
  },
  {
   "cell_type": "code",
   "execution_count": null,
   "metadata": {},
   "outputs": [],
   "source": []
  }
 ],
 "metadata": {
  "kernelspec": {
   "display_name": "Python 3",
   "language": "python",
   "name": "python3"
  },
  "language_info": {
   "codemirror_mode": {
    "name": "ipython",
    "version": 3
   },
   "file_extension": ".py",
   "mimetype": "text/x-python",
   "name": "python",
   "nbconvert_exporter": "python",
   "pygments_lexer": "ipython3",
   "version": "3.7.9"
  }
 },
 "nbformat": 4,
 "nbformat_minor": 4
}
