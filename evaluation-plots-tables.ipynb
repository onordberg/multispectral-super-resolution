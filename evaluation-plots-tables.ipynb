{
 "cells": [
  {
   "cell_type": "code",
   "execution_count": 19,
   "metadata": {},
   "outputs": [],
   "source": [
    "import pandas as pd\n",
    "import plotly.express as px\n",
    "from plotly.subplots import make_subplots\n",
    "import plotly.graph_objects as go\n",
    "import plotly.io as pio\n",
    "import pathlib\n",
    "\n",
    "from modules.plots import *"
   ]
  },
  {
   "cell_type": "code",
   "execution_count": 56,
   "metadata": {},
   "outputs": [],
   "source": [
    "EVERY_KTH_EPOCH = True\n",
    "READ_EPOCH_CSVS = False\n",
    "\n",
    "LAST_EPOCH = True\n",
    "\n",
    "METRICS = ['PSNR', 'SSIM', 'NIQE', 'Ma', 'PI']\n",
    "EXPERIMENTS = ['e01-8', 'e01-6', 'e01-4', 'e01-3', 'e02-4', 'e04-4']\n",
    "EXPERIMENTS = ['e01-8', 'e01-6', 'e01-4', 'e01-3']\n",
    "EXPERIMENTS = ['e01-4', 'e04-4', 'e05-4', 'e06-4']\n",
    "#EXPERIMENTS = ['e07-4']\n",
    "#EXPERIMENTS = ['e06-4', 'e07-4']\n",
    "#EXPERIMENTS = ['e01-4', 'e06-4']\n",
    "#EXPERIMENTS = ['e06-4']\n",
    "#EXPERIMENTS = ['e01-4', 'e01-3']\n",
    "#EXPERIMENTS = ['e01-8', 'e01-6', 'e01-4', 'e01-3', 'e02-4', 'e04-4', 'e03-3']\n",
    "\n",
    "#EXPERIMENTS = ['e01-4', 'e01-6']\n",
    "LOGS_DIR = 'logs'\n",
    "    \n",
    "PLOTLY_COLORS = get_plotly_standard_colors('hex')\n",
    "PLOTLY_COLORS.append('#1F77B4')\n",
    "\n",
    "LEGEND_NAMES = {'e01-8-WV02': 'm8: WorldView-2, 8 (all) bands', \n",
    "                'e01-6-WV02': 'm6: WorldView-2, 6 bands', \n",
    "                'e01-4-WV02': 'm4: WorldView-2, 4 bands', \n",
    "                'e01-3-WV02': 'm3: WorldView-2, 3 bands', \n",
    "                'e01-4-GE01': 'm4: GeoEye-1, 4 (all) bands',\n",
    "                'e01-3-GE01': 'm3: GeoEye-1, 3 bands',\n",
    "                'e04-4-WV02': 'm4-os: WorldView-2, 4 bands <br>            with oversampling (os)',\n",
    "                'e04-4-GE01': 'm4-os: GeoEye-1, 4 (all) bands <br>            with oversampling (os)',\n",
    "                'e05-4-WV02': 'm4-au: WorldView-2, 4 bands <br>            with augmentation (aug)',\n",
    "                'e05-4-GE01': 'm4-au: GeoEye-1, 4 (all) bands <br>            with augmentation (aug)',\n",
    "                'e06-4-WV02': 'm4-os-au: WorldView-2, 4 bands <br>                 with os and aug',\n",
    "                'e06-4-GE01': 'm4-os-au: GeoEye-1, 4 (all) bands <br>                 with os and aug',\n",
    "                'e07-4-WV02': 'm4-os-au-final: WorldView-2, 4 bands <br>                        with os and aug (test set)',\n",
    "                'e07-4-GE01': 'm4-os-au-final: GeoEye-1, 4 (all) bands <br>                        with os and aug (test set)',\n",
    "                }\n",
    "\n",
    "LEGEND_COLORS = {'e01-8-WV02': PLOTLY_COLORS[0], \n",
    "                 'e01-6-WV02': PLOTLY_COLORS[1], \n",
    "                 'e01-4-WV02': PLOTLY_COLORS[2], \n",
    "                 'e01-3-WV02': PLOTLY_COLORS[3], \n",
    "                 'e01-4-GE01': PLOTLY_COLORS[2],\n",
    "                 'e01-3-GE01': PLOTLY_COLORS[3],\n",
    "                 'e04-4-WV02': PLOTLY_COLORS[4],\n",
    "                 'e04-4-GE01': PLOTLY_COLORS[4],\n",
    "                 'e05-4-WV02': PLOTLY_COLORS[5],\n",
    "                 'e05-4-GE01': PLOTLY_COLORS[5], \n",
    "                 'e06-4-WV02': PLOTLY_COLORS[6],\n",
    "                 'e06-4-GE01': PLOTLY_COLORS[6],\n",
    "                 'e07-4-WV02': PLOTLY_COLORS[10],\n",
    "                 'e07-4-GE01': PLOTLY_COLORS[10]\n",
    "                }\n",
    "\n",
    "METRIC_NAMES = {'PSNR': 'Peak Signal-to-Noise Ratio (PSNR)',\n",
    "                'SSIM': 'Structural Similarity Index (SSIM)',\n",
    "                'NIQE': 'Naturalness Image Quality Evaluator (NIQE)',\n",
    "                'Ma': 'Ma et al. (Ma)',\n",
    "                'PI': 'Perceptual Index (PI)'\n",
    "                }\n",
    "\n",
    "SENSOR_DASH = {'WV02': 'solid', \n",
    "               'GE01': 'dashdot'}"
   ]
  },
  {
   "cell_type": "code",
   "execution_count": 57,
   "metadata": {},
   "outputs": [],
   "source": [
    "def read_epoch_csv(csv_path, metrics_filter):\n",
    "    if isinstance(csv_path, str):\n",
    "        csv_path = pathlib.Path(csv_path)\n",
    "    df = pd.read_csv(csv_path)\n",
    "    \n",
    "    # Allow for metrics filter to include metrics not in this particular df\n",
    "    metrics_set = set()\n",
    "    metrics_set.update(metrics_filter)\n",
    "    columns_set = set()\n",
    "    columns_set.update(list(df.columns))\n",
    "    metrics_filter = list(metrics_set.intersection(columns_set))\n",
    "    \n",
    "    # add tile_path to the list of columns to extract\n",
    "    column_filter = []\n",
    "    column_filter.append('ms_tile_path')\n",
    "    [column_filter.append(column) for column in metrics_filter]\n",
    "    df = df.loc[:, column_filter]\n",
    "    return df"
   ]
  },
  {
   "cell_type": "code",
   "execution_count": 58,
   "metadata": {},
   "outputs": [],
   "source": [
    "def path_to_columns(row):\n",
    "    #print(row)\n",
    "    path = row['ms_tile_path']\n",
    "    #print(path)\n",
    "    for town in ['_Toulon', '_La_Spezia_']:\n",
    "        if town in path:\n",
    "            #print(area)\n",
    "            row['area'] = town.strip('_')\n",
    "    for sensor in ['WV02', 'GE01']:\n",
    "        if sensor in path:\n",
    "            row['sensor'] = sensor\n",
    "    for val_test in ['val', 'test']:\n",
    "        if val_test in path:\n",
    "            row['val_test'] = val_test\n",
    "    row['image_UID'] = path[path.find('\\\\\\\\' + row['sensor'])+2:path.find('\\\\\\\\ms\\\\\\\\')]\n",
    "    row['tile_UID'] = path[path.find('\\\\\\\\ms\\\\\\\\',)+6:-1]\n",
    "    return row"
   ]
  },
  {
   "cell_type": "code",
   "execution_count": 59,
   "metadata": {},
   "outputs": [
    {
     "name": "stdout",
     "output_type": "stream",
     "text": [
      "e01-4-final_epoch-bicubic-val-GE01\n",
      "e01-4-final_epoch-bicubic-val-WV02\n",
      "e01-4-final_epoch-gan-val-GE01\n",
      "e01-4-final_epoch-gan-val-WV02\n",
      "e01-4-final_epoch-HR-val-GE01\n",
      "e01-4-final_epoch-HR-val-WV02\n",
      "e01-4-final_epoch-pre-val-GE01\n",
      "e01-4-final_epoch-pre-val-WV02\n",
      "e04-4-final_epoch-gan-val-GE01\n",
      "e04-4-final_epoch-gan-val-WV02\n",
      "e04-4-final_epoch-pre-val-GE01\n",
      "e04-4-final_epoch-pre-val-WV02\n",
      "e05-4-final_epoch-gan-val-GE01\n",
      "e05-4-final_epoch-gan-val-WV02\n",
      "e05-4-final_epoch-pre-val-GE01-ma_niqe_HR-\n",
      "e05-4-final_epoch-pre-val-GE01\n",
      "e05-4-final_epoch-pre-val-WV02\n",
      "e06-4-final_epoch-gan-val-GE01\n",
      "e06-4-final_epoch-gan-val-WV02\n",
      "e06-4-final_epoch-pre-val-GE01\n",
      "e06-4-final_epoch-pre-val-WV02\n"
     ]
    }
   ],
   "source": [
    "def last_epoch(logs_dir, experiments):\n",
    "    dfs = {}\n",
    "    for experiment in experiments:\n",
    "        csv_paths = list(pathlib.Path(logs_dir).joinpath(experiment).joinpath('csv').glob('final*.csv'))\n",
    "        #print(csv_paths)\n",
    "        for csv_path in csv_paths:\n",
    "            name = experiment + '-' + csv_path.stem\n",
    "            print(name)\n",
    "            dfs[name] = read_epoch_csv(csv_path, metrics_filter=METRICS)\n",
    "            dfs[name] = dfs[name].apply(path_to_columns, axis=1)\n",
    "    return dfs\n",
    "\n",
    "if LAST_EPOCH:\n",
    "    dfs = last_epoch(LOGS_DIR, EXPERIMENTS)"
   ]
  },
  {
   "cell_type": "code",
   "execution_count": 60,
   "metadata": {
    "scrolled": true
   },
   "outputs": [
    {
     "name": "stdout",
     "output_type": "stream",
     "text": [
      "{'e01-4': None, 'e04-4': None, 'e05-4': None, 'e06-4': None}\n"
     ]
    }
   ],
   "source": [
    "def every_kth_epoch(logs_dir, experiments):\n",
    "    experiments_dict = {}\n",
    "    for experiment in experiments:\n",
    "        dfs = {}\n",
    "        csv_paths = list(pathlib.Path(logs_dir).joinpath(experiment).joinpath('csv').glob('val*/*.csv'))\n",
    "        csv_paths = csv_paths + list(pathlib.Path(logs_dir).joinpath(experiment).joinpath('csv').glob('test*/*.csv'))\n",
    "        for i, csv_path in enumerate(csv_paths):\n",
    "            print(csv_path)\n",
    "            if 'gan' in csv_path.as_posix():\n",
    "                epoch = csv_path.stem[12:]\n",
    "                epoch = int(epoch) + 1\n",
    "                print(epoch)\n",
    "                epoch = str(epoch).zfill(3)\n",
    "            elif 'pre' in csv_path.as_posix():\n",
    "                epoch = csv_path.stem[10:]\n",
    "                print(epoch)\n",
    "                epoch = int(epoch)\n",
    "                epoch = str(epoch).zfill(3)\n",
    "            else:\n",
    "                raise ValueError\n",
    "            name = csv_path.parents[0].stem + '-' + csv_path.stem[6:9] + '-' + epoch\n",
    "            print(name)\n",
    "            dfs[name] = read_epoch_csv(csv_path, metrics_filter=METRICS)\n",
    "            dfs[name] = dfs[name].apply(path_to_columns, axis=1)\n",
    "            \n",
    "        experiments_dict[experiment] = dfs\n",
    "        \n",
    "    return experiments_dict\n",
    "\n",
    "if EVERY_KTH_EPOCH:\n",
    "    if READ_EPOCH_CSVS:\n",
    "        experiments_dict = every_kth_epoch(LOGS_DIR, EXPERIMENTS)\n",
    "    else:\n",
    "        experiments_dict = dict.fromkeys(EXPERIMENTS)\n",
    "    print(experiments_dict)"
   ]
  },
  {
   "cell_type": "code",
   "execution_count": 61,
   "metadata": {
    "scrolled": true
   },
   "outputs": [],
   "source": [
    "def stats_columns(row):\n",
    "    if 'GE01' in row.name:\n",
    "        row['sensor'] = 'GE01'\n",
    "    elif 'WV02' in row.name:\n",
    "        row['sensor'] = 'WV02'\n",
    "    else:\n",
    "        raise ValueError\n",
    "    \n",
    "    if 'pre' in row.name:\n",
    "        row['pre_or_gan'] = 'pre'\n",
    "    elif 'gan' in row.name:\n",
    "        row['pre_or_gan'] = 'gan'\n",
    "    else:\n",
    "        raise ValueError\n",
    "\n",
    "    row['epoch'] = int(row.name[-3:])\n",
    "    print(row)\n",
    "    return row    \n",
    "\n",
    "def compute_epoch_statistics(dfs, statistic='mean', decimals=2):\n",
    "    stats = {}\n",
    "    for df_name in dfs.keys():\n",
    "        #print(df_name)\n",
    "        \n",
    "        if statistic == 'mean':\n",
    "            stats[df_name] = dfs[df_name].mean()\n",
    "        elif statistic == 'median':\n",
    "            stats[df_name] = dfs[df_name].median()\n",
    "        elif statistic == 'std':\n",
    "            stats[df_name] = dfs[df_name].std()\n",
    "        elif statistic == 'count':\n",
    "            stats[df_name] = dfs[df_name].count()\n",
    "        elif statistic == 'sem':\n",
    "            stats[df_name] = dfs[df_name].sem()\n",
    "    stats = pd.DataFrame.from_dict(stats).transpose().round(decimals)\n",
    "    #print(stats)\n",
    "    stats = stats.apply(stats_columns, axis=1)\n",
    "    stats = stats.astype({'epoch': 'int32'})\n",
    "    stats['iterations'] = stats['epoch'] * 1000\n",
    "    stats.sort_values(by=['sensor', 'pre_or_gan', 'epoch'], inplace=True)\n",
    "\n",
    "    return stats\n",
    "\n",
    "#df_mean = compute_epoch_statistics(experiments_dict['e01-4'], statistic='mean', \n",
    "#                                   decimals={'PSNR': 2, 'SSIM': 3, 'NIQE': 2, 'Ma': 2, 'PI': 2})\n",
    "#df_median = compute_statistics(dfs, statistic='median')\n",
    "#df_std = compute_statistics(dfs, statistic='std')\n",
    "#df_count = compute_statistics(dfs, statistic='count')\n",
    "\n",
    "# sem = standard error of the mean (with n-1)\n",
    "#df_sem = compute_statistics(dfs, statistic='sem', decimals={'PSNR': 2, 'SSIM': 3, 'NIQE': 2, 'Ma': 2, 'PI': 2}) \n",
    "#df_mean"
   ]
  },
  {
   "cell_type": "code",
   "execution_count": 62,
   "metadata": {},
   "outputs": [
    {
     "name": "stdout",
     "output_type": "stream",
     "text": [
      "e01-4\n",
      "e04-4\n",
      "e05-4\n",
      "e06-4\n"
     ]
    }
   ],
   "source": [
    "def compute_experiment_epoch_means(experiments_dict, save_to_csv=True, load_from_csv=False):\n",
    "    exp_means = {}\n",
    "    if save_to_csv and load_from_csv:\n",
    "        raise ValueError('Do not load and save. Makes no sense.')\n",
    "        \n",
    "    for experiment, dfs in experiments_dict.items():\n",
    "        print(experiment)\n",
    "        csv_path = LOGS_DIR + '/' + experiment + '/csv/' + experiment + '-epoch-metrics.csv'\n",
    "        if load_from_csv:\n",
    "            stat_df = pd.read_csv(csv_path, index_col=0)\n",
    "        else:\n",
    "            stat_df = compute_epoch_statistics(dfs, statistic='mean', \n",
    "                                               decimals={'PSNR': 2, 'SSIM': 3, 'NIQE': 2, 'Ma': 2, 'PI': 2})\n",
    "        if save_to_csv:\n",
    "            stat_df.to_csv(csv_path)\n",
    "        exp_means[experiment] = stat_df\n",
    "    return exp_means\n",
    "\n",
    "if EVERY_KTH_EPOCH:\n",
    "    if READ_EPOCH_CSVS:\n",
    "        stat_dict = compute_experiment_epoch_means(experiments_dict, save_to_csv=True, load_from_csv=False)\n",
    "    else:\n",
    "        stat_dict = compute_experiment_epoch_means(experiments_dict, save_to_csv=False, load_from_csv=True)"
   ]
  },
  {
   "cell_type": "code",
   "execution_count": 63,
   "metadata": {
    "scrolled": false
   },
   "outputs": [],
   "source": [
    "#stat_dict"
   ]
  },
  {
   "cell_type": "code",
   "execution_count": 64,
   "metadata": {},
   "outputs": [],
   "source": [
    "def compute_statistics(dfs, statistic='mean', decimals=2):\n",
    "    stats = {}\n",
    "    for df_name in dfs.keys():\n",
    "        row_name = df_name.replace('final_epoch-', '')\n",
    "        if statistic == 'mean':\n",
    "            stats[row_name] = dfs[df_name].mean()\n",
    "        elif statistic == 'median':\n",
    "            stats[row_name] = dfs[df_name].median()\n",
    "        elif statistic == 'std':\n",
    "            stats[row_name] = dfs[df_name].std()\n",
    "        elif statistic == 'count':\n",
    "            stats[row_name] = dfs[df_name].count()\n",
    "        elif statistic == 'sem':\n",
    "            stats[row_name] = dfs[df_name].sem()\n",
    "\n",
    "    stats = pd.DataFrame.from_dict(stats).transpose().round(decimals)\n",
    "    return stats\n",
    "\n",
    "df_mean = compute_statistics(dfs, statistic='mean', decimals={'PSNR': 2, 'SSIM': 3, 'NIQE': 2, 'Ma': 2, 'PI': 2})\n",
    "#df_median = compute_statistics(dfs, statistic='median')\n",
    "#df_std = compute_statistics(dfs, statistic='std')\n",
    "df_count = compute_statistics(dfs, statistic='count')\n",
    "\n",
    "# sem = standard error of the mean (with n-1)\n",
    "df_sem = compute_statistics(dfs, statistic='sem', decimals={'PSNR': 2, 'SSIM': 3, 'NIQE': 2, 'Ma': 2, 'PI': 2}) "
   ]
  },
  {
   "cell_type": "code",
   "execution_count": 65,
   "metadata": {},
   "outputs": [
    {
     "data": {
      "text/html": [
       "<div>\n",
       "<style scoped>\n",
       "    .dataframe tbody tr th:only-of-type {\n",
       "        vertical-align: middle;\n",
       "    }\n",
       "\n",
       "    .dataframe tbody tr th {\n",
       "        vertical-align: top;\n",
       "    }\n",
       "\n",
       "    .dataframe thead th {\n",
       "        text-align: right;\n",
       "    }\n",
       "</style>\n",
       "<table border=\"1\" class=\"dataframe\">\n",
       "  <thead>\n",
       "    <tr style=\"text-align: right;\">\n",
       "      <th></th>\n",
       "      <th>PSNR</th>\n",
       "      <th>NIQE</th>\n",
       "      <th>Ma</th>\n",
       "      <th>SSIM</th>\n",
       "      <th>PI</th>\n",
       "    </tr>\n",
       "  </thead>\n",
       "  <tbody>\n",
       "    <tr>\n",
       "      <th>e01-4-bicubic-val-GE01</th>\n",
       "      <td>29.38</td>\n",
       "      <td>8.24</td>\n",
       "      <td>2.64</td>\n",
       "      <td>0.656</td>\n",
       "      <td>7.80</td>\n",
       "    </tr>\n",
       "    <tr>\n",
       "      <th>e01-4-bicubic-val-WV02</th>\n",
       "      <td>30.69</td>\n",
       "      <td>7.92</td>\n",
       "      <td>2.66</td>\n",
       "      <td>0.676</td>\n",
       "      <td>7.63</td>\n",
       "    </tr>\n",
       "    <tr>\n",
       "      <th>e01-4-gan-val-GE01</th>\n",
       "      <td>31.95</td>\n",
       "      <td>5.31</td>\n",
       "      <td>4.08</td>\n",
       "      <td>0.783</td>\n",
       "      <td>5.62</td>\n",
       "    </tr>\n",
       "    <tr>\n",
       "      <th>e01-4-gan-val-WV02</th>\n",
       "      <td>33.51</td>\n",
       "      <td>4.89</td>\n",
       "      <td>4.46</td>\n",
       "      <td>0.806</td>\n",
       "      <td>5.22</td>\n",
       "    </tr>\n",
       "    <tr>\n",
       "      <th>e01-4-HR-val-GE01</th>\n",
       "      <td>29.38</td>\n",
       "      <td>5.48</td>\n",
       "      <td>4.43</td>\n",
       "      <td>0.656</td>\n",
       "      <td>5.53</td>\n",
       "    </tr>\n",
       "    <tr>\n",
       "      <th>e01-4-HR-val-WV02</th>\n",
       "      <td>30.69</td>\n",
       "      <td>5.67</td>\n",
       "      <td>4.27</td>\n",
       "      <td>0.676</td>\n",
       "      <td>5.70</td>\n",
       "    </tr>\n",
       "    <tr>\n",
       "      <th>e01-4-pre-val-GE01</th>\n",
       "      <td>33.18</td>\n",
       "      <td>8.23</td>\n",
       "      <td>2.64</td>\n",
       "      <td>0.812</td>\n",
       "      <td>7.80</td>\n",
       "    </tr>\n",
       "    <tr>\n",
       "      <th>e01-4-pre-val-WV02</th>\n",
       "      <td>34.78</td>\n",
       "      <td>8.33</td>\n",
       "      <td>2.74</td>\n",
       "      <td>0.834</td>\n",
       "      <td>7.79</td>\n",
       "    </tr>\n",
       "    <tr>\n",
       "      <th>e04-4-gan-val-GE01</th>\n",
       "      <td>32.10</td>\n",
       "      <td>5.28</td>\n",
       "      <td>4.23</td>\n",
       "      <td>0.788</td>\n",
       "      <td>5.52</td>\n",
       "    </tr>\n",
       "    <tr>\n",
       "      <th>e04-4-gan-val-WV02</th>\n",
       "      <td>33.30</td>\n",
       "      <td>4.65</td>\n",
       "      <td>4.45</td>\n",
       "      <td>0.799</td>\n",
       "      <td>5.10</td>\n",
       "    </tr>\n",
       "    <tr>\n",
       "      <th>e04-4-pre-val-GE01</th>\n",
       "      <td>32.45</td>\n",
       "      <td>8.39</td>\n",
       "      <td>2.80</td>\n",
       "      <td>0.780</td>\n",
       "      <td>7.80</td>\n",
       "    </tr>\n",
       "    <tr>\n",
       "      <th>e04-4-pre-val-WV02</th>\n",
       "      <td>33.09</td>\n",
       "      <td>8.46</td>\n",
       "      <td>2.74</td>\n",
       "      <td>0.793</td>\n",
       "      <td>7.86</td>\n",
       "    </tr>\n",
       "    <tr>\n",
       "      <th>e05-4-gan-val-GE01</th>\n",
       "      <td>32.38</td>\n",
       "      <td>5.94</td>\n",
       "      <td>4.13</td>\n",
       "      <td>0.810</td>\n",
       "      <td>5.90</td>\n",
       "    </tr>\n",
       "    <tr>\n",
       "      <th>e05-4-gan-val-WV02</th>\n",
       "      <td>33.33</td>\n",
       "      <td>5.08</td>\n",
       "      <td>4.37</td>\n",
       "      <td>0.800</td>\n",
       "      <td>5.36</td>\n",
       "    </tr>\n",
       "    <tr>\n",
       "      <th>e05-4-pre-val-GE01-ma_niqe_HR-</th>\n",
       "      <td>33.32</td>\n",
       "      <td>5.48</td>\n",
       "      <td>4.42</td>\n",
       "      <td>0.819</td>\n",
       "      <td>5.53</td>\n",
       "    </tr>\n",
       "    <tr>\n",
       "      <th>e05-4-pre-val-GE01</th>\n",
       "      <td>33.32</td>\n",
       "      <td>8.26</td>\n",
       "      <td>2.71</td>\n",
       "      <td>0.820</td>\n",
       "      <td>7.77</td>\n",
       "    </tr>\n",
       "    <tr>\n",
       "      <th>e05-4-pre-val-WV02</th>\n",
       "      <td>34.18</td>\n",
       "      <td>8.46</td>\n",
       "      <td>2.75</td>\n",
       "      <td>0.818</td>\n",
       "      <td>7.85</td>\n",
       "    </tr>\n",
       "    <tr>\n",
       "      <th>e06-4-gan-val-GE01</th>\n",
       "      <td>32.49</td>\n",
       "      <td>5.66</td>\n",
       "      <td>4.09</td>\n",
       "      <td>0.804</td>\n",
       "      <td>5.78</td>\n",
       "    </tr>\n",
       "    <tr>\n",
       "      <th>e06-4-gan-val-WV02</th>\n",
       "      <td>33.06</td>\n",
       "      <td>4.99</td>\n",
       "      <td>4.38</td>\n",
       "      <td>0.792</td>\n",
       "      <td>5.31</td>\n",
       "    </tr>\n",
       "    <tr>\n",
       "      <th>e06-4-pre-val-GE01</th>\n",
       "      <td>33.25</td>\n",
       "      <td>8.34</td>\n",
       "      <td>2.67</td>\n",
       "      <td>0.829</td>\n",
       "      <td>7.83</td>\n",
       "    </tr>\n",
       "    <tr>\n",
       "      <th>e06-4-pre-val-WV02</th>\n",
       "      <td>33.50</td>\n",
       "      <td>8.08</td>\n",
       "      <td>2.76</td>\n",
       "      <td>0.799</td>\n",
       "      <td>7.66</td>\n",
       "    </tr>\n",
       "  </tbody>\n",
       "</table>\n",
       "</div>"
      ],
      "text/plain": [
       "                                 PSNR  NIQE    Ma   SSIM    PI\n",
       "e01-4-bicubic-val-GE01          29.38  8.24  2.64  0.656  7.80\n",
       "e01-4-bicubic-val-WV02          30.69  7.92  2.66  0.676  7.63\n",
       "e01-4-gan-val-GE01              31.95  5.31  4.08  0.783  5.62\n",
       "e01-4-gan-val-WV02              33.51  4.89  4.46  0.806  5.22\n",
       "e01-4-HR-val-GE01               29.38  5.48  4.43  0.656  5.53\n",
       "e01-4-HR-val-WV02               30.69  5.67  4.27  0.676  5.70\n",
       "e01-4-pre-val-GE01              33.18  8.23  2.64  0.812  7.80\n",
       "e01-4-pre-val-WV02              34.78  8.33  2.74  0.834  7.79\n",
       "e04-4-gan-val-GE01              32.10  5.28  4.23  0.788  5.52\n",
       "e04-4-gan-val-WV02              33.30  4.65  4.45  0.799  5.10\n",
       "e04-4-pre-val-GE01              32.45  8.39  2.80  0.780  7.80\n",
       "e04-4-pre-val-WV02              33.09  8.46  2.74  0.793  7.86\n",
       "e05-4-gan-val-GE01              32.38  5.94  4.13  0.810  5.90\n",
       "e05-4-gan-val-WV02              33.33  5.08  4.37  0.800  5.36\n",
       "e05-4-pre-val-GE01-ma_niqe_HR-  33.32  5.48  4.42  0.819  5.53\n",
       "e05-4-pre-val-GE01              33.32  8.26  2.71  0.820  7.77\n",
       "e05-4-pre-val-WV02              34.18  8.46  2.75  0.818  7.85\n",
       "e06-4-gan-val-GE01              32.49  5.66  4.09  0.804  5.78\n",
       "e06-4-gan-val-WV02              33.06  4.99  4.38  0.792  5.31\n",
       "e06-4-pre-val-GE01              33.25  8.34  2.67  0.829  7.83\n",
       "e06-4-pre-val-WV02              33.50  8.08  2.76  0.799  7.66"
      ]
     },
     "execution_count": 65,
     "metadata": {},
     "output_type": "execute_result"
    }
   ],
   "source": [
    "#df_mean.to_csv(LOGS_DIR + '/e01-means.csv')\n",
    "#df_sem.to_csv(LOGS_DIR + '/e01-sems.csv')\n",
    "#df_count.to_csv(LOGS_DIR + '/e01-counts.csv')\n",
    "df_mean"
   ]
  },
  {
   "cell_type": "code",
   "execution_count": 66,
   "metadata": {
    "scrolled": true
   },
   "outputs": [],
   "source": [
    "#df_mean.loc['e07-4-HR-test-GE01', 'NIQE']"
   ]
  },
  {
   "cell_type": "code",
   "execution_count": 67,
   "metadata": {
    "scrolled": false
   },
   "outputs": [
    {
     "data": {
      "application/vnd.plotly.v1+json": {
       "config": {
        "plotlyServerURL": "https://plot.ly"
       },
       "data": [
        {
         "legendgroup": "GE01",
         "line": {
          "dash": "dashdot"
         },
         "marker": {
          "color": "#00CC96"
         },
         "mode": "lines",
         "name": "m4: GeoEye-1, 4 (all) bands",
         "type": "scatter",
         "x": [
          1000,
          25000,
          50000,
          75000,
          100000,
          125000,
          150000,
          175000,
          200000,
          225000,
          250000,
          275000,
          300000,
          325000,
          350000,
          375000,
          400000
         ],
         "xaxis": "x",
         "y": [
          18.26,
          27.3,
          30.997142857142858,
          32.16133333333333,
          32.857419354838704,
          33.27523809523809,
          33.39354330708661,
          33.21105882352941,
          33.36082191780822,
          33.410459433040074,
          33.26515876893014,
          33.31259096459097,
          33.13627395922354,
          33.19314045046695,
          33.33657460249641,
          33.20828534370947,
          33.19414256395389
         ],
         "yaxis": "y"
        },
        {
         "legendgroup": "WV02",
         "line": {
          "dash": "solid"
         },
         "marker": {
          "color": "#00CC96"
         },
         "mode": "lines",
         "name": "m4: WorldView-2, 4 bands",
         "type": "scatter",
         "x": [
          1000,
          25000,
          50000,
          75000,
          100000,
          125000,
          150000,
          175000,
          200000,
          225000,
          250000,
          275000,
          300000,
          325000,
          350000,
          375000,
          400000
         ],
         "xaxis": "x",
         "y": [
          22.44,
          29.073333333333334,
          31.391428571428573,
          32.45733333333333,
          33.42903225806452,
          33.713968253968254,
          33.963937007874016,
          33.716,
          33.88332681017612,
          34.34211143695014,
          34.195984367366876,
          34.68311111111111,
          34.72156024905384,
          34.70077885613136,
          34.68538895840327,
          34.7276951247425,
          34.75384776190004
         ],
         "yaxis": "y"
        },
        {
         "legendgroup": "GE01",
         "line": {
          "dash": "dashdot"
         },
         "marker": {
          "color": "#00CC96"
         },
         "mode": "lines",
         "name": "GE01",
         "showlegend": false,
         "type": "scatter",
         "x": [
          1000,
          25000,
          50000,
          75000,
          100000,
          125000,
          150000,
          175000,
          200000,
          225000,
          250000,
          275000,
          300000,
          325000,
          350000,
          375000,
          400000
         ],
         "xaxis": "x2",
         "y": [
          32.36,
          32.13333333333333,
          32.354285714285716,
          31.78666666666667,
          31.855483870967742,
          31.680000000000003,
          31.87149606299213,
          31.70007843137255,
          31.91545988258317,
          31.912727272727274,
          32.12646800195408,
          32.02821001221002,
          31.964097179831523,
          31.957048159677715,
          32.07852778710288,
          32.21926604104677,
          32.08463199334712
         ],
         "yaxis": "y2"
        },
        {
         "legendgroup": "WV02",
         "line": {
          "dash": "solid"
         },
         "marker": {
          "color": "#00CC96"
         },
         "mode": "lines",
         "name": "WV02",
         "showlegend": false,
         "type": "scatter",
         "x": [
          1000,
          25000,
          50000,
          75000,
          100000,
          125000,
          150000,
          175000,
          200000,
          225000,
          250000,
          275000,
          300000,
          325000,
          350000,
          375000,
          400000
         ],
         "xaxis": "x2",
         "y": [
          34.27,
          33.89000000000001,
          33.79857142857143,
          33.730000000000004,
          33.71451612903226,
          33.600476190476186,
          33.55488188976378,
          33.56749019607843,
          33.54369863013699,
          33.57688172043011,
          33.558431851489985,
          33.56421733821734,
          33.622115736784274,
          33.63605871940426,
          33.64802972502823,
          33.659015030136565,
          33.58450694661672
         ],
         "yaxis": "y2"
        },
        {
         "legendgroup": "GE01",
         "line": {
          "dash": "dashdot"
         },
         "marker": {
          "color": "#00CC96"
         },
         "mode": "lines",
         "name": "m4: GeoEye-1, 4 (all) bands",
         "showlegend": false,
         "type": "scatter",
         "x": [
          1000,
          25000,
          50000,
          75000,
          100000,
          125000,
          150000,
          175000,
          200000,
          225000,
          250000,
          275000,
          300000,
          325000,
          350000,
          375000,
          400000
         ],
         "xaxis": "x3",
         "y": [
          13.08,
          9.44,
          8.485714285714286,
          8.066666666666666,
          8.011612903225807,
          7.939682539682541,
          7.919685039370079,
          7.980078431372549,
          8.14536203522505,
          8.207741935483872,
          8.233883732291158,
          8.231941391941392,
          8.225969967036994,
          8.18798266495758,
          8.228992584002198,
          8.224496223392082,
          8.227248132691443
         ],
         "yaxis": "y3"
        },
        {
         "legendgroup": "WV02",
         "line": {
          "dash": "solid"
         },
         "marker": {
          "color": "#00CC96"
         },
         "mode": "lines",
         "name": "m4: WorldView-2, 4 bands",
         "showlegend": false,
         "type": "scatter",
         "x": [
          1000,
          25000,
          50000,
          75000,
          100000,
          125000,
          150000,
          175000,
          200000,
          225000,
          250000,
          275000,
          300000,
          325000,
          350000,
          375000,
          400000
         ],
         "xaxis": "x3",
         "y": [
          10.01,
          8.116666666666667,
          7.615714285714286,
          7.591333333333334,
          7.699032258064516,
          7.780793650793652,
          7.765275590551181,
          7.812823529411765,
          7.971722113502936,
          8.085972629521017,
          8.148016609672693,
          8.159010989010989,
          8.239515321694542,
          8.249758286028198,
          8.279880062257758,
          8.32994079499504,
          8.32997039772337
         ],
         "yaxis": "y3"
        },
        {
         "legendgroup": "GE01",
         "line": {
          "dash": "dashdot"
         },
         "marker": {
          "color": "#00CC96"
         },
         "mode": "lines",
         "name": "GE01",
         "showlegend": false,
         "type": "scatter",
         "x": [
          1000,
          25000,
          50000,
          75000,
          100000,
          125000,
          150000,
          175000,
          200000,
          225000,
          250000,
          275000,
          300000,
          325000,
          350000,
          375000,
          400000
         ],
         "xaxis": "x4",
         "y": [
          6.51,
          5.6433333333333335,
          5.401428571428572,
          5.384666666666667,
          5.330645161290323,
          5.325238095238095,
          5.302440944881891,
          5.210862745098039,
          5.325655577299413,
          5.392893450635387,
          5.291397166585248,
          5.415728937728939,
          5.407863508729093,
          5.398931209180248,
          5.344463942381053,
          5.5872356755931945,
          5.448616780218354
         ],
         "yaxis": "y4"
        },
        {
         "legendgroup": "WV02",
         "line": {
          "dash": "solid"
         },
         "marker": {
          "color": "#00CC96"
         },
         "mode": "lines",
         "name": "WV02",
         "showlegend": false,
         "type": "scatter",
         "x": [
          1000,
          25000,
          50000,
          75000,
          100000,
          125000,
          150000,
          175000,
          200000,
          225000,
          250000,
          275000,
          300000,
          325000,
          350000,
          375000,
          400000
         ],
         "xaxis": "x4",
         "y": [
          5.79,
          5.196666666666666,
          5.0442857142857145,
          4.978,
          4.865483870967742,
          4.837301587301587,
          4.813464566929134,
          4.766549019607842,
          4.773287671232876,
          4.85672531769306,
          4.758314606741573,
          4.80916971916972,
          4.859591014528141,
          4.934800097662211,
          4.91739951780755,
          5.018701304646371,
          4.954350161362925
         ],
         "yaxis": "y4"
        },
        {
         "legendgroup": "GE01",
         "line": {
          "dash": "dashdot"
         },
         "marker": {
          "color": "#FFA15A"
         },
         "mode": "lines",
         "name": "m4-os: GeoEye-1, 4 (all) bands <br>            with oversampling (os)",
         "type": "scatter",
         "x": [
          1000,
          25000,
          50000,
          75000,
          100000,
          125000,
          150000,
          175000,
          200000,
          225000,
          250000,
          275000,
          300000,
          325000,
          350000,
          375000,
          400000
         ],
         "xaxis": "x",
         "y": [
          21.31,
          28.663333333333338,
          30.815714285714286,
          31.303333333333335,
          31.63193548387097,
          32.33190476190476,
          32.7240157480315,
          32.581450980392155,
          32.73101761252447,
          32.820596285434995,
          32.98537860283342,
          32.87766300366301,
          32.453779758271274,
          32.53189464689007,
          32.74595385601367,
          32.81297795071335,
          32.77648869696577
         ],
         "yaxis": "y"
        },
        {
         "legendgroup": "WV02",
         "line": {
          "dash": "solid"
         },
         "marker": {
          "color": "#FFA15A"
         },
         "mode": "lines",
         "name": "m4-os: WorldView-2, 4 bands <br>            with oversampling (os)",
         "type": "scatter",
         "x": [
          1000,
          25000,
          50000,
          75000,
          100000,
          125000,
          150000,
          175000,
          200000,
          225000,
          250000,
          275000,
          300000,
          325000,
          350000,
          375000,
          400000
         ],
         "xaxis": "x",
         "y": [
          25.04,
          30.159999999999997,
          31.474285714285713,
          32.26133333333333,
          32.40516129032258,
          33.11873015873016,
          33.46204724409449,
          33.837490196078434,
          34.00407045009785,
          34.007038123167156,
          33.93848558866633,
          34.11928693528693,
          34.27966304480527,
          34.2098272599646,
          34.089909970397045,
          34.024953994048985,
          34.192478275133325
         ],
         "yaxis": "y"
        },
        {
         "legendgroup": "GE01",
         "line": {
          "dash": "dashdot"
         },
         "marker": {
          "color": "#FFA15A"
         },
         "mode": "lines",
         "name": "GE01",
         "showlegend": false,
         "type": "scatter",
         "x": [
          1000,
          25000,
          50000,
          75000,
          100000,
          125000,
          150000,
          175000,
          200000,
          225000,
          250000,
          275000,
          300000,
          325000,
          350000,
          375000,
          400000
         ],
         "xaxis": "x2",
         "y": [
          32.55,
          32.336666666666666,
          32.29857142857143,
          32.214000000000006,
          32.160322580645165,
          32.30238095238096,
          32.43724409448819,
          32.21776470588235,
          32.10365949119374,
          32.21193548387097,
          32.34603321934538,
          32.26799755799755,
          32.29900256378953,
          32.11949032533724,
          32.20474776451918,
          32.00237079423209,
          32.05118576954476
         ],
         "yaxis": "y2"
        },
        {
         "legendgroup": "WV02",
         "line": {
          "dash": "solid"
         },
         "marker": {
          "color": "#FFA15A"
         },
         "mode": "lines",
         "name": "WV02",
         "showlegend": false,
         "type": "scatter",
         "x": [
          1000,
          25000,
          50000,
          75000,
          100000,
          125000,
          150000,
          175000,
          200000,
          225000,
          250000,
          275000,
          300000,
          325000,
          350000,
          375000,
          400000
         ],
         "xaxis": "x2",
         "y": [
          33.79,
          33.449999999999996,
          33.455714285714286,
          33.431333333333335,
          33.34290322580645,
          33.29571428571429,
          33.21724409448819,
          33.198549019607846,
          33.25438356164384,
          33.2872238514174,
          33.1985686370298,
          33.169277167277166,
          33.1646380173361,
          33.15231825672953,
          33.15115909298989,
          33.10557885099565,
          33.20279016716131
         ],
         "yaxis": "y2"
        },
        {
         "legendgroup": "GE01",
         "line": {
          "dash": "dashdot"
         },
         "marker": {
          "color": "#FFA15A"
         },
         "mode": "lines",
         "name": "m4-os: GeoEye-1, 4 (all) bands <br>            with oversampling (os)",
         "showlegend": false,
         "type": "scatter",
         "x": [
          1000,
          25000,
          50000,
          75000,
          100000,
          125000,
          150000,
          175000,
          200000,
          225000,
          250000,
          275000,
          300000,
          325000,
          350000,
          375000,
          400000
         ],
         "xaxis": "x3",
         "y": [
          12.3,
          8.766666666666667,
          8.265714285714285,
          8.012,
          7.912903225806452,
          7.9825396825396835,
          8.046771653543308,
          8.173882352941177,
          8.23706457925636,
          8.158455522971652,
          8.209252564728871,
          8.219628815628816,
          8.27482114515932,
          8.292411646218643,
          8.316206549272135,
          8.278102693217365,
          8.329051735319027
         ],
         "yaxis": "y3"
        },
        {
         "legendgroup": "WV02",
         "line": {
          "dash": "solid"
         },
         "marker": {
          "color": "#FFA15A"
         },
         "mode": "lines",
         "name": "m4-os: WorldView-2, 4 bands <br>            with oversampling (os)",
         "showlegend": false,
         "type": "scatter",
         "x": [
          1000,
          25000,
          50000,
          75000,
          100000,
          125000,
          150000,
          175000,
          200000,
          225000,
          250000,
          275000,
          300000,
          325000,
          350000,
          375000,
          400000
         ],
         "xaxis": "x3",
         "y": [
          8.68,
          7.466666666666666,
          7.525714285714286,
          7.5120000000000005,
          7.6245161290322585,
          7.693333333333333,
          7.8982677165354325,
          8.06478431372549,
          8.152563600782779,
          8.051182795698926,
          8.11562286272594,
          8.202832722832722,
          8.256422903186424,
          8.318215223097113,
          8.339108249153112,
          8.399555046921494,
          8.459777982925285
         ],
         "yaxis": "y3"
        },
        {
         "legendgroup": "GE01",
         "line": {
          "dash": "dashdot"
         },
         "marker": {
          "color": "#FFA15A"
         },
         "mode": "lines",
         "name": "GE01",
         "showlegend": false,
         "type": "scatter",
         "x": [
          1000,
          25000,
          50000,
          75000,
          100000,
          125000,
          150000,
          175000,
          200000,
          225000,
          250000,
          275000,
          300000,
          325000,
          350000,
          375000,
          400000
         ],
         "xaxis": "x4",
         "y": [
          6.24,
          5.62,
          5.305714285714286,
          5.222666666666667,
          5.123225806451613,
          5.131746031746031,
          5.009921259842519,
          5.030039215686274,
          5.270489236790606,
          5.380351906158358,
          5.190083048363459,
          5.31507203907204,
          5.142514955438896,
          5.241263504852591,
          5.080626850184637,
          5.340317387655451,
          5.310158463733397
         ],
         "yaxis": "y4"
        },
        {
         "legendgroup": "WV02",
         "line": {
          "dash": "solid"
         },
         "marker": {
          "color": "#FFA15A"
         },
         "mode": "lines",
         "name": "WV02",
         "showlegend": false,
         "type": "scatter",
         "x": [
          1000,
          25000,
          50000,
          75000,
          100000,
          125000,
          150000,
          175000,
          200000,
          225000,
          250000,
          275000,
          300000,
          325000,
          350000,
          375000,
          400000
         ],
         "xaxis": "x4",
         "y": [
          6.27,
          5.53,
          5.17,
          5.058000000000001,
          4.893870967741936,
          4.805555555555555,
          4.701968503937008,
          4.6859215686274505,
          4.948473581213308,
          4.879169110459433,
          4.764528578407425,
          5.072339438339438,
          4.881146380173361,
          4.950577427821522,
          4.800284127323222,
          4.935144121461815,
          4.792570972984108
         ],
         "yaxis": "y4"
        },
        {
         "legendgroup": "GE01",
         "line": {
          "dash": "dashdot"
         },
         "marker": {
          "color": "#19D3F3"
         },
         "mode": "lines",
         "name": "m4-au: GeoEye-1, 4 (all) bands <br>            with augmentation (aug)",
         "type": "scatter",
         "x": [
          1000,
          25000,
          50000,
          75000,
          100000,
          125000,
          150000,
          175000,
          200000,
          225000,
          250000,
          275000,
          300000,
          325000,
          350000,
          375000,
          400000
         ],
         "xaxis": "x",
         "y": [
          18.93,
          25.87,
          29.470000000000002,
          30.67,
          30.92290322580645,
          32.26238095238096,
          31.65141732283465,
          31.871568627450984,
          32.512035225048926,
          32.77627565982405,
          33.088290180752324,
          33.07414163614164,
          33.21208765718472,
          33.34605200512726,
          33.2530231635487,
          33.27151186388953,
          33.295756116913736
         ],
         "yaxis": "y"
        },
        {
         "legendgroup": "WV02",
         "line": {
          "dash": "solid"
         },
         "marker": {
          "color": "#19D3F3"
         },
         "mode": "lines",
         "name": "m4-au: WorldView-2, 4 bands <br>            with augmentation (aug)",
         "type": "scatter",
         "x": [
          1000,
          25000,
          50000,
          75000,
          100000,
          125000,
          150000,
          175000,
          200000,
          225000,
          250000,
          275000,
          300000,
          325000,
          350000,
          375000,
          400000
         ],
         "xaxis": "x",
         "y": [
          23.18,
          29.27333333333333,
          31.225714285714282,
          32.45466666666667,
          32.77225806451613,
          33.09111111111111,
          33.28708661417322,
          33.459215686274504,
          33.43956947162427,
          33.56991202346042,
          33.775056179775284,
          33.8725518925519,
          33.926282505188624,
          34.108152353048894,
          34.11407635731071,
          33.93703547722591,
          34.06851874175066
         ],
         "yaxis": "y"
        },
        {
         "legendgroup": "GE01",
         "line": {
          "dash": "dashdot"
         },
         "marker": {
          "color": "#19D3F3"
         },
         "mode": "lines",
         "name": "GE01",
         "showlegend": false,
         "type": "scatter",
         "x": [
          1000,
          25000,
          50000,
          75000,
          100000,
          125000,
          150000,
          175000,
          200000,
          225000,
          250000,
          275000,
          300000,
          325000,
          350000,
          375000,
          400000
         ],
         "xaxis": "x2",
         "y": [
          32.72,
          32.54,
          32.082857142857144,
          32.443999999999996,
          32.36967741935483,
          32.32412698412698,
          32.45811023622048,
          32.23819607843138,
          32.569745596868884,
          32.534838709677416,
          32.55242794333171,
          32.35116483516484,
          32.26557196923453,
          32.36279191845206,
          32.421397747734,
          32.67570275425345,
          32.527850249101625
         ],
         "yaxis": "y2"
        },
        {
         "legendgroup": "WV02",
         "line": {
          "dash": "solid"
         },
         "marker": {
          "color": "#19D3F3"
         },
         "mode": "lines",
         "name": "WV02",
         "showlegend": false,
         "type": "scatter",
         "x": [
          1000,
          25000,
          50000,
          75000,
          100000,
          125000,
          150000,
          175000,
          200000,
          225000,
          250000,
          275000,
          300000,
          325000,
          350000,
          375000,
          400000
         ],
         "xaxis": "x2",
         "y": [
          33.69,
          33.39666666666667,
          33.387142857142855,
          33.495333333333335,
          33.47193548387097,
          33.37444444444445,
          33.36212598425197,
          33.38113725490196,
          33.35551859099804,
          33.3877908113392,
          33.353878847093306,
          33.36194139194139,
          33.35596996703699,
          33.35798510651285,
          33.37399304177983,
          33.35199618524452,
          33.34099800871283
         ],
         "yaxis": "y2"
        },
        {
         "legendgroup": "GE01",
         "line": {
          "dash": "dashdot"
         },
         "marker": {
          "color": "#19D3F3"
         },
         "mode": "lines",
         "name": "m4-au: GeoEye-1, 4 (all) bands <br>            with augmentation (aug)",
         "showlegend": false,
         "type": "scatter",
         "x": [
          1000,
          25000,
          50000,
          75000,
          100000,
          125000,
          150000,
          175000,
          200000,
          225000,
          250000,
          275000,
          300000,
          325000,
          350000,
          375000,
          400000
         ],
         "xaxis": "x3",
         "y": [
          12.18,
          8.446666666666667,
          7.905714285714287,
          7.7906666666666675,
          7.888387096774194,
          8.006031746031747,
          8.068503937007874,
          8.11443137254902,
          8.147279843444228,
          8.22871945259042,
          8.24436736687836,
          8.267189255189255,
          8.243591747039435,
          8.27679790026247,
          8.308399914548174,
          8.264199282825972,
          8.257099587246607
         ],
         "yaxis": "y3"
        },
        {
         "legendgroup": "WV02",
         "line": {
          "dash": "solid"
         },
         "marker": {
          "color": "#19D3F3"
         },
         "mode": "lines",
         "name": "m4-au: WorldView-2, 4 bands <br>            with augmentation (aug)",
         "showlegend": false,
         "type": "scatter",
         "x": [
          1000,
          25000,
          50000,
          75000,
          100000,
          125000,
          150000,
          175000,
          200000,
          225000,
          250000,
          275000,
          300000,
          325000,
          350000,
          375000,
          400000
         ],
         "xaxis": "x3",
         "y": [
          9.06,
          7.3933333333333335,
          7.454285714285715,
          7.548,
          7.7296774193548385,
          7.938095238095238,
          8.03984251968504,
          8.145333333333333,
          8.197769080234833,
          8.273958944281523,
          8.317000488519785,
          8.333504273504273,
          8.386758637528995,
          8.453383385216382,
          8.426690878017517,
          8.408345159075303,
          8.434172776586735
         ],
         "yaxis": "y3"
        },
        {
         "legendgroup": "GE01",
         "line": {
          "dash": "dashdot"
         },
         "marker": {
          "color": "#19D3F3"
         },
         "mode": "lines",
         "name": "GE01",
         "showlegend": false,
         "type": "scatter",
         "x": [
          1000,
          25000,
          50000,
          75000,
          100000,
          125000,
          150000,
          175000,
          200000,
          225000,
          250000,
          275000,
          300000,
          325000,
          350000,
          375000,
          400000
         ],
         "xaxis": "x4",
         "y": [
          6.05,
          5.256666666666667,
          5.109999999999999,
          5.115333333333333,
          5.045483870967741,
          5.0731746031746034,
          5.116929133858268,
          5.178705882352942,
          5.27454011741683,
          5.267262952101662,
          5.438715192965315,
          5.649409035409036,
          5.759717983152241,
          5.684854422266985,
          5.667426679280984,
          5.8237157244220645,
          5.881858305803725
         ],
         "yaxis": "y4"
        },
        {
         "legendgroup": "WV02",
         "line": {
          "dash": "solid"
         },
         "marker": {
          "color": "#19D3F3"
         },
         "mode": "lines",
         "name": "WV02",
         "showlegend": false,
         "type": "scatter",
         "x": [
          1000,
          25000,
          50000,
          75000,
          100000,
          125000,
          150000,
          175000,
          200000,
          225000,
          250000,
          275000,
          300000,
          325000,
          350000,
          375000,
          400000
         ],
         "xaxis": "x4",
         "y": [
          5.98,
          5.193333333333333,
          5.111428571428571,
          5.158666666666666,
          4.927096774193549,
          4.887936507936508,
          4.909133858267717,
          4.944705882352942,
          4.927318982387476,
          4.883616813294233,
          4.9218270639960915,
          5.0409426129426125,
          4.975463313392749,
          4.927728743209425,
          4.923864253669851,
          5.02193362325475,
          5.050967033134714
         ],
         "yaxis": "y4"
        },
        {
         "legendgroup": "GE01",
         "line": {
          "dash": "dashdot"
         },
         "marker": {
          "color": "#FF6692"
         },
         "mode": "lines",
         "name": "m4-os-au: GeoEye-1, 4 (all) bands <br>                 with os and aug",
         "type": "scatter",
         "x": [
          1000,
          25000,
          50000,
          75000,
          100000,
          125000,
          150000,
          175000,
          200000,
          225000,
          250000,
          275000,
          300000,
          325000,
          350000,
          375000,
          400000
         ],
         "xaxis": "x",
         "y": [
          22.35,
          28.936666666666667,
          31.14428571428571,
          32.52333333333333,
          31.788709677419355,
          32.66301587301587,
          32.08700787401575,
          32.5503137254902,
          32.98600782778865,
          33.18820136852395,
          32.81391792867611,
          33.22205860805861,
          33.19602612623611,
          33.21301409998169,
          33.18650624103519,
          33.143252460517274,
          33.201626675618556
         ],
         "yaxis": "y"
        },
        {
         "legendgroup": "WV02",
         "line": {
          "dash": "solid"
         },
         "marker": {
          "color": "#FF6692"
         },
         "mode": "lines",
         "name": "m4-os-au: WorldView-2, 4 bands <br>                 with os and aug",
         "type": "scatter",
         "x": [
          1000,
          25000,
          50000,
          75000,
          100000,
          125000,
          150000,
          175000,
          200000,
          225000,
          250000,
          275000,
          300000,
          325000,
          350000,
          375000,
          400000
         ],
         "xaxis": "x",
         "y": [
          25.79,
          30.603333333333335,
          32.01285714285714,
          32.406,
          32.71774193548387,
          33.038888888888884,
          32.96385826771653,
          32.85149019607844,
          32.98600782778865,
          33.08309872922776,
          33.04152906692721,
          33.23081074481074,
          33.475435233793185,
          33.56772324971006,
          33.69386547441023,
          33.67693247882811,
          33.593465602612326
         ],
         "yaxis": "y"
        },
        {
         "legendgroup": "GE01",
         "line": {
          "dash": "dashdot"
         },
         "marker": {
          "color": "#FF6692"
         },
         "mode": "lines",
         "name": "GE01",
         "showlegend": false,
         "type": "scatter",
         "x": [
          1000,
          25000,
          50000,
          75000,
          100000,
          125000,
          150000,
          175000,
          200000,
          225000,
          250000,
          275000,
          300000,
          325000,
          350000,
          375000,
          400000
         ],
         "xaxis": "x2",
         "y": [
          33.24,
          32.419999999999995,
          32.17428571428571,
          32.59866666666667,
          32.568387096774195,
          32.035873015873015,
          32.108503937007875,
          31.99882352941177,
          32.330058708414875,
          32.440136852394915,
          32.65517342452369,
          32.24748717948718,
          32.53377853741912,
          32.10686321186596,
          32.31343791009247,
          32.106715800717176,
          32.29835936248293
         ],
         "yaxis": "y2"
        },
        {
         "legendgroup": "WV02",
         "line": {
          "dash": "solid"
         },
         "marker": {
          "color": "#FF6692"
         },
         "mode": "lines",
         "name": "WV02",
         "showlegend": false,
         "type": "scatter",
         "x": [
          1000,
          25000,
          50000,
          75000,
          100000,
          125000,
          150000,
          175000,
          200000,
          225000,
          250000,
          275000,
          300000,
          325000,
          350000,
          375000,
          400000
         ],
         "xaxis": "x2",
         "y": [
          33.3,
          32.946666666666665,
          32.95428571428572,
          32.77066666666666,
          32.92516129032258,
          32.85142857142857,
          32.88598425196851,
          32.893019607843144,
          32.91655577299413,
          32.893255131964814,
          32.851607230092824,
          32.92082051282051,
          32.89540715419363,
          32.76769578221327,
          32.8338499099704,
          32.94192660410468,
          33.005963790617294
         ],
         "yaxis": "y2"
        },
        {
         "legendgroup": "GE01",
         "line": {
          "dash": "dashdot"
         },
         "marker": {
          "color": "#FF6692"
         },
         "mode": "lines",
         "name": "m4-os-au: GeoEye-1, 4 (all) bands <br>                 with os and aug",
         "showlegend": false,
         "type": "scatter",
         "x": [
          1000,
          25000,
          50000,
          75000,
          100000,
          125000,
          150000,
          175000,
          200000,
          225000,
          250000,
          275000,
          300000,
          325000,
          350000,
          375000,
          400000
         ],
         "xaxis": "x3",
         "y": [
          8.99,
          8.023333333333333,
          7.992857142857143,
          8.076666666666666,
          8.150645161290322,
          8.145238095238096,
          8.14763779527559,
          8.199019607843137,
          8.219549902152643,
          8.354907135874878,
          8.357454811919883,
          8.423743589743589,
          8.466877060188011,
          8.478439235793202,
          8.444218573564868,
          8.487109941252765,
          8.408554371294946
         ],
         "yaxis": "y3"
        },
        {
         "legendgroup": "WV02",
         "line": {
          "dash": "solid"
         },
         "marker": {
          "color": "#FF6692"
         },
         "mode": "lines",
         "name": "m4-os-au: WorldView-2, 4 bands <br>                 with os and aug",
         "showlegend": false,
         "type": "scatter",
         "x": [
          1000,
          25000,
          50000,
          75000,
          100000,
          125000,
          150000,
          175000,
          200000,
          225000,
          250000,
          275000,
          300000,
          325000,
          350000,
          375000,
          400000
         ],
         "xaxis": "x3",
         "y": [
          7.39,
          7.036666666666666,
          7.324285714285714,
          7.556666666666667,
          7.718387096774193,
          7.957936507936507,
          7.863228346456692,
          8.06741176470588,
          8.133835616438356,
          8.247028347996089,
          8.353566194430874,
          8.381789987789988,
          8.430900988890247,
          8.4604522981139,
          8.405224463637195,
          8.447612878614482,
          8.263805036964698
         ],
         "yaxis": "y3"
        },
        {
         "legendgroup": "GE01",
         "line": {
          "dash": "dashdot"
         },
         "marker": {
          "color": "#FF6692"
         },
         "mode": "lines",
         "name": "GE01",
         "showlegend": false,
         "type": "scatter",
         "x": [
          1000,
          25000,
          50000,
          75000,
          100000,
          125000,
          150000,
          175000,
          200000,
          225000,
          250000,
          275000,
          300000,
          325000,
          350000,
          375000,
          400000
         ],
         "xaxis": "x4",
         "y": [
          7.09,
          5.736666666666667,
          5.5442857142857145,
          5.392666666666667,
          5.35,
          5.243333333333333,
          5.150944881889764,
          5.2558823529411764,
          5.277984344422701,
          5.278993157380254,
          5.394553004396678,
          5.467294261294262,
          5.453645464534245,
          5.46682353659281,
          5.613416241950743,
          5.546707103074693,
          5.608354021866012
         ],
         "yaxis": "y4"
        },
        {
         "legendgroup": "WV02",
         "line": {
          "dash": "solid"
         },
         "marker": {
          "color": "#FF6692"
         },
         "mode": "lines",
         "name": "WV02",
         "showlegend": false,
         "type": "scatter",
         "x": [
          1000,
          25000,
          50000,
          75000,
          100000,
          125000,
          150000,
          175000,
          200000,
          225000,
          250000,
          275000,
          300000,
          325000,
          350000,
          375000,
          400000
         ],
         "xaxis": "x4",
         "y": [
          6.76,
          5.406666666666666,
          5.248571428571428,
          5.238666666666666,
          5.079354838709677,
          4.871428571428571,
          4.724566929133858,
          4.777490196078431,
          4.73866927592955,
          4.724320625610948,
          4.732164142647777,
          4.721079365079365,
          4.740542058356733,
          4.625263993163645,
          4.867639393292031,
          4.863819638361182,
          4.926910300524144
         ],
         "yaxis": "y4"
        },
        {
         "line": {
          "dash": "solid"
         },
         "marker": {
          "color": "gray"
         },
         "mode": "lines",
         "name": "PAN (truth): WorldView-2",
         "showlegend": true,
         "type": "scatter",
         "x": [
          0,
          400000
         ],
         "xaxis": "x3",
         "y": [
          5.67,
          5.67
         ],
         "yaxis": "y3"
        },
        {
         "line": {
          "dash": "solid"
         },
         "marker": {
          "color": "gray"
         },
         "mode": "lines",
         "showlegend": false,
         "type": "scatter",
         "x": [
          0,
          400000
         ],
         "xaxis": "x4",
         "y": [
          5.67,
          5.67
         ],
         "yaxis": "y4"
        },
        {
         "line": {
          "dash": "dashdot"
         },
         "marker": {
          "color": "gray"
         },
         "mode": "lines",
         "name": "PAN (truth): GeoEye-1",
         "showlegend": true,
         "type": "scatter",
         "x": [
          0,
          400000
         ],
         "xaxis": "x3",
         "y": [
          5.48,
          5.48
         ],
         "yaxis": "y3"
        },
        {
         "line": {
          "dash": "dashdot"
         },
         "marker": {
          "color": "gray"
         },
         "mode": "lines",
         "showlegend": false,
         "type": "scatter",
         "x": [
          0,
          400000
         ],
         "xaxis": "x4",
         "y": [
          5.48,
          5.48
         ],
         "yaxis": "y4"
        }
       ],
       "layout": {
        "annotations": [
         {
          "font": {
           "size": 16
          },
          "showarrow": false,
          "text": "Pretraining (L1)",
          "x": 0.245,
          "xanchor": "center",
          "xref": "paper",
          "y": 1,
          "yanchor": "bottom",
          "yref": "paper"
         },
         {
          "font": {
           "size": 16
          },
          "showarrow": false,
          "text": "GAN-training",
          "x": 0.755,
          "xanchor": "center",
          "xref": "paper",
          "y": 1,
          "yanchor": "bottom",
          "yref": "paper"
         }
        ],
        "height": 800,
        "legend": {
         "font": {
          "size": 12
         },
         "x": 1,
         "xanchor": "right",
         "y": 0.65,
         "yanchor": "top"
        },
        "margin": {
         "b": 10,
         "l": 10,
         "r": 10,
         "t": 50
        },
        "template": {
         "data": {
          "bar": [
           {
            "error_x": {
             "color": "#2a3f5f"
            },
            "error_y": {
             "color": "#2a3f5f"
            },
            "marker": {
             "line": {
              "color": "#E5ECF6",
              "width": 0.5
             }
            },
            "type": "bar"
           }
          ],
          "barpolar": [
           {
            "marker": {
             "line": {
              "color": "#E5ECF6",
              "width": 0.5
             }
            },
            "type": "barpolar"
           }
          ],
          "carpet": [
           {
            "aaxis": {
             "endlinecolor": "#2a3f5f",
             "gridcolor": "white",
             "linecolor": "white",
             "minorgridcolor": "white",
             "startlinecolor": "#2a3f5f"
            },
            "baxis": {
             "endlinecolor": "#2a3f5f",
             "gridcolor": "white",
             "linecolor": "white",
             "minorgridcolor": "white",
             "startlinecolor": "#2a3f5f"
            },
            "type": "carpet"
           }
          ],
          "choropleth": [
           {
            "colorbar": {
             "outlinewidth": 0,
             "ticks": ""
            },
            "type": "choropleth"
           }
          ],
          "contour": [
           {
            "colorbar": {
             "outlinewidth": 0,
             "ticks": ""
            },
            "colorscale": [
             [
              0,
              "#0d0887"
             ],
             [
              0.1111111111111111,
              "#46039f"
             ],
             [
              0.2222222222222222,
              "#7201a8"
             ],
             [
              0.3333333333333333,
              "#9c179e"
             ],
             [
              0.4444444444444444,
              "#bd3786"
             ],
             [
              0.5555555555555556,
              "#d8576b"
             ],
             [
              0.6666666666666666,
              "#ed7953"
             ],
             [
              0.7777777777777778,
              "#fb9f3a"
             ],
             [
              0.8888888888888888,
              "#fdca26"
             ],
             [
              1,
              "#f0f921"
             ]
            ],
            "type": "contour"
           }
          ],
          "contourcarpet": [
           {
            "colorbar": {
             "outlinewidth": 0,
             "ticks": ""
            },
            "type": "contourcarpet"
           }
          ],
          "heatmap": [
           {
            "colorbar": {
             "outlinewidth": 0,
             "ticks": ""
            },
            "colorscale": [
             [
              0,
              "#0d0887"
             ],
             [
              0.1111111111111111,
              "#46039f"
             ],
             [
              0.2222222222222222,
              "#7201a8"
             ],
             [
              0.3333333333333333,
              "#9c179e"
             ],
             [
              0.4444444444444444,
              "#bd3786"
             ],
             [
              0.5555555555555556,
              "#d8576b"
             ],
             [
              0.6666666666666666,
              "#ed7953"
             ],
             [
              0.7777777777777778,
              "#fb9f3a"
             ],
             [
              0.8888888888888888,
              "#fdca26"
             ],
             [
              1,
              "#f0f921"
             ]
            ],
            "type": "heatmap"
           }
          ],
          "heatmapgl": [
           {
            "colorbar": {
             "outlinewidth": 0,
             "ticks": ""
            },
            "colorscale": [
             [
              0,
              "#0d0887"
             ],
             [
              0.1111111111111111,
              "#46039f"
             ],
             [
              0.2222222222222222,
              "#7201a8"
             ],
             [
              0.3333333333333333,
              "#9c179e"
             ],
             [
              0.4444444444444444,
              "#bd3786"
             ],
             [
              0.5555555555555556,
              "#d8576b"
             ],
             [
              0.6666666666666666,
              "#ed7953"
             ],
             [
              0.7777777777777778,
              "#fb9f3a"
             ],
             [
              0.8888888888888888,
              "#fdca26"
             ],
             [
              1,
              "#f0f921"
             ]
            ],
            "type": "heatmapgl"
           }
          ],
          "histogram": [
           {
            "marker": {
             "colorbar": {
              "outlinewidth": 0,
              "ticks": ""
             }
            },
            "type": "histogram"
           }
          ],
          "histogram2d": [
           {
            "colorbar": {
             "outlinewidth": 0,
             "ticks": ""
            },
            "colorscale": [
             [
              0,
              "#0d0887"
             ],
             [
              0.1111111111111111,
              "#46039f"
             ],
             [
              0.2222222222222222,
              "#7201a8"
             ],
             [
              0.3333333333333333,
              "#9c179e"
             ],
             [
              0.4444444444444444,
              "#bd3786"
             ],
             [
              0.5555555555555556,
              "#d8576b"
             ],
             [
              0.6666666666666666,
              "#ed7953"
             ],
             [
              0.7777777777777778,
              "#fb9f3a"
             ],
             [
              0.8888888888888888,
              "#fdca26"
             ],
             [
              1,
              "#f0f921"
             ]
            ],
            "type": "histogram2d"
           }
          ],
          "histogram2dcontour": [
           {
            "colorbar": {
             "outlinewidth": 0,
             "ticks": ""
            },
            "colorscale": [
             [
              0,
              "#0d0887"
             ],
             [
              0.1111111111111111,
              "#46039f"
             ],
             [
              0.2222222222222222,
              "#7201a8"
             ],
             [
              0.3333333333333333,
              "#9c179e"
             ],
             [
              0.4444444444444444,
              "#bd3786"
             ],
             [
              0.5555555555555556,
              "#d8576b"
             ],
             [
              0.6666666666666666,
              "#ed7953"
             ],
             [
              0.7777777777777778,
              "#fb9f3a"
             ],
             [
              0.8888888888888888,
              "#fdca26"
             ],
             [
              1,
              "#f0f921"
             ]
            ],
            "type": "histogram2dcontour"
           }
          ],
          "mesh3d": [
           {
            "colorbar": {
             "outlinewidth": 0,
             "ticks": ""
            },
            "type": "mesh3d"
           }
          ],
          "parcoords": [
           {
            "line": {
             "colorbar": {
              "outlinewidth": 0,
              "ticks": ""
             }
            },
            "type": "parcoords"
           }
          ],
          "pie": [
           {
            "automargin": true,
            "type": "pie"
           }
          ],
          "scatter": [
           {
            "marker": {
             "colorbar": {
              "outlinewidth": 0,
              "ticks": ""
             }
            },
            "type": "scatter"
           }
          ],
          "scatter3d": [
           {
            "line": {
             "colorbar": {
              "outlinewidth": 0,
              "ticks": ""
             }
            },
            "marker": {
             "colorbar": {
              "outlinewidth": 0,
              "ticks": ""
             }
            },
            "type": "scatter3d"
           }
          ],
          "scattercarpet": [
           {
            "marker": {
             "colorbar": {
              "outlinewidth": 0,
              "ticks": ""
             }
            },
            "type": "scattercarpet"
           }
          ],
          "scattergeo": [
           {
            "marker": {
             "colorbar": {
              "outlinewidth": 0,
              "ticks": ""
             }
            },
            "type": "scattergeo"
           }
          ],
          "scattergl": [
           {
            "marker": {
             "colorbar": {
              "outlinewidth": 0,
              "ticks": ""
             }
            },
            "type": "scattergl"
           }
          ],
          "scattermapbox": [
           {
            "marker": {
             "colorbar": {
              "outlinewidth": 0,
              "ticks": ""
             }
            },
            "type": "scattermapbox"
           }
          ],
          "scatterpolar": [
           {
            "marker": {
             "colorbar": {
              "outlinewidth": 0,
              "ticks": ""
             }
            },
            "type": "scatterpolar"
           }
          ],
          "scatterpolargl": [
           {
            "marker": {
             "colorbar": {
              "outlinewidth": 0,
              "ticks": ""
             }
            },
            "type": "scatterpolargl"
           }
          ],
          "scatterternary": [
           {
            "marker": {
             "colorbar": {
              "outlinewidth": 0,
              "ticks": ""
             }
            },
            "type": "scatterternary"
           }
          ],
          "surface": [
           {
            "colorbar": {
             "outlinewidth": 0,
             "ticks": ""
            },
            "colorscale": [
             [
              0,
              "#0d0887"
             ],
             [
              0.1111111111111111,
              "#46039f"
             ],
             [
              0.2222222222222222,
              "#7201a8"
             ],
             [
              0.3333333333333333,
              "#9c179e"
             ],
             [
              0.4444444444444444,
              "#bd3786"
             ],
             [
              0.5555555555555556,
              "#d8576b"
             ],
             [
              0.6666666666666666,
              "#ed7953"
             ],
             [
              0.7777777777777778,
              "#fb9f3a"
             ],
             [
              0.8888888888888888,
              "#fdca26"
             ],
             [
              1,
              "#f0f921"
             ]
            ],
            "type": "surface"
           }
          ],
          "table": [
           {
            "cells": {
             "fill": {
              "color": "#EBF0F8"
             },
             "line": {
              "color": "white"
             }
            },
            "header": {
             "fill": {
              "color": "#C8D4E3"
             },
             "line": {
              "color": "white"
             }
            },
            "type": "table"
           }
          ]
         },
         "layout": {
          "annotationdefaults": {
           "arrowcolor": "#2a3f5f",
           "arrowhead": 0,
           "arrowwidth": 1
          },
          "autotypenumbers": "strict",
          "coloraxis": {
           "colorbar": {
            "outlinewidth": 0,
            "ticks": ""
           }
          },
          "colorscale": {
           "diverging": [
            [
             0,
             "#8e0152"
            ],
            [
             0.1,
             "#c51b7d"
            ],
            [
             0.2,
             "#de77ae"
            ],
            [
             0.3,
             "#f1b6da"
            ],
            [
             0.4,
             "#fde0ef"
            ],
            [
             0.5,
             "#f7f7f7"
            ],
            [
             0.6,
             "#e6f5d0"
            ],
            [
             0.7,
             "#b8e186"
            ],
            [
             0.8,
             "#7fbc41"
            ],
            [
             0.9,
             "#4d9221"
            ],
            [
             1,
             "#276419"
            ]
           ],
           "sequential": [
            [
             0,
             "#0d0887"
            ],
            [
             0.1111111111111111,
             "#46039f"
            ],
            [
             0.2222222222222222,
             "#7201a8"
            ],
            [
             0.3333333333333333,
             "#9c179e"
            ],
            [
             0.4444444444444444,
             "#bd3786"
            ],
            [
             0.5555555555555556,
             "#d8576b"
            ],
            [
             0.6666666666666666,
             "#ed7953"
            ],
            [
             0.7777777777777778,
             "#fb9f3a"
            ],
            [
             0.8888888888888888,
             "#fdca26"
            ],
            [
             1,
             "#f0f921"
            ]
           ],
           "sequentialminus": [
            [
             0,
             "#0d0887"
            ],
            [
             0.1111111111111111,
             "#46039f"
            ],
            [
             0.2222222222222222,
             "#7201a8"
            ],
            [
             0.3333333333333333,
             "#9c179e"
            ],
            [
             0.4444444444444444,
             "#bd3786"
            ],
            [
             0.5555555555555556,
             "#d8576b"
            ],
            [
             0.6666666666666666,
             "#ed7953"
            ],
            [
             0.7777777777777778,
             "#fb9f3a"
            ],
            [
             0.8888888888888888,
             "#fdca26"
            ],
            [
             1,
             "#f0f921"
            ]
           ]
          },
          "colorway": [
           "#636efa",
           "#EF553B",
           "#00cc96",
           "#ab63fa",
           "#FFA15A",
           "#19d3f3",
           "#FF6692",
           "#B6E880",
           "#FF97FF",
           "#FECB52"
          ],
          "font": {
           "color": "#2a3f5f"
          },
          "geo": {
           "bgcolor": "white",
           "lakecolor": "white",
           "landcolor": "#E5ECF6",
           "showlakes": true,
           "showland": true,
           "subunitcolor": "white"
          },
          "hoverlabel": {
           "align": "left"
          },
          "hovermode": "closest",
          "mapbox": {
           "style": "light"
          },
          "paper_bgcolor": "white",
          "plot_bgcolor": "#E5ECF6",
          "polar": {
           "angularaxis": {
            "gridcolor": "white",
            "linecolor": "white",
            "ticks": ""
           },
           "bgcolor": "#E5ECF6",
           "radialaxis": {
            "gridcolor": "white",
            "linecolor": "white",
            "ticks": ""
           }
          },
          "scene": {
           "xaxis": {
            "backgroundcolor": "#E5ECF6",
            "gridcolor": "white",
            "gridwidth": 2,
            "linecolor": "white",
            "showbackground": true,
            "ticks": "",
            "zerolinecolor": "white"
           },
           "yaxis": {
            "backgroundcolor": "#E5ECF6",
            "gridcolor": "white",
            "gridwidth": 2,
            "linecolor": "white",
            "showbackground": true,
            "ticks": "",
            "zerolinecolor": "white"
           },
           "zaxis": {
            "backgroundcolor": "#E5ECF6",
            "gridcolor": "white",
            "gridwidth": 2,
            "linecolor": "white",
            "showbackground": true,
            "ticks": "",
            "zerolinecolor": "white"
           }
          },
          "shapedefaults": {
           "line": {
            "color": "#2a3f5f"
           }
          },
          "ternary": {
           "aaxis": {
            "gridcolor": "white",
            "linecolor": "white",
            "ticks": ""
           },
           "baxis": {
            "gridcolor": "white",
            "linecolor": "white",
            "ticks": ""
           },
           "bgcolor": "#E5ECF6",
           "caxis": {
            "gridcolor": "white",
            "linecolor": "white",
            "ticks": ""
           }
          },
          "title": {
           "x": 0.05
          },
          "xaxis": {
           "automargin": true,
           "gridcolor": "white",
           "linecolor": "white",
           "ticks": "",
           "title": {
            "standoff": 15
           },
           "zerolinecolor": "white",
           "zerolinewidth": 2
          },
          "yaxis": {
           "automargin": true,
           "gridcolor": "white",
           "linecolor": "white",
           "ticks": "",
           "title": {
            "standoff": 15
           },
           "zerolinecolor": "white",
           "zerolinewidth": 2
          }
         }
        },
        "title": {
         "text": "ESRGAN Baseline Experiment – Validation set",
         "x": 0.5,
         "xanchor": "center",
         "yanchor": "bottom"
        },
        "width": 1000,
        "xaxis": {
         "anchor": "y",
         "domain": [
          0,
          0.49
         ],
         "matches": "x3",
         "showticklabels": false
        },
        "xaxis2": {
         "anchor": "y2",
         "domain": [
          0.51,
          1
         ],
         "matches": "x4",
         "showticklabels": false
        },
        "xaxis3": {
         "anchor": "y3",
         "domain": [
          0,
          0.49
         ],
         "title": {
          "text": "training iterations"
         }
        },
        "xaxis4": {
         "anchor": "y4",
         "domain": [
          0.51,
          1
         ],
         "title": {
          "text": "training iterations"
         }
        },
        "yaxis": {
         "anchor": "x",
         "domain": [
          0.51,
          1
         ],
         "range": [
          27,
          36
         ],
         "title": {
          "standoff": 1,
          "text": "Peak Signal-to-Noise Ratio (PSNR)"
         }
        },
        "yaxis2": {
         "anchor": "x2",
         "domain": [
          0.51,
          1
         ],
         "matches": "y",
         "range": [
          27,
          36
         ],
         "showticklabels": false
        },
        "yaxis3": {
         "anchor": "x3",
         "domain": [
          0,
          0.49
         ],
         "range": [
          4.5,
          9
         ],
         "title": {
          "standoff": 1,
          "text": "Naturalness Image Quality Evaluator (NIQE)"
         }
        },
        "yaxis4": {
         "anchor": "x4",
         "domain": [
          0,
          0.49
         ],
         "matches": "y3",
         "range": [
          4.5,
          9
         ],
         "showticklabels": false
        }
       }
      },
      "text/html": [
       "<div>                            <div id=\"44d9aac7-c0c8-4bff-b484-31419b8cc6fc\" class=\"plotly-graph-div\" style=\"height:800px; width:1000px;\"></div>            <script type=\"text/javascript\">                require([\"plotly\"], function(Plotly) {                    window.PLOTLYENV=window.PLOTLYENV || {};                                    if (document.getElementById(\"44d9aac7-c0c8-4bff-b484-31419b8cc6fc\")) {                    Plotly.newPlot(                        \"44d9aac7-c0c8-4bff-b484-31419b8cc6fc\",                        [{\"legendgroup\": \"GE01\", \"line\": {\"dash\": \"dashdot\"}, \"marker\": {\"color\": \"#00CC96\"}, \"mode\": \"lines\", \"name\": \"m4: GeoEye-1, 4 (all) bands\", \"type\": \"scatter\", \"x\": [1000, 25000, 50000, 75000, 100000, 125000, 150000, 175000, 200000, 225000, 250000, 275000, 300000, 325000, 350000, 375000, 400000], \"xaxis\": \"x\", \"y\": [18.26, 27.3, 30.997142857142858, 32.16133333333333, 32.857419354838704, 33.27523809523809, 33.39354330708661, 33.21105882352941, 33.36082191780822, 33.410459433040074, 33.26515876893014, 33.31259096459097, 33.13627395922354, 33.19314045046695, 33.33657460249641, 33.20828534370947, 33.19414256395389], \"yaxis\": \"y\"}, {\"legendgroup\": \"WV02\", \"line\": {\"dash\": \"solid\"}, \"marker\": {\"color\": \"#00CC96\"}, \"mode\": \"lines\", \"name\": \"m4: WorldView-2, 4 bands\", \"type\": \"scatter\", \"x\": [1000, 25000, 50000, 75000, 100000, 125000, 150000, 175000, 200000, 225000, 250000, 275000, 300000, 325000, 350000, 375000, 400000], \"xaxis\": \"x\", \"y\": [22.44, 29.073333333333334, 31.391428571428573, 32.45733333333333, 33.42903225806452, 33.713968253968254, 33.963937007874016, 33.716, 33.88332681017612, 34.34211143695014, 34.195984367366876, 34.68311111111111, 34.72156024905384, 34.70077885613136, 34.68538895840327, 34.7276951247425, 34.75384776190004], \"yaxis\": \"y\"}, {\"legendgroup\": \"GE01\", \"line\": {\"dash\": \"dashdot\"}, \"marker\": {\"color\": \"#00CC96\"}, \"mode\": \"lines\", \"name\": \"GE01\", \"showlegend\": false, \"type\": \"scatter\", \"x\": [1000, 25000, 50000, 75000, 100000, 125000, 150000, 175000, 200000, 225000, 250000, 275000, 300000, 325000, 350000, 375000, 400000], \"xaxis\": \"x2\", \"y\": [32.36, 32.13333333333333, 32.354285714285716, 31.78666666666667, 31.855483870967742, 31.680000000000003, 31.87149606299213, 31.70007843137255, 31.91545988258317, 31.912727272727274, 32.12646800195408, 32.02821001221002, 31.964097179831523, 31.957048159677715, 32.07852778710288, 32.21926604104677, 32.08463199334712], \"yaxis\": \"y2\"}, {\"legendgroup\": \"WV02\", \"line\": {\"dash\": \"solid\"}, \"marker\": {\"color\": \"#00CC96\"}, \"mode\": \"lines\", \"name\": \"WV02\", \"showlegend\": false, \"type\": \"scatter\", \"x\": [1000, 25000, 50000, 75000, 100000, 125000, 150000, 175000, 200000, 225000, 250000, 275000, 300000, 325000, 350000, 375000, 400000], \"xaxis\": \"x2\", \"y\": [34.27, 33.89000000000001, 33.79857142857143, 33.730000000000004, 33.71451612903226, 33.600476190476186, 33.55488188976378, 33.56749019607843, 33.54369863013699, 33.57688172043011, 33.558431851489985, 33.56421733821734, 33.622115736784274, 33.63605871940426, 33.64802972502823, 33.659015030136565, 33.58450694661672], \"yaxis\": \"y2\"}, {\"legendgroup\": \"GE01\", \"line\": {\"dash\": \"dashdot\"}, \"marker\": {\"color\": \"#00CC96\"}, \"mode\": \"lines\", \"name\": \"m4: GeoEye-1, 4 (all) bands\", \"showlegend\": false, \"type\": \"scatter\", \"x\": [1000, 25000, 50000, 75000, 100000, 125000, 150000, 175000, 200000, 225000, 250000, 275000, 300000, 325000, 350000, 375000, 400000], \"xaxis\": \"x3\", \"y\": [13.08, 9.44, 8.485714285714286, 8.066666666666666, 8.011612903225807, 7.939682539682541, 7.919685039370079, 7.980078431372549, 8.14536203522505, 8.207741935483872, 8.233883732291158, 8.231941391941392, 8.225969967036994, 8.18798266495758, 8.228992584002198, 8.224496223392082, 8.227248132691443], \"yaxis\": \"y3\"}, {\"legendgroup\": \"WV02\", \"line\": {\"dash\": \"solid\"}, \"marker\": {\"color\": \"#00CC96\"}, \"mode\": \"lines\", \"name\": \"m4: WorldView-2, 4 bands\", \"showlegend\": false, \"type\": \"scatter\", \"x\": [1000, 25000, 50000, 75000, 100000, 125000, 150000, 175000, 200000, 225000, 250000, 275000, 300000, 325000, 350000, 375000, 400000], \"xaxis\": \"x3\", \"y\": [10.01, 8.116666666666667, 7.615714285714286, 7.591333333333334, 7.699032258064516, 7.780793650793652, 7.765275590551181, 7.812823529411765, 7.971722113502936, 8.085972629521017, 8.148016609672693, 8.159010989010989, 8.239515321694542, 8.249758286028198, 8.279880062257758, 8.32994079499504, 8.32997039772337], \"yaxis\": \"y3\"}, {\"legendgroup\": \"GE01\", \"line\": {\"dash\": \"dashdot\"}, \"marker\": {\"color\": \"#00CC96\"}, \"mode\": \"lines\", \"name\": \"GE01\", \"showlegend\": false, \"type\": \"scatter\", \"x\": [1000, 25000, 50000, 75000, 100000, 125000, 150000, 175000, 200000, 225000, 250000, 275000, 300000, 325000, 350000, 375000, 400000], \"xaxis\": \"x4\", \"y\": [6.51, 5.6433333333333335, 5.401428571428572, 5.384666666666667, 5.330645161290323, 5.325238095238095, 5.302440944881891, 5.210862745098039, 5.325655577299413, 5.392893450635387, 5.291397166585248, 5.415728937728939, 5.407863508729093, 5.398931209180248, 5.344463942381053, 5.5872356755931945, 5.448616780218354], \"yaxis\": \"y4\"}, {\"legendgroup\": \"WV02\", \"line\": {\"dash\": \"solid\"}, \"marker\": {\"color\": \"#00CC96\"}, \"mode\": \"lines\", \"name\": \"WV02\", \"showlegend\": false, \"type\": \"scatter\", \"x\": [1000, 25000, 50000, 75000, 100000, 125000, 150000, 175000, 200000, 225000, 250000, 275000, 300000, 325000, 350000, 375000, 400000], \"xaxis\": \"x4\", \"y\": [5.79, 5.196666666666666, 5.0442857142857145, 4.978, 4.865483870967742, 4.837301587301587, 4.813464566929134, 4.766549019607842, 4.773287671232876, 4.85672531769306, 4.758314606741573, 4.80916971916972, 4.859591014528141, 4.934800097662211, 4.91739951780755, 5.018701304646371, 4.954350161362925], \"yaxis\": \"y4\"}, {\"legendgroup\": \"GE01\", \"line\": {\"dash\": \"dashdot\"}, \"marker\": {\"color\": \"#FFA15A\"}, \"mode\": \"lines\", \"name\": \"m4-os: GeoEye-1, 4 (all) bands <br>            with oversampling (os)\", \"type\": \"scatter\", \"x\": [1000, 25000, 50000, 75000, 100000, 125000, 150000, 175000, 200000, 225000, 250000, 275000, 300000, 325000, 350000, 375000, 400000], \"xaxis\": \"x\", \"y\": [21.31, 28.663333333333338, 30.815714285714286, 31.303333333333335, 31.63193548387097, 32.33190476190476, 32.7240157480315, 32.581450980392155, 32.73101761252447, 32.820596285434995, 32.98537860283342, 32.87766300366301, 32.453779758271274, 32.53189464689007, 32.74595385601367, 32.81297795071335, 32.77648869696577], \"yaxis\": \"y\"}, {\"legendgroup\": \"WV02\", \"line\": {\"dash\": \"solid\"}, \"marker\": {\"color\": \"#FFA15A\"}, \"mode\": \"lines\", \"name\": \"m4-os: WorldView-2, 4 bands <br>            with oversampling (os)\", \"type\": \"scatter\", \"x\": [1000, 25000, 50000, 75000, 100000, 125000, 150000, 175000, 200000, 225000, 250000, 275000, 300000, 325000, 350000, 375000, 400000], \"xaxis\": \"x\", \"y\": [25.04, 30.159999999999997, 31.474285714285713, 32.26133333333333, 32.40516129032258, 33.11873015873016, 33.46204724409449, 33.837490196078434, 34.00407045009785, 34.007038123167156, 33.93848558866633, 34.11928693528693, 34.27966304480527, 34.2098272599646, 34.089909970397045, 34.024953994048985, 34.192478275133325], \"yaxis\": \"y\"}, {\"legendgroup\": \"GE01\", \"line\": {\"dash\": \"dashdot\"}, \"marker\": {\"color\": \"#FFA15A\"}, \"mode\": \"lines\", \"name\": \"GE01\", \"showlegend\": false, \"type\": \"scatter\", \"x\": [1000, 25000, 50000, 75000, 100000, 125000, 150000, 175000, 200000, 225000, 250000, 275000, 300000, 325000, 350000, 375000, 400000], \"xaxis\": \"x2\", \"y\": [32.55, 32.336666666666666, 32.29857142857143, 32.214000000000006, 32.160322580645165, 32.30238095238096, 32.43724409448819, 32.21776470588235, 32.10365949119374, 32.21193548387097, 32.34603321934538, 32.26799755799755, 32.29900256378953, 32.11949032533724, 32.20474776451918, 32.00237079423209, 32.05118576954476], \"yaxis\": \"y2\"}, {\"legendgroup\": \"WV02\", \"line\": {\"dash\": \"solid\"}, \"marker\": {\"color\": \"#FFA15A\"}, \"mode\": \"lines\", \"name\": \"WV02\", \"showlegend\": false, \"type\": \"scatter\", \"x\": [1000, 25000, 50000, 75000, 100000, 125000, 150000, 175000, 200000, 225000, 250000, 275000, 300000, 325000, 350000, 375000, 400000], \"xaxis\": \"x2\", \"y\": [33.79, 33.449999999999996, 33.455714285714286, 33.431333333333335, 33.34290322580645, 33.29571428571429, 33.21724409448819, 33.198549019607846, 33.25438356164384, 33.2872238514174, 33.1985686370298, 33.169277167277166, 33.1646380173361, 33.15231825672953, 33.15115909298989, 33.10557885099565, 33.20279016716131], \"yaxis\": \"y2\"}, {\"legendgroup\": \"GE01\", \"line\": {\"dash\": \"dashdot\"}, \"marker\": {\"color\": \"#FFA15A\"}, \"mode\": \"lines\", \"name\": \"m4-os: GeoEye-1, 4 (all) bands <br>            with oversampling (os)\", \"showlegend\": false, \"type\": \"scatter\", \"x\": [1000, 25000, 50000, 75000, 100000, 125000, 150000, 175000, 200000, 225000, 250000, 275000, 300000, 325000, 350000, 375000, 400000], \"xaxis\": \"x3\", \"y\": [12.3, 8.766666666666667, 8.265714285714285, 8.012, 7.912903225806452, 7.9825396825396835, 8.046771653543308, 8.173882352941177, 8.23706457925636, 8.158455522971652, 8.209252564728871, 8.219628815628816, 8.27482114515932, 8.292411646218643, 8.316206549272135, 8.278102693217365, 8.329051735319027], \"yaxis\": \"y3\"}, {\"legendgroup\": \"WV02\", \"line\": {\"dash\": \"solid\"}, \"marker\": {\"color\": \"#FFA15A\"}, \"mode\": \"lines\", \"name\": \"m4-os: WorldView-2, 4 bands <br>            with oversampling (os)\", \"showlegend\": false, \"type\": \"scatter\", \"x\": [1000, 25000, 50000, 75000, 100000, 125000, 150000, 175000, 200000, 225000, 250000, 275000, 300000, 325000, 350000, 375000, 400000], \"xaxis\": \"x3\", \"y\": [8.68, 7.466666666666666, 7.525714285714286, 7.5120000000000005, 7.6245161290322585, 7.693333333333333, 7.8982677165354325, 8.06478431372549, 8.152563600782779, 8.051182795698926, 8.11562286272594, 8.202832722832722, 8.256422903186424, 8.318215223097113, 8.339108249153112, 8.399555046921494, 8.459777982925285], \"yaxis\": \"y3\"}, {\"legendgroup\": \"GE01\", \"line\": {\"dash\": \"dashdot\"}, \"marker\": {\"color\": \"#FFA15A\"}, \"mode\": \"lines\", \"name\": \"GE01\", \"showlegend\": false, \"type\": \"scatter\", \"x\": [1000, 25000, 50000, 75000, 100000, 125000, 150000, 175000, 200000, 225000, 250000, 275000, 300000, 325000, 350000, 375000, 400000], \"xaxis\": \"x4\", \"y\": [6.24, 5.62, 5.305714285714286, 5.222666666666667, 5.123225806451613, 5.131746031746031, 5.009921259842519, 5.030039215686274, 5.270489236790606, 5.380351906158358, 5.190083048363459, 5.31507203907204, 5.142514955438896, 5.241263504852591, 5.080626850184637, 5.340317387655451, 5.310158463733397], \"yaxis\": \"y4\"}, {\"legendgroup\": \"WV02\", \"line\": {\"dash\": \"solid\"}, \"marker\": {\"color\": \"#FFA15A\"}, \"mode\": \"lines\", \"name\": \"WV02\", \"showlegend\": false, \"type\": \"scatter\", \"x\": [1000, 25000, 50000, 75000, 100000, 125000, 150000, 175000, 200000, 225000, 250000, 275000, 300000, 325000, 350000, 375000, 400000], \"xaxis\": \"x4\", \"y\": [6.27, 5.53, 5.17, 5.058000000000001, 4.893870967741936, 4.805555555555555, 4.701968503937008, 4.6859215686274505, 4.948473581213308, 4.879169110459433, 4.764528578407425, 5.072339438339438, 4.881146380173361, 4.950577427821522, 4.800284127323222, 4.935144121461815, 4.792570972984108], \"yaxis\": \"y4\"}, {\"legendgroup\": \"GE01\", \"line\": {\"dash\": \"dashdot\"}, \"marker\": {\"color\": \"#19D3F3\"}, \"mode\": \"lines\", \"name\": \"m4-au: GeoEye-1, 4 (all) bands <br>            with augmentation (aug)\", \"type\": \"scatter\", \"x\": [1000, 25000, 50000, 75000, 100000, 125000, 150000, 175000, 200000, 225000, 250000, 275000, 300000, 325000, 350000, 375000, 400000], \"xaxis\": \"x\", \"y\": [18.93, 25.87, 29.470000000000002, 30.67, 30.92290322580645, 32.26238095238096, 31.65141732283465, 31.871568627450984, 32.512035225048926, 32.77627565982405, 33.088290180752324, 33.07414163614164, 33.21208765718472, 33.34605200512726, 33.2530231635487, 33.27151186388953, 33.295756116913736], \"yaxis\": \"y\"}, {\"legendgroup\": \"WV02\", \"line\": {\"dash\": \"solid\"}, \"marker\": {\"color\": \"#19D3F3\"}, \"mode\": \"lines\", \"name\": \"m4-au: WorldView-2, 4 bands <br>            with augmentation (aug)\", \"type\": \"scatter\", \"x\": [1000, 25000, 50000, 75000, 100000, 125000, 150000, 175000, 200000, 225000, 250000, 275000, 300000, 325000, 350000, 375000, 400000], \"xaxis\": \"x\", \"y\": [23.18, 29.27333333333333, 31.225714285714282, 32.45466666666667, 32.77225806451613, 33.09111111111111, 33.28708661417322, 33.459215686274504, 33.43956947162427, 33.56991202346042, 33.775056179775284, 33.8725518925519, 33.926282505188624, 34.108152353048894, 34.11407635731071, 33.93703547722591, 34.06851874175066], \"yaxis\": \"y\"}, {\"legendgroup\": \"GE01\", \"line\": {\"dash\": \"dashdot\"}, \"marker\": {\"color\": \"#19D3F3\"}, \"mode\": \"lines\", \"name\": \"GE01\", \"showlegend\": false, \"type\": \"scatter\", \"x\": [1000, 25000, 50000, 75000, 100000, 125000, 150000, 175000, 200000, 225000, 250000, 275000, 300000, 325000, 350000, 375000, 400000], \"xaxis\": \"x2\", \"y\": [32.72, 32.54, 32.082857142857144, 32.443999999999996, 32.36967741935483, 32.32412698412698, 32.45811023622048, 32.23819607843138, 32.569745596868884, 32.534838709677416, 32.55242794333171, 32.35116483516484, 32.26557196923453, 32.36279191845206, 32.421397747734, 32.67570275425345, 32.527850249101625], \"yaxis\": \"y2\"}, {\"legendgroup\": \"WV02\", \"line\": {\"dash\": \"solid\"}, \"marker\": {\"color\": \"#19D3F3\"}, \"mode\": \"lines\", \"name\": \"WV02\", \"showlegend\": false, \"type\": \"scatter\", \"x\": [1000, 25000, 50000, 75000, 100000, 125000, 150000, 175000, 200000, 225000, 250000, 275000, 300000, 325000, 350000, 375000, 400000], \"xaxis\": \"x2\", \"y\": [33.69, 33.39666666666667, 33.387142857142855, 33.495333333333335, 33.47193548387097, 33.37444444444445, 33.36212598425197, 33.38113725490196, 33.35551859099804, 33.3877908113392, 33.353878847093306, 33.36194139194139, 33.35596996703699, 33.35798510651285, 33.37399304177983, 33.35199618524452, 33.34099800871283], \"yaxis\": \"y2\"}, {\"legendgroup\": \"GE01\", \"line\": {\"dash\": \"dashdot\"}, \"marker\": {\"color\": \"#19D3F3\"}, \"mode\": \"lines\", \"name\": \"m4-au: GeoEye-1, 4 (all) bands <br>            with augmentation (aug)\", \"showlegend\": false, \"type\": \"scatter\", \"x\": [1000, 25000, 50000, 75000, 100000, 125000, 150000, 175000, 200000, 225000, 250000, 275000, 300000, 325000, 350000, 375000, 400000], \"xaxis\": \"x3\", \"y\": [12.18, 8.446666666666667, 7.905714285714287, 7.7906666666666675, 7.888387096774194, 8.006031746031747, 8.068503937007874, 8.11443137254902, 8.147279843444228, 8.22871945259042, 8.24436736687836, 8.267189255189255, 8.243591747039435, 8.27679790026247, 8.308399914548174, 8.264199282825972, 8.257099587246607], \"yaxis\": \"y3\"}, {\"legendgroup\": \"WV02\", \"line\": {\"dash\": \"solid\"}, \"marker\": {\"color\": \"#19D3F3\"}, \"mode\": \"lines\", \"name\": \"m4-au: WorldView-2, 4 bands <br>            with augmentation (aug)\", \"showlegend\": false, \"type\": \"scatter\", \"x\": [1000, 25000, 50000, 75000, 100000, 125000, 150000, 175000, 200000, 225000, 250000, 275000, 300000, 325000, 350000, 375000, 400000], \"xaxis\": \"x3\", \"y\": [9.06, 7.3933333333333335, 7.454285714285715, 7.548, 7.7296774193548385, 7.938095238095238, 8.03984251968504, 8.145333333333333, 8.197769080234833, 8.273958944281523, 8.317000488519785, 8.333504273504273, 8.386758637528995, 8.453383385216382, 8.426690878017517, 8.408345159075303, 8.434172776586735], \"yaxis\": \"y3\"}, {\"legendgroup\": \"GE01\", \"line\": {\"dash\": \"dashdot\"}, \"marker\": {\"color\": \"#19D3F3\"}, \"mode\": \"lines\", \"name\": \"GE01\", \"showlegend\": false, \"type\": \"scatter\", \"x\": [1000, 25000, 50000, 75000, 100000, 125000, 150000, 175000, 200000, 225000, 250000, 275000, 300000, 325000, 350000, 375000, 400000], \"xaxis\": \"x4\", \"y\": [6.05, 5.256666666666667, 5.109999999999999, 5.115333333333333, 5.045483870967741, 5.0731746031746034, 5.116929133858268, 5.178705882352942, 5.27454011741683, 5.267262952101662, 5.438715192965315, 5.649409035409036, 5.759717983152241, 5.684854422266985, 5.667426679280984, 5.8237157244220645, 5.881858305803725], \"yaxis\": \"y4\"}, {\"legendgroup\": \"WV02\", \"line\": {\"dash\": \"solid\"}, \"marker\": {\"color\": \"#19D3F3\"}, \"mode\": \"lines\", \"name\": \"WV02\", \"showlegend\": false, \"type\": \"scatter\", \"x\": [1000, 25000, 50000, 75000, 100000, 125000, 150000, 175000, 200000, 225000, 250000, 275000, 300000, 325000, 350000, 375000, 400000], \"xaxis\": \"x4\", \"y\": [5.98, 5.193333333333333, 5.111428571428571, 5.158666666666666, 4.927096774193549, 4.887936507936508, 4.909133858267717, 4.944705882352942, 4.927318982387476, 4.883616813294233, 4.9218270639960915, 5.0409426129426125, 4.975463313392749, 4.927728743209425, 4.923864253669851, 5.02193362325475, 5.050967033134714], \"yaxis\": \"y4\"}, {\"legendgroup\": \"GE01\", \"line\": {\"dash\": \"dashdot\"}, \"marker\": {\"color\": \"#FF6692\"}, \"mode\": \"lines\", \"name\": \"m4-os-au: GeoEye-1, 4 (all) bands <br>                 with os and aug\", \"type\": \"scatter\", \"x\": [1000, 25000, 50000, 75000, 100000, 125000, 150000, 175000, 200000, 225000, 250000, 275000, 300000, 325000, 350000, 375000, 400000], \"xaxis\": \"x\", \"y\": [22.35, 28.936666666666667, 31.14428571428571, 32.52333333333333, 31.788709677419355, 32.66301587301587, 32.08700787401575, 32.5503137254902, 32.98600782778865, 33.18820136852395, 32.81391792867611, 33.22205860805861, 33.19602612623611, 33.21301409998169, 33.18650624103519, 33.143252460517274, 33.201626675618556], \"yaxis\": \"y\"}, {\"legendgroup\": \"WV02\", \"line\": {\"dash\": \"solid\"}, \"marker\": {\"color\": \"#FF6692\"}, \"mode\": \"lines\", \"name\": \"m4-os-au: WorldView-2, 4 bands <br>                 with os and aug\", \"type\": \"scatter\", \"x\": [1000, 25000, 50000, 75000, 100000, 125000, 150000, 175000, 200000, 225000, 250000, 275000, 300000, 325000, 350000, 375000, 400000], \"xaxis\": \"x\", \"y\": [25.79, 30.603333333333335, 32.01285714285714, 32.406, 32.71774193548387, 33.038888888888884, 32.96385826771653, 32.85149019607844, 32.98600782778865, 33.08309872922776, 33.04152906692721, 33.23081074481074, 33.475435233793185, 33.56772324971006, 33.69386547441023, 33.67693247882811, 33.593465602612326], \"yaxis\": \"y\"}, {\"legendgroup\": \"GE01\", \"line\": {\"dash\": \"dashdot\"}, \"marker\": {\"color\": \"#FF6692\"}, \"mode\": \"lines\", \"name\": \"GE01\", \"showlegend\": false, \"type\": \"scatter\", \"x\": [1000, 25000, 50000, 75000, 100000, 125000, 150000, 175000, 200000, 225000, 250000, 275000, 300000, 325000, 350000, 375000, 400000], \"xaxis\": \"x2\", \"y\": [33.24, 32.419999999999995, 32.17428571428571, 32.59866666666667, 32.568387096774195, 32.035873015873015, 32.108503937007875, 31.99882352941177, 32.330058708414875, 32.440136852394915, 32.65517342452369, 32.24748717948718, 32.53377853741912, 32.10686321186596, 32.31343791009247, 32.106715800717176, 32.29835936248293], \"yaxis\": \"y2\"}, {\"legendgroup\": \"WV02\", \"line\": {\"dash\": \"solid\"}, \"marker\": {\"color\": \"#FF6692\"}, \"mode\": \"lines\", \"name\": \"WV02\", \"showlegend\": false, \"type\": \"scatter\", \"x\": [1000, 25000, 50000, 75000, 100000, 125000, 150000, 175000, 200000, 225000, 250000, 275000, 300000, 325000, 350000, 375000, 400000], \"xaxis\": \"x2\", \"y\": [33.3, 32.946666666666665, 32.95428571428572, 32.77066666666666, 32.92516129032258, 32.85142857142857, 32.88598425196851, 32.893019607843144, 32.91655577299413, 32.893255131964814, 32.851607230092824, 32.92082051282051, 32.89540715419363, 32.76769578221327, 32.8338499099704, 32.94192660410468, 33.005963790617294], \"yaxis\": \"y2\"}, {\"legendgroup\": \"GE01\", \"line\": {\"dash\": \"dashdot\"}, \"marker\": {\"color\": \"#FF6692\"}, \"mode\": \"lines\", \"name\": \"m4-os-au: GeoEye-1, 4 (all) bands <br>                 with os and aug\", \"showlegend\": false, \"type\": \"scatter\", \"x\": [1000, 25000, 50000, 75000, 100000, 125000, 150000, 175000, 200000, 225000, 250000, 275000, 300000, 325000, 350000, 375000, 400000], \"xaxis\": \"x3\", \"y\": [8.99, 8.023333333333333, 7.992857142857143, 8.076666666666666, 8.150645161290322, 8.145238095238096, 8.14763779527559, 8.199019607843137, 8.219549902152643, 8.354907135874878, 8.357454811919883, 8.423743589743589, 8.466877060188011, 8.478439235793202, 8.444218573564868, 8.487109941252765, 8.408554371294946], \"yaxis\": \"y3\"}, {\"legendgroup\": \"WV02\", \"line\": {\"dash\": \"solid\"}, \"marker\": {\"color\": \"#FF6692\"}, \"mode\": \"lines\", \"name\": \"m4-os-au: WorldView-2, 4 bands <br>                 with os and aug\", \"showlegend\": false, \"type\": \"scatter\", \"x\": [1000, 25000, 50000, 75000, 100000, 125000, 150000, 175000, 200000, 225000, 250000, 275000, 300000, 325000, 350000, 375000, 400000], \"xaxis\": \"x3\", \"y\": [7.39, 7.036666666666666, 7.324285714285714, 7.556666666666667, 7.718387096774193, 7.957936507936507, 7.863228346456692, 8.06741176470588, 8.133835616438356, 8.247028347996089, 8.353566194430874, 8.381789987789988, 8.430900988890247, 8.4604522981139, 8.405224463637195, 8.447612878614482, 8.263805036964698], \"yaxis\": \"y3\"}, {\"legendgroup\": \"GE01\", \"line\": {\"dash\": \"dashdot\"}, \"marker\": {\"color\": \"#FF6692\"}, \"mode\": \"lines\", \"name\": \"GE01\", \"showlegend\": false, \"type\": \"scatter\", \"x\": [1000, 25000, 50000, 75000, 100000, 125000, 150000, 175000, 200000, 225000, 250000, 275000, 300000, 325000, 350000, 375000, 400000], \"xaxis\": \"x4\", \"y\": [7.09, 5.736666666666667, 5.5442857142857145, 5.392666666666667, 5.35, 5.243333333333333, 5.150944881889764, 5.2558823529411764, 5.277984344422701, 5.278993157380254, 5.394553004396678, 5.467294261294262, 5.453645464534245, 5.46682353659281, 5.613416241950743, 5.546707103074693, 5.608354021866012], \"yaxis\": \"y4\"}, {\"legendgroup\": \"WV02\", \"line\": {\"dash\": \"solid\"}, \"marker\": {\"color\": \"#FF6692\"}, \"mode\": \"lines\", \"name\": \"WV02\", \"showlegend\": false, \"type\": \"scatter\", \"x\": [1000, 25000, 50000, 75000, 100000, 125000, 150000, 175000, 200000, 225000, 250000, 275000, 300000, 325000, 350000, 375000, 400000], \"xaxis\": \"x4\", \"y\": [6.76, 5.406666666666666, 5.248571428571428, 5.238666666666666, 5.079354838709677, 4.871428571428571, 4.724566929133858, 4.777490196078431, 4.73866927592955, 4.724320625610948, 4.732164142647777, 4.721079365079365, 4.740542058356733, 4.625263993163645, 4.867639393292031, 4.863819638361182, 4.926910300524144], \"yaxis\": \"y4\"}, {\"line\": {\"dash\": \"solid\"}, \"marker\": {\"color\": \"gray\"}, \"mode\": \"lines\", \"name\": \"PAN (truth): WorldView-2\", \"showlegend\": true, \"type\": \"scatter\", \"x\": [0, 400000], \"xaxis\": \"x3\", \"y\": [5.67, 5.67], \"yaxis\": \"y3\"}, {\"line\": {\"dash\": \"solid\"}, \"marker\": {\"color\": \"gray\"}, \"mode\": \"lines\", \"showlegend\": false, \"type\": \"scatter\", \"x\": [0, 400000], \"xaxis\": \"x4\", \"y\": [5.67, 5.67], \"yaxis\": \"y4\"}, {\"line\": {\"dash\": \"dashdot\"}, \"marker\": {\"color\": \"gray\"}, \"mode\": \"lines\", \"name\": \"PAN (truth): GeoEye-1\", \"showlegend\": true, \"type\": \"scatter\", \"x\": [0, 400000], \"xaxis\": \"x3\", \"y\": [5.48, 5.48], \"yaxis\": \"y3\"}, {\"line\": {\"dash\": \"dashdot\"}, \"marker\": {\"color\": \"gray\"}, \"mode\": \"lines\", \"showlegend\": false, \"type\": \"scatter\", \"x\": [0, 400000], \"xaxis\": \"x4\", \"y\": [5.48, 5.48], \"yaxis\": \"y4\"}],                        {\"annotations\": [{\"font\": {\"size\": 16}, \"showarrow\": false, \"text\": \"Pretraining (L1)\", \"x\": 0.245, \"xanchor\": \"center\", \"xref\": \"paper\", \"y\": 1.0, \"yanchor\": \"bottom\", \"yref\": \"paper\"}, {\"font\": {\"size\": 16}, \"showarrow\": false, \"text\": \"GAN-training\", \"x\": 0.755, \"xanchor\": \"center\", \"xref\": \"paper\", \"y\": 1.0, \"yanchor\": \"bottom\", \"yref\": \"paper\"}], \"height\": 800, \"legend\": {\"font\": {\"size\": 12}, \"x\": 1, \"xanchor\": \"right\", \"y\": 0.65, \"yanchor\": \"top\"}, \"margin\": {\"b\": 10, \"l\": 10, \"r\": 10, \"t\": 50}, \"template\": {\"data\": {\"bar\": [{\"error_x\": {\"color\": \"#2a3f5f\"}, \"error_y\": {\"color\": \"#2a3f5f\"}, \"marker\": {\"line\": {\"color\": \"#E5ECF6\", \"width\": 0.5}}, \"type\": \"bar\"}], \"barpolar\": [{\"marker\": {\"line\": {\"color\": \"#E5ECF6\", \"width\": 0.5}}, \"type\": \"barpolar\"}], \"carpet\": [{\"aaxis\": {\"endlinecolor\": \"#2a3f5f\", \"gridcolor\": \"white\", \"linecolor\": \"white\", \"minorgridcolor\": \"white\", \"startlinecolor\": \"#2a3f5f\"}, \"baxis\": {\"endlinecolor\": \"#2a3f5f\", \"gridcolor\": \"white\", \"linecolor\": \"white\", \"minorgridcolor\": \"white\", \"startlinecolor\": \"#2a3f5f\"}, \"type\": \"carpet\"}], \"choropleth\": [{\"colorbar\": {\"outlinewidth\": 0, \"ticks\": \"\"}, \"type\": \"choropleth\"}], \"contour\": [{\"colorbar\": {\"outlinewidth\": 0, \"ticks\": \"\"}, \"colorscale\": [[0.0, \"#0d0887\"], [0.1111111111111111, \"#46039f\"], [0.2222222222222222, \"#7201a8\"], [0.3333333333333333, \"#9c179e\"], [0.4444444444444444, \"#bd3786\"], [0.5555555555555556, \"#d8576b\"], [0.6666666666666666, \"#ed7953\"], [0.7777777777777778, \"#fb9f3a\"], [0.8888888888888888, \"#fdca26\"], [1.0, \"#f0f921\"]], \"type\": \"contour\"}], \"contourcarpet\": [{\"colorbar\": {\"outlinewidth\": 0, \"ticks\": \"\"}, \"type\": \"contourcarpet\"}], \"heatmap\": [{\"colorbar\": {\"outlinewidth\": 0, \"ticks\": \"\"}, \"colorscale\": [[0.0, \"#0d0887\"], [0.1111111111111111, \"#46039f\"], [0.2222222222222222, \"#7201a8\"], [0.3333333333333333, \"#9c179e\"], [0.4444444444444444, \"#bd3786\"], [0.5555555555555556, \"#d8576b\"], [0.6666666666666666, \"#ed7953\"], [0.7777777777777778, \"#fb9f3a\"], [0.8888888888888888, \"#fdca26\"], [1.0, \"#f0f921\"]], \"type\": \"heatmap\"}], \"heatmapgl\": [{\"colorbar\": {\"outlinewidth\": 0, \"ticks\": \"\"}, \"colorscale\": [[0.0, \"#0d0887\"], [0.1111111111111111, \"#46039f\"], [0.2222222222222222, \"#7201a8\"], [0.3333333333333333, \"#9c179e\"], [0.4444444444444444, \"#bd3786\"], [0.5555555555555556, \"#d8576b\"], [0.6666666666666666, \"#ed7953\"], [0.7777777777777778, \"#fb9f3a\"], [0.8888888888888888, \"#fdca26\"], [1.0, \"#f0f921\"]], \"type\": \"heatmapgl\"}], \"histogram\": [{\"marker\": {\"colorbar\": {\"outlinewidth\": 0, \"ticks\": \"\"}}, \"type\": \"histogram\"}], \"histogram2d\": [{\"colorbar\": {\"outlinewidth\": 0, \"ticks\": \"\"}, \"colorscale\": [[0.0, \"#0d0887\"], [0.1111111111111111, \"#46039f\"], [0.2222222222222222, \"#7201a8\"], [0.3333333333333333, \"#9c179e\"], [0.4444444444444444, \"#bd3786\"], [0.5555555555555556, \"#d8576b\"], [0.6666666666666666, \"#ed7953\"], [0.7777777777777778, \"#fb9f3a\"], [0.8888888888888888, \"#fdca26\"], [1.0, \"#f0f921\"]], \"type\": \"histogram2d\"}], \"histogram2dcontour\": [{\"colorbar\": {\"outlinewidth\": 0, \"ticks\": \"\"}, \"colorscale\": [[0.0, \"#0d0887\"], [0.1111111111111111, \"#46039f\"], [0.2222222222222222, \"#7201a8\"], [0.3333333333333333, \"#9c179e\"], [0.4444444444444444, \"#bd3786\"], [0.5555555555555556, \"#d8576b\"], [0.6666666666666666, \"#ed7953\"], [0.7777777777777778, \"#fb9f3a\"], [0.8888888888888888, \"#fdca26\"], [1.0, \"#f0f921\"]], \"type\": \"histogram2dcontour\"}], \"mesh3d\": [{\"colorbar\": {\"outlinewidth\": 0, \"ticks\": \"\"}, \"type\": \"mesh3d\"}], \"parcoords\": [{\"line\": {\"colorbar\": {\"outlinewidth\": 0, \"ticks\": \"\"}}, \"type\": \"parcoords\"}], \"pie\": [{\"automargin\": true, \"type\": \"pie\"}], \"scatter\": [{\"marker\": {\"colorbar\": {\"outlinewidth\": 0, \"ticks\": \"\"}}, \"type\": \"scatter\"}], \"scatter3d\": [{\"line\": {\"colorbar\": {\"outlinewidth\": 0, \"ticks\": \"\"}}, \"marker\": {\"colorbar\": {\"outlinewidth\": 0, \"ticks\": \"\"}}, \"type\": \"scatter3d\"}], \"scattercarpet\": [{\"marker\": {\"colorbar\": {\"outlinewidth\": 0, \"ticks\": \"\"}}, \"type\": \"scattercarpet\"}], \"scattergeo\": [{\"marker\": {\"colorbar\": {\"outlinewidth\": 0, \"ticks\": \"\"}}, \"type\": \"scattergeo\"}], \"scattergl\": [{\"marker\": {\"colorbar\": {\"outlinewidth\": 0, \"ticks\": \"\"}}, \"type\": \"scattergl\"}], \"scattermapbox\": [{\"marker\": {\"colorbar\": {\"outlinewidth\": 0, \"ticks\": \"\"}}, \"type\": \"scattermapbox\"}], \"scatterpolar\": [{\"marker\": {\"colorbar\": {\"outlinewidth\": 0, \"ticks\": \"\"}}, \"type\": \"scatterpolar\"}], \"scatterpolargl\": [{\"marker\": {\"colorbar\": {\"outlinewidth\": 0, \"ticks\": \"\"}}, \"type\": \"scatterpolargl\"}], \"scatterternary\": [{\"marker\": {\"colorbar\": {\"outlinewidth\": 0, \"ticks\": \"\"}}, \"type\": \"scatterternary\"}], \"surface\": [{\"colorbar\": {\"outlinewidth\": 0, \"ticks\": \"\"}, \"colorscale\": [[0.0, \"#0d0887\"], [0.1111111111111111, \"#46039f\"], [0.2222222222222222, \"#7201a8\"], [0.3333333333333333, \"#9c179e\"], [0.4444444444444444, \"#bd3786\"], [0.5555555555555556, \"#d8576b\"], [0.6666666666666666, \"#ed7953\"], [0.7777777777777778, \"#fb9f3a\"], [0.8888888888888888, \"#fdca26\"], [1.0, \"#f0f921\"]], \"type\": \"surface\"}], \"table\": [{\"cells\": {\"fill\": {\"color\": \"#EBF0F8\"}, \"line\": {\"color\": \"white\"}}, \"header\": {\"fill\": {\"color\": \"#C8D4E3\"}, \"line\": {\"color\": \"white\"}}, \"type\": \"table\"}]}, \"layout\": {\"annotationdefaults\": {\"arrowcolor\": \"#2a3f5f\", \"arrowhead\": 0, \"arrowwidth\": 1}, \"autotypenumbers\": \"strict\", \"coloraxis\": {\"colorbar\": {\"outlinewidth\": 0, \"ticks\": \"\"}}, \"colorscale\": {\"diverging\": [[0, \"#8e0152\"], [0.1, \"#c51b7d\"], [0.2, \"#de77ae\"], [0.3, \"#f1b6da\"], [0.4, \"#fde0ef\"], [0.5, \"#f7f7f7\"], [0.6, \"#e6f5d0\"], [0.7, \"#b8e186\"], [0.8, \"#7fbc41\"], [0.9, \"#4d9221\"], [1, \"#276419\"]], \"sequential\": [[0.0, \"#0d0887\"], [0.1111111111111111, \"#46039f\"], [0.2222222222222222, \"#7201a8\"], [0.3333333333333333, \"#9c179e\"], [0.4444444444444444, \"#bd3786\"], [0.5555555555555556, \"#d8576b\"], [0.6666666666666666, \"#ed7953\"], [0.7777777777777778, \"#fb9f3a\"], [0.8888888888888888, \"#fdca26\"], [1.0, \"#f0f921\"]], \"sequentialminus\": [[0.0, \"#0d0887\"], [0.1111111111111111, \"#46039f\"], [0.2222222222222222, \"#7201a8\"], [0.3333333333333333, \"#9c179e\"], [0.4444444444444444, \"#bd3786\"], [0.5555555555555556, \"#d8576b\"], [0.6666666666666666, \"#ed7953\"], [0.7777777777777778, \"#fb9f3a\"], [0.8888888888888888, \"#fdca26\"], [1.0, \"#f0f921\"]]}, \"colorway\": [\"#636efa\", \"#EF553B\", \"#00cc96\", \"#ab63fa\", \"#FFA15A\", \"#19d3f3\", \"#FF6692\", \"#B6E880\", \"#FF97FF\", \"#FECB52\"], \"font\": {\"color\": \"#2a3f5f\"}, \"geo\": {\"bgcolor\": \"white\", \"lakecolor\": \"white\", \"landcolor\": \"#E5ECF6\", \"showlakes\": true, \"showland\": true, \"subunitcolor\": \"white\"}, \"hoverlabel\": {\"align\": \"left\"}, \"hovermode\": \"closest\", \"mapbox\": {\"style\": \"light\"}, \"paper_bgcolor\": \"white\", \"plot_bgcolor\": \"#E5ECF6\", \"polar\": {\"angularaxis\": {\"gridcolor\": \"white\", \"linecolor\": \"white\", \"ticks\": \"\"}, \"bgcolor\": \"#E5ECF6\", \"radialaxis\": {\"gridcolor\": \"white\", \"linecolor\": \"white\", \"ticks\": \"\"}}, \"scene\": {\"xaxis\": {\"backgroundcolor\": \"#E5ECF6\", \"gridcolor\": \"white\", \"gridwidth\": 2, \"linecolor\": \"white\", \"showbackground\": true, \"ticks\": \"\", \"zerolinecolor\": \"white\"}, \"yaxis\": {\"backgroundcolor\": \"#E5ECF6\", \"gridcolor\": \"white\", \"gridwidth\": 2, \"linecolor\": \"white\", \"showbackground\": true, \"ticks\": \"\", \"zerolinecolor\": \"white\"}, \"zaxis\": {\"backgroundcolor\": \"#E5ECF6\", \"gridcolor\": \"white\", \"gridwidth\": 2, \"linecolor\": \"white\", \"showbackground\": true, \"ticks\": \"\", \"zerolinecolor\": \"white\"}}, \"shapedefaults\": {\"line\": {\"color\": \"#2a3f5f\"}}, \"ternary\": {\"aaxis\": {\"gridcolor\": \"white\", \"linecolor\": \"white\", \"ticks\": \"\"}, \"baxis\": {\"gridcolor\": \"white\", \"linecolor\": \"white\", \"ticks\": \"\"}, \"bgcolor\": \"#E5ECF6\", \"caxis\": {\"gridcolor\": \"white\", \"linecolor\": \"white\", \"ticks\": \"\"}}, \"title\": {\"x\": 0.05}, \"xaxis\": {\"automargin\": true, \"gridcolor\": \"white\", \"linecolor\": \"white\", \"ticks\": \"\", \"title\": {\"standoff\": 15}, \"zerolinecolor\": \"white\", \"zerolinewidth\": 2}, \"yaxis\": {\"automargin\": true, \"gridcolor\": \"white\", \"linecolor\": \"white\", \"ticks\": \"\", \"title\": {\"standoff\": 15}, \"zerolinecolor\": \"white\", \"zerolinewidth\": 2}}}, \"title\": {\"text\": \"ESRGAN Baseline Experiment \\u2013 Validation set\", \"x\": 0.5, \"xanchor\": \"center\", \"yanchor\": \"bottom\"}, \"width\": 1000, \"xaxis\": {\"anchor\": \"y\", \"domain\": [0.0, 0.49], \"matches\": \"x3\", \"showticklabels\": false}, \"xaxis2\": {\"anchor\": \"y2\", \"domain\": [0.51, 1.0], \"matches\": \"x4\", \"showticklabels\": false}, \"xaxis3\": {\"anchor\": \"y3\", \"domain\": [0.0, 0.49], \"title\": {\"text\": \"training iterations\"}}, \"xaxis4\": {\"anchor\": \"y4\", \"domain\": [0.51, 1.0], \"title\": {\"text\": \"training iterations\"}}, \"yaxis\": {\"anchor\": \"x\", \"domain\": [0.51, 1.0], \"range\": [27, 36], \"title\": {\"standoff\": 1, \"text\": \"Peak Signal-to-Noise Ratio (PSNR)\"}}, \"yaxis2\": {\"anchor\": \"x2\", \"domain\": [0.51, 1.0], \"matches\": \"y\", \"range\": [27, 36], \"showticklabels\": false}, \"yaxis3\": {\"anchor\": \"x3\", \"domain\": [0.0, 0.49], \"range\": [4.5, 9], \"title\": {\"standoff\": 1, \"text\": \"Naturalness Image Quality Evaluator (NIQE)\"}}, \"yaxis4\": {\"anchor\": \"x4\", \"domain\": [0.0, 0.49], \"matches\": \"y3\", \"range\": [4.5, 9], \"showticklabels\": false}},                        {\"responsive\": true}                    ).then(function(){\n",
       "                            \n",
       "var gd = document.getElementById('44d9aac7-c0c8-4bff-b484-31419b8cc6fc');\n",
       "var x = new MutationObserver(function (mutations, observer) {{\n",
       "        var display = window.getComputedStyle(gd).display;\n",
       "        if (!display || display === 'none') {{\n",
       "            console.log([gd, 'removed!']);\n",
       "            Plotly.purge(gd);\n",
       "            observer.disconnect();\n",
       "        }}\n",
       "}});\n",
       "\n",
       "// Listen for the removal of the full notebook cells\n",
       "var notebookContainer = gd.closest('#notebook-container');\n",
       "if (notebookContainer) {{\n",
       "    x.observe(notebookContainer, {childList: true});\n",
       "}}\n",
       "\n",
       "// Listen for the clearing of the current output cell\n",
       "var outputEl = gd.closest('.output');\n",
       "if (outputEl) {{\n",
       "    x.observe(outputEl, {childList: true});\n",
       "}}\n",
       "\n",
       "                        })                };                });            </script>        </div>"
      ]
     },
     "metadata": {},
     "output_type": "display_data"
    }
   ],
   "source": [
    "def plot_iterations_vs_metrics(exp_stat_dict, metrics=('PSNR', 'NIQE'),\n",
    "                               mode='lines', x_type='linear', smooth_par=0.5, title='title', \n",
    "                               hr_horizontal_lines=False, hr_wv02=None, hr_ge01=None, write_path=None):\n",
    "    fig = make_subplots(rows=2, cols=2, \n",
    "                        subplot_titles=('Pretraining (L1)', 'GAN-training'), \n",
    "                        horizontal_spacing=0.02, vertical_spacing=0.02, \n",
    "                        shared_xaxes=True, shared_yaxes=True)\n",
    "\n",
    "    for experiment, stat_df in exp_stat_dict.items():\n",
    "        \n",
    "        pre_df = stat_df.loc[stat_df['pre_or_gan'] == 'pre', :]\n",
    "        gan_df = stat_df.loc[stat_df['pre_or_gan'] == 'gan', :]\n",
    "        \n",
    "        for sensor in pre_df['sensor'].unique():\n",
    "            name = LEGEND_NAMES[experiment + '-' + sensor]\n",
    "            color = LEGEND_COLORS[experiment + '-' + sensor]\n",
    "            line_dash = dict(dash=SENSOR_DASH[sensor])\n",
    "            sensor_df = pre_df.loc[pre_df['sensor'] == sensor, :]\n",
    "            fig.add_trace(go.Scatter(x=sensor_df['iterations'], \n",
    "                                     y=sensor_df[metrics[0]].ewm(alpha=(1 - smooth_par)).mean(), \n",
    "                                     mode=mode,\n",
    "                                     line=line_dash,\n",
    "                                     marker_color=color,\n",
    "                                     name=name, legendgroup=sensor),\n",
    "                          row=1, col=1)\n",
    "\n",
    "        for sensor in gan_df['sensor'].unique():\n",
    "            color = LEGEND_COLORS[experiment + '-' + sensor]\n",
    "            line_dash = dict(dash=SENSOR_DASH[sensor])\n",
    "            sensor_df = gan_df.loc[gan_df['sensor'] == sensor, :]\n",
    "            fig.add_trace(go.Scatter(x=sensor_df['iterations'], \n",
    "                                     y=sensor_df[metrics[0]].ewm(alpha=(1 - smooth_par)).mean(), \n",
    "                                     marker_color=color,\n",
    "                                     line=line_dash,\n",
    "                                     mode=mode,\n",
    "                                     name=sensor, legendgroup=sensor, \n",
    "                                     showlegend=False),\n",
    "                          row=1, col=2)\n",
    "\n",
    "        for sensor in pre_df['sensor'].unique():\n",
    "            name = LEGEND_NAMES[experiment + '-' + sensor]\n",
    "            color = LEGEND_COLORS[experiment + '-' + sensor]\n",
    "            line_dash = dict(dash=SENSOR_DASH[sensor])\n",
    "            sensor_df = pre_df.loc[pre_df['sensor'] == sensor, :]\n",
    "            fig.add_trace(go.Scatter(x=sensor_df['iterations'], \n",
    "                                     y=sensor_df[metrics[1]].ewm(alpha=(1 - smooth_par)).mean(), \n",
    "                                     marker_color=color, \n",
    "                                     line=line_dash,\n",
    "                                     mode=mode,\n",
    "                                     name=name, legendgroup=sensor, \n",
    "                                     showlegend=False),\n",
    "                          row=2, col=1)\n",
    "\n",
    "        for sensor in gan_df['sensor'].unique():\n",
    "            color = LEGEND_COLORS[experiment + '-' + sensor]\n",
    "            line_dash = dict(dash=SENSOR_DASH[sensor])\n",
    "            sensor_df = gan_df.loc[gan_df['sensor'] == sensor, :]\n",
    "            fig.add_trace(go.Scatter(x=sensor_df['iterations'], \n",
    "                                     y=sensor_df[metrics[1]].ewm(alpha=(1 - smooth_par)).mean(), \n",
    "                                     marker_color=color,\n",
    "                                     line=line_dash,\n",
    "                                     mode=mode,\n",
    "                                     name=sensor, legendgroup=sensor, \n",
    "                                     showlegend=False),\n",
    "                          row=2, col=2)\n",
    "    \n",
    "    # test set \n",
    "    if hr_horizontal_lines:\n",
    "        fig.add_trace(go.Scatter(x=[0, 400000], y=[hr_wv02, hr_wv02], \n",
    "                                 mode='lines', marker_color='gray', line_dash='solid',\n",
    "                                 name='PAN (truth): WorldView-2', showlegend=True), row=2, col=1)\n",
    "        fig.add_trace(go.Scatter(x=[0, 400000], y=[hr_wv02, hr_wv02], \n",
    "                                 mode='lines', marker_color='gray', line_dash='solid', \n",
    "                                 showlegend=False), row=2, col=2)\n",
    "        fig.add_trace(go.Scatter(x=[0, 400000], y=[hr_ge01, hr_ge01], \n",
    "                                 mode='lines', marker_color='gray', line_dash='dashdot',\n",
    "                                 name='PAN (truth): GeoEye-1', showlegend=True), row=2, col=1)\n",
    "        fig.add_trace(go.Scatter(x=[0, 400000], y=[hr_ge01, hr_ge01], \n",
    "                                 mode='lines', marker_color='gray', line_dash='dashdot', \n",
    "                                 showlegend=False), row=2, col=2)\n",
    "        \n",
    "            \n",
    "    #fig.update_xaxes(range=(3.5,14), title=dict(text='Perceptual Index (PI)', standoff=5), row=1)\n",
    "    fig.update_yaxes(range=(27,36), row=1)\n",
    "    fig.update_yaxes(title=dict(text=METRIC_NAMES[metrics[0]], standoff=1), row=1, col=1)\n",
    "    fig.update_yaxes(range=(4.5,9), title=dict(text=METRIC_NAMES[metrics[1]], standoff=1), col=1, row=2)\n",
    "    fig.update_yaxes(range=(4.5,9), col=2, row=2)\n",
    "    fig.update_xaxes(title=dict(text='training iterations'), row=2)\n",
    "    fig.update_layout(height=800, width=1000, \n",
    "                      title=dict(text=title,\n",
    "                             x=0.5,\n",
    "                             xanchor='center',\n",
    "                             yanchor='bottom'),\n",
    "                     margin=dict(l=10, r=10, t=50, b=10))\n",
    "    fig.update_layout(legend=dict(x=1, y=0.65,\n",
    "                                  xanchor='right', yanchor='top',\n",
    "                                  font=dict(size=12)\n",
    "                                 ))\n",
    "    if isinstance(write_path, str):\n",
    "        fig.write_image(write_path)\n",
    "    fig.show()\n",
    "\n",
    "if EVERY_KTH_EPOCH:\n",
    "    plot_iterations_vs_metrics(stat_dict, smooth_par=0.5, title='ESRGAN Baseline Experiment – Validation set', \n",
    "                               hr_horizontal_lines=True, \n",
    "                               hr_wv02=df_mean.loc['e01-4-HR-val-WV02', 'NIQE'], \n",
    "                               hr_ge01=df_mean.loc['e01-4-HR-val-GE01', 'NIQE'], \n",
    "                               write_path='results/plots/baseline-metrics-iterations.pdf')\n",
    "    #plot_iterations_vs_metrics(stat_dict, smooth_par=0.5, title='ESRGAN Regularization Experiment – Validation set',\n",
    "    #                           hr_horizontal_lines=True, \n",
    "    #                           hr_wv02=df_mean.loc['e07-4-HR-test-WV02', 'NIQE'], \n",
    "    #                           hr_ge01=df_mean.loc['e07-4-HR-test-GE01', 'NIQE'])\n",
    "    #plot_iterations_vs_metrics(stat_dict, smooth_par=0.5, title='ESRGAN Final Evaluation', \n",
    "    #                           hr_horizontal_lines=True, \n",
    "    #                           hr_wv02=df_mean.loc['e07-4-HR-test-WV02', 'NIQE'], \n",
    "    #                           hr_ge01=df_mean.loc['e07-4-HR-test-GE01', 'NIQE'])\n",
    "    #plot_iterations_vs_metrics(stat_dict, smooth_par=0)"
   ]
  },
  {
   "cell_type": "code",
   "execution_count": 68,
   "metadata": {},
   "outputs": [
    {
     "data": {
      "text/plain": [
       "5.48"
      ]
     },
     "execution_count": 68,
     "metadata": {},
     "output_type": "execute_result"
    }
   ],
   "source": [
    "df_mean.loc['e01-4-HR-val-GE01', 'NIQE']"
   ]
  },
  {
   "cell_type": "code",
   "execution_count": 69,
   "metadata": {},
   "outputs": [
    {
     "data": {
      "text/plain": [
       "dict_keys(['e01-4-final_epoch-bicubic-val-GE01', 'e01-4-final_epoch-bicubic-val-WV02', 'e01-4-final_epoch-gan-val-GE01', 'e01-4-final_epoch-gan-val-WV02', 'e01-4-final_epoch-HR-val-GE01', 'e01-4-final_epoch-HR-val-WV02', 'e01-4-final_epoch-pre-val-GE01', 'e01-4-final_epoch-pre-val-WV02', 'e04-4-final_epoch-gan-val-GE01', 'e04-4-final_epoch-gan-val-WV02', 'e04-4-final_epoch-pre-val-GE01', 'e04-4-final_epoch-pre-val-WV02', 'e05-4-final_epoch-gan-val-GE01', 'e05-4-final_epoch-gan-val-WV02', 'e05-4-final_epoch-pre-val-GE01-ma_niqe_HR-', 'e05-4-final_epoch-pre-val-GE01', 'e05-4-final_epoch-pre-val-WV02', 'e06-4-final_epoch-gan-val-GE01', 'e06-4-final_epoch-gan-val-WV02', 'e06-4-final_epoch-pre-val-GE01', 'e06-4-final_epoch-pre-val-WV02'])"
      ]
     },
     "execution_count": 69,
     "metadata": {},
     "output_type": "execute_result"
    }
   ],
   "source": [
    "dfs.keys()"
   ]
  },
  {
   "cell_type": "raw",
   "metadata": {
    "scrolled": false
   },
   "source": [
    "def metric_histogram(dfs, metric):\n",
    "    fig = make_subplots(\n",
    "        rows=2, cols=2, \n",
    "        horizontal_spacing=0.04, \n",
    "        vertical_spacing=0.04,\n",
    "        shared_xaxes=True,\n",
    "        shared_yaxes=True,\n",
    "        x_title=metric,\n",
    "        subplot_titles=['WV02', 'GE01']\n",
    "        )\n",
    "    legend_colors = {}\n",
    "    color_count = 0\n",
    "    for df_name in dfs.keys():\n",
    "        if 'pre' in df_name:\n",
    "            row = 1\n",
    "        else:\n",
    "            row = 2\n",
    "        if 'WV02' in df_name:\n",
    "            col = 1\n",
    "        else:\n",
    "            col = 2\n",
    "        #print(df_name, row, col)\n",
    "        legendgroup = df_name[:5]# experiment\n",
    "        if metric in dfs[df_name].keys():\n",
    "            if legendgroup not in legend_colors.keys():\n",
    "                legend_colors[legendgroup] = color_count\n",
    "                fig.add_trace(go.Histogram(x=dfs[df_name][metric], \n",
    "                                           legendgroup=legendgroup, \n",
    "                                           name=legendgroup,\n",
    "                                           marker_color=PLOTLY_COLORS[legend_colors[legendgroup]]), \n",
    "                              row=row, col=col)\n",
    "                color_count += 1\n",
    "            else:\n",
    "                fig.add_trace(go.Histogram(x=dfs[df_name][metric], \n",
    "                                           legendgroup=legendgroup, \n",
    "                                           showlegend=False,\n",
    "                                           marker_color=PLOTLY_COLORS[legend_colors[legendgroup]]), \n",
    "                              row=row, col=col)\n",
    "            #fig.add_vline(x=dfs[df_name][metric].mean(), line=dict(color=PLOTLY_COLORS[legend_colors[legendgroup]]))\n",
    "    fig.update_layout(title=metric)\n",
    "    fig.update_yaxes(title='Pretrained (L1)', row=1, col=1)\n",
    "    fig.update_yaxes(title='GAN-trained', row=2, col=1)\n",
    "    fig.show()\n",
    "\n",
    "if LAST_EPOCH:\n",
    "    metric_histogram(dfs, metric='PSNR')\n",
    "    #metric_histogram(dfs, metric='SSIM')\n",
    "    metric_histogram(dfs, metric='NIQE')\n",
    "    metric_histogram(dfs, metric='Ma')\n",
    "    metric_histogram(dfs, metric='PI')"
   ]
  },
  {
   "cell_type": "raw",
   "metadata": {},
   "source": [
    "def histograms_color_facet(df, color='town', facet='image_UID'):\n",
    "    fig = px.histogram(df, x='PI', \n",
    "                       color=color, \n",
    "                       #facet_col = facet, \n",
    "                       #facet_col_wrap=4)\n",
    "                      )\n",
    "    #fig.for_each_annotation(lambda a: a.update(text=''))\n",
    "    fig.show()\n",
    "    \n",
    "histograms_color_facet(dfs['e01-4-final_epoch-gan-val-WV02'], \n",
    "                       color='area', \n",
    "                       facet='image_UID')\n",
    "histograms_color_facet(dfs['e01-4-final_epoch-gan-val-GE01'], \n",
    "                       color='area', \n",
    "                       facet='image_UID')"
   ]
  },
  {
   "cell_type": "code",
   "execution_count": 93,
   "metadata": {
    "scrolled": false
   },
   "outputs": [
    {
     "data": {
      "application/vnd.plotly.v1+json": {
       "config": {
        "plotlyServerURL": "https://plot.ly"
       },
       "data": [
        {
         "legendgroup": "WorldView-2",
         "marker": {
          "color": "#00CC96",
          "line": {
           "width": 1.5
          },
          "size": 14,
          "symbol": "square"
         },
         "mode": "markers",
         "name": "m4: WorldView-2, 4 bands",
         "showlegend": true,
         "type": "scatter",
         "visible": true,
         "x": [
          7.63,
          5.22,
          7.79
         ],
         "y": [
          30.69,
          33.51,
          34.78
         ]
        },
        {
         "legendgroup": "WorldView-2",
         "marker": {
          "color": "#FFA15A",
          "line": {
           "width": 1.5
          },
          "size": 14,
          "symbol": "diamond"
         },
         "mode": "markers",
         "name": "m4-os: WorldView-2, 4 bands <br>            with oversampling (os)",
         "showlegend": true,
         "type": "scatter",
         "visible": true,
         "x": [
          5.1,
          7.86
         ],
         "y": [
          33.3,
          33.09
         ]
        },
        {
         "legendgroup": "WorldView-2",
         "marker": {
          "color": "#19D3F3",
          "line": {
           "width": 1.5
          },
          "size": 14,
          "symbol": "hexagram"
         },
         "mode": "markers",
         "name": "m4-au: WorldView-2, 4 bands <br>            with augmentation (aug)",
         "showlegend": true,
         "type": "scatter",
         "visible": true,
         "x": [
          5.36,
          7.85
         ],
         "y": [
          33.33,
          34.18
         ]
        },
        {
         "legendgroup": "WorldView-2",
         "marker": {
          "color": "#FF6692",
          "line": {
           "width": 1.5
          },
          "size": 14,
          "symbol": "circle"
         },
         "mode": "markers",
         "name": "m4-os-au: WorldView-2, 4 bands <br>                 with os and aug",
         "showlegend": true,
         "type": "scatter",
         "visible": true,
         "x": [
          5.31,
          7.66
         ],
         "y": [
          33.06,
          33.5
         ]
        },
        {
         "legendgroup": "GeoEye-1",
         "marker": {
          "color": "#00CC96",
          "line": {
           "width": 1.5
          },
          "size": 14,
          "symbol": "square-dot"
         },
         "mode": "markers",
         "name": "m4: GeoEye-1, 4 (all) bands",
         "showlegend": true,
         "type": "scatter",
         "visible": true,
         "x": [
          7.8,
          5.62,
          7.8
         ],
         "y": [
          29.38,
          31.95,
          33.18
         ]
        },
        {
         "legendgroup": "GeoEye-1",
         "marker": {
          "color": "#FFA15A",
          "line": {
           "width": 2
          },
          "size": 14,
          "symbol": "diamond-dot"
         },
         "mode": "markers",
         "name": "m4-os: GeoEye-1, 4 (all) bands <br>            with oversampling (os)",
         "showlegend": true,
         "type": "scatter",
         "visible": true,
         "x": [
          5.52,
          7.8
         ],
         "y": [
          32.1,
          32.45
         ]
        },
        {
         "legendgroup": "GeoEye-1",
         "marker": {
          "color": "#19D3F3",
          "line": {
           "width": 2
          },
          "size": 14,
          "symbol": "hexagram-dot"
         },
         "mode": "markers",
         "name": "m4-au: GeoEye-1, 4 (all) bands <br>            with augmentation (aug)",
         "showlegend": true,
         "type": "scatter",
         "visible": true,
         "x": [
          5.9,
          5.53,
          7.77
         ],
         "y": [
          32.38,
          33.32,
          33.32
         ]
        },
        {
         "legendgroup": "GeoEye-1",
         "marker": {
          "color": "#FF6692",
          "line": {
           "width": 2
          },
          "size": 14,
          "symbol": "circle-dot"
         },
         "mode": "markers",
         "name": "m4-os-au: GeoEye-1, 4 (all) bands <br>                 with os and aug",
         "showlegend": true,
         "type": "scatter",
         "visible": true,
         "x": [
          5.78,
          7.83
         ],
         "y": [
          32.49,
          33.25
         ]
        }
       ],
       "layout": {
        "height": 500,
        "margin": {
         "b": 10,
         "l": 10,
         "r": 10,
         "t": 35
        },
        "showlegend": true,
        "template": {
         "data": {
          "bar": [
           {
            "error_x": {
             "color": "#2a3f5f"
            },
            "error_y": {
             "color": "#2a3f5f"
            },
            "marker": {
             "line": {
              "color": "#E5ECF6",
              "width": 0.5
             }
            },
            "type": "bar"
           }
          ],
          "barpolar": [
           {
            "marker": {
             "line": {
              "color": "#E5ECF6",
              "width": 0.5
             }
            },
            "type": "barpolar"
           }
          ],
          "carpet": [
           {
            "aaxis": {
             "endlinecolor": "#2a3f5f",
             "gridcolor": "white",
             "linecolor": "white",
             "minorgridcolor": "white",
             "startlinecolor": "#2a3f5f"
            },
            "baxis": {
             "endlinecolor": "#2a3f5f",
             "gridcolor": "white",
             "linecolor": "white",
             "minorgridcolor": "white",
             "startlinecolor": "#2a3f5f"
            },
            "type": "carpet"
           }
          ],
          "choropleth": [
           {
            "colorbar": {
             "outlinewidth": 0,
             "ticks": ""
            },
            "type": "choropleth"
           }
          ],
          "contour": [
           {
            "colorbar": {
             "outlinewidth": 0,
             "ticks": ""
            },
            "colorscale": [
             [
              0,
              "#0d0887"
             ],
             [
              0.1111111111111111,
              "#46039f"
             ],
             [
              0.2222222222222222,
              "#7201a8"
             ],
             [
              0.3333333333333333,
              "#9c179e"
             ],
             [
              0.4444444444444444,
              "#bd3786"
             ],
             [
              0.5555555555555556,
              "#d8576b"
             ],
             [
              0.6666666666666666,
              "#ed7953"
             ],
             [
              0.7777777777777778,
              "#fb9f3a"
             ],
             [
              0.8888888888888888,
              "#fdca26"
             ],
             [
              1,
              "#f0f921"
             ]
            ],
            "type": "contour"
           }
          ],
          "contourcarpet": [
           {
            "colorbar": {
             "outlinewidth": 0,
             "ticks": ""
            },
            "type": "contourcarpet"
           }
          ],
          "heatmap": [
           {
            "colorbar": {
             "outlinewidth": 0,
             "ticks": ""
            },
            "colorscale": [
             [
              0,
              "#0d0887"
             ],
             [
              0.1111111111111111,
              "#46039f"
             ],
             [
              0.2222222222222222,
              "#7201a8"
             ],
             [
              0.3333333333333333,
              "#9c179e"
             ],
             [
              0.4444444444444444,
              "#bd3786"
             ],
             [
              0.5555555555555556,
              "#d8576b"
             ],
             [
              0.6666666666666666,
              "#ed7953"
             ],
             [
              0.7777777777777778,
              "#fb9f3a"
             ],
             [
              0.8888888888888888,
              "#fdca26"
             ],
             [
              1,
              "#f0f921"
             ]
            ],
            "type": "heatmap"
           }
          ],
          "heatmapgl": [
           {
            "colorbar": {
             "outlinewidth": 0,
             "ticks": ""
            },
            "colorscale": [
             [
              0,
              "#0d0887"
             ],
             [
              0.1111111111111111,
              "#46039f"
             ],
             [
              0.2222222222222222,
              "#7201a8"
             ],
             [
              0.3333333333333333,
              "#9c179e"
             ],
             [
              0.4444444444444444,
              "#bd3786"
             ],
             [
              0.5555555555555556,
              "#d8576b"
             ],
             [
              0.6666666666666666,
              "#ed7953"
             ],
             [
              0.7777777777777778,
              "#fb9f3a"
             ],
             [
              0.8888888888888888,
              "#fdca26"
             ],
             [
              1,
              "#f0f921"
             ]
            ],
            "type": "heatmapgl"
           }
          ],
          "histogram": [
           {
            "marker": {
             "colorbar": {
              "outlinewidth": 0,
              "ticks": ""
             }
            },
            "type": "histogram"
           }
          ],
          "histogram2d": [
           {
            "colorbar": {
             "outlinewidth": 0,
             "ticks": ""
            },
            "colorscale": [
             [
              0,
              "#0d0887"
             ],
             [
              0.1111111111111111,
              "#46039f"
             ],
             [
              0.2222222222222222,
              "#7201a8"
             ],
             [
              0.3333333333333333,
              "#9c179e"
             ],
             [
              0.4444444444444444,
              "#bd3786"
             ],
             [
              0.5555555555555556,
              "#d8576b"
             ],
             [
              0.6666666666666666,
              "#ed7953"
             ],
             [
              0.7777777777777778,
              "#fb9f3a"
             ],
             [
              0.8888888888888888,
              "#fdca26"
             ],
             [
              1,
              "#f0f921"
             ]
            ],
            "type": "histogram2d"
           }
          ],
          "histogram2dcontour": [
           {
            "colorbar": {
             "outlinewidth": 0,
             "ticks": ""
            },
            "colorscale": [
             [
              0,
              "#0d0887"
             ],
             [
              0.1111111111111111,
              "#46039f"
             ],
             [
              0.2222222222222222,
              "#7201a8"
             ],
             [
              0.3333333333333333,
              "#9c179e"
             ],
             [
              0.4444444444444444,
              "#bd3786"
             ],
             [
              0.5555555555555556,
              "#d8576b"
             ],
             [
              0.6666666666666666,
              "#ed7953"
             ],
             [
              0.7777777777777778,
              "#fb9f3a"
             ],
             [
              0.8888888888888888,
              "#fdca26"
             ],
             [
              1,
              "#f0f921"
             ]
            ],
            "type": "histogram2dcontour"
           }
          ],
          "mesh3d": [
           {
            "colorbar": {
             "outlinewidth": 0,
             "ticks": ""
            },
            "type": "mesh3d"
           }
          ],
          "parcoords": [
           {
            "line": {
             "colorbar": {
              "outlinewidth": 0,
              "ticks": ""
             }
            },
            "type": "parcoords"
           }
          ],
          "pie": [
           {
            "automargin": true,
            "type": "pie"
           }
          ],
          "scatter": [
           {
            "marker": {
             "colorbar": {
              "outlinewidth": 0,
              "ticks": ""
             }
            },
            "type": "scatter"
           }
          ],
          "scatter3d": [
           {
            "line": {
             "colorbar": {
              "outlinewidth": 0,
              "ticks": ""
             }
            },
            "marker": {
             "colorbar": {
              "outlinewidth": 0,
              "ticks": ""
             }
            },
            "type": "scatter3d"
           }
          ],
          "scattercarpet": [
           {
            "marker": {
             "colorbar": {
              "outlinewidth": 0,
              "ticks": ""
             }
            },
            "type": "scattercarpet"
           }
          ],
          "scattergeo": [
           {
            "marker": {
             "colorbar": {
              "outlinewidth": 0,
              "ticks": ""
             }
            },
            "type": "scattergeo"
           }
          ],
          "scattergl": [
           {
            "marker": {
             "colorbar": {
              "outlinewidth": 0,
              "ticks": ""
             }
            },
            "type": "scattergl"
           }
          ],
          "scattermapbox": [
           {
            "marker": {
             "colorbar": {
              "outlinewidth": 0,
              "ticks": ""
             }
            },
            "type": "scattermapbox"
           }
          ],
          "scatterpolar": [
           {
            "marker": {
             "colorbar": {
              "outlinewidth": 0,
              "ticks": ""
             }
            },
            "type": "scatterpolar"
           }
          ],
          "scatterpolargl": [
           {
            "marker": {
             "colorbar": {
              "outlinewidth": 0,
              "ticks": ""
             }
            },
            "type": "scatterpolargl"
           }
          ],
          "scatterternary": [
           {
            "marker": {
             "colorbar": {
              "outlinewidth": 0,
              "ticks": ""
             }
            },
            "type": "scatterternary"
           }
          ],
          "surface": [
           {
            "colorbar": {
             "outlinewidth": 0,
             "ticks": ""
            },
            "colorscale": [
             [
              0,
              "#0d0887"
             ],
             [
              0.1111111111111111,
              "#46039f"
             ],
             [
              0.2222222222222222,
              "#7201a8"
             ],
             [
              0.3333333333333333,
              "#9c179e"
             ],
             [
              0.4444444444444444,
              "#bd3786"
             ],
             [
              0.5555555555555556,
              "#d8576b"
             ],
             [
              0.6666666666666666,
              "#ed7953"
             ],
             [
              0.7777777777777778,
              "#fb9f3a"
             ],
             [
              0.8888888888888888,
              "#fdca26"
             ],
             [
              1,
              "#f0f921"
             ]
            ],
            "type": "surface"
           }
          ],
          "table": [
           {
            "cells": {
             "fill": {
              "color": "#EBF0F8"
             },
             "line": {
              "color": "white"
             }
            },
            "header": {
             "fill": {
              "color": "#C8D4E3"
             },
             "line": {
              "color": "white"
             }
            },
            "type": "table"
           }
          ]
         },
         "layout": {
          "annotationdefaults": {
           "arrowcolor": "#2a3f5f",
           "arrowhead": 0,
           "arrowwidth": 1
          },
          "autotypenumbers": "strict",
          "coloraxis": {
           "colorbar": {
            "outlinewidth": 0,
            "ticks": ""
           }
          },
          "colorscale": {
           "diverging": [
            [
             0,
             "#8e0152"
            ],
            [
             0.1,
             "#c51b7d"
            ],
            [
             0.2,
             "#de77ae"
            ],
            [
             0.3,
             "#f1b6da"
            ],
            [
             0.4,
             "#fde0ef"
            ],
            [
             0.5,
             "#f7f7f7"
            ],
            [
             0.6,
             "#e6f5d0"
            ],
            [
             0.7,
             "#b8e186"
            ],
            [
             0.8,
             "#7fbc41"
            ],
            [
             0.9,
             "#4d9221"
            ],
            [
             1,
             "#276419"
            ]
           ],
           "sequential": [
            [
             0,
             "#0d0887"
            ],
            [
             0.1111111111111111,
             "#46039f"
            ],
            [
             0.2222222222222222,
             "#7201a8"
            ],
            [
             0.3333333333333333,
             "#9c179e"
            ],
            [
             0.4444444444444444,
             "#bd3786"
            ],
            [
             0.5555555555555556,
             "#d8576b"
            ],
            [
             0.6666666666666666,
             "#ed7953"
            ],
            [
             0.7777777777777778,
             "#fb9f3a"
            ],
            [
             0.8888888888888888,
             "#fdca26"
            ],
            [
             1,
             "#f0f921"
            ]
           ],
           "sequentialminus": [
            [
             0,
             "#0d0887"
            ],
            [
             0.1111111111111111,
             "#46039f"
            ],
            [
             0.2222222222222222,
             "#7201a8"
            ],
            [
             0.3333333333333333,
             "#9c179e"
            ],
            [
             0.4444444444444444,
             "#bd3786"
            ],
            [
             0.5555555555555556,
             "#d8576b"
            ],
            [
             0.6666666666666666,
             "#ed7953"
            ],
            [
             0.7777777777777778,
             "#fb9f3a"
            ],
            [
             0.8888888888888888,
             "#fdca26"
            ],
            [
             1,
             "#f0f921"
            ]
           ]
          },
          "colorway": [
           "#636efa",
           "#EF553B",
           "#00cc96",
           "#ab63fa",
           "#FFA15A",
           "#19d3f3",
           "#FF6692",
           "#B6E880",
           "#FF97FF",
           "#FECB52"
          ],
          "font": {
           "color": "#2a3f5f"
          },
          "geo": {
           "bgcolor": "white",
           "lakecolor": "white",
           "landcolor": "#E5ECF6",
           "showlakes": true,
           "showland": true,
           "subunitcolor": "white"
          },
          "hoverlabel": {
           "align": "left"
          },
          "hovermode": "closest",
          "mapbox": {
           "style": "light"
          },
          "paper_bgcolor": "white",
          "plot_bgcolor": "#E5ECF6",
          "polar": {
           "angularaxis": {
            "gridcolor": "white",
            "linecolor": "white",
            "ticks": ""
           },
           "bgcolor": "#E5ECF6",
           "radialaxis": {
            "gridcolor": "white",
            "linecolor": "white",
            "ticks": ""
           }
          },
          "scene": {
           "xaxis": {
            "backgroundcolor": "#E5ECF6",
            "gridcolor": "white",
            "gridwidth": 2,
            "linecolor": "white",
            "showbackground": true,
            "ticks": "",
            "zerolinecolor": "white"
           },
           "yaxis": {
            "backgroundcolor": "#E5ECF6",
            "gridcolor": "white",
            "gridwidth": 2,
            "linecolor": "white",
            "showbackground": true,
            "ticks": "",
            "zerolinecolor": "white"
           },
           "zaxis": {
            "backgroundcolor": "#E5ECF6",
            "gridcolor": "white",
            "gridwidth": 2,
            "linecolor": "white",
            "showbackground": true,
            "ticks": "",
            "zerolinecolor": "white"
           }
          },
          "shapedefaults": {
           "line": {
            "color": "#2a3f5f"
           }
          },
          "ternary": {
           "aaxis": {
            "gridcolor": "white",
            "linecolor": "white",
            "ticks": ""
           },
           "baxis": {
            "gridcolor": "white",
            "linecolor": "white",
            "ticks": ""
           },
           "bgcolor": "#E5ECF6",
           "caxis": {
            "gridcolor": "white",
            "linecolor": "white",
            "ticks": ""
           }
          },
          "title": {
           "x": 0.05
          },
          "xaxis": {
           "automargin": true,
           "gridcolor": "white",
           "linecolor": "white",
           "ticks": "",
           "title": {
            "standoff": 15
           },
           "zerolinecolor": "white",
           "zerolinewidth": 2
          },
          "yaxis": {
           "automargin": true,
           "gridcolor": "white",
           "linecolor": "white",
           "ticks": "",
           "title": {
            "standoff": 15
           },
           "zerolinecolor": "white",
           "zerolinewidth": 2
          }
         }
        },
        "title": {
         "text": "ESRGAN Regularization Experiment – Validation set",
         "x": 0.5,
         "xanchor": "center",
         "yanchor": "bottom"
        },
        "width": 1000,
        "xaxis": {
         "range": [
          5,
          8.2
         ],
         "title": {
          "standoff": 5,
          "text": "Perceptual Index (PI)"
         }
        },
        "yaxis": {
         "range": [
          29,
          36
         ],
         "title": {
          "standoff": 0,
          "text": "Peak Signal-to-Noise Ratio (PSNR)"
         }
        }
       }
      },
      "text/html": [
       "<div>                            <div id=\"045035e5-46ff-40c6-8c5b-a69334710858\" class=\"plotly-graph-div\" style=\"height:500px; width:1000px;\"></div>            <script type=\"text/javascript\">                require([\"plotly\"], function(Plotly) {                    window.PLOTLYENV=window.PLOTLYENV || {};                                    if (document.getElementById(\"045035e5-46ff-40c6-8c5b-a69334710858\")) {                    Plotly.newPlot(                        \"045035e5-46ff-40c6-8c5b-a69334710858\",                        [{\"legendgroup\": \"WorldView-2\", \"marker\": {\"color\": \"#00CC96\", \"line\": {\"width\": 1.5}, \"size\": 14, \"symbol\": \"square\"}, \"mode\": \"markers\", \"name\": \"m4: WorldView-2, 4 bands\", \"showlegend\": true, \"type\": \"scatter\", \"visible\": true, \"x\": [7.63, 5.22, 7.79], \"y\": [30.69, 33.51, 34.78]}, {\"legendgroup\": \"WorldView-2\", \"marker\": {\"color\": \"#FFA15A\", \"line\": {\"width\": 1.5}, \"size\": 14, \"symbol\": \"diamond\"}, \"mode\": \"markers\", \"name\": \"m4-os: WorldView-2, 4 bands <br>            with oversampling (os)\", \"showlegend\": true, \"type\": \"scatter\", \"visible\": true, \"x\": [5.1, 7.86], \"y\": [33.3, 33.09]}, {\"legendgroup\": \"WorldView-2\", \"marker\": {\"color\": \"#19D3F3\", \"line\": {\"width\": 1.5}, \"size\": 14, \"symbol\": \"hexagram\"}, \"mode\": \"markers\", \"name\": \"m4-au: WorldView-2, 4 bands <br>            with augmentation (aug)\", \"showlegend\": true, \"type\": \"scatter\", \"visible\": true, \"x\": [5.36, 7.85], \"y\": [33.33, 34.18]}, {\"legendgroup\": \"WorldView-2\", \"marker\": {\"color\": \"#FF6692\", \"line\": {\"width\": 1.5}, \"size\": 14, \"symbol\": \"circle\"}, \"mode\": \"markers\", \"name\": \"m4-os-au: WorldView-2, 4 bands <br>                 with os and aug\", \"showlegend\": true, \"type\": \"scatter\", \"visible\": true, \"x\": [5.31, 7.66], \"y\": [33.06, 33.5]}, {\"legendgroup\": \"GeoEye-1\", \"marker\": {\"color\": \"#00CC96\", \"line\": {\"width\": 1.5}, \"size\": 14, \"symbol\": \"square-dot\"}, \"mode\": \"markers\", \"name\": \"m4: GeoEye-1, 4 (all) bands\", \"showlegend\": true, \"type\": \"scatter\", \"visible\": true, \"x\": [7.8, 5.62, 7.8], \"y\": [29.38, 31.95, 33.18]}, {\"legendgroup\": \"GeoEye-1\", \"marker\": {\"color\": \"#FFA15A\", \"line\": {\"width\": 2}, \"size\": 14, \"symbol\": \"diamond-dot\"}, \"mode\": \"markers\", \"name\": \"m4-os: GeoEye-1, 4 (all) bands <br>            with oversampling (os)\", \"showlegend\": true, \"type\": \"scatter\", \"visible\": true, \"x\": [5.52, 7.8], \"y\": [32.1, 32.45]}, {\"legendgroup\": \"GeoEye-1\", \"marker\": {\"color\": \"#19D3F3\", \"line\": {\"width\": 2}, \"size\": 14, \"symbol\": \"hexagram-dot\"}, \"mode\": \"markers\", \"name\": \"m4-au: GeoEye-1, 4 (all) bands <br>            with augmentation (aug)\", \"showlegend\": true, \"type\": \"scatter\", \"visible\": true, \"x\": [5.9, 5.53, 7.77], \"y\": [32.38, 33.32, 33.32]}, {\"legendgroup\": \"GeoEye-1\", \"marker\": {\"color\": \"#FF6692\", \"line\": {\"width\": 2}, \"size\": 14, \"symbol\": \"circle-dot\"}, \"mode\": \"markers\", \"name\": \"m4-os-au: GeoEye-1, 4 (all) bands <br>                 with os and aug\", \"showlegend\": true, \"type\": \"scatter\", \"visible\": true, \"x\": [5.78, 7.83], \"y\": [32.49, 33.25]}],                        {\"height\": 500, \"margin\": {\"b\": 10, \"l\": 10, \"r\": 10, \"t\": 35}, \"showlegend\": true, \"template\": {\"data\": {\"bar\": [{\"error_x\": {\"color\": \"#2a3f5f\"}, \"error_y\": {\"color\": \"#2a3f5f\"}, \"marker\": {\"line\": {\"color\": \"#E5ECF6\", \"width\": 0.5}}, \"type\": \"bar\"}], \"barpolar\": [{\"marker\": {\"line\": {\"color\": \"#E5ECF6\", \"width\": 0.5}}, \"type\": \"barpolar\"}], \"carpet\": [{\"aaxis\": {\"endlinecolor\": \"#2a3f5f\", \"gridcolor\": \"white\", \"linecolor\": \"white\", \"minorgridcolor\": \"white\", \"startlinecolor\": \"#2a3f5f\"}, \"baxis\": {\"endlinecolor\": \"#2a3f5f\", \"gridcolor\": \"white\", \"linecolor\": \"white\", \"minorgridcolor\": \"white\", \"startlinecolor\": \"#2a3f5f\"}, \"type\": \"carpet\"}], \"choropleth\": [{\"colorbar\": {\"outlinewidth\": 0, \"ticks\": \"\"}, \"type\": \"choropleth\"}], \"contour\": [{\"colorbar\": {\"outlinewidth\": 0, \"ticks\": \"\"}, \"colorscale\": [[0.0, \"#0d0887\"], [0.1111111111111111, \"#46039f\"], [0.2222222222222222, \"#7201a8\"], [0.3333333333333333, \"#9c179e\"], [0.4444444444444444, \"#bd3786\"], [0.5555555555555556, \"#d8576b\"], [0.6666666666666666, \"#ed7953\"], [0.7777777777777778, \"#fb9f3a\"], [0.8888888888888888, \"#fdca26\"], [1.0, \"#f0f921\"]], \"type\": \"contour\"}], \"contourcarpet\": [{\"colorbar\": {\"outlinewidth\": 0, \"ticks\": \"\"}, \"type\": \"contourcarpet\"}], \"heatmap\": [{\"colorbar\": {\"outlinewidth\": 0, \"ticks\": \"\"}, \"colorscale\": [[0.0, \"#0d0887\"], [0.1111111111111111, \"#46039f\"], [0.2222222222222222, \"#7201a8\"], [0.3333333333333333, \"#9c179e\"], [0.4444444444444444, \"#bd3786\"], [0.5555555555555556, \"#d8576b\"], [0.6666666666666666, \"#ed7953\"], [0.7777777777777778, \"#fb9f3a\"], [0.8888888888888888, \"#fdca26\"], [1.0, \"#f0f921\"]], \"type\": \"heatmap\"}], \"heatmapgl\": [{\"colorbar\": {\"outlinewidth\": 0, \"ticks\": \"\"}, \"colorscale\": [[0.0, \"#0d0887\"], [0.1111111111111111, \"#46039f\"], [0.2222222222222222, \"#7201a8\"], [0.3333333333333333, \"#9c179e\"], [0.4444444444444444, \"#bd3786\"], [0.5555555555555556, \"#d8576b\"], [0.6666666666666666, \"#ed7953\"], [0.7777777777777778, \"#fb9f3a\"], [0.8888888888888888, \"#fdca26\"], [1.0, \"#f0f921\"]], \"type\": \"heatmapgl\"}], \"histogram\": [{\"marker\": {\"colorbar\": {\"outlinewidth\": 0, \"ticks\": \"\"}}, \"type\": \"histogram\"}], \"histogram2d\": [{\"colorbar\": {\"outlinewidth\": 0, \"ticks\": \"\"}, \"colorscale\": [[0.0, \"#0d0887\"], [0.1111111111111111, \"#46039f\"], [0.2222222222222222, \"#7201a8\"], [0.3333333333333333, \"#9c179e\"], [0.4444444444444444, \"#bd3786\"], [0.5555555555555556, \"#d8576b\"], [0.6666666666666666, \"#ed7953\"], [0.7777777777777778, \"#fb9f3a\"], [0.8888888888888888, \"#fdca26\"], [1.0, \"#f0f921\"]], \"type\": \"histogram2d\"}], \"histogram2dcontour\": [{\"colorbar\": {\"outlinewidth\": 0, \"ticks\": \"\"}, \"colorscale\": [[0.0, \"#0d0887\"], [0.1111111111111111, \"#46039f\"], [0.2222222222222222, \"#7201a8\"], [0.3333333333333333, \"#9c179e\"], [0.4444444444444444, \"#bd3786\"], [0.5555555555555556, \"#d8576b\"], [0.6666666666666666, \"#ed7953\"], [0.7777777777777778, \"#fb9f3a\"], [0.8888888888888888, \"#fdca26\"], [1.0, \"#f0f921\"]], \"type\": \"histogram2dcontour\"}], \"mesh3d\": [{\"colorbar\": {\"outlinewidth\": 0, \"ticks\": \"\"}, \"type\": \"mesh3d\"}], \"parcoords\": [{\"line\": {\"colorbar\": {\"outlinewidth\": 0, \"ticks\": \"\"}}, \"type\": \"parcoords\"}], \"pie\": [{\"automargin\": true, \"type\": \"pie\"}], \"scatter\": [{\"marker\": {\"colorbar\": {\"outlinewidth\": 0, \"ticks\": \"\"}}, \"type\": \"scatter\"}], \"scatter3d\": [{\"line\": {\"colorbar\": {\"outlinewidth\": 0, \"ticks\": \"\"}}, \"marker\": {\"colorbar\": {\"outlinewidth\": 0, \"ticks\": \"\"}}, \"type\": \"scatter3d\"}], \"scattercarpet\": [{\"marker\": {\"colorbar\": {\"outlinewidth\": 0, \"ticks\": \"\"}}, \"type\": \"scattercarpet\"}], \"scattergeo\": [{\"marker\": {\"colorbar\": {\"outlinewidth\": 0, \"ticks\": \"\"}}, \"type\": \"scattergeo\"}], \"scattergl\": [{\"marker\": {\"colorbar\": {\"outlinewidth\": 0, \"ticks\": \"\"}}, \"type\": \"scattergl\"}], \"scattermapbox\": [{\"marker\": {\"colorbar\": {\"outlinewidth\": 0, \"ticks\": \"\"}}, \"type\": \"scattermapbox\"}], \"scatterpolar\": [{\"marker\": {\"colorbar\": {\"outlinewidth\": 0, \"ticks\": \"\"}}, \"type\": \"scatterpolar\"}], \"scatterpolargl\": [{\"marker\": {\"colorbar\": {\"outlinewidth\": 0, \"ticks\": \"\"}}, \"type\": \"scatterpolargl\"}], \"scatterternary\": [{\"marker\": {\"colorbar\": {\"outlinewidth\": 0, \"ticks\": \"\"}}, \"type\": \"scatterternary\"}], \"surface\": [{\"colorbar\": {\"outlinewidth\": 0, \"ticks\": \"\"}, \"colorscale\": [[0.0, \"#0d0887\"], [0.1111111111111111, \"#46039f\"], [0.2222222222222222, \"#7201a8\"], [0.3333333333333333, \"#9c179e\"], [0.4444444444444444, \"#bd3786\"], [0.5555555555555556, \"#d8576b\"], [0.6666666666666666, \"#ed7953\"], [0.7777777777777778, \"#fb9f3a\"], [0.8888888888888888, \"#fdca26\"], [1.0, \"#f0f921\"]], \"type\": \"surface\"}], \"table\": [{\"cells\": {\"fill\": {\"color\": \"#EBF0F8\"}, \"line\": {\"color\": \"white\"}}, \"header\": {\"fill\": {\"color\": \"#C8D4E3\"}, \"line\": {\"color\": \"white\"}}, \"type\": \"table\"}]}, \"layout\": {\"annotationdefaults\": {\"arrowcolor\": \"#2a3f5f\", \"arrowhead\": 0, \"arrowwidth\": 1}, \"autotypenumbers\": \"strict\", \"coloraxis\": {\"colorbar\": {\"outlinewidth\": 0, \"ticks\": \"\"}}, \"colorscale\": {\"diverging\": [[0, \"#8e0152\"], [0.1, \"#c51b7d\"], [0.2, \"#de77ae\"], [0.3, \"#f1b6da\"], [0.4, \"#fde0ef\"], [0.5, \"#f7f7f7\"], [0.6, \"#e6f5d0\"], [0.7, \"#b8e186\"], [0.8, \"#7fbc41\"], [0.9, \"#4d9221\"], [1, \"#276419\"]], \"sequential\": [[0.0, \"#0d0887\"], [0.1111111111111111, \"#46039f\"], [0.2222222222222222, \"#7201a8\"], [0.3333333333333333, \"#9c179e\"], [0.4444444444444444, \"#bd3786\"], [0.5555555555555556, \"#d8576b\"], [0.6666666666666666, \"#ed7953\"], [0.7777777777777778, \"#fb9f3a\"], [0.8888888888888888, \"#fdca26\"], [1.0, \"#f0f921\"]], \"sequentialminus\": [[0.0, \"#0d0887\"], [0.1111111111111111, \"#46039f\"], [0.2222222222222222, \"#7201a8\"], [0.3333333333333333, \"#9c179e\"], [0.4444444444444444, \"#bd3786\"], [0.5555555555555556, \"#d8576b\"], [0.6666666666666666, \"#ed7953\"], [0.7777777777777778, \"#fb9f3a\"], [0.8888888888888888, \"#fdca26\"], [1.0, \"#f0f921\"]]}, \"colorway\": [\"#636efa\", \"#EF553B\", \"#00cc96\", \"#ab63fa\", \"#FFA15A\", \"#19d3f3\", \"#FF6692\", \"#B6E880\", \"#FF97FF\", \"#FECB52\"], \"font\": {\"color\": \"#2a3f5f\"}, \"geo\": {\"bgcolor\": \"white\", \"lakecolor\": \"white\", \"landcolor\": \"#E5ECF6\", \"showlakes\": true, \"showland\": true, \"subunitcolor\": \"white\"}, \"hoverlabel\": {\"align\": \"left\"}, \"hovermode\": \"closest\", \"mapbox\": {\"style\": \"light\"}, \"paper_bgcolor\": \"white\", \"plot_bgcolor\": \"#E5ECF6\", \"polar\": {\"angularaxis\": {\"gridcolor\": \"white\", \"linecolor\": \"white\", \"ticks\": \"\"}, \"bgcolor\": \"#E5ECF6\", \"radialaxis\": {\"gridcolor\": \"white\", \"linecolor\": \"white\", \"ticks\": \"\"}}, \"scene\": {\"xaxis\": {\"backgroundcolor\": \"#E5ECF6\", \"gridcolor\": \"white\", \"gridwidth\": 2, \"linecolor\": \"white\", \"showbackground\": true, \"ticks\": \"\", \"zerolinecolor\": \"white\"}, \"yaxis\": {\"backgroundcolor\": \"#E5ECF6\", \"gridcolor\": \"white\", \"gridwidth\": 2, \"linecolor\": \"white\", \"showbackground\": true, \"ticks\": \"\", \"zerolinecolor\": \"white\"}, \"zaxis\": {\"backgroundcolor\": \"#E5ECF6\", \"gridcolor\": \"white\", \"gridwidth\": 2, \"linecolor\": \"white\", \"showbackground\": true, \"ticks\": \"\", \"zerolinecolor\": \"white\"}}, \"shapedefaults\": {\"line\": {\"color\": \"#2a3f5f\"}}, \"ternary\": {\"aaxis\": {\"gridcolor\": \"white\", \"linecolor\": \"white\", \"ticks\": \"\"}, \"baxis\": {\"gridcolor\": \"white\", \"linecolor\": \"white\", \"ticks\": \"\"}, \"bgcolor\": \"#E5ECF6\", \"caxis\": {\"gridcolor\": \"white\", \"linecolor\": \"white\", \"ticks\": \"\"}}, \"title\": {\"x\": 0.05}, \"xaxis\": {\"automargin\": true, \"gridcolor\": \"white\", \"linecolor\": \"white\", \"ticks\": \"\", \"title\": {\"standoff\": 15}, \"zerolinecolor\": \"white\", \"zerolinewidth\": 2}, \"yaxis\": {\"automargin\": true, \"gridcolor\": \"white\", \"linecolor\": \"white\", \"ticks\": \"\", \"title\": {\"standoff\": 15}, \"zerolinecolor\": \"white\", \"zerolinewidth\": 2}}}, \"title\": {\"text\": \"ESRGAN Regularization Experiment \\u2013 Validation set\", \"x\": 0.5, \"xanchor\": \"center\", \"yanchor\": \"bottom\"}, \"width\": 1000, \"xaxis\": {\"range\": [5, 8.2], \"title\": {\"standoff\": 5, \"text\": \"Perceptual Index (PI)\"}}, \"yaxis\": {\"range\": [29, 36], \"title\": {\"standoff\": 0, \"text\": \"Peak Signal-to-Noise Ratio (PSNR)\"}}},                        {\"responsive\": true}                    ).then(function(){\n",
       "                            \n",
       "var gd = document.getElementById('045035e5-46ff-40c6-8c5b-a69334710858');\n",
       "var x = new MutationObserver(function (mutations, observer) {{\n",
       "        var display = window.getComputedStyle(gd).display;\n",
       "        if (!display || display === 'none') {{\n",
       "            console.log([gd, 'removed!']);\n",
       "            Plotly.purge(gd);\n",
       "            observer.disconnect();\n",
       "        }}\n",
       "}});\n",
       "\n",
       "// Listen for the removal of the full notebook cells\n",
       "var notebookContainer = gd.closest('#notebook-container');\n",
       "if (notebookContainer) {{\n",
       "    x.observe(notebookContainer, {childList: true});\n",
       "}}\n",
       "\n",
       "// Listen for the clearing of the current output cell\n",
       "var outputEl = gd.closest('.output');\n",
       "if (outputEl) {{\n",
       "    x.observe(outputEl, {childList: true});\n",
       "}}\n",
       "\n",
       "                        })                };                });            </script>        </div>"
      ]
     },
     "metadata": {},
     "output_type": "display_data"
    },
    {
     "data": {
      "application/vnd.plotly.v1+json": {
       "config": {
        "plotlyServerURL": "https://plot.ly"
       },
       "data": [
        {
         "legendgroup": "WorldView-2",
         "marker": {
          "color": "#00CC96",
          "line": {
           "width": 1.5
          },
          "size": 14,
          "symbol": "square"
         },
         "mode": "markers",
         "name": "m4: WorldView-2, 4 bands",
         "showlegend": true,
         "type": "scatter",
         "visible": true,
         "x": [
          7.63,
          5.22,
          7.79
         ],
         "y": [
          30.69,
          33.51,
          34.78
         ]
        },
        {
         "legendgroup": "WorldView-2",
         "marker": {
          "color": "#FFA15A",
          "line": {
           "width": 1.5
          },
          "size": 14,
          "symbol": "diamond"
         },
         "mode": "markers",
         "name": "m4-os: WorldView-2, 4 bands <br>            with oversampling (os)",
         "showlegend": true,
         "type": "scatter",
         "visible": true,
         "x": [
          5.1,
          7.86
         ],
         "y": [
          33.3,
          33.09
         ]
        },
        {
         "legendgroup": "WorldView-2",
         "marker": {
          "color": "#19D3F3",
          "line": {
           "width": 1.5
          },
          "size": 14,
          "symbol": "hexagram"
         },
         "mode": "markers",
         "name": "m4-au: WorldView-2, 4 bands <br>            with augmentation (aug)",
         "showlegend": true,
         "type": "scatter",
         "visible": true,
         "x": [
          5.36,
          7.85
         ],
         "y": [
          33.33,
          34.18
         ]
        },
        {
         "legendgroup": "WorldView-2",
         "marker": {
          "color": "#FF6692",
          "line": {
           "width": 1.5
          },
          "size": 14,
          "symbol": "circle"
         },
         "mode": "markers",
         "name": "m4-os-au: WorldView-2, 4 bands <br>                 with os and aug",
         "showlegend": true,
         "type": "scatter",
         "visible": true,
         "x": [
          5.31,
          7.66
         ],
         "y": [
          33.06,
          33.5
         ]
        },
        {
         "legendgroup": "GeoEye-1",
         "marker": {
          "color": "#00CC96",
          "line": {
           "width": 1.5
          },
          "size": 14,
          "symbol": "square-dot"
         },
         "mode": "markers",
         "name": "m4: GeoEye-1, 4 (all) bands",
         "showlegend": true,
         "type": "scatter",
         "visible": true,
         "x": [
          7.8,
          5.62,
          7.8
         ],
         "y": [
          29.38,
          31.95,
          33.18
         ]
        },
        {
         "legendgroup": "GeoEye-1",
         "marker": {
          "color": "#FFA15A",
          "line": {
           "width": 2
          },
          "size": 14,
          "symbol": "diamond-dot"
         },
         "mode": "markers",
         "name": "m4-os: GeoEye-1, 4 (all) bands <br>            with oversampling (os)",
         "showlegend": true,
         "type": "scatter",
         "visible": true,
         "x": [
          5.52,
          7.8
         ],
         "y": [
          32.1,
          32.45
         ]
        },
        {
         "legendgroup": "GeoEye-1",
         "marker": {
          "color": "#19D3F3",
          "line": {
           "width": 2
          },
          "size": 14,
          "symbol": "hexagram-dot"
         },
         "mode": "markers",
         "name": "m4-au: GeoEye-1, 4 (all) bands <br>            with augmentation (aug)",
         "showlegend": true,
         "type": "scatter",
         "visible": true,
         "x": [
          5.9,
          5.53,
          7.77
         ],
         "y": [
          32.38,
          33.32,
          33.32
         ]
        },
        {
         "legendgroup": "GeoEye-1",
         "marker": {
          "color": "#FF6692",
          "line": {
           "width": 2
          },
          "size": 14,
          "symbol": "circle-dot"
         },
         "mode": "markers",
         "name": "m4-os-au: GeoEye-1, 4 (all) bands <br>                 with os and aug",
         "showlegend": true,
         "type": "scatter",
         "visible": true,
         "x": [
          5.78,
          7.83
         ],
         "y": [
          32.49,
          33.25
         ]
        }
       ],
       "layout": {
        "height": 500,
        "margin": {
         "b": 10,
         "l": 10,
         "r": 10,
         "t": 35
        },
        "showlegend": true,
        "template": {
         "data": {
          "bar": [
           {
            "error_x": {
             "color": "#2a3f5f"
            },
            "error_y": {
             "color": "#2a3f5f"
            },
            "marker": {
             "line": {
              "color": "#E5ECF6",
              "width": 0.5
             }
            },
            "type": "bar"
           }
          ],
          "barpolar": [
           {
            "marker": {
             "line": {
              "color": "#E5ECF6",
              "width": 0.5
             }
            },
            "type": "barpolar"
           }
          ],
          "carpet": [
           {
            "aaxis": {
             "endlinecolor": "#2a3f5f",
             "gridcolor": "white",
             "linecolor": "white",
             "minorgridcolor": "white",
             "startlinecolor": "#2a3f5f"
            },
            "baxis": {
             "endlinecolor": "#2a3f5f",
             "gridcolor": "white",
             "linecolor": "white",
             "minorgridcolor": "white",
             "startlinecolor": "#2a3f5f"
            },
            "type": "carpet"
           }
          ],
          "choropleth": [
           {
            "colorbar": {
             "outlinewidth": 0,
             "ticks": ""
            },
            "type": "choropleth"
           }
          ],
          "contour": [
           {
            "colorbar": {
             "outlinewidth": 0,
             "ticks": ""
            },
            "colorscale": [
             [
              0,
              "#0d0887"
             ],
             [
              0.1111111111111111,
              "#46039f"
             ],
             [
              0.2222222222222222,
              "#7201a8"
             ],
             [
              0.3333333333333333,
              "#9c179e"
             ],
             [
              0.4444444444444444,
              "#bd3786"
             ],
             [
              0.5555555555555556,
              "#d8576b"
             ],
             [
              0.6666666666666666,
              "#ed7953"
             ],
             [
              0.7777777777777778,
              "#fb9f3a"
             ],
             [
              0.8888888888888888,
              "#fdca26"
             ],
             [
              1,
              "#f0f921"
             ]
            ],
            "type": "contour"
           }
          ],
          "contourcarpet": [
           {
            "colorbar": {
             "outlinewidth": 0,
             "ticks": ""
            },
            "type": "contourcarpet"
           }
          ],
          "heatmap": [
           {
            "colorbar": {
             "outlinewidth": 0,
             "ticks": ""
            },
            "colorscale": [
             [
              0,
              "#0d0887"
             ],
             [
              0.1111111111111111,
              "#46039f"
             ],
             [
              0.2222222222222222,
              "#7201a8"
             ],
             [
              0.3333333333333333,
              "#9c179e"
             ],
             [
              0.4444444444444444,
              "#bd3786"
             ],
             [
              0.5555555555555556,
              "#d8576b"
             ],
             [
              0.6666666666666666,
              "#ed7953"
             ],
             [
              0.7777777777777778,
              "#fb9f3a"
             ],
             [
              0.8888888888888888,
              "#fdca26"
             ],
             [
              1,
              "#f0f921"
             ]
            ],
            "type": "heatmap"
           }
          ],
          "heatmapgl": [
           {
            "colorbar": {
             "outlinewidth": 0,
             "ticks": ""
            },
            "colorscale": [
             [
              0,
              "#0d0887"
             ],
             [
              0.1111111111111111,
              "#46039f"
             ],
             [
              0.2222222222222222,
              "#7201a8"
             ],
             [
              0.3333333333333333,
              "#9c179e"
             ],
             [
              0.4444444444444444,
              "#bd3786"
             ],
             [
              0.5555555555555556,
              "#d8576b"
             ],
             [
              0.6666666666666666,
              "#ed7953"
             ],
             [
              0.7777777777777778,
              "#fb9f3a"
             ],
             [
              0.8888888888888888,
              "#fdca26"
             ],
             [
              1,
              "#f0f921"
             ]
            ],
            "type": "heatmapgl"
           }
          ],
          "histogram": [
           {
            "marker": {
             "colorbar": {
              "outlinewidth": 0,
              "ticks": ""
             }
            },
            "type": "histogram"
           }
          ],
          "histogram2d": [
           {
            "colorbar": {
             "outlinewidth": 0,
             "ticks": ""
            },
            "colorscale": [
             [
              0,
              "#0d0887"
             ],
             [
              0.1111111111111111,
              "#46039f"
             ],
             [
              0.2222222222222222,
              "#7201a8"
             ],
             [
              0.3333333333333333,
              "#9c179e"
             ],
             [
              0.4444444444444444,
              "#bd3786"
             ],
             [
              0.5555555555555556,
              "#d8576b"
             ],
             [
              0.6666666666666666,
              "#ed7953"
             ],
             [
              0.7777777777777778,
              "#fb9f3a"
             ],
             [
              0.8888888888888888,
              "#fdca26"
             ],
             [
              1,
              "#f0f921"
             ]
            ],
            "type": "histogram2d"
           }
          ],
          "histogram2dcontour": [
           {
            "colorbar": {
             "outlinewidth": 0,
             "ticks": ""
            },
            "colorscale": [
             [
              0,
              "#0d0887"
             ],
             [
              0.1111111111111111,
              "#46039f"
             ],
             [
              0.2222222222222222,
              "#7201a8"
             ],
             [
              0.3333333333333333,
              "#9c179e"
             ],
             [
              0.4444444444444444,
              "#bd3786"
             ],
             [
              0.5555555555555556,
              "#d8576b"
             ],
             [
              0.6666666666666666,
              "#ed7953"
             ],
             [
              0.7777777777777778,
              "#fb9f3a"
             ],
             [
              0.8888888888888888,
              "#fdca26"
             ],
             [
              1,
              "#f0f921"
             ]
            ],
            "type": "histogram2dcontour"
           }
          ],
          "mesh3d": [
           {
            "colorbar": {
             "outlinewidth": 0,
             "ticks": ""
            },
            "type": "mesh3d"
           }
          ],
          "parcoords": [
           {
            "line": {
             "colorbar": {
              "outlinewidth": 0,
              "ticks": ""
             }
            },
            "type": "parcoords"
           }
          ],
          "pie": [
           {
            "automargin": true,
            "type": "pie"
           }
          ],
          "scatter": [
           {
            "marker": {
             "colorbar": {
              "outlinewidth": 0,
              "ticks": ""
             }
            },
            "type": "scatter"
           }
          ],
          "scatter3d": [
           {
            "line": {
             "colorbar": {
              "outlinewidth": 0,
              "ticks": ""
             }
            },
            "marker": {
             "colorbar": {
              "outlinewidth": 0,
              "ticks": ""
             }
            },
            "type": "scatter3d"
           }
          ],
          "scattercarpet": [
           {
            "marker": {
             "colorbar": {
              "outlinewidth": 0,
              "ticks": ""
             }
            },
            "type": "scattercarpet"
           }
          ],
          "scattergeo": [
           {
            "marker": {
             "colorbar": {
              "outlinewidth": 0,
              "ticks": ""
             }
            },
            "type": "scattergeo"
           }
          ],
          "scattergl": [
           {
            "marker": {
             "colorbar": {
              "outlinewidth": 0,
              "ticks": ""
             }
            },
            "type": "scattergl"
           }
          ],
          "scattermapbox": [
           {
            "marker": {
             "colorbar": {
              "outlinewidth": 0,
              "ticks": ""
             }
            },
            "type": "scattermapbox"
           }
          ],
          "scatterpolar": [
           {
            "marker": {
             "colorbar": {
              "outlinewidth": 0,
              "ticks": ""
             }
            },
            "type": "scatterpolar"
           }
          ],
          "scatterpolargl": [
           {
            "marker": {
             "colorbar": {
              "outlinewidth": 0,
              "ticks": ""
             }
            },
            "type": "scatterpolargl"
           }
          ],
          "scatterternary": [
           {
            "marker": {
             "colorbar": {
              "outlinewidth": 0,
              "ticks": ""
             }
            },
            "type": "scatterternary"
           }
          ],
          "surface": [
           {
            "colorbar": {
             "outlinewidth": 0,
             "ticks": ""
            },
            "colorscale": [
             [
              0,
              "#0d0887"
             ],
             [
              0.1111111111111111,
              "#46039f"
             ],
             [
              0.2222222222222222,
              "#7201a8"
             ],
             [
              0.3333333333333333,
              "#9c179e"
             ],
             [
              0.4444444444444444,
              "#bd3786"
             ],
             [
              0.5555555555555556,
              "#d8576b"
             ],
             [
              0.6666666666666666,
              "#ed7953"
             ],
             [
              0.7777777777777778,
              "#fb9f3a"
             ],
             [
              0.8888888888888888,
              "#fdca26"
             ],
             [
              1,
              "#f0f921"
             ]
            ],
            "type": "surface"
           }
          ],
          "table": [
           {
            "cells": {
             "fill": {
              "color": "#EBF0F8"
             },
             "line": {
              "color": "white"
             }
            },
            "header": {
             "fill": {
              "color": "#C8D4E3"
             },
             "line": {
              "color": "white"
             }
            },
            "type": "table"
           }
          ]
         },
         "layout": {
          "annotationdefaults": {
           "arrowcolor": "#2a3f5f",
           "arrowhead": 0,
           "arrowwidth": 1
          },
          "autotypenumbers": "strict",
          "coloraxis": {
           "colorbar": {
            "outlinewidth": 0,
            "ticks": ""
           }
          },
          "colorscale": {
           "diverging": [
            [
             0,
             "#8e0152"
            ],
            [
             0.1,
             "#c51b7d"
            ],
            [
             0.2,
             "#de77ae"
            ],
            [
             0.3,
             "#f1b6da"
            ],
            [
             0.4,
             "#fde0ef"
            ],
            [
             0.5,
             "#f7f7f7"
            ],
            [
             0.6,
             "#e6f5d0"
            ],
            [
             0.7,
             "#b8e186"
            ],
            [
             0.8,
             "#7fbc41"
            ],
            [
             0.9,
             "#4d9221"
            ],
            [
             1,
             "#276419"
            ]
           ],
           "sequential": [
            [
             0,
             "#0d0887"
            ],
            [
             0.1111111111111111,
             "#46039f"
            ],
            [
             0.2222222222222222,
             "#7201a8"
            ],
            [
             0.3333333333333333,
             "#9c179e"
            ],
            [
             0.4444444444444444,
             "#bd3786"
            ],
            [
             0.5555555555555556,
             "#d8576b"
            ],
            [
             0.6666666666666666,
             "#ed7953"
            ],
            [
             0.7777777777777778,
             "#fb9f3a"
            ],
            [
             0.8888888888888888,
             "#fdca26"
            ],
            [
             1,
             "#f0f921"
            ]
           ],
           "sequentialminus": [
            [
             0,
             "#0d0887"
            ],
            [
             0.1111111111111111,
             "#46039f"
            ],
            [
             0.2222222222222222,
             "#7201a8"
            ],
            [
             0.3333333333333333,
             "#9c179e"
            ],
            [
             0.4444444444444444,
             "#bd3786"
            ],
            [
             0.5555555555555556,
             "#d8576b"
            ],
            [
             0.6666666666666666,
             "#ed7953"
            ],
            [
             0.7777777777777778,
             "#fb9f3a"
            ],
            [
             0.8888888888888888,
             "#fdca26"
            ],
            [
             1,
             "#f0f921"
            ]
           ]
          },
          "colorway": [
           "#636efa",
           "#EF553B",
           "#00cc96",
           "#ab63fa",
           "#FFA15A",
           "#19d3f3",
           "#FF6692",
           "#B6E880",
           "#FF97FF",
           "#FECB52"
          ],
          "font": {
           "color": "#2a3f5f"
          },
          "geo": {
           "bgcolor": "white",
           "lakecolor": "white",
           "landcolor": "#E5ECF6",
           "showlakes": true,
           "showland": true,
           "subunitcolor": "white"
          },
          "hoverlabel": {
           "align": "left"
          },
          "hovermode": "closest",
          "mapbox": {
           "style": "light"
          },
          "paper_bgcolor": "white",
          "plot_bgcolor": "#E5ECF6",
          "polar": {
           "angularaxis": {
            "gridcolor": "white",
            "linecolor": "white",
            "ticks": ""
           },
           "bgcolor": "#E5ECF6",
           "radialaxis": {
            "gridcolor": "white",
            "linecolor": "white",
            "ticks": ""
           }
          },
          "scene": {
           "xaxis": {
            "backgroundcolor": "#E5ECF6",
            "gridcolor": "white",
            "gridwidth": 2,
            "linecolor": "white",
            "showbackground": true,
            "ticks": "",
            "zerolinecolor": "white"
           },
           "yaxis": {
            "backgroundcolor": "#E5ECF6",
            "gridcolor": "white",
            "gridwidth": 2,
            "linecolor": "white",
            "showbackground": true,
            "ticks": "",
            "zerolinecolor": "white"
           },
           "zaxis": {
            "backgroundcolor": "#E5ECF6",
            "gridcolor": "white",
            "gridwidth": 2,
            "linecolor": "white",
            "showbackground": true,
            "ticks": "",
            "zerolinecolor": "white"
           }
          },
          "shapedefaults": {
           "line": {
            "color": "#2a3f5f"
           }
          },
          "ternary": {
           "aaxis": {
            "gridcolor": "white",
            "linecolor": "white",
            "ticks": ""
           },
           "baxis": {
            "gridcolor": "white",
            "linecolor": "white",
            "ticks": ""
           },
           "bgcolor": "#E5ECF6",
           "caxis": {
            "gridcolor": "white",
            "linecolor": "white",
            "ticks": ""
           }
          },
          "title": {
           "x": 0.05
          },
          "xaxis": {
           "automargin": true,
           "gridcolor": "white",
           "linecolor": "white",
           "ticks": "",
           "title": {
            "standoff": 15
           },
           "zerolinecolor": "white",
           "zerolinewidth": 2
          },
          "yaxis": {
           "automargin": true,
           "gridcolor": "white",
           "linecolor": "white",
           "ticks": "",
           "title": {
            "standoff": 15
           },
           "zerolinecolor": "white",
           "zerolinewidth": 2
          }
         }
        },
        "title": {
         "text": "ESRGAN Regularization Experiment – Validation set",
         "x": 0.5,
         "xanchor": "center",
         "yanchor": "bottom"
        },
        "width": 1000,
        "xaxis": {
         "range": [
          5,
          8.2
         ],
         "title": {
          "standoff": 5,
          "text": "Perceptual Index (PI)"
         }
        },
        "yaxis": {
         "range": [
          29,
          36
         ],
         "title": {
          "standoff": 0,
          "text": "Peak Signal-to-Noise Ratio (PSNR)"
         }
        }
       }
      },
      "text/html": [
       "<div>                            <div id=\"78a2dca3-1383-4fb6-a570-0e6cea4c0544\" class=\"plotly-graph-div\" style=\"height:500px; width:1000px;\"></div>            <script type=\"text/javascript\">                require([\"plotly\"], function(Plotly) {                    window.PLOTLYENV=window.PLOTLYENV || {};                                    if (document.getElementById(\"78a2dca3-1383-4fb6-a570-0e6cea4c0544\")) {                    Plotly.newPlot(                        \"78a2dca3-1383-4fb6-a570-0e6cea4c0544\",                        [{\"legendgroup\": \"WorldView-2\", \"marker\": {\"color\": \"#00CC96\", \"line\": {\"width\": 1.5}, \"size\": 14, \"symbol\": \"square\"}, \"mode\": \"markers\", \"name\": \"m4: WorldView-2, 4 bands\", \"showlegend\": true, \"type\": \"scatter\", \"visible\": true, \"x\": [7.63, 5.22, 7.79], \"y\": [30.69, 33.51, 34.78]}, {\"legendgroup\": \"WorldView-2\", \"marker\": {\"color\": \"#FFA15A\", \"line\": {\"width\": 1.5}, \"size\": 14, \"symbol\": \"diamond\"}, \"mode\": \"markers\", \"name\": \"m4-os: WorldView-2, 4 bands <br>            with oversampling (os)\", \"showlegend\": true, \"type\": \"scatter\", \"visible\": true, \"x\": [5.1, 7.86], \"y\": [33.3, 33.09]}, {\"legendgroup\": \"WorldView-2\", \"marker\": {\"color\": \"#19D3F3\", \"line\": {\"width\": 1.5}, \"size\": 14, \"symbol\": \"hexagram\"}, \"mode\": \"markers\", \"name\": \"m4-au: WorldView-2, 4 bands <br>            with augmentation (aug)\", \"showlegend\": true, \"type\": \"scatter\", \"visible\": true, \"x\": [5.36, 7.85], \"y\": [33.33, 34.18]}, {\"legendgroup\": \"WorldView-2\", \"marker\": {\"color\": \"#FF6692\", \"line\": {\"width\": 1.5}, \"size\": 14, \"symbol\": \"circle\"}, \"mode\": \"markers\", \"name\": \"m4-os-au: WorldView-2, 4 bands <br>                 with os and aug\", \"showlegend\": true, \"type\": \"scatter\", \"visible\": true, \"x\": [5.31, 7.66], \"y\": [33.06, 33.5]}, {\"legendgroup\": \"GeoEye-1\", \"marker\": {\"color\": \"#00CC96\", \"line\": {\"width\": 1.5}, \"size\": 14, \"symbol\": \"square-dot\"}, \"mode\": \"markers\", \"name\": \"m4: GeoEye-1, 4 (all) bands\", \"showlegend\": true, \"type\": \"scatter\", \"visible\": true, \"x\": [7.8, 5.62, 7.8], \"y\": [29.38, 31.95, 33.18]}, {\"legendgroup\": \"GeoEye-1\", \"marker\": {\"color\": \"#FFA15A\", \"line\": {\"width\": 2}, \"size\": 14, \"symbol\": \"diamond-dot\"}, \"mode\": \"markers\", \"name\": \"m4-os: GeoEye-1, 4 (all) bands <br>            with oversampling (os)\", \"showlegend\": true, \"type\": \"scatter\", \"visible\": true, \"x\": [5.52, 7.8], \"y\": [32.1, 32.45]}, {\"legendgroup\": \"GeoEye-1\", \"marker\": {\"color\": \"#19D3F3\", \"line\": {\"width\": 2}, \"size\": 14, \"symbol\": \"hexagram-dot\"}, \"mode\": \"markers\", \"name\": \"m4-au: GeoEye-1, 4 (all) bands <br>            with augmentation (aug)\", \"showlegend\": true, \"type\": \"scatter\", \"visible\": true, \"x\": [5.9, 5.53, 7.77], \"y\": [32.38, 33.32, 33.32]}, {\"legendgroup\": \"GeoEye-1\", \"marker\": {\"color\": \"#FF6692\", \"line\": {\"width\": 2}, \"size\": 14, \"symbol\": \"circle-dot\"}, \"mode\": \"markers\", \"name\": \"m4-os-au: GeoEye-1, 4 (all) bands <br>                 with os and aug\", \"showlegend\": true, \"type\": \"scatter\", \"visible\": true, \"x\": [5.78, 7.83], \"y\": [32.49, 33.25]}],                        {\"height\": 500, \"margin\": {\"b\": 10, \"l\": 10, \"r\": 10, \"t\": 35}, \"showlegend\": true, \"template\": {\"data\": {\"bar\": [{\"error_x\": {\"color\": \"#2a3f5f\"}, \"error_y\": {\"color\": \"#2a3f5f\"}, \"marker\": {\"line\": {\"color\": \"#E5ECF6\", \"width\": 0.5}}, \"type\": \"bar\"}], \"barpolar\": [{\"marker\": {\"line\": {\"color\": \"#E5ECF6\", \"width\": 0.5}}, \"type\": \"barpolar\"}], \"carpet\": [{\"aaxis\": {\"endlinecolor\": \"#2a3f5f\", \"gridcolor\": \"white\", \"linecolor\": \"white\", \"minorgridcolor\": \"white\", \"startlinecolor\": \"#2a3f5f\"}, \"baxis\": {\"endlinecolor\": \"#2a3f5f\", \"gridcolor\": \"white\", \"linecolor\": \"white\", \"minorgridcolor\": \"white\", \"startlinecolor\": \"#2a3f5f\"}, \"type\": \"carpet\"}], \"choropleth\": [{\"colorbar\": {\"outlinewidth\": 0, \"ticks\": \"\"}, \"type\": \"choropleth\"}], \"contour\": [{\"colorbar\": {\"outlinewidth\": 0, \"ticks\": \"\"}, \"colorscale\": [[0.0, \"#0d0887\"], [0.1111111111111111, \"#46039f\"], [0.2222222222222222, \"#7201a8\"], [0.3333333333333333, \"#9c179e\"], [0.4444444444444444, \"#bd3786\"], [0.5555555555555556, \"#d8576b\"], [0.6666666666666666, \"#ed7953\"], [0.7777777777777778, \"#fb9f3a\"], [0.8888888888888888, \"#fdca26\"], [1.0, \"#f0f921\"]], \"type\": \"contour\"}], \"contourcarpet\": [{\"colorbar\": {\"outlinewidth\": 0, \"ticks\": \"\"}, \"type\": \"contourcarpet\"}], \"heatmap\": [{\"colorbar\": {\"outlinewidth\": 0, \"ticks\": \"\"}, \"colorscale\": [[0.0, \"#0d0887\"], [0.1111111111111111, \"#46039f\"], [0.2222222222222222, \"#7201a8\"], [0.3333333333333333, \"#9c179e\"], [0.4444444444444444, \"#bd3786\"], [0.5555555555555556, \"#d8576b\"], [0.6666666666666666, \"#ed7953\"], [0.7777777777777778, \"#fb9f3a\"], [0.8888888888888888, \"#fdca26\"], [1.0, \"#f0f921\"]], \"type\": \"heatmap\"}], \"heatmapgl\": [{\"colorbar\": {\"outlinewidth\": 0, \"ticks\": \"\"}, \"colorscale\": [[0.0, \"#0d0887\"], [0.1111111111111111, \"#46039f\"], [0.2222222222222222, \"#7201a8\"], [0.3333333333333333, \"#9c179e\"], [0.4444444444444444, \"#bd3786\"], [0.5555555555555556, \"#d8576b\"], [0.6666666666666666, \"#ed7953\"], [0.7777777777777778, \"#fb9f3a\"], [0.8888888888888888, \"#fdca26\"], [1.0, \"#f0f921\"]], \"type\": \"heatmapgl\"}], \"histogram\": [{\"marker\": {\"colorbar\": {\"outlinewidth\": 0, \"ticks\": \"\"}}, \"type\": \"histogram\"}], \"histogram2d\": [{\"colorbar\": {\"outlinewidth\": 0, \"ticks\": \"\"}, \"colorscale\": [[0.0, \"#0d0887\"], [0.1111111111111111, \"#46039f\"], [0.2222222222222222, \"#7201a8\"], [0.3333333333333333, \"#9c179e\"], [0.4444444444444444, \"#bd3786\"], [0.5555555555555556, \"#d8576b\"], [0.6666666666666666, \"#ed7953\"], [0.7777777777777778, \"#fb9f3a\"], [0.8888888888888888, \"#fdca26\"], [1.0, \"#f0f921\"]], \"type\": \"histogram2d\"}], \"histogram2dcontour\": [{\"colorbar\": {\"outlinewidth\": 0, \"ticks\": \"\"}, \"colorscale\": [[0.0, \"#0d0887\"], [0.1111111111111111, \"#46039f\"], [0.2222222222222222, \"#7201a8\"], [0.3333333333333333, \"#9c179e\"], [0.4444444444444444, \"#bd3786\"], [0.5555555555555556, \"#d8576b\"], [0.6666666666666666, \"#ed7953\"], [0.7777777777777778, \"#fb9f3a\"], [0.8888888888888888, \"#fdca26\"], [1.0, \"#f0f921\"]], \"type\": \"histogram2dcontour\"}], \"mesh3d\": [{\"colorbar\": {\"outlinewidth\": 0, \"ticks\": \"\"}, \"type\": \"mesh3d\"}], \"parcoords\": [{\"line\": {\"colorbar\": {\"outlinewidth\": 0, \"ticks\": \"\"}}, \"type\": \"parcoords\"}], \"pie\": [{\"automargin\": true, \"type\": \"pie\"}], \"scatter\": [{\"marker\": {\"colorbar\": {\"outlinewidth\": 0, \"ticks\": \"\"}}, \"type\": \"scatter\"}], \"scatter3d\": [{\"line\": {\"colorbar\": {\"outlinewidth\": 0, \"ticks\": \"\"}}, \"marker\": {\"colorbar\": {\"outlinewidth\": 0, \"ticks\": \"\"}}, \"type\": \"scatter3d\"}], \"scattercarpet\": [{\"marker\": {\"colorbar\": {\"outlinewidth\": 0, \"ticks\": \"\"}}, \"type\": \"scattercarpet\"}], \"scattergeo\": [{\"marker\": {\"colorbar\": {\"outlinewidth\": 0, \"ticks\": \"\"}}, \"type\": \"scattergeo\"}], \"scattergl\": [{\"marker\": {\"colorbar\": {\"outlinewidth\": 0, \"ticks\": \"\"}}, \"type\": \"scattergl\"}], \"scattermapbox\": [{\"marker\": {\"colorbar\": {\"outlinewidth\": 0, \"ticks\": \"\"}}, \"type\": \"scattermapbox\"}], \"scatterpolar\": [{\"marker\": {\"colorbar\": {\"outlinewidth\": 0, \"ticks\": \"\"}}, \"type\": \"scatterpolar\"}], \"scatterpolargl\": [{\"marker\": {\"colorbar\": {\"outlinewidth\": 0, \"ticks\": \"\"}}, \"type\": \"scatterpolargl\"}], \"scatterternary\": [{\"marker\": {\"colorbar\": {\"outlinewidth\": 0, \"ticks\": \"\"}}, \"type\": \"scatterternary\"}], \"surface\": [{\"colorbar\": {\"outlinewidth\": 0, \"ticks\": \"\"}, \"colorscale\": [[0.0, \"#0d0887\"], [0.1111111111111111, \"#46039f\"], [0.2222222222222222, \"#7201a8\"], [0.3333333333333333, \"#9c179e\"], [0.4444444444444444, \"#bd3786\"], [0.5555555555555556, \"#d8576b\"], [0.6666666666666666, \"#ed7953\"], [0.7777777777777778, \"#fb9f3a\"], [0.8888888888888888, \"#fdca26\"], [1.0, \"#f0f921\"]], \"type\": \"surface\"}], \"table\": [{\"cells\": {\"fill\": {\"color\": \"#EBF0F8\"}, \"line\": {\"color\": \"white\"}}, \"header\": {\"fill\": {\"color\": \"#C8D4E3\"}, \"line\": {\"color\": \"white\"}}, \"type\": \"table\"}]}, \"layout\": {\"annotationdefaults\": {\"arrowcolor\": \"#2a3f5f\", \"arrowhead\": 0, \"arrowwidth\": 1}, \"autotypenumbers\": \"strict\", \"coloraxis\": {\"colorbar\": {\"outlinewidth\": 0, \"ticks\": \"\"}}, \"colorscale\": {\"diverging\": [[0, \"#8e0152\"], [0.1, \"#c51b7d\"], [0.2, \"#de77ae\"], [0.3, \"#f1b6da\"], [0.4, \"#fde0ef\"], [0.5, \"#f7f7f7\"], [0.6, \"#e6f5d0\"], [0.7, \"#b8e186\"], [0.8, \"#7fbc41\"], [0.9, \"#4d9221\"], [1, \"#276419\"]], \"sequential\": [[0.0, \"#0d0887\"], [0.1111111111111111, \"#46039f\"], [0.2222222222222222, \"#7201a8\"], [0.3333333333333333, \"#9c179e\"], [0.4444444444444444, \"#bd3786\"], [0.5555555555555556, \"#d8576b\"], [0.6666666666666666, \"#ed7953\"], [0.7777777777777778, \"#fb9f3a\"], [0.8888888888888888, \"#fdca26\"], [1.0, \"#f0f921\"]], \"sequentialminus\": [[0.0, \"#0d0887\"], [0.1111111111111111, \"#46039f\"], [0.2222222222222222, \"#7201a8\"], [0.3333333333333333, \"#9c179e\"], [0.4444444444444444, \"#bd3786\"], [0.5555555555555556, \"#d8576b\"], [0.6666666666666666, \"#ed7953\"], [0.7777777777777778, \"#fb9f3a\"], [0.8888888888888888, \"#fdca26\"], [1.0, \"#f0f921\"]]}, \"colorway\": [\"#636efa\", \"#EF553B\", \"#00cc96\", \"#ab63fa\", \"#FFA15A\", \"#19d3f3\", \"#FF6692\", \"#B6E880\", \"#FF97FF\", \"#FECB52\"], \"font\": {\"color\": \"#2a3f5f\"}, \"geo\": {\"bgcolor\": \"white\", \"lakecolor\": \"white\", \"landcolor\": \"#E5ECF6\", \"showlakes\": true, \"showland\": true, \"subunitcolor\": \"white\"}, \"hoverlabel\": {\"align\": \"left\"}, \"hovermode\": \"closest\", \"mapbox\": {\"style\": \"light\"}, \"paper_bgcolor\": \"white\", \"plot_bgcolor\": \"#E5ECF6\", \"polar\": {\"angularaxis\": {\"gridcolor\": \"white\", \"linecolor\": \"white\", \"ticks\": \"\"}, \"bgcolor\": \"#E5ECF6\", \"radialaxis\": {\"gridcolor\": \"white\", \"linecolor\": \"white\", \"ticks\": \"\"}}, \"scene\": {\"xaxis\": {\"backgroundcolor\": \"#E5ECF6\", \"gridcolor\": \"white\", \"gridwidth\": 2, \"linecolor\": \"white\", \"showbackground\": true, \"ticks\": \"\", \"zerolinecolor\": \"white\"}, \"yaxis\": {\"backgroundcolor\": \"#E5ECF6\", \"gridcolor\": \"white\", \"gridwidth\": 2, \"linecolor\": \"white\", \"showbackground\": true, \"ticks\": \"\", \"zerolinecolor\": \"white\"}, \"zaxis\": {\"backgroundcolor\": \"#E5ECF6\", \"gridcolor\": \"white\", \"gridwidth\": 2, \"linecolor\": \"white\", \"showbackground\": true, \"ticks\": \"\", \"zerolinecolor\": \"white\"}}, \"shapedefaults\": {\"line\": {\"color\": \"#2a3f5f\"}}, \"ternary\": {\"aaxis\": {\"gridcolor\": \"white\", \"linecolor\": \"white\", \"ticks\": \"\"}, \"baxis\": {\"gridcolor\": \"white\", \"linecolor\": \"white\", \"ticks\": \"\"}, \"bgcolor\": \"#E5ECF6\", \"caxis\": {\"gridcolor\": \"white\", \"linecolor\": \"white\", \"ticks\": \"\"}}, \"title\": {\"x\": 0.05}, \"xaxis\": {\"automargin\": true, \"gridcolor\": \"white\", \"linecolor\": \"white\", \"ticks\": \"\", \"title\": {\"standoff\": 15}, \"zerolinecolor\": \"white\", \"zerolinewidth\": 2}, \"yaxis\": {\"automargin\": true, \"gridcolor\": \"white\", \"linecolor\": \"white\", \"ticks\": \"\", \"title\": {\"standoff\": 15}, \"zerolinecolor\": \"white\", \"zerolinewidth\": 2}}}, \"title\": {\"text\": \"ESRGAN Regularization Experiment \\u2013 Validation set\", \"x\": 0.5, \"xanchor\": \"center\", \"yanchor\": \"bottom\"}, \"width\": 1000, \"xaxis\": {\"range\": [5, 8.2], \"title\": {\"standoff\": 5, \"text\": \"Perceptual Index (PI)\"}}, \"yaxis\": {\"range\": [29, 36], \"title\": {\"standoff\": 0, \"text\": \"Peak Signal-to-Noise Ratio (PSNR)\"}}},                        {\"responsive\": true}                    ).then(function(){\n",
       "                            \n",
       "var gd = document.getElementById('78a2dca3-1383-4fb6-a570-0e6cea4c0544');\n",
       "var x = new MutationObserver(function (mutations, observer) {{\n",
       "        var display = window.getComputedStyle(gd).display;\n",
       "        if (!display || display === 'none') {{\n",
       "            console.log([gd, 'removed!']);\n",
       "            Plotly.purge(gd);\n",
       "            observer.disconnect();\n",
       "        }}\n",
       "}});\n",
       "\n",
       "// Listen for the removal of the full notebook cells\n",
       "var notebookContainer = gd.closest('#notebook-container');\n",
       "if (notebookContainer) {{\n",
       "    x.observe(notebookContainer, {childList: true});\n",
       "}}\n",
       "\n",
       "// Listen for the clearing of the current output cell\n",
       "var outputEl = gd.closest('.output');\n",
       "if (outputEl) {{\n",
       "    x.observe(outputEl, {childList: true});\n",
       "}}\n",
       "\n",
       "                        })                };                });            </script>        </div>"
      ]
     },
     "metadata": {},
     "output_type": "display_data"
    }
   ],
   "source": [
    "def metric1_vs_metric2_e1(stat_df, metric1='PI', metric2='PSNR', write_path=None, renderer=None):\n",
    "    fig = go.Figure()\n",
    "    df = stat_df.loc[stat_df.index.str.contains('e01'), :]\n",
    "    df_wv02_8 = df.loc[df.index.str.contains('-8-.*WV02'), :]\n",
    "    df_wv02_6 = df.loc[df.index.str.contains('-6-.*WV02'), :]\n",
    "    df_wv02_4 = df.loc[df.index.str.contains('-4-.*WV02'), :]\n",
    "    df_wv02_3 = df.loc[df.index.str.contains('-3-.*WV02'), :]\n",
    "    df_ge01_4 = df.loc[df.index.str.contains('-4-.*GE01'), :]\n",
    "    df_ge01_3 = df.loc[df.index.str.contains('-3-.*GE01'), :]\n",
    "    \n",
    "    marker_size = 14\n",
    "    outline_width = 1.5\n",
    "    \n",
    "    fig.add_trace(go.Scatter(x=df_wv02_8[metric1], y=df_wv02_8[metric2], \n",
    "                             mode='markers', \n",
    "                             marker=dict(symbol='diamond', size=marker_size, \n",
    "                                         color=LEGEND_COLORS['e01-8-WV02'], \n",
    "                                         line=dict(width=outline_width)), \n",
    "                             name=LEGEND_NAMES['e01-8-WV02'], legendgroup='WorldView-2',\n",
    "                             visible=True, showlegend=True\n",
    "                            ))\n",
    "    \n",
    "    \n",
    "    fig.add_trace(go.Scatter(x=df_wv02_6[metric1], y=df_wv02_6[metric2], \n",
    "                             mode='markers', \n",
    "                             marker=dict(symbol='hexagram', size=marker_size, \n",
    "                                         color=LEGEND_COLORS['e01-6-WV02'], \n",
    "                                         line=dict(width=outline_width)), \n",
    "                             name=LEGEND_NAMES['e01-6-WV02'], legendgroup='WorldView-2',\n",
    "                             visible=True, showlegend=True\n",
    "                            ))\n",
    "    \n",
    "    \n",
    "    fig.add_trace(go.Scatter(x=df_wv02_4[metric1], y=df_wv02_4[metric2], \n",
    "                             mode='markers', \n",
    "                             marker=dict(symbol='square', size=marker_size, \n",
    "                                         color=LEGEND_COLORS['e01-4-WV02'], \n",
    "                                         line=dict(width=outline_width)),\n",
    "                             name=LEGEND_NAMES['e01-4-WV02'], legendgroup='WorldView-2',\n",
    "                             visible=True, showlegend=True\n",
    "                            ))\n",
    "    \n",
    "    fig.add_trace(go.Scatter(x=df_wv02_3[metric1], y=df_wv02_3[metric2], \n",
    "                             mode='markers', \n",
    "                             marker=dict(symbol='circle', size=marker_size, \n",
    "                                         color=LEGEND_COLORS['e01-3-WV02'], \n",
    "                                         line=dict(width=outline_width)),\n",
    "                             name=LEGEND_NAMES['e01-3-WV02'], legendgroup='WorldView-2',\n",
    "                             visible=True, showlegend=True\n",
    "                            ))\n",
    "    \n",
    "    \n",
    "    fig.add_trace(go.Scatter(x=df_ge01_4[metric1], y=df_ge01_4[metric2], \n",
    "                             mode='markers', \n",
    "                             marker=dict(symbol='square-dot', size=marker_size, \n",
    "                                         color=LEGEND_COLORS['e01-4-GE01'], \n",
    "                                         line=dict(width=outline_width)),\n",
    "                             name=LEGEND_NAMES['e01-4-GE01'], legendgroup='GeoEye-1',\n",
    "                             visible=True, showlegend=True\n",
    "                            ))\n",
    "    \n",
    "    \n",
    "    fig.add_trace(go.Scatter(x=df_ge01_3[metric1], y=df_ge01_3[metric2], \n",
    "                             mode='markers', \n",
    "                             marker=dict(symbol='circle-dot', size=marker_size, \n",
    "                                         color=LEGEND_COLORS['e01-3-GE01'], \n",
    "                                         line=dict(width=2)),\n",
    "                             name=LEGEND_NAMES['e01-3-GE01'], legendgroup='GeoEye-1',\n",
    "                             visible=True, showlegend=True\n",
    "                            ))\n",
    "\n",
    "    \n",
    "    if metric1 == 'PI':\n",
    "        metric1_title = 'Perceptual Index (PI)'\n",
    "    elif metric1 == 'NIQE':\n",
    "        metric1_title = 'Naturalness Image Quality Evaluator (NIQE)'\n",
    "    elif metric1 == 'Ma':\n",
    "        metric1_title = 'Ma et al. (Ma)'\n",
    "    else:\n",
    "        raise ValueError\n",
    "    \n",
    "    if metric2 == 'PSNR':\n",
    "        metric2_title = 'Peak Signal-to-Noise Ratio (PSNR)'\n",
    "    elif metric2 == 'SSIM':\n",
    "        metric2_title = 'Structural Similarity Index (SSIM)'\n",
    "    fig.update_yaxes(title=dict(text=metric2_title, standoff=0), range=(28,36))\n",
    "    fig.update_xaxes(title=dict(text=metric1_title, standoff=5), range=(5,8.2))\n",
    "    fig.update_layout(title=dict(text='ESRGAN Baseline Experiment – Validation set', \n",
    "                                 x=0.5, xanchor='center', yanchor='bottom'), \n",
    "                      legend=dict(yanchor=\"top\", y=1.1, xanchor=\"left\", x=1),\n",
    "                      showlegend=True, autosize=False,\n",
    "                      width=1000, height=500, \n",
    "                      margin=dict(l=10, r=10, t=35, b=10)\n",
    "                     )\n",
    "    pio.renderers[\"svg\"].width = 1000\n",
    "    pio.renderers[\"svg\"].height = 500\n",
    "    if isinstance(write_path, str):\n",
    "        fig.write_image(write_path)\n",
    "    fig.show(renderer=renderer)\n",
    "\n",
    "def metric1_vs_metric2_e2(stat_df, metric1='PI', metric2='PSNR', write_path=None, renderer=None):\n",
    "    fig = go.Figure()\n",
    "    df = stat_df\n",
    "    df_wv02_4 = df.loc[df.index.str.contains('e01-4-.*WV02'), :]\n",
    "    df_wv02_4 = df_wv02_4.drop('e01-4-HR-val-WV02')\n",
    "    df_ge01_4 = df.loc[df.index.str.contains('e01-4-.*GE01'), :]\n",
    "    df_ge01_4 = df_ge01_4.drop('e01-4-HR-val-GE01')\n",
    "    df_wv02_4_os = df.loc[df.index.str.contains('e04-4-.*WV02'), :]\n",
    "    df_ge01_4_os = df.loc[df.index.str.contains('e04-4-.*GE01'), :]\n",
    "    df_wv02_4_aug = df.loc[df.index.str.contains('e05-4-.*WV02'), :]\n",
    "    df_ge01_4_aug = df.loc[df.index.str.contains('e05-4-.*GE01'), :]\n",
    "    df_wv02_4_osaug = df.loc[df.index.str.contains('e06-4-.*WV02'), :]\n",
    "    df_ge01_4_osaug = df.loc[df.index.str.contains('e06-4-.*GE01'), :]\n",
    "    \n",
    "    # print(df_wv02_4)\n",
    "    \n",
    "    marker_size = 14\n",
    "    outline_width = 1.5\n",
    "    \n",
    "    fig.add_trace(go.Scatter(x=df_wv02_4[metric1], y=df_wv02_4[metric2], \n",
    "                             mode='markers', \n",
    "                             marker=dict(symbol='square', size=marker_size, \n",
    "                                         color=LEGEND_COLORS['e01-4-WV02'], \n",
    "                                         line=dict(width=outline_width)),\n",
    "                             name=LEGEND_NAMES['e01-4-WV02'], legendgroup='WorldView-2',\n",
    "                             visible=True, showlegend=True\n",
    "                            ))\n",
    "    fig.add_trace(go.Scatter(x=df_wv02_4_os[metric1], y=df_wv02_4_os[metric2], \n",
    "                             mode='markers', \n",
    "                             marker=dict(symbol='diamond', size=marker_size, \n",
    "                                         color=LEGEND_COLORS['e04-4-WV02'], \n",
    "                                         line=dict(width=outline_width)), \n",
    "                             name=LEGEND_NAMES['e04-4-WV02'], legendgroup='WorldView-2',\n",
    "                             visible=True, showlegend=True\n",
    "                            ))\n",
    "    fig.add_trace(go.Scatter(x=df_wv02_4_aug[metric1], y=df_wv02_4_aug[metric2], \n",
    "                             mode='markers', \n",
    "                             marker=dict(symbol='hexagram', size=marker_size, \n",
    "                                         color=LEGEND_COLORS['e05-4-WV02'], \n",
    "                                         line=dict(width=outline_width)), \n",
    "                             name=LEGEND_NAMES['e05-4-WV02'], legendgroup='WorldView-2',\n",
    "                             visible=True, showlegend=True\n",
    "                            ))\n",
    "    fig.add_trace(go.Scatter(x=df_wv02_4_osaug[metric1], y=df_wv02_4_osaug[metric2], \n",
    "                             mode='markers', \n",
    "                             marker=dict(symbol='circle', size=marker_size, \n",
    "                                         color=LEGEND_COLORS['e06-4-WV02'], \n",
    "                                         line=dict(width=outline_width)),\n",
    "                             name=LEGEND_NAMES['e06-4-WV02'], legendgroup='WorldView-2',\n",
    "                             visible=True, showlegend=True\n",
    "                            ))\n",
    "    \n",
    "    fig.add_trace(go.Scatter(x=df_ge01_4[metric1], y=df_ge01_4[metric2], \n",
    "                             mode='markers', \n",
    "                             marker=dict(symbol='square-dot', size=marker_size, \n",
    "                                         color=LEGEND_COLORS['e01-4-GE01'], \n",
    "                                         line=dict(width=outline_width)),\n",
    "                             name=LEGEND_NAMES['e01-4-GE01'], legendgroup='GeoEye-1',\n",
    "                             visible=True, showlegend=True\n",
    "                            ))\n",
    "    fig.add_trace(go.Scatter(x=df_ge01_4_os[metric1], y=df_ge01_4_os[metric2], \n",
    "                             mode='markers', \n",
    "                             marker=dict(symbol='diamond-dot', size=marker_size, \n",
    "                                         color=LEGEND_COLORS['e04-4-GE01'], \n",
    "                                         line=dict(width=2)),\n",
    "                             name=LEGEND_NAMES['e04-4-GE01'], legendgroup='GeoEye-1',\n",
    "                             visible=True, showlegend=True\n",
    "                            ))\n",
    "    fig.add_trace(go.Scatter(x=df_ge01_4_aug[metric1], y=df_ge01_4_aug[metric2], \n",
    "                             mode='markers', \n",
    "                             marker=dict(symbol='hexagram-dot', size=marker_size, \n",
    "                                         color=LEGEND_COLORS['e05-4-GE01'], \n",
    "                                         line=dict(width=2)),\n",
    "                             name=LEGEND_NAMES['e05-4-GE01'], legendgroup='GeoEye-1',\n",
    "                             visible=True, showlegend=True\n",
    "                            ))\n",
    "    fig.add_trace(go.Scatter(x=df_ge01_4_osaug[metric1], y=df_ge01_4_osaug[metric2], \n",
    "                             mode='markers', \n",
    "                             marker=dict(symbol='circle-dot', size=marker_size, \n",
    "                                         color=LEGEND_COLORS['e06-4-GE01'], \n",
    "                                         line=dict(width=2)),\n",
    "                             name=LEGEND_NAMES['e06-4-GE01'], legendgroup='GeoEye-1',\n",
    "                             visible=True, showlegend=True\n",
    "                            ))\n",
    "\n",
    "    \n",
    "    if metric1 == 'PI':\n",
    "        metric1_title = 'Perceptual Index (PI)'\n",
    "    elif metric1 == 'NIQE':\n",
    "        metric1_title = 'Naturalness Image Quality Evaluator (NIQE)'\n",
    "    elif metric1 == 'Ma':\n",
    "        metric1_title = 'Ma et al. (Ma)'\n",
    "    else:\n",
    "        raise ValueError\n",
    "    \n",
    "    if metric2 == 'PSNR':\n",
    "        metric2_title = 'Peak Signal-to-Noise Ratio (PSNR)'\n",
    "    elif metric2 == 'SSIM':\n",
    "        metric2_title = 'Structural Similarity Index (SSIM)'\n",
    "    fig.update_yaxes(title=dict(text=metric2_title, standoff=0), range=(29,36))\n",
    "    fig.update_xaxes(title=dict(text=metric1_title, standoff=5), range=(5,8.2))\n",
    "    fig.update_layout(title=dict(text='ESRGAN Regularization Experiment – Validation set',\n",
    "                             x=0.5,\n",
    "                             xanchor='center',\n",
    "                             yanchor='bottom'), \n",
    "                  showlegend=True, \n",
    "                  width=1000, height=500, \n",
    "                  margin=dict(l=10, r=10, t=35, b=10)\n",
    "                     )\n",
    "    pio.renderers[\"svg\"].width = 1000\n",
    "    pio.renderers[\"svg\"].height = 500\n",
    "    if isinstance(write_path, str):\n",
    "        fig.write_image(write_path)\n",
    "    fig.show()    \n",
    "if LAST_EPOCH:\n",
    "    #metric1_vs_metric2_e1(df_mean, metric1='PI', metric2='PSNR', \n",
    "    #                      write_path='results/plots/baseline-experiment-summary-plot.svg', renderer='svg')\n",
    "    #metric1_vs_metric2_e1(df_mean, metric1='PI', metric2='PSNR', \n",
    "    #                      renderer=None)\n",
    "    metric1_vs_metric2_e2(df_mean, metric1='PI', metric2='PSNR', \n",
    "                          write_path='results/plots/regularization-experiment-summary-plot.svg', renderer='svg')\n",
    "    metric1_vs_metric2_e2(df_mean, metric1='PI', metric2='PSNR')"
   ]
  },
  {
   "cell_type": "code",
   "execution_count": 17,
   "metadata": {
    "scrolled": false
   },
   "outputs": [
    {
     "ename": "KeyError",
     "evalue": "'e06-4-final_epoch-gan-val-WV02'",
     "output_type": "error",
     "traceback": [
      "\u001b[1;31m---------------------------------------------------------------------------\u001b[0m",
      "\u001b[1;31mKeyError\u001b[0m                                  Traceback (most recent call last)",
      "\u001b[1;32m<ipython-input-17-e548d2cdf43f>\u001b[0m in \u001b[0;36m<module>\u001b[1;34m\u001b[0m\n\u001b[0;32m    101\u001b[0m    \u001b[1;31m#                    subplot_titles=('m4: GAN-trained GeoEye-1', 'm4-os-aug: GAN-trained GeoEye-1'), exclude=None)\u001b[0m\u001b[1;33m\u001b[0m\u001b[1;33m\u001b[0m\u001b[1;33m\u001b[0m\u001b[0m\n\u001b[0;32m    102\u001b[0m    \u001b[1;31m#\u001b[0m\u001b[1;33m\u001b[0m\u001b[1;33m\u001b[0m\u001b[1;33m\u001b[0m\u001b[0m\n\u001b[1;32m--> 103\u001b[1;33m     pi_vs_psnr_density(dfs['e06-4-final_epoch-gan-val-WV02'], \n\u001b[0m\u001b[0;32m    104\u001b[0m                        \u001b[0mdfs\u001b[0m\u001b[1;33m[\u001b[0m\u001b[1;34m'e06-4-final_epoch-gan-val-GE01'\u001b[0m\u001b[1;33m]\u001b[0m\u001b[1;33m,\u001b[0m\u001b[1;33m\u001b[0m\u001b[1;33m\u001b[0m\u001b[0m\n\u001b[0;32m    105\u001b[0m                        \u001b[0mtitle\u001b[0m\u001b[1;33m=\u001b[0m\u001b[1;34m'm4-os-aug: Evaluation on the Validation set'\u001b[0m\u001b[1;33m,\u001b[0m\u001b[1;33m\u001b[0m\u001b[1;33m\u001b[0m\u001b[0m\n",
      "\u001b[1;31mKeyError\u001b[0m: 'e06-4-final_epoch-gan-val-WV02'"
     ]
    }
   ],
   "source": [
    "new_blues = px.colors.sequential.Blues\n",
    "new_blues[0] = 'rgba(247,251,255, 0)'\n",
    "new_blues\n",
    "\n",
    "def pi_vs_psnr_subplot(fig, df, row, col, metric_x='PI', metric_y='PSNR', exclude=None):\n",
    "    if isinstance(exclude, str) or isinstance(exclude, list):\n",
    "        df = df.loc[~df['image_UID'].str.contains(exclude)]\n",
    "    \n",
    "    image_UIDs = df['image_UID'].unique()\n",
    "    #print(image_UIDs)\n",
    "    if col == 1:\n",
    "        showlegend = False\n",
    "    else:\n",
    "        showlegend = True\n",
    "    \n",
    "    for i, image_UID in enumerate(image_UIDs):\n",
    "\n",
    "        image_df = df.loc[df['image_UID'] == image_UID, :]\n",
    "        fig.add_trace(go.Scatter(x=image_df[metric_x], y=image_df[metric_y],\n",
    "                                 mode='markers', opacity=1,\n",
    "                                 marker=dict(size=4, color=PLOTLY_COLORS[i]),\n",
    "                                 legendgroup=image_UID, name=image_UID[5:-15], \n",
    "                                 #hovertemplate='%{text}',\n",
    "                                 hovertext=image_df['image_UID'] + image_df['tile_UID'],\n",
    "                                 hoverinfo='text',\n",
    "                                 showlegend=False),\n",
    "                     row=row, col=col)\n",
    "\n",
    "    fig.add_trace(go.Histogram2dContour(x=df[metric_x], y=df[metric_y], \n",
    "                                        colorscale=new_blues, opacity=1,\n",
    "                                        nbinsx=10, nbinsy=10,\n",
    "                                        autocontour=False,\n",
    "                                        hoverinfo='skip',\n",
    "                                        contours=dict(start=20, end=1000, size=100, coloring='fill'),\n",
    "                                        showscale=False\n",
    "                                       ), row=row, col=col)\n",
    "    grand_means = df.mean()\n",
    "    image_means = df.groupby('image_UID').mean()\n",
    "\n",
    "    \n",
    "    fig.add_trace(go.Scatter(x=image_means[metric_x], y=image_means[metric_y], \n",
    "                             mode='markers',\n",
    "                             name='per-image mean',\n",
    "                             showlegend=False,\n",
    "                             marker=dict(size=10, color=PLOTLY_COLORS,\n",
    "                                         line=dict(color='black', width=2))), \n",
    "                  row=row, col=col)\n",
    "    fig.add_trace(go.Scatter(x=[grand_means[metric_x]], y=[grand_means[metric_y]], \n",
    "                             mode='markers', marker_symbol='star',\n",
    "                             name='grand mean',\n",
    "                             showlegend=False,\n",
    "                             marker=dict(size=15, color='red',\n",
    "                                         line=dict(color='black', width=2))), \n",
    "                  row=row, col=col)\n",
    "\n",
    "def pi_vs_psnr_density(df1, df2, title, metric_x='PI', metric_y='PSNR', subplot_titles=('A', 'B'), exclude=None):\n",
    "    fig = make_subplots(rows=1, cols=2, \n",
    "                        horizontal_spacing=0.01, \n",
    "                        shared_yaxes='all', shared_xaxes='all', subplot_titles=subplot_titles)\n",
    "    \n",
    "    pi_vs_psnr_subplot(fig, df1, row=1, col=1, metric_x=metric_x, metric_y=metric_y, exclude=exclude)\n",
    "    pi_vs_psnr_subplot(fig, df2, row=1, col=2, metric_x=metric_x, metric_y=metric_y, exclude=exclude)\n",
    "    \n",
    "    #fig.update_xaxes(range=(3.5,14), title=dict(text=METRIC_NAMES[metric_x], standoff=5))\n",
    "    fig.update_xaxes(range=(3,11), title=dict(text=METRIC_NAMES[metric_x], standoff=5))\n",
    "    fig.update_yaxes(range=(10,60), title=dict(text=METRIC_NAMES[metric_y], standoff=0), col=1)\n",
    "    fig.update_layout(title=dict(text=title, x=0.5, xanchor='center', yanchor='bottom'), \n",
    "                      legend=dict(yanchor=\"top\", y=1, xanchor=\"left\", x=3),\n",
    "                      showlegend=True, \n",
    "                      width=1000, height=500, \n",
    "                      margin=dict(l=10, r=10, t=50, b=10))\n",
    "    \n",
    "    fig.update_layout(\n",
    "        legend=dict(\n",
    "            x=1, \n",
    "            xanchor='right',\n",
    "            traceorder=\"normal\", \n",
    "            font=dict(size=11)\n",
    "        )\n",
    "    )\n",
    "    fig.show()\n",
    "\n",
    "if LAST_EPOCH:\n",
    "    #pi_vs_psnr_density(dfs['e01-4-final_epoch-gan-val-WV02'], \n",
    "    #                   dfs['e01-4-final_epoch-gan-val-GE01'], \n",
    "    #                   title='m4: WorldView-2 vs. GeoEye-1', \n",
    "    #                   metric_x='PI', metric_y='PSNR', \n",
    "    #                   subplot_titles=('GAN-trained WorldView-2', 'GAN-trained GeoEye-1'), exclude=None) \n",
    "    ##'Toulon 2019_10_07'\n",
    "#\n",
    "    #pi_vs_psnr_density(dfs['e01-4-final_epoch-pre-val-GE01'], \n",
    "    #                   dfs['e01-4-final_epoch-gan-val-GE01'], \n",
    "    #                   title='m4: Pretrained vs. GAN-trained', \n",
    "    #                   metric_x='PI', metric_y='PSNR', \n",
    "    #                   subplot_titles=('Pretrained GeoEye-1', 'GAN-trained GeoEye-1'), exclude=None)\n",
    "    \n",
    "   # pi_vs_psnr_density(dfs['e01-4-final_epoch-gan-val-GE01'], \n",
    "   #                    dfs['e06-4-final_epoch-gan-val-GE01'], \n",
    "   #                    title='m4 baseline vs. oversampled and augmented version (m4-os-aug) ', \n",
    "   #                    metric_x='PI', metric_y='PSNR', \n",
    "   #                    subplot_titles=('m4: GAN-trained GeoEye-1', 'm4-os-aug: GAN-trained GeoEye-1'), exclude=None)\n",
    "   # \n",
    "    pi_vs_psnr_density(dfs['e06-4-final_epoch-gan-val-WV02'], \n",
    "                       dfs['e06-4-final_epoch-gan-val-GE01'], \n",
    "                       title='m4-os-aug: Evaluation on the Validation set', \n",
    "                       metric_x='PI', metric_y='PSNR', \n",
    "                       subplot_titles=('GAN-trained WorldView-2', 'GAN-trained GeoEye-1'), exclude=None)\n",
    "    \n",
    "    #pi_vs_psnr_density(dfs['e07-4-final_epoch-gan-test-WV02'], \n",
    "    #                   dfs['e07-4-final_epoch-gan-test-GE01'], \n",
    "    #                   title='m4-os-aug: Final evaluation on Test set ', \n",
    "    #                   metric_x='PI', metric_y='PSNR', \n",
    "    #                   subplot_titles=('GAN-trained WorldView-2', 'GAN-trained GeoEye-1'), exclude=None)"
   ]
  },
  {
   "cell_type": "code",
   "execution_count": null,
   "metadata": {},
   "outputs": [],
   "source": [
    "df_t = dfs['e01-4-final_epoch-gan-val-GE01']\n",
    "df_t\n",
    "df_t.loc[~df_t['image_UID'].str.contains('Toulon 2019_10_07')]"
   ]
  },
  {
   "cell_type": "code",
   "execution_count": null,
   "metadata": {},
   "outputs": [],
   "source": [
    "pi_vs_psnr_density(dfs['e01-4-final_epoch-pre-val-WV02'], \n",
    "                   dfs['e01-4-final_epoch-gan-val-WV02'],\n",
    "                   title='WorldView-2 validation set')"
   ]
  },
  {
   "cell_type": "code",
   "execution_count": null,
   "metadata": {},
   "outputs": [],
   "source": [
    "df_t['image_UID'].str.contains('Toulon 2019_10_07')"
   ]
  },
  {
   "cell_type": "code",
   "execution_count": null,
   "metadata": {},
   "outputs": [],
   "source": [
    "len(epochs)"
   ]
  },
  {
   "cell_type": "code",
   "execution_count": null,
   "metadata": {},
   "outputs": [],
   "source": [
    "epochs"
   ]
  },
  {
   "cell_type": "code",
   "execution_count": null,
   "metadata": {},
   "outputs": [],
   "source": []
  },
  {
   "cell_type": "raw",
   "metadata": {},
   "source": [
    "def pi_vs_psnr_density(dfs, pre_or_gan='both', name_filters=None):\n",
    "    fig = go.Figure()\n",
    "    i = 0\n",
    "    for key, df in dfs.items():\n",
    "        if pre_or_gan in key or pre_or_gan == 'both':\n",
    "            if isinstance(name_filters, list):\n",
    "                if all([name_filter in key for name_filter in name_filters]):\n",
    "                    fig.add_trace(go.Scatter(x=df['PI'], y=df['PSNR'], name=key, \n",
    "                                             mode='markers', opacity=0.5,\n",
    "                                             marker=dict(size=3, color='black')))\n",
    "                    fig.add_trace(go.Histogram2dContour(x=df['PI'], y=df['PSNR'], name=key, \n",
    "                                                        colorscale=new_blues, opacity=1,\n",
    "                                                        nbinsx=10, nbinsy=10,\n",
    "                                                        autocontour=False, \n",
    "                                                        contours=dict(start=20, end=1000, size=100, coloring='fill'),\n",
    "                                                        showscale=False\n",
    "                                                        #histfunc='sum'\n",
    "                                                       ))\n",
    "                    \n",
    "                    #means = df.mean()\n",
    "                    #medians = df.median()\n",
    "                    #fig.add_trace(go.Scatter(x=[means['PI']], y=[means['PSNR']], mode='markers', marker_symbol='star',\n",
    "                    #                         marker=dict(size=15, color=PLOTLY_COLORS[i], \n",
    "                    #                                     line=dict(color='black', width=2))))\n",
    "                    #fig.add_trace(go.Scatter(x=[medians['PI']], y=[medians['PSNR']], mode='markers', marker_symbol='star',\n",
    "                    #                         marker=dict(size=15, color=PLOTLY_COLORS[i], \n",
    "                    #                                     line=dict(color='black', width=2))))\n",
    "                    #i += 1\n",
    "    fig.update_xaxes(range=(3.5,10))\n",
    "    fig.update_yaxes(range=(10,55))\n",
    "    fig.update_layout(xaxis_title='Perceptual Index (PI)', \n",
    "                      yaxis_title='Peak Signal-to-Noise Ratio (PSNR)', \n",
    "                      showlegend=False, \n",
    "                      width=600, height=600)\n",
    "    fig.show()\n",
    "\n",
    "\n",
    "#pi_vs_psnr_density(dfs, pre_or_gan='pre', name_filters=['e01-4', 'GE01'])"
   ]
  },
  {
   "cell_type": "code",
   "execution_count": null,
   "metadata": {},
   "outputs": [],
   "source": []
  },
  {
   "cell_type": "code",
   "execution_count": null,
   "metadata": {},
   "outputs": [],
   "source": []
  }
 ],
 "metadata": {
  "kernelspec": {
   "display_name": "Python 3",
   "language": "python",
   "name": "python3"
  },
  "language_info": {
   "codemirror_mode": {
    "name": "ipython",
    "version": 3
   },
   "file_extension": ".py",
   "mimetype": "text/x-python",
   "name": "python",
   "nbconvert_exporter": "python",
   "pygments_lexer": "ipython3",
   "version": "3.7.9"
  }
 },
 "nbformat": 4,
 "nbformat_minor": 4
}
